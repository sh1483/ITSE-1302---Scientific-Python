{
 "cells": [
  {
   "cell_type": "markdown",
   "id": "79991431",
   "metadata": {},
   "source": [
    "# This is Assignment 05 - Steven Haynes"
   ]
  },
  {
   "cell_type": "markdown",
   "id": "14f3a734",
   "metadata": {},
   "source": [
    "## Requirement 4"
   ]
  },
  {
   "cell_type": "code",
   "execution_count": 1,
   "id": "b6d0138d",
   "metadata": {},
   "outputs": [
    {
     "name": "stdout",
     "output_type": "stream",
     "text": [
      "1+1= 2\n",
      "2-1= 1\n",
      "2*2= 4\n",
      "49/7= 7.0\n",
      "17//7= 8\n",
      "3**2= 9\n"
     ]
    }
   ],
   "source": [
    "# Demo arithmetic operations\n",
    "\n",
    "a = 1+1\n",
    "print(\"1+1=\", a)\n",
    "\n",
    "b = 2-1\n",
    "print(\"2-1=\", b)\n",
    "\n",
    "c = 2*2\n",
    "print(\"2*2=\", c)\n",
    "\n",
    "d = 49/7\n",
    "print(\"49/7=\", d)\n",
    "\n",
    "e = 17//2\n",
    "print(\"17//7=\", e)\n",
    "\n",
    "f = 3**2\n",
    "print(\"3**2=\", f)"
   ]
  },
  {
   "cell_type": "markdown",
   "id": "9cd23816",
   "metadata": {},
   "source": [
    "## Requirement 5"
   ]
  },
  {
   "cell_type": "code",
   "execution_count": 2,
   "id": "4192817c",
   "metadata": {},
   "outputs": [
    {
     "name": "stdout",
     "output_type": "stream",
     "text": [
      "True True True True True True\n"
     ]
    }
   ],
   "source": [
    "# Demo comparison operators\n",
    "\n",
    "print(4 == 4,\n",
    "4 != 5,\n",
    "4 < 5,\n",
    "5 > 4,\n",
    "4 <= 5,\n",
    "5 >= 4)"
   ]
  },
  {
   "cell_type": "markdown",
   "id": "df13c0c0",
   "metadata": {},
   "source": [
    "## Requirement 6"
   ]
  },
  {
   "cell_type": "code",
   "execution_count": 3,
   "id": "bff72147",
   "metadata": {},
   "outputs": [
    {
     "name": "stdout",
     "output_type": "stream",
     "text": [
      "1+1= 2\n",
      "2-1= 1\n",
      "2*2= 4\n",
      "49/7= 7.0\n",
      "17//7= 8\n",
      "3**2= 9\n",
      "True True True True True True\n"
     ]
    }
   ],
   "source": [
    "import operators\n",
    "\n",
    "# This is the operators module."
   ]
  },
  {
   "cell_type": "markdown",
   "id": "344cc781",
   "metadata": {},
   "source": [
    "## Requirement 7"
   ]
  },
  {
   "cell_type": "code",
   "execution_count": 4,
   "id": "8349e2b0",
   "metadata": {},
   "outputs": [
    {
     "name": "stdout",
     "output_type": "stream",
     "text": [
      "[2, 4, 6, 8, 10, 12, 14, 16, 18, 20]\n",
      "[1, 3, 5, 7, 9, 11, 13, 15, 17, 19]\n"
     ]
    }
   ],
   "source": [
    "# Creating 2 lists populated with arbitrary numbers.\n",
    "list_1 = [1,2,3,4,5,6,7,8,9,10]\n",
    "list_2 = [11,12,13,14,15,16,17,18,19,20]\n",
    "\n",
    "# Creating 2 empty lists\n",
    "list_even = []\n",
    "list_odd = []\n",
    "\n",
    "# Populating the empty lists programmatically\n",
    "for val in list_1:\n",
    "    if val % 2 == 0:\n",
    "        list_even.append(val)\n",
    "    else:\n",
    "        list_odd.append(val)\n",
    "\n",
    "for val in list_2:\n",
    "    if val % 2 == 0:\n",
    "        list_even.append(val)\n",
    "    else:\n",
    "        list_odd.append(val)\n",
    "        \n",
    "# Printing the lists        \n",
    "print(list_even)\n",
    "print(list_odd)"
   ]
  },
  {
   "cell_type": "markdown",
   "id": "88d91bf0",
   "metadata": {},
   "source": [
    "## Requirement 8"
   ]
  },
  {
   "cell_type": "code",
   "execution_count": 11,
   "id": "2df3f5bf",
   "metadata": {},
   "outputs": [
    {
     "name": "stdout",
     "output_type": "stream",
     "text": [
      "4.5 Not this one!\n",
      "-4.5 Not this one!\n",
      "3.5 Not this one!\n",
      "4.0 Integer-ino!\n",
      "1.0 Integer-ino!\n"
     ]
    }
   ],
   "source": [
    "# Demo the use of the method is_integer() to test if numbers qualify as integers\n",
    "\n",
    "x_list = [4.5, -4.5, 7/2, 4.0, 4/4]\n",
    "for val in x_list:\n",
    "    if val.is_integer():\n",
    "        print(val,\"Integer-ino!\")\n",
    "    else:\n",
    "        print(val,\"Not this one!\")"
   ]
  },
  {
   "cell_type": "markdown",
   "id": "ff6b133b",
   "metadata": {},
   "source": [
    "## Requirement 9"
   ]
  },
  {
   "cell_type": "code",
   "execution_count": 9,
   "id": "ff80919a",
   "metadata": {},
   "outputs": [
    {
     "name": "stdout",
     "output_type": "stream",
     "text": [
      "False\n",
      "True\n",
      "True\n",
      "\n",
      "False\n",
      "True\n",
      "\n",
      "True\n",
      "False\n",
      "\n",
      "z:  0x155f6afeb40\n",
      "b:  0x155f6afeb40\n"
     ]
    }
   ],
   "source": [
    "# Demo Boolean, Identity, and Membership operations\n",
    "\n",
    "# Boolean operations\n",
    "x = 5\n",
    "\n",
    "print((x > 6) and (x > 4))\n",
    "print((x < 7) or (x > 10))\n",
    "print(not (x < 3))\n",
    "print(\"\")\n",
    "\n",
    "# Identity operations\n",
    "list_a = [1, 4, 5]\n",
    "list_b = [6, 7, 9]\n",
    "print(list_a is list_b)\n",
    "print(list_a is not list_b)\n",
    "print(\"\")\n",
    "\n",
    "# Membership operations\n",
    "print(1 in list_a)\n",
    "print(1 not in list_a)\n",
    "print(\"\")\n",
    "\n",
    "# Identity operation address proof\n",
    "list_z = list_b\n",
    "print(\"z: \", hex(id(list_z)))\n",
    "print(\"b: \", hex(id(list_b)))"
   ]
  },
  {
   "cell_type": "markdown",
   "id": "78993624",
   "metadata": {},
   "source": [
    "## Requirement 10"
   ]
  },
  {
   "cell_type": "code",
   "execution_count": 10,
   "id": "151c6605",
   "metadata": {},
   "outputs": [
    {
     "name": "stdout",
     "output_type": "stream",
     "text": [
      "1606938044258990275541962092341162602522202993782792835301376\n",
      "\n",
      "136891479058588375991326027382088315966463695625337436471480190078368997177499076593800206155688941388250484440597994042813512732765695774566001\n",
      "\n",
      "6668014432879854274079851790721257797144758322315908160396257811764037237817632071521432200871554290742929910593433240445888801654119365080363356052330830046095157579514014558463078285911814024728965016135886601981690748037476461291163877376\n"
     ]
    }
   ],
   "source": [
    "# Demo variable precison\n",
    "\n",
    "print(2**200)\n",
    "print(\"\")\n",
    "print(3**300)\n",
    "print(\"\")\n",
    "print(4**400)"
   ]
  },
  {
   "cell_type": "markdown",
   "id": "7ae9e6c9",
   "metadata": {},
   "source": [
    "## Requirement 11"
   ]
  },
  {
   "cell_type": "code",
   "execution_count": 18,
   "id": "a254464f",
   "metadata": {},
   "outputs": [
    {
     "name": "stdout",
     "output_type": "stream",
     "text": [
      "string is: 32 characters.\n",
      "All caps: I LIKE CHEESEBURGERS, NO ONIONS.\n",
      "First caps: I like cheeseburgers, no onions.\n",
      "Concatenate: i like cheeseburgers, no onions.i like veggie burgers, extra onions!\n",
      "Play it again, Sam: i like cheeseburgers, no onions.i like cheeseburgers, no onions.\n",
      "n\n",
      "o\n"
     ]
    }
   ],
   "source": [
    "# Demo string operations\n",
    "\n",
    "myString = \"i like cheeseburgers, no onions.\"\n",
    "yourString = \"i like veggie burgers, extra onions!\"\n",
    "print(\"string is:\", len(myString),\"characters.\")\n",
    "print(\"All caps:\", myString.upper())\n",
    "print(\"First caps:\", myString.capitalize())\n",
    "print(\"Concatenate:\", myString + yourString)\n",
    "print(\"Play it again, Sam:\", 2 * myString)\n",
    "print(myString[-10])\n",
    "print(myString[-9])"
   ]
  },
  {
   "cell_type": "markdown",
   "id": "e92e5513",
   "metadata": {},
   "source": [
    "## Requirement 12"
   ]
  },
  {
   "cell_type": "markdown",
   "id": "15a09d63",
   "metadata": {},
   "source": [
    "I found this assignment to be mostly review of information from COSC 1336. It was interesting/frustrating to deal with Jupyter Notebooks, as I usually use PyCharm. Some of the requirements are confusing due to the use of cells and markdowns being unfamiliar (is there supposed to be a markdown for this requirement?!)"
   ]
  }
 ],
 "metadata": {
  "kernelspec": {
   "display_name": "Python 3 (ipykernel)",
   "language": "python",
   "name": "python3"
  },
  "language_info": {
   "codemirror_mode": {
    "name": "ipython",
    "version": 3
   },
   "file_extension": ".py",
   "mimetype": "text/x-python",
   "name": "python",
   "nbconvert_exporter": "python",
   "pygments_lexer": "ipython3",
   "version": "3.9.12"
  }
 },
 "nbformat": 4,
 "nbformat_minor": 5
}
