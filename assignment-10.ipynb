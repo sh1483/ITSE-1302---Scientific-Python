{
 "cells": [
  {
   "cell_type": "markdown",
   "id": "14cb546e",
   "metadata": {},
   "source": [
    "# This is Assignment 10 - Steven Haynes"
   ]
  },
  {
   "cell_type": "markdown",
   "id": "4691132c",
   "metadata": {},
   "source": [
    "## Requirement 3"
   ]
  },
  {
   "cell_type": "code",
   "execution_count": 12,
   "id": "39e68728",
   "metadata": {},
   "outputs": [
    {
     "name": "stdout",
     "output_type": "stream",
     "text": [
      "[36 71 58 41 11 79 81 88 82 22 61 39 56 36 58 76  8 94 57 39]\n"
     ]
    },
    {
     "data": {
      "text/plain": [
       "array([False, False, False, False,  True, False, False, False, False,\n",
       "        True, False, False, False, False, False, False,  True, False,\n",
       "       False, False])"
      ]
     },
     "execution_count": 12,
     "metadata": {},
     "output_type": "execute_result"
    }
   ],
   "source": [
    "# Create a one-dimensional NumPy array named one_d_array of 20 random numbers with values between 1 – 10.\n",
    "# Demonstrate the following comparison operators as universal functions:\n",
    "#    • <, >, <=, >=, !=, and ==\n",
    "\n",
    "import numpy as np\n",
    "\n",
    "one_d_array = np.random.randint(0, 100, 20)\n",
    "\n",
    "# Less than (<) ufunc\n",
    "print(one_d_array)\n",
    "one_d_array < 34\n"
   ]
  },
  {
   "cell_type": "code",
   "execution_count": 13,
   "id": "d2d3fb82",
   "metadata": {},
   "outputs": [
    {
     "name": "stdout",
     "output_type": "stream",
     "text": [
      "[36 71 58 41 11 79 81 88 82 22 61 39 56 36 58 76  8 94 57 39]\n"
     ]
    },
    {
     "data": {
      "text/plain": [
       "array([False, False, False, False, False, False, False,  True, False,\n",
       "       False, False, False, False, False, False, False, False,  True,\n",
       "       False, False])"
      ]
     },
     "execution_count": 13,
     "metadata": {},
     "output_type": "execute_result"
    }
   ],
   "source": [
    "# Greater than (>) ufunc\n",
    "\n",
    "print(one_d_array)\n",
    "one_d_array > 85\n"
   ]
  },
  {
   "cell_type": "code",
   "execution_count": 14,
   "id": "9917e7dc",
   "metadata": {},
   "outputs": [
    {
     "name": "stdout",
     "output_type": "stream",
     "text": [
      "[36 71 58 41 11 79 81 88 82 22 61 39 56 36 58 76  8 94 57 39]\n"
     ]
    },
    {
     "data": {
      "text/plain": [
       "array([False, False, False, False,  True, False, False, False, False,\n",
       "       False, False, False, False, False, False, False,  True, False,\n",
       "       False, False])"
      ]
     },
     "execution_count": 14,
     "metadata": {},
     "output_type": "execute_result"
    }
   ],
   "source": [
    "# Less than or equal to (<=) ufunc\n",
    "\n",
    "print(one_d_array)\n",
    "one_d_array <= 15\n"
   ]
  },
  {
   "cell_type": "code",
   "execution_count": 15,
   "id": "385c5bf3",
   "metadata": {},
   "outputs": [
    {
     "name": "stdout",
     "output_type": "stream",
     "text": [
      "[36 71 58 41 11 79 81 88 82 22 61 39 56 36 58 76  8 94 57 39]\n"
     ]
    },
    {
     "data": {
      "text/plain": [
       "array([ True,  True,  True,  True, False,  True,  True,  True,  True,\n",
       "        True,  True,  True,  True,  True,  True,  True, False,  True,\n",
       "        True,  True])"
      ]
     },
     "execution_count": 15,
     "metadata": {},
     "output_type": "execute_result"
    }
   ],
   "source": [
    "# Greater than or equul to (>=) ufunc\n",
    "\n",
    "print(one_d_array)\n",
    "one_d_array >= 16\n"
   ]
  },
  {
   "cell_type": "code",
   "execution_count": 16,
   "id": "07440f03",
   "metadata": {},
   "outputs": [
    {
     "name": "stdout",
     "output_type": "stream",
     "text": [
      "[36 71 58 41 11 79 81 88 82 22 61 39 56 36 58 76  8 94 57 39]\n"
     ]
    },
    {
     "data": {
      "text/plain": [
       "array([ True,  True,  True,  True,  True,  True,  True,  True,  True,\n",
       "        True,  True,  True,  True,  True,  True,  True,  True,  True,\n",
       "        True,  True])"
      ]
     },
     "execution_count": 16,
     "metadata": {},
     "output_type": "execute_result"
    }
   ],
   "source": [
    "# Not equal to (!=) ufunc\n",
    "\n",
    "print(one_d_array)\n",
    "one_d_array != 47\n"
   ]
  },
  {
   "cell_type": "code",
   "execution_count": 17,
   "id": "c0c35d9b",
   "metadata": {},
   "outputs": [
    {
     "name": "stdout",
     "output_type": "stream",
     "text": [
      "[36 71 58 41 11 79 81 88 82 22 61 39 56 36 58 76  8 94 57 39]\n"
     ]
    },
    {
     "data": {
      "text/plain": [
       "array([False, False, False, False, False, False, False, False, False,\n",
       "       False, False, False, False, False, False, False, False, False,\n",
       "       False, False])"
      ]
     },
     "execution_count": 17,
     "metadata": {},
     "output_type": "execute_result"
    }
   ],
   "source": [
    "# Is equal to (==) ufunc\n",
    "\n",
    "print(one_d_array)\n",
    "one_d_array == 93\n"
   ]
  },
  {
   "cell_type": "markdown",
   "id": "acc6f6db",
   "metadata": {},
   "source": [
    "## Requirement 4"
   ]
  },
  {
   "cell_type": "code",
   "execution_count": 28,
   "id": "1b0b2afb",
   "metadata": {},
   "outputs": [
    {
     "name": "stdout",
     "output_type": "stream",
     "text": [
      "[[11 13 26 29 14]\n",
      " [14 12 16 12 11]\n",
      " [15 31 21 23 13]\n",
      " [22 18 23 26 27]]\n"
     ]
    }
   ],
   "source": [
    "# Create a two-dimensional NumPy array named two_d_array size = (4,5) with any values between 11 – 34.\n",
    "# Demonstrate the following comparison operators as universal functions:\n",
    "#    • <, >, <=, >=, !=, and ==\n",
    "#    • count the values < 15\n",
    "#    • sum the values > 20\n",
    "#    • count the values >= 19 in each row\n",
    "#    • determine if any values < 12\n",
    "#    • determine if all values > 12\n",
    "#    • determine if all values in each column > 14\n",
    "\n",
    "two_d_array = np.random.randint(11, 34, (4, 5))\n",
    "print(two_d_array)\n"
   ]
  },
  {
   "cell_type": "code",
   "execution_count": 29,
   "id": "a3962596",
   "metadata": {},
   "outputs": [
    {
     "name": "stdout",
     "output_type": "stream",
     "text": [
      "[[11 13 26 29 14]\n",
      " [14 12 16 12 11]\n",
      " [15 31 21 23 13]\n",
      " [22 18 23 26 27]]\n"
     ]
    },
    {
     "data": {
      "text/plain": [
       "array([[ True,  True, False, False,  True],\n",
       "       [ True,  True, False,  True,  True],\n",
       "       [False, False, False, False,  True],\n",
       "       [False, False, False, False, False]])"
      ]
     },
     "execution_count": 29,
     "metadata": {},
     "output_type": "execute_result"
    }
   ],
   "source": [
    "# Less than (<) ufunc\n",
    "\n",
    "print(two_d_array)\n",
    "two_d_array < 15\n"
   ]
  },
  {
   "cell_type": "code",
   "execution_count": 30,
   "id": "3ee7fbae",
   "metadata": {},
   "outputs": [
    {
     "name": "stdout",
     "output_type": "stream",
     "text": [
      "[[11 13 26 29 14]\n",
      " [14 12 16 12 11]\n",
      " [15 31 21 23 13]\n",
      " [22 18 23 26 27]]\n"
     ]
    },
    {
     "data": {
      "text/plain": [
       "array([[False, False, False,  True, False],\n",
       "       [False, False, False, False, False],\n",
       "       [False,  True, False, False, False],\n",
       "       [False, False, False, False, False]])"
      ]
     },
     "execution_count": 30,
     "metadata": {},
     "output_type": "execute_result"
    }
   ],
   "source": [
    "# Greater than (>) ufunc\n",
    "\n",
    "print(two_d_array)\n",
    "two_d_array > 28\n"
   ]
  },
  {
   "cell_type": "code",
   "execution_count": 31,
   "id": "5ba5d3f4",
   "metadata": {},
   "outputs": [
    {
     "name": "stdout",
     "output_type": "stream",
     "text": [
      "[[11 13 26 29 14]\n",
      " [14 12 16 12 11]\n",
      " [15 31 21 23 13]\n",
      " [22 18 23 26 27]]\n"
     ]
    },
    {
     "data": {
      "text/plain": [
       "array([[ True,  True, False, False,  True],\n",
       "       [ True,  True,  True,  True,  True],\n",
       "       [ True, False, False, False,  True],\n",
       "       [False, False, False, False, False]])"
      ]
     },
     "execution_count": 31,
     "metadata": {},
     "output_type": "execute_result"
    }
   ],
   "source": [
    "# Less than or equal to (<=) ufunc\n",
    "\n",
    "print(two_d_array)\n",
    "two_d_array <= 16\n"
   ]
  },
  {
   "cell_type": "code",
   "execution_count": 32,
   "id": "5dec6d1e",
   "metadata": {},
   "outputs": [
    {
     "name": "stdout",
     "output_type": "stream",
     "text": [
      "[[11 13 26 29 14]\n",
      " [14 12 16 12 11]\n",
      " [15 31 21 23 13]\n",
      " [22 18 23 26 27]]\n"
     ]
    },
    {
     "data": {
      "text/plain": [
       "array([[False, False,  True,  True, False],\n",
       "       [False, False, False, False, False],\n",
       "       [False,  True, False, False, False],\n",
       "       [False, False, False,  True,  True]])"
      ]
     },
     "execution_count": 32,
     "metadata": {},
     "output_type": "execute_result"
    }
   ],
   "source": [
    "# Greater than or equal to (>=) ufunc\n",
    "\n",
    "print(two_d_array)\n",
    "two_d_array >= 26\n"
   ]
  },
  {
   "cell_type": "code",
   "execution_count": 33,
   "id": "60e30508",
   "metadata": {},
   "outputs": [
    {
     "name": "stdout",
     "output_type": "stream",
     "text": [
      "[[11 13 26 29 14]\n",
      " [14 12 16 12 11]\n",
      " [15 31 21 23 13]\n",
      " [22 18 23 26 27]]\n"
     ]
    },
    {
     "data": {
      "text/plain": [
       "array([[ True,  True,  True,  True,  True],\n",
       "       [ True,  True,  True,  True,  True],\n",
       "       [ True,  True,  True,  True,  True],\n",
       "       [ True,  True,  True,  True,  True]])"
      ]
     },
     "execution_count": 33,
     "metadata": {},
     "output_type": "execute_result"
    }
   ],
   "source": [
    "# Not equal to (!=) ufunc\n",
    "\n",
    "print(two_d_array)\n",
    "two_d_array != 30\n"
   ]
  },
  {
   "cell_type": "code",
   "execution_count": 34,
   "id": "311adc12",
   "metadata": {},
   "outputs": [
    {
     "name": "stdout",
     "output_type": "stream",
     "text": [
      "[[11 13 26 29 14]\n",
      " [14 12 16 12 11]\n",
      " [15 31 21 23 13]\n",
      " [22 18 23 26 27]]\n"
     ]
    },
    {
     "data": {
      "text/plain": [
       "array([[False, False, False, False, False],\n",
       "       [False,  True, False,  True, False],\n",
       "       [False, False, False, False, False],\n",
       "       [False, False, False, False, False]])"
      ]
     },
     "execution_count": 34,
     "metadata": {},
     "output_type": "execute_result"
    }
   ],
   "source": [
    "# Is equal to (==) ufunc\n",
    "\n",
    "print(two_d_array)\n",
    "two_d_array == 12\n"
   ]
  },
  {
   "cell_type": "code",
   "execution_count": 36,
   "id": "38ee2f4f",
   "metadata": {},
   "outputs": [
    {
     "name": "stdout",
     "output_type": "stream",
     "text": [
      "[[11 13 26 29 14]\n",
      " [14 12 16 12 11]\n",
      " [15 31 21 23 13]\n",
      " [22 18 23 26 27]]\n"
     ]
    },
    {
     "data": {
      "text/plain": [
       "8"
      ]
     },
     "execution_count": 36,
     "metadata": {},
     "output_type": "execute_result"
    }
   ],
   "source": [
    "# Count the values < 15\n",
    "\n",
    "print(two_d_array)\n",
    "np.count_nonzero(two_d_array < 15)\n"
   ]
  },
  {
   "cell_type": "code",
   "execution_count": 37,
   "id": "b88de04a",
   "metadata": {},
   "outputs": [
    {
     "name": "stdout",
     "output_type": "stream",
     "text": [
      "[[11 13 26 29 14]\n",
      " [14 12 16 12 11]\n",
      " [15 31 21 23 13]\n",
      " [22 18 23 26 27]]\n"
     ]
    },
    {
     "data": {
      "text/plain": [
       "9"
      ]
     },
     "execution_count": 37,
     "metadata": {},
     "output_type": "execute_result"
    }
   ],
   "source": [
    "# Sum the values > 20\n",
    "\n",
    "print(two_d_array)\n",
    "np.sum(two_d_array > 20)\n"
   ]
  },
  {
   "cell_type": "code",
   "execution_count": 38,
   "id": "d8591447",
   "metadata": {},
   "outputs": [
    {
     "name": "stdout",
     "output_type": "stream",
     "text": [
      "[[11 13 26 29 14]\n",
      " [14 12 16 12 11]\n",
      " [15 31 21 23 13]\n",
      " [22 18 23 26 27]]\n"
     ]
    },
    {
     "data": {
      "text/plain": [
       "array([2, 0, 3, 4])"
      ]
     },
     "execution_count": 38,
     "metadata": {},
     "output_type": "execute_result"
    }
   ],
   "source": [
    "# Count the values >= 19 in each row\n",
    "\n",
    "print(two_d_array)\n",
    "np.sum(two_d_array >= 19, axis=1)\n"
   ]
  },
  {
   "cell_type": "code",
   "execution_count": 39,
   "id": "eb8bd8de",
   "metadata": {},
   "outputs": [
    {
     "name": "stdout",
     "output_type": "stream",
     "text": [
      "[[11 13 26 29 14]\n",
      " [14 12 16 12 11]\n",
      " [15 31 21 23 13]\n",
      " [22 18 23 26 27]]\n"
     ]
    },
    {
     "data": {
      "text/plain": [
       "True"
      ]
     },
     "execution_count": 39,
     "metadata": {},
     "output_type": "execute_result"
    }
   ],
   "source": [
    "# Determine if any values < 12\n",
    "\n",
    "print(two_d_array)\n",
    "np.any(two_d_array < 12)\n"
   ]
  },
  {
   "cell_type": "code",
   "execution_count": 40,
   "id": "58ef8f0d",
   "metadata": {},
   "outputs": [
    {
     "name": "stdout",
     "output_type": "stream",
     "text": [
      "[[11 13 26 29 14]\n",
      " [14 12 16 12 11]\n",
      " [15 31 21 23 13]\n",
      " [22 18 23 26 27]]\n"
     ]
    },
    {
     "data": {
      "text/plain": [
       "False"
      ]
     },
     "execution_count": 40,
     "metadata": {},
     "output_type": "execute_result"
    }
   ],
   "source": [
    "# Determine if all values > 12\n",
    "\n",
    "print(two_d_array)\n",
    "np.all(two_d_array > 12)\n"
   ]
  },
  {
   "cell_type": "code",
   "execution_count": 41,
   "id": "029f2d7b",
   "metadata": {},
   "outputs": [
    {
     "name": "stdout",
     "output_type": "stream",
     "text": [
      "[[11 13 26 29 14]\n",
      " [14 12 16 12 11]\n",
      " [15 31 21 23 13]\n",
      " [22 18 23 26 27]]\n"
     ]
    },
    {
     "data": {
      "text/plain": [
       "array([False, False,  True, False, False])"
      ]
     },
     "execution_count": 41,
     "metadata": {},
     "output_type": "execute_result"
    }
   ],
   "source": [
    "# Determine if all values in each column > 14\n",
    "\n",
    "print(two_d_array)\n",
    "np.all(two_d_array > 14, axis=0)\n"
   ]
  },
  {
   "cell_type": "markdown",
   "id": "7eb4e675",
   "metadata": {},
   "source": [
    "## Requirement 5"
   ]
  },
  {
   "cell_type": "code",
   "execution_count": 45,
   "id": "e9e26b48",
   "metadata": {},
   "outputs": [],
   "source": [
    "# Using the inches array from Chapter 02.06, determine the number of values where:\n",
    "#    • 0.15 <= value <= 1.15\n",
    "#    • Use ~ and | to return the same number as & above\n",
    "\n",
    "import pandas as pd\n",
    "\n",
    "\n",
    "# use pandas to extract rainfall inches as a NumPy array\n",
    "rainfall = pd.read_csv('Seattle2014.csv')['PRCP'].values\n",
    "inches = rainfall / 254.0  # 1/10mm -> inches\n"
   ]
  },
  {
   "cell_type": "code",
   "execution_count": 47,
   "id": "7e76aaa7",
   "metadata": {},
   "outputs": [
    {
     "data": {
      "text/plain": [
       "83"
      ]
     },
     "execution_count": 47,
     "metadata": {},
     "output_type": "execute_result"
    }
   ],
   "source": [
    "# Determine the number of values where 0.15 <= value <= 1.15 (where rain is between 0.15 and 1.15 inches)\n",
    "\n",
    "\n",
    "np.sum((inches >= 0.15) & (inches <= 1.15))\n"
   ]
  },
  {
   "cell_type": "code",
   "execution_count": 49,
   "id": "7b47063b",
   "metadata": {},
   "outputs": [
    {
     "data": {
      "text/plain": [
       "83"
      ]
     },
     "execution_count": 49,
     "metadata": {},
     "output_type": "execute_result"
    }
   ],
   "source": [
    "# Using ~ and | to return the same number as & above \n",
    "# (not NOT less than or equal to .15 or not NOT greater than or equal to 1.15)\n",
    "\n",
    "np.sum(~( (inches <= 0.15) | (inches >= 1.15) ))\n"
   ]
  },
  {
   "cell_type": "markdown",
   "id": "52eb1f3d",
   "metadata": {},
   "source": [
    "## Requirement 6"
   ]
  },
  {
   "cell_type": "code",
   "execution_count": 50,
   "id": "80f62078",
   "metadata": {},
   "outputs": [
    {
     "data": {
      "text/plain": [
       "215"
      ]
     },
     "execution_count": 50,
     "metadata": {},
     "output_type": "execute_result"
    }
   ],
   "source": [
    "# Using the inches array from Chapter 02.06, show the following:\n",
    "#    • Number of days without rain\n",
    "#    • Number of days with rain\n",
    "#    • Days with >= 1 inch of rain\n",
    "\n",
    "# Number of days without rain\n",
    "np.sum(inches == 0)\n"
   ]
  },
  {
   "cell_type": "code",
   "execution_count": 51,
   "id": "ca4f168b",
   "metadata": {},
   "outputs": [
    {
     "data": {
      "text/plain": [
       "150"
      ]
     },
     "execution_count": 51,
     "metadata": {},
     "output_type": "execute_result"
    }
   ],
   "source": [
    "# Number of days with rain\n",
    "\n",
    "np.sum(inches != 0)\n"
   ]
  },
  {
   "cell_type": "code",
   "execution_count": 52,
   "id": "209101f7",
   "metadata": {},
   "outputs": [
    {
     "data": {
      "text/plain": [
       "8"
      ]
     },
     "execution_count": 52,
     "metadata": {},
     "output_type": "execute_result"
    }
   ],
   "source": [
    "# Days with >= 1 inch of rain\n",
    "np.sum(inches >= 1)\n"
   ]
  },
  {
   "cell_type": "markdown",
   "id": "3ccbbf9e",
   "metadata": {},
   "source": [
    "## Requirement 7"
   ]
  },
  {
   "cell_type": "code",
   "execution_count": 54,
   "id": "ed5d07c8",
   "metadata": {},
   "outputs": [
    {
     "name": "stdout",
     "output_type": "stream",
     "text": [
      "[[11 13 26 29 14]\n",
      " [14 12 16 12 11]\n",
      " [15 31 21 23 13]\n",
      " [22 18 23 26 27]]\n"
     ]
    },
    {
     "data": {
      "text/plain": [
       "array([[ True,  True, False, False,  True],\n",
       "       [ True,  True, False,  True,  True],\n",
       "       [False, False, False, False,  True],\n",
       "       [False, False, False, False, False]])"
      ]
     },
     "execution_count": 54,
     "metadata": {},
     "output_type": "execute_result"
    }
   ],
   "source": [
    "# Use Boolean masking on two_d_array to:\n",
    "#    • return a Boolean array where < 15\n",
    "#    • return an array of values < 15\n",
    "\n",
    "# Returning a Boolean array where < 15\n",
    "print(two_d_array)\n",
    "two_d_array < 15\n"
   ]
  },
  {
   "cell_type": "code",
   "execution_count": 55,
   "id": "d4d35c31",
   "metadata": {},
   "outputs": [
    {
     "name": "stdout",
     "output_type": "stream",
     "text": [
      "[[11 13 26 29 14]\n",
      " [14 12 16 12 11]\n",
      " [15 31 21 23 13]\n",
      " [22 18 23 26 27]]\n"
     ]
    },
    {
     "data": {
      "text/plain": [
       "array([11, 13, 14, 14, 12, 12, 11, 13])"
      ]
     },
     "execution_count": 55,
     "metadata": {},
     "output_type": "execute_result"
    }
   ],
   "source": [
    "# Returning an array of values < 15\n",
    "print(two_d_array)\n",
    "two_d_array[two_d_array < 15]\n"
   ]
  },
  {
   "cell_type": "markdown",
   "id": "73d0321d",
   "metadata": {},
   "source": [
    "## Requirement 8"
   ]
  },
  {
   "cell_type": "code",
   "execution_count": 57,
   "id": "30e7f3f7",
   "metadata": {},
   "outputs": [
    {
     "data": {
      "text/plain": [
       "0.8051181102362205"
      ]
     },
     "execution_count": 57,
     "metadata": {},
     "output_type": "execute_result"
    }
   ],
   "source": [
    "# Using the inches rain data and the following definition (pouring = (inches > 0.5)), output the following data:\n",
    "#    • Median precip on pouring days in 2014 (inches):\n",
    "#    • Median precip on summer days in 2014 (inches):\n",
    "#    • Maximum precip on summer days in 2014 (inches):\n",
    "#    • Median precip on non-summer pouring days in 2014 (inches)\n",
    "\n",
    "# Defining pouring\n",
    "pouring = (inches > 0.5)\n",
    "\n",
    "# Defining days\n",
    "days = np.arange(365)\n",
    "\n",
    "# Defining summer\n",
    "summer = (days > 172) & (days < 262)\n",
    "\n",
    "# Median precip on pouring days in 2014 (inches)\n",
    "np.median(inches[pouring])\n"
   ]
  },
  {
   "cell_type": "code",
   "execution_count": 58,
   "id": "3f9d95cf",
   "metadata": {},
   "outputs": [
    {
     "data": {
      "text/plain": [
       "0.8051181102362205"
      ]
     },
     "execution_count": 58,
     "metadata": {},
     "output_type": "execute_result"
    }
   ],
   "source": [
    "# Median precip on summer days in 2014 (inches)\n",
    "\n",
    "np.median(inches[pouring & summer])\n"
   ]
  },
  {
   "cell_type": "code",
   "execution_count": 59,
   "id": "9d8c725c",
   "metadata": {},
   "outputs": [
    {
     "data": {
      "text/plain": [
       "0.8503937007874016"
      ]
     },
     "execution_count": 59,
     "metadata": {},
     "output_type": "execute_result"
    }
   ],
   "source": [
    "# Maximum precip on summer days in 2014 (inches)\n",
    "\n",
    "np.max(inches[summer])\n"
   ]
  },
  {
   "cell_type": "code",
   "execution_count": 60,
   "id": "65f07fa0",
   "metadata": {},
   "outputs": [
    {
     "data": {
      "text/plain": [
       "0.7204724409448819"
      ]
     },
     "execution_count": 60,
     "metadata": {},
     "output_type": "execute_result"
    }
   ],
   "source": [
    "# Median precip on non-summer pouring days in 2014 (inches)\n",
    "\n",
    "np.median(inches[pouring & ~summer])\n"
   ]
  },
  {
   "cell_type": "markdown",
   "id": "fd8d1086",
   "metadata": {},
   "source": [
    "## Requirement 9"
   ]
  },
  {
   "cell_type": "markdown",
   "id": "ae58ddf4",
   "metadata": {},
   "source": [
    "-- In your own words, explain the difference between the keywords and and or and the operators & and |.\n",
    "-- When are the keywords used and when are the operators used?\n",
    "\n",
    "The Python keyword and and or perform one evaluation of a whole object while the operators & and | perform an evaluation for each item within the object. If you want to evaluate an entire object for truth or falsehood you use and or or, if you want to check each individual item within an object you would use & or |.\n"
   ]
  },
  {
   "cell_type": "markdown",
   "id": "57f108a8",
   "metadata": {},
   "source": [
    "## Requirement 10"
   ]
  },
  {
   "cell_type": "code",
   "execution_count": 63,
   "id": "78d7dbac",
   "metadata": {},
   "outputs": [
    {
     "name": "stdout",
     "output_type": "stream",
     "text": [
      "[36 71 58 41 11 79 81 88 82 22 61 39 56 36 58 76  8 94 57 39]\n"
     ]
    },
    {
     "data": {
      "text/plain": [
       "array([58, 61,  8])"
      ]
     },
     "execution_count": 63,
     "metadata": {},
     "output_type": "execute_result"
    }
   ],
   "source": [
    "# Demonstrate fancy indexing with:\n",
    "#    • one_d_array\n",
    "#    • two_d_array\n",
    "\n",
    "# Defining ind\n",
    "ind = [2, 10, 16]\n",
    "\n",
    "# Fancy indexing with one_d_array\n",
    "print(one_d_array)\n",
    "one_d_array[ind]\n"
   ]
  },
  {
   "cell_type": "code",
   "execution_count": 64,
   "id": "0853dc2a",
   "metadata": {},
   "outputs": [
    {
     "name": "stdout",
     "output_type": "stream",
     "text": [
      "[[11 13 26 29 14]\n",
      " [14 12 16 12 11]\n",
      " [15 31 21 23 13]\n",
      " [22 18 23 26 27]]\n"
     ]
    },
    {
     "data": {
      "text/plain": [
       "array([26, 31, 27])"
      ]
     },
     "execution_count": 64,
     "metadata": {},
     "output_type": "execute_result"
    }
   ],
   "source": [
    "# Fancy indexing with two_d_array\n",
    "\n",
    "# Defining row and col\n",
    "row = np.array([0, 2, 3])\n",
    "col = np.array([2, 1, 4])\n",
    "\n",
    "\n",
    "print(two_d_array)\n",
    "two_d_array[row, col]\n"
   ]
  },
  {
   "cell_type": "markdown",
   "id": "85d78cbe",
   "metadata": {},
   "source": [
    "## Requirement 11"
   ]
  },
  {
   "cell_type": "code",
   "execution_count": 68,
   "id": "b0646e1d",
   "metadata": {},
   "outputs": [
    {
     "name": "stdout",
     "output_type": "stream",
     "text": [
      "[[11 13 26 29 14]\n",
      " [14 12 16 12 11]\n",
      " [15 31 21 23 13]\n",
      " [22 18 23 26 27]]\n"
     ]
    },
    {
     "data": {
      "text/plain": [
       "array([[23, 31, 13],\n",
       "       [26, 18, 27]])"
      ]
     },
     "execution_count": 68,
     "metadata": {},
     "output_type": "execute_result"
    }
   ],
   "source": [
    "# Demonstrate combined indexing with:\n",
    "#    • two_d_array and slicing\n",
    "#    • two_d_array and masking\n",
    "\n",
    "# Demonstrating combined indexing and slicing with two_d_array\n",
    "print(two_d_array)\n",
    "two_d_array[2:, [3, 1, 4]]\n"
   ]
  },
  {
   "cell_type": "code",
   "execution_count": 71,
   "id": "b99f694b",
   "metadata": {},
   "outputs": [
    {
     "name": "stdout",
     "output_type": "stream",
     "text": [
      "[[11 13 26 29 14]\n",
      " [14 12 16 12 11]\n",
      " [15 31 21 23 13]\n",
      " [22 18 23 26 27]]\n"
     ]
    },
    {
     "data": {
      "text/plain": [
       "array([[11, 14],\n",
       "       [15, 13],\n",
       "       [22, 27]])"
      ]
     },
     "execution_count": 71,
     "metadata": {},
     "output_type": "execute_result"
    }
   ],
   "source": [
    "# Demonstrating combined indexing and masking with two_d_array\n",
    "\n",
    "# Defining mask\n",
    "mask = np.array([1, 0, 0, 0, 1], dtype=bool)\n",
    "\n",
    "print(two_d_array)\n",
    "two_d_array[row[:, np.newaxis], mask]\n"
   ]
  },
  {
   "cell_type": "markdown",
   "id": "b58f34cc",
   "metadata": {},
   "source": [
    "## Requirement 12"
   ]
  },
  {
   "cell_type": "code",
   "execution_count": 72,
   "id": "e8dc2e0a",
   "metadata": {},
   "outputs": [
    {
     "name": "stdout",
     "output_type": "stream",
     "text": [
      "[[11 13 26 29 14]\n",
      " [14 12 16 12 11]\n",
      " [15 31 21 23 13]\n",
      " [22 18 23 26 27]]\n"
     ]
    },
    {
     "data": {
      "text/plain": [
       "array([[11, 13, 14, 26, 29],\n",
       "       [11, 12, 12, 14, 16],\n",
       "       [13, 15, 21, 23, 31],\n",
       "       [18, 22, 23, 26, 27]])"
      ]
     },
     "execution_count": 72,
     "metadata": {},
     "output_type": "execute_result"
    }
   ],
   "source": [
    "# Demonstrate the following using two_d_array:\n",
    "#    • sort each row\n",
    "#    • sort each column\n",
    "#    • partition the array such that the first three values in each column are the lowest values in that column\n",
    "\n",
    "# Sorting each row of two_d_array\n",
    "print(two_d_array)\n",
    "np.sort(two_d_array)\n"
   ]
  },
  {
   "cell_type": "code",
   "execution_count": 73,
   "id": "7d2c0f95",
   "metadata": {},
   "outputs": [
    {
     "name": "stdout",
     "output_type": "stream",
     "text": [
      "[[11 13 26 29 14]\n",
      " [14 12 16 12 11]\n",
      " [15 31 21 23 13]\n",
      " [22 18 23 26 27]]\n"
     ]
    },
    {
     "data": {
      "text/plain": [
       "array([[11, 12, 16, 12, 11],\n",
       "       [14, 13, 21, 23, 13],\n",
       "       [15, 18, 23, 26, 14],\n",
       "       [22, 31, 26, 29, 27]])"
      ]
     },
     "execution_count": 73,
     "metadata": {},
     "output_type": "execute_result"
    }
   ],
   "source": [
    "# Sorting each column of two_d_array\n",
    "\n",
    "print(two_d_array)\n",
    "np.sort(two_d_array, axis=0)\n"
   ]
  },
  {
   "cell_type": "code",
   "execution_count": 74,
   "id": "a5d23a70",
   "metadata": {},
   "outputs": [
    {
     "name": "stdout",
     "output_type": "stream",
     "text": [
      "[[11 13 26 29 14]\n",
      " [14 12 16 12 11]\n",
      " [15 31 21 23 13]\n",
      " [22 18 23 26 27]]\n"
     ]
    },
    {
     "data": {
      "text/plain": [
       "array([[11, 12, 21, 23, 13],\n",
       "       [14, 13, 16, 12, 11],\n",
       "       [15, 18, 23, 26, 14],\n",
       "       [22, 31, 26, 29, 27]])"
      ]
     },
     "execution_count": 74,
     "metadata": {},
     "output_type": "execute_result"
    }
   ],
   "source": [
    "# Partitioning the array such that the first three values in each column are the lowest values in that column\n",
    "\n",
    "print(two_d_array)\n",
    "np.partition(two_d_array, 3, axis=0)\n"
   ]
  },
  {
   "cell_type": "markdown",
   "id": "166a68c4",
   "metadata": {},
   "source": [
    "## Requirement 13"
   ]
  },
  {
   "cell_type": "code",
   "execution_count": 108,
   "id": "c535db88",
   "metadata": {},
   "outputs": [
    {
     "data": {
      "image/png": "[encoded data removed]",
      "text/plain": [
       "<Figure size 432x288 with 1 Axes>"
      ]
     },
     "metadata": {},
     "output_type": "display_data"
    }
   ],
   "source": [
    "# Produce a k-nearest neighbor plot using:\n",
    "#    • a 25 X 2 array\n",
    "#    • K = 3\n",
    "\n",
    "\n",
    "# Defining custom_array\n",
    "custom_array = np.random.random((25, 2))\n",
    "\n",
    "# Producing a 3-nearest neighbor plot\n",
    "dist_sqd = np.sum((custom_array[:, np.newaxis, :] - custom_array[np.newaxis, :, :]) ** 2, axis=-1)\n",
    "\n",
    "plt.scatter(custom_array[:, 0], custom_array[:, 1], s=100)\n",
    "\n",
    "# Setting K\n",
    "K = 3\n",
    "\n",
    "# Defining the nearest partition\n",
    "nearest_partition = np.argpartition(dist_sqd, K + 1, axis=1)\n",
    "\n",
    "# Drawing lines from each point to its three nearest neighbors\n",
    "for i in range(custom_array.shape[0]):\n",
    "    for j in nearest_partition[i, :K+1]:\n",
    "        # plot a line from X[i] to X[j]\n",
    "        # use some zip magic to make it happen:\n",
    "        plt.plot(*zip(custom_array[j], custom_array[i]), color='black')\n",
    "        "
   ]
  },
  {
   "cell_type": "markdown",
   "id": "e64ef18c",
   "metadata": {},
   "source": [
    "## Requirement 14"
   ]
  },
  {
   "cell_type": "code",
   "execution_count": 104,
   "id": "4a7f5297",
   "metadata": {},
   "outputs": [
    {
     "name": "stdout",
     "output_type": "stream",
     "text": [
      "[('name', '<U10'), ('age', '<i4'), ('birthplace', '<U10'), ('super_power', '<U10')] \n",
      "\n",
      "[('', 0, '', '') ('', 0, '', '') ('', 0, '', '') ('', 0, '', '')]\n"
     ]
    }
   ],
   "source": [
    "# Create a structured array named super_heroes using:\n",
    "#    • the dictionary method\n",
    "#    • NumPy data types for the element names\n",
    "#    • with the following element names:\n",
    "    #    i. name\n",
    "    #    ii. age\n",
    "    #    iii. birthplace\n",
    "    #    iv. super_power\n",
    "    \n",
    "# Using a compound data type for structured arrays to create an empty container named super_heroes\n",
    "super_heroes = np.zeros(4, dtype={'names':('name', 'age', 'birthplace', 'super_power'),\n",
    "                          'formats':('U10', 'i4', 'U10', 'U10')})\n",
    "print(data.dtype, '\\n')\n",
    "\n",
    "print(super_heroes)\n"
   ]
  },
  {
   "cell_type": "markdown",
   "id": "6c94d969",
   "metadata": {},
   "source": [
    "## Requirement 15"
   ]
  },
  {
   "cell_type": "markdown",
   "id": "a6738add",
   "metadata": {},
   "source": [
    "-- Use markdown to include a statement at the end of assignment-10.ipynb explaining your experiences with Assignment 10.\n",
    "-- Make this authentic (minimum of 2-3 sentences).\n",
    "\n",
    "I found that Requirement 13 was fairly complicated, in comparison to the rest of the requirements. I think my major difficulty was that I don't know how to resize the plot, so I can't visually check it to ensure it is to the nearest 3 neighbors, due to the density. The code should be correct, but I am not super confident. I did a visual check using distance squared and cubed, and at first I thought that it worked out, but I think I found one that seemed to only be going to the nearest 2 neighbors. I think the plot could be improved by zooming out, and/or having each K connection a different color. I also know that I don't fully understand that math that is occurring here, which is causing some of my confusion!\n",
    "\n",
    "I am also very tempted to fill in the array we created in Requirement 14. This assignment has fewer requirements than the previous ones, so I felt like that requirement was missing. Perhaps we will us it in the next assignment.\n"
   ]
  }
 ],
 "metadata": {
  "kernelspec": {
   "display_name": "Python 3 (ipykernel)",
   "language": "python",
   "name": "python3"
  },
  "language_info": {
   "codemirror_mode": {
    "name": "ipython",
    "version": 3
   },
   "file_extension": ".py",
   "mimetype": "text/x-python",
   "name": "python",
   "nbconvert_exporter": "python",
   "pygments_lexer": "ipython3",
   "version": "3.9.12"
  }
 },
 "nbformat": 4,
 "nbformat_minor": 5
}
