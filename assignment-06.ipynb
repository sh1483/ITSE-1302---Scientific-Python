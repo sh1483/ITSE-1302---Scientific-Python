{
 "cells": [
  {
   "cell_type": "markdown",
   "id": "eb499665",
   "metadata": {},
   "source": [
    "# This is Assignment 06 - Steven Haynes"
   ]
  },
  {
   "cell_type": "markdown",
   "id": "797e0f11",
   "metadata": {},
   "source": [
    "## Requirement 4"
   ]
  },
  {
   "cell_type": "code",
   "execution_count": 1,
   "id": "6949cdee",
   "metadata": {},
   "outputs": [
    {
     "name": "stdout",
     "output_type": "stream",
     "text": [
      "20\n",
      "\n",
      "[0, 2, 5, 6, 7, 18, 57, 65, 52, 13, 34, 25, 39, 64, 8, 99, 25, 18, 49, 76, 4, 8, 9]\n",
      "\n",
      "[0, 2, 5, 6, 7, 18, 57, 65, 52, 13, 34, 25, 39, 64, 8, 99, 25, 18, 49, 76, 4, 8, 9, 71, 11, 13, 14, 25, 89, 91]\n",
      "\n",
      "[0, 2, 4, 5, 6, 7, 8, 8, 9, 11, 13, 13, 14, 18, 18, 25, 25, 25, 34, 39, 49, 52, 57, 64, 65, 71, 76, 89, 91, 99]\n"
     ]
    }
   ],
   "source": [
    "# Create a list of 20 arbitrary numbers 0:99\n",
    "list_1 = [0, 2, 5, 6, 7, 18, 57, 65, 52, 13, 34, 25, 39, 64, 8, 99, 25, 18, 49, 76]\n",
    "\n",
    "# Print the list length\n",
    "print(len(list_1))\n",
    "print(\"\")\n",
    "\n",
    "# Append 3 numbers into the list\n",
    "list_1.append(4)\n",
    "list_1.append(8)\n",
    "list_1.append(9)\n",
    "print(list_1)\n",
    "print(\"\")\n",
    "\n",
    "# Use the + to append a literal list of 7 numbers to the list.\n",
    "list_1 = list_1 + [71, 11, 13, 14, 25, 89, 91]\n",
    "print(list_1)\n",
    "print(\"\")\n",
    "\n",
    "# Sort the list\n",
    "list_1.sort()\n",
    "print(list_1)\n"
   ]
  },
  {
   "cell_type": "markdown",
   "id": "4308076f",
   "metadata": {},
   "source": [
    "## Requirement 5"
   ]
  },
  {
   "cell_type": "code",
   "execution_count": 2,
   "id": "43f779bf",
   "metadata": {},
   "outputs": [
    {
     "name": "stdout",
     "output_type": "stream",
     "text": [
      "5\n",
      "18\n",
      "89\n",
      "64\n",
      "[0, 2, 4, 5]\n",
      "[71, 76, 89, 91, 99]\n",
      "[99, 91, 89, 76, 71, 65, 64, 57, 52, 49, 39, 34, 25, 25, 25, 18, 18, 14, 13, 13, 11, 9, 8, 8, 7, 6, 5, 4, 2, 0]\n",
      "[0, 2, 4, 5, 6, 7, 8, 8, 9, 11, 13, 13, 14, -99, 18, 25, 25, 25, 34, 39, 49, 52, 57, 64, 65, 71, 76, 89, 91, 99]\n",
      "[0, 4, 6, 8, 9, 13, 14, 18, 25, 34, 49, 57, 65, 76, 91]\n",
      "[0, 2, 4, 5, 6, 7, 8, 8, -77, -77, -77, -77, -77, -77, -77, 18, 25, 25, 25, 34, 39, 49, 52, 57, 64, 65, 71, 76, 89, 91, 99]\n"
     ]
    }
   ],
   "source": [
    "# Show the 4th element in list_1\n",
    "print(list_1[3])\n",
    "\n",
    "# Show the 15th element in the list\n",
    "print(list_1[14])\n",
    "\n",
    "# Show the 3rd from tne end\n",
    "print(list_1[-3])\n",
    "\n",
    "# Show the 7th from the end\n",
    "print(list_1[-7])\n",
    "\n",
    "# The first 4 elements\n",
    "print(list_1[0:4])\n",
    "\n",
    "# The last 5 elements\n",
    "print(list_1[-5:])\n",
    "\n",
    "# list_1 reversed\n",
    "print(list_1[::-1])\n",
    "\n",
    "# Set the 14th element to -99\n",
    "list_1[13] = -99\n",
    "print(list_1)\n",
    "\n",
    "# Alternating elements in the list\n",
    "print(list_1[::2])\n",
    "\n",
    "# Set elements 9-15 to -77\n",
    "list_1[8:14] = [-77, -77, -77, -77, -77, -77, -77]\n",
    "print(list_1)\n"
   ]
  },
  {
   "cell_type": "markdown",
   "id": "5bfecd32",
   "metadata": {},
   "source": [
    "## Requirement 6"
   ]
  },
  {
   "cell_type": "code",
   "execution_count": 3,
   "id": "b38b0912",
   "metadata": {},
   "outputs": [
    {
     "ename": "SyntaxError",
     "evalue": "cannot assign to function call (338151574.py, line 5)",
     "output_type": "error",
     "traceback": [
      "\u001b[1;36m  Input \u001b[1;32mIn [3]\u001b[1;36m\u001b[0m\n\u001b[1;33m    tuple_1(2) = (-33)\u001b[0m\n\u001b[1;37m    ^\u001b[0m\n\u001b[1;31mSyntaxError\u001b[0m\u001b[1;31m:\u001b[0m cannot assign to function call\n"
     ]
    }
   ],
   "source": [
    "# Create a tuple named tuple_1 with 7 arbitrary numbers\n",
    "tuple_1 = (1, 2, 0, 5, 6, 8, 9)\n",
    "\n",
    "# Attempt to set the 3rd value to -33\n",
    "tuple_1(2) = (-33)\n",
    "\n",
    "# Attempt to append the value -22 to the tuple.\n",
    "tuple_1.append(-22)\n"
   ]
  },
  {
   "cell_type": "markdown",
   "id": "8d682d8a",
   "metadata": {},
   "source": [
    "## Requirement 7"
   ]
  },
  {
   "cell_type": "code",
   "execution_count": 4,
   "id": "96662d68",
   "metadata": {},
   "outputs": [
    {
     "name": "stdout",
     "output_type": "stream",
     "text": [
      "{'GK': 'Stuver', 'RB': 'Lima', 'CB1': 'Cascante', 'CB2': 'Gabrielsen', 'LB': 'Kolmanic', 'DMF1': 'Ring', 'DMF2': 'Pereira', 'MF1': 'Fagundez', 'CM': 'Druisi', 'MF2': 'Dominguez'}\n",
      "{'GK': 'Stuver', 'RB': 'Lima', 'CB1': 'Cascante', 'CB2': 'Gabrielsen', 'LB': 'Kolmanic', 'DMF1': 'Ring', 'DMF2': 'Wolff', 'MF1': 'Fagundez', 'CM': 'Druisi', 'MF2': 'Dominguez'}\n",
      "{'GK': 'Stuver', 'RB': 'Lima', 'CB1': 'Cascante', 'CB2': 'Gabrielsen', 'LB': 'Kolmanic', 'DMF1': 'Ring', 'DMF2': 'Wolff', 'MF1': 'Fagundez', 'CM': 'Druisi', 'MF2': 'Dominguez', 'FWD': 'Urruiti'}\n"
     ]
    }
   ],
   "source": [
    "# Create a dictionary populated with 9+ player positions and names as key::value pairs.\n",
    "\n",
    "players_soccer = {\"GK\": \"Stuver\", \"RB\": \"Lima\", \"CB1\": \"Cascante\", \"CB2\": \"Gabrielsen\", \"LB\": \"Kolmanic\",\n",
    "                  \"DMF1\": \"Ring\", \"DMF2\": \"Pereira\", \"MF1\": \"Fagundez\", \"CM\": \"Druisi\", \"MF2\": \"Dominguez\"}\n",
    "print(players_soccer)\n",
    "\n",
    "# Change a key::value pair\n",
    "players_soccer[\"DMF2\"] = \"Wolff\"\n",
    "print(players_soccer)\n",
    "\n",
    "# Add a new key::value pair\n",
    "players_soccer[\"FWD\"] = \"Urruiti\"\n",
    "print(players_soccer)\n"
   ]
  },
  {
   "cell_type": "markdown",
   "id": "4999d2cf",
   "metadata": {},
   "source": [
    "## Requirement 8"
   ]
  },
  {
   "cell_type": "code",
   "execution_count": 5,
   "id": "fdc2ec40",
   "metadata": {},
   "outputs": [
    {
     "name": "stdout",
     "output_type": "stream",
     "text": [
      "{'Judas', 'Matthew', 'Andrew', 'James', 'Philip', 'Peter', 'Luke', 'John', 'Thomas', 'Simon'}\n",
      "{'Athos', 'Judas', 'Mark', 'James', 'Bartholomew', 'Porthos', 'Aramis', 'Jesus', \"D'Artagnan\", 'Simon'}\n",
      "\n",
      "This is a union:  {'Andrew', 'Bartholomew', 'James', 'Philip', 'Porthos', 'Peter', 'Luke', 'John', 'Thomas', \"D'Artagnan\", 'Athos', 'Judas', 'Matthew', 'Mark', 'Aramis', 'Jesus', 'Simon'}\n",
      "This is an intersection:  {'James', 'Judas', 'Simon'}\n",
      "This is the difference:  {'Matthew', 'Andrew', 'Philip', 'Peter', 'Luke', 'John', 'Thomas'}\n",
      "This is the symmetric difference:  {'Athos', 'Matthew', 'Andrew', 'Mark', 'Bartholomew', 'Porthos', 'Aramis', 'Philip', 'Peter', 'Jesus', 'Luke', \"D'Artagnan\", 'John', 'Thomas'}\n"
     ]
    }
   ],
   "source": [
    "# Create two sets named hatfields and mccoys. Each set contains 10 names, some in common.\n",
    "hatfields = {'Matthew', 'Simon', 'Luke', 'John', 'Peter', 'Thomas', 'Andrew', 'James', 'Philip', 'Judas'}\n",
    "mccoys = {'Bartholomew', 'Judas', 'Simon', 'Mark', 'James', 'Athos', 'Porthos', 'Aramis', \"D'Artagnan\", 'Jesus'}\n",
    "\n",
    "print(hatfields)\n",
    "print(mccoys)\n",
    "print(\"\")\n",
    "\n",
    "# Demonstrate set operations\n",
    "print(\"This is a union: \", hatfields | mccoys)\n",
    "print(\"This is an intersection: \", hatfields & mccoys)\n",
    "print(\"This is the difference: \", hatfields - mccoys)\n",
    "print(\"This is the symmetric difference: \", hatfields ^ mccoys)\n"
   ]
  },
  {
   "cell_type": "markdown",
   "id": "8cc34a23",
   "metadata": {},
   "source": [
    "## Requirement 9"
   ]
  },
  {
   "cell_type": "code",
   "execution_count": 6,
   "id": "5060abe4",
   "metadata": {},
   "outputs": [
    {
     "name": "stdout",
     "output_type": "stream",
     "text": [
      "Enter 'hot' if it is hot, 'cold' if it is cold, and 'perfect' if it is perfect outside right now: hot\n",
      "Go inside!\n"
     ]
    }
   ],
   "source": [
    "# Demonstrate the use of if,elif, and else using weather conditions.\n",
    "\n",
    "weather = input(\"Enter 'hot' if it is hot, 'cold' if it is cold, and 'perfect' if it is perfect outside right now: \")\n",
    "if weather == 'hot':\n",
    "    print(\"Go inside!\")\n",
    "elif weather == 'cold':\n",
    "    print(\"Wear a coat!\")\n",
    "else:\n",
    "    print(\"Enjoy the day!\")\n"
   ]
  },
  {
   "cell_type": "markdown",
   "id": "924e560d",
   "metadata": {},
   "source": [
    "## Requirement 10"
   ]
  },
  {
   "cell_type": "code",
   "execution_count": 7,
   "id": "01d232b0",
   "metadata": {},
   "outputs": [
    {
     "name": "stdout",
     "output_type": "stream",
     "text": [
      "0\n",
      "1\n",
      "2\n",
      "3\n",
      "4\n",
      "0\n",
      "2\n",
      "4\n",
      "5\n",
      "6\n",
      "7\n",
      "8\n",
      "8\n",
      "-77\n",
      "-77\n",
      "-77\n",
      "-77\n",
      "-77\n",
      "-77\n",
      "-77\n",
      "18\n",
      "25\n",
      "25\n",
      "25\n",
      "34\n",
      "39\n",
      "49\n",
      "52\n",
      "57\n",
      "64\n",
      "65\n",
      "71\n",
      "76\n",
      "89\n",
      "91\n",
      "99\n"
     ]
    }
   ],
   "source": [
    "# Demo a for loop using a range\n",
    "for index in range(5):\n",
    "    print(index)\n",
    "\n",
    "# Demo a for loop using list contents\n",
    "for index in list_1:\n",
    "    print(index)\n"
   ]
  },
  {
   "cell_type": "markdown",
   "id": "b31c1da3",
   "metadata": {},
   "source": [
    "## Requirement 11"
   ]
  },
  {
   "cell_type": "code",
   "execution_count": 10,
   "id": "5fba7aee",
   "metadata": {},
   "outputs": [
    {
     "name": "stdout",
     "output_type": "stream",
     "text": [
      "0\n",
      "1\n",
      "2\n",
      "3\n",
      "4\n",
      "5\n",
      "6\n",
      "\n",
      "1\n",
      "2\n",
      "3\n",
      "4\n",
      "5\n",
      "6\n",
      "7\n"
     ]
    }
   ],
   "source": [
    "# Demo the use of i=0 to 7 in a while loop (iterate 7 times)\n",
    "i = 0\n",
    "while i < 7:\n",
    "    print(i)\n",
    "    i += 1\n",
    "\n",
    "print(\"\")\n",
    "\n",
    "# Demo the use of i=1 to 7 in a while loop (iterate 7 times)\n",
    "\n",
    "i = 1\n",
    "while i <= 7:\n",
    "    print(i)\n",
    "    i += 1\n",
    "    "
   ]
  },
  {
   "cell_type": "markdown",
   "id": "20c89bde",
   "metadata": {},
   "source": [
    "## Requirement 12"
   ]
  },
  {
   "cell_type": "code",
   "execution_count": 15,
   "id": "65d23d7e",
   "metadata": {},
   "outputs": [
    {
     "name": "stdout",
     "output_type": "stream",
     "text": [
      "Enter a number:5\n",
      "The factorial is:  120\n"
     ]
    }
   ],
   "source": [
    "# Define and use a function named factorial() that returns the factorial of a\n",
    "# number that is passed to it as an argument when called.\n",
    "\n",
    "def main():\n",
    "    # Call the factorial function\n",
    "    print(\"The factorial is: \", factorial())\n",
    "\n",
    "\n",
    "def factorial():\n",
    "    # Set accumulator to zero\n",
    "    total = 1\n",
    "    # Get user input for N\n",
    "    N = int(input(\"Enter a number:\"))\n",
    "\n",
    "    # For each number in the range 1 to N\n",
    "    for i in range(total, N + 1):\n",
    "        # Total = total * i\n",
    "        total = i * total\n",
    "\n",
    "    return total\n",
    "\n",
    "\n",
    "main()\n"
   ]
  },
  {
   "cell_type": "markdown",
   "id": "c2081d2a",
   "metadata": {},
   "source": [
    "## Requirement 13"
   ]
  },
  {
   "cell_type": "code",
   "execution_count": 16,
   "id": "dc80922e",
   "metadata": {},
   "outputs": [
    {
     "name": "stdout",
     "output_type": "stream",
     "text": [
      "arguments =  ('beet', 'squash')\n",
      "keywords =  {'red': 'root', 'yellow': 'root'}\n"
     ]
    }
   ],
   "source": [
    "# Define and use a function named vegetables() that takes numbers of\n",
    "# vegetables as *args and names of vegetables as **kwargs\n",
    "def main():\n",
    "\n",
    "    # Provide the argument and keyword pair\n",
    "    vegetables('beet', 'squash', red='root', yellow='root')\n",
    "\n",
    "\n",
    "# Define vegetables function\n",
    "def vegetables(*veg, **keys):\n",
    "    print(\"arguments = \", veg)\n",
    "    print(\"keywords = \", keys)\n",
    "\n",
    "\n",
    "main()\n"
   ]
  },
  {
   "cell_type": "markdown",
   "id": "270a76ed",
   "metadata": {},
   "source": [
    "## Requirement 14"
   ]
  },
  {
   "cell_type": "code",
   "execution_count": 18,
   "id": "7a2cd1eb",
   "metadata": {},
   "outputs": [
    {
     "name": "stdout",
     "output_type": "stream",
     "text": [
      "Sorted alphabetically by power type:  [{'make': 'Tesla', 'model': 'Model 3', 'power': 'electric'}, {'make': 'Honda', 'model': 'Civic', 'power': 'gas'}, {'make': 'Toyota', 'model': 'Corolla', 'power': 'gas'}]\n",
      "\n",
      "Sorted alphabetically by model:  [{'make': 'Honda', 'model': 'Civic', 'power': 'gas'}, {'make': 'Toyota', 'model': 'Corolla', 'power': 'gas'}, {'make': 'Tesla', 'model': 'Model 3', 'power': 'electric'}]\n"
     ]
    }
   ],
   "source": [
    "# Create a list named cars that contains three dictionaries each with three key::value pairs. The key::value pairs\n",
    "# should represent three common attributes::values of automobiles\n",
    "\n",
    "cars = [{'make': \"Honda\", 'model': \"Civic\", 'power': \"gas\"},\n",
    "        {'make': \"Tesla\", 'model': \"Model 3\", 'power': \"electric\"},\n",
    "        {'make': \"Toyota\", 'model': \"Corolla\", 'power': \"gas\"}]\n",
    "\n",
    "# Pass the cars list to the sorted built-in function and use a lambda to sort the cars list\n",
    "print(\"Sorted alphabetically by power type: \", sorted(cars, key=lambda item: item['power']))\n",
    "\n",
    "print(\"\")\n",
    "\n",
    "# Sort again using a different key\n",
    "print(\"Sorted alphabetically by model: \", sorted(cars, key=lambda item: item['model']))\n"
   ]
  },
  {
   "cell_type": "markdown",
   "id": "d326cc38",
   "metadata": {},
   "source": [
    "## Requirement 15"
   ]
  },
  {
   "cell_type": "code",
   "execution_count": 19,
   "id": "25136a5e",
   "metadata": {},
   "outputs": [
    {
     "name": "stdout",
     "output_type": "stream",
     "text": [
      "That is complicated.\n"
     ]
    }
   ],
   "source": [
    "# Demonstrate the use of a try and except statement (must be different from online textbook versions)\n",
    "import math\n",
    "\n",
    "try:\n",
    "    print(math.sqrt(-75))\n",
    "except:\n",
    "    print(\"That is complicated.\")\n"
   ]
  },
  {
   "cell_type": "markdown",
   "id": "e415edf0",
   "metadata": {},
   "source": [
    "## Requirement 16"
   ]
  },
  {
   "cell_type": "code",
   "execution_count": 20,
   "id": "2c34e3b5",
   "metadata": {},
   "outputs": [
    {
     "name": "stdout",
     "output_type": "stream",
     "text": [
      "This is impossible!\n",
      "Math is hard!\n"
     ]
    }
   ],
   "source": [
    "# Demonstrate the use of try, except, else, and finally statements (must be different from online textbook versions)\n",
    "\n",
    "import math\n",
    "\n",
    "try:\n",
    "    print(math.sqrt(-75))\n",
    "\n",
    "except:\n",
    "    print(\"This is impossible!\")\n",
    "\n",
    "else:\n",
    "    print(\"I can do that.\")\n",
    "\n",
    "finally:\n",
    "    print(\"Math is hard!\")\n"
   ]
  },
  {
   "cell_type": "markdown",
   "id": "81fd7735",
   "metadata": {},
   "source": [
    "## Requirement 17"
   ]
  },
  {
   "cell_type": "markdown",
   "id": "1b8d39cf",
   "metadata": {},
   "source": [
    "Iterator indirection allows us to iterate through batches of data as if it were contained in a list. An example would be we want the letters C:E out of the range A:Z. Indirect iteration just needs to find C, advance through D and E, and stop. Direct iteration would require populating A:Z, and then finding C:D within that population. Indirection saves computing power and time."
   ]
  },
  {
   "cell_type": "markdown",
   "id": "4911e99c",
   "metadata": {},
   "source": [
    "## Requirement 18"
   ]
  },
  {
   "cell_type": "code",
   "execution_count": 21,
   "id": "90e7db6d",
   "metadata": {},
   "outputs": [
    {
     "name": "stdout",
     "output_type": "stream",
     "text": [
      "Items in the list:  10\n",
      "The list with index: \n",
      "0 cheetah\n",
      "1 camel\n",
      "2 manatee\n",
      "3 frog\n",
      "4 porcupine\n",
      "5 eel\n",
      "6 swallow\n",
      "7 elephant\n",
      "8 cat\n",
      "9 dog\n"
     ]
    }
   ],
   "source": [
    "# Create a list of 10 animal species named animals_list and demonstrate the use of len() and iteration to print the\n",
    "# index and values of the animals in the list.\n",
    "\n",
    "animal_list = ['cheetah', 'camel', 'manatee', 'frog', 'porcupine', 'eel', 'swallow', 'elephant', 'cat', 'dog']\n",
    "\n",
    "# Number of items in the list\n",
    "print(\"Items in the list: \", len(animal_list))\n",
    "\n",
    "# The index number plus associate item in the list\n",
    "print(\"The list with index: \")\n",
    "\n",
    "for i in range(len(animal_list)):\n",
    "        print(i, animal_list[i])\n"
   ]
  },
  {
   "cell_type": "markdown",
   "id": "07dd3475",
   "metadata": {},
   "source": [
    "## Requirement 19"
   ]
  },
  {
   "cell_type": "code",
   "execution_count": 22,
   "id": "19a3a2eb",
   "metadata": {},
   "outputs": [
    {
     "name": "stdout",
     "output_type": "stream",
     "text": [
      "0 cheetah\n",
      "1 camel\n",
      "2 manatee\n",
      "3 frog\n",
      "4 porcupine\n",
      "5 eel\n",
      "6 swallow\n",
      "7 elephant\n",
      "8 cat\n",
      "9 dog\n"
     ]
    }
   ],
   "source": [
    "# Use the enumerate iterator to perform the same actions as the previous requirement\n",
    "\n",
    "# Iterate through each index and value\n",
    "for i, val in enumerate(animal_list):\n",
    "        print(i, val)\n"
   ]
  },
  {
   "cell_type": "markdown",
   "id": "23e009c0",
   "metadata": {},
   "source": [
    "## Requirement 20"
   ]
  },
  {
   "cell_type": "code",
   "execution_count": 23,
   "id": "a967dd9e",
   "metadata": {},
   "outputs": [
    {
     "name": "stdout",
     "output_type": "stream",
     "text": [
      "cheetah red\n",
      "camel orange\n",
      "manatee yellow\n",
      "frog green\n",
      "porcupine blue\n",
      "eel indigo\n",
      "swallow violet\n",
      "elephant purple\n",
      "cat mauve\n",
      "dog teal\n"
     ]
    }
   ],
   "source": [
    "# Create a list of 10 colors named colors_list. Use the zip iterator print the values of the animals_list and\n",
    "# colors_list within the same for loop\n",
    "\n",
    "colors_list = ['red', 'orange', 'yellow', 'green', 'blue', 'indigo', 'violet', 'purple', 'mauve', 'teal']\n",
    "\n",
    "for lval, rval in zip(animal_list, colors_list):\n",
    "        print(lval, rval)\n"
   ]
  },
  {
   "cell_type": "markdown",
   "id": "8be6a823",
   "metadata": {},
   "source": [
    "## Requirement 21"
   ]
  },
  {
   "cell_type": "code",
   "execution_count": 24,
   "id": "29333852",
   "metadata": {
    "scrolled": true
   },
   "outputs": [
    {
     "name": "stdout",
     "output_type": "stream",
     "text": [
      "0\n",
      "10\n",
      "20\n",
      "30\n",
      "40\n",
      "50\n",
      "60\n",
      "70\n",
      "80\n",
      "90\n"
     ]
    }
   ],
   "source": [
    "# Create a lambda named times_ten that multiplies the variable x by 10. Use the map iterator and range(10) to evaluate\n",
    "# the lambda in a for loop\n",
    "\n",
    "# Lambda named times_ten that multiplies x by 10\n",
    "times_ten = lambda x: x * 10\n",
    "\n",
    "# Loop that uses map and range to iterate through times_ten\n",
    "for val in map(times_ten, range(10)):\n",
    "        print(val)\n"
   ]
  },
  {
   "cell_type": "markdown",
   "id": "5f6cc478",
   "metadata": {},
   "source": [
    "## Requirement 22"
   ]
  },
  {
   "cell_type": "code",
   "execution_count": 25,
   "id": "89b38ec3",
   "metadata": {},
   "outputs": [
    {
     "name": "stdout",
     "output_type": "stream",
     "text": [
      "0\n",
      "3\n",
      "6\n",
      "9\n",
      "12\n",
      "15\n",
      "18\n",
      "21\n",
      "24\n",
      "27\n"
     ]
    }
   ],
   "source": [
    "# Create a lambda named by_three that returns true if the variable x is evenly divisible by 3. Use the filter iterator\n",
    "# and range(30) to evaluate the lambda in a for loop.0)))\n",
    "\n",
    "# Lambda named by_three that returns true if x is divisible by 3.\n",
    "by_three = lambda x: x % 3 == 0\n",
    "\n",
    "# Return values in range(30) divisible by 3\n",
    "for val in filter(by_three, range(30)):\n",
    "    print(val)\n"
   ]
  },
  {
   "cell_type": "markdown",
   "id": "cb9f44fa",
   "metadata": {},
   "source": [
    "## Requirement 23"
   ]
  },
  {
   "cell_type": "markdown",
   "id": "60d6c081",
   "metadata": {},
   "source": [
    "I find the reason to use a lambda to be a little confusing. Why wouldn't I just use a regular function for continuity sake? I also struggled for a while with the factoring program. Trying to figure out the logic took me a little while, as I don't think like that by default. I did enjoy the simplicity of zip and enumerate, and think they would be useful for large amounts of data. I am interested in data analysis, and can see myself using zip and enumerate to combine and order data sets."
   ]
  }
 ],
 "metadata": {
  "kernelspec": {
   "display_name": "Python 3 (ipykernel)",
   "language": "python",
   "name": "python3"
  },
  "language_info": {
   "codemirror_mode": {
    "name": "ipython",
    "version": 3
   },
   "file_extension": ".py",
   "mimetype": "text/x-python",
   "name": "python",
   "nbconvert_exporter": "python",
   "pygments_lexer": "ipython3",
   "version": "3.9.12"
  }
 },
 "nbformat": 4,
 "nbformat_minor": 5
}
