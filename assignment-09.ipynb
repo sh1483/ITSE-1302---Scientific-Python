{
 "cells": [
  {
   "cell_type": "markdown",
   "id": "22fe2c9d",
   "metadata": {},
   "source": [
    "# This is Assignment 09 - Steven Haynes"
   ]
  },
  {
   "cell_type": "markdown",
   "id": "329a9ea4",
   "metadata": {},
   "source": [
    "## Requirement 4"
   ]
  },
  {
   "cell_type": "markdown",
   "id": "62e258d6",
   "metadata": {},
   "source": [
    "-- Explain how NumPy arrays are like Python lists and how they are different.\n",
    "\n",
    "A NumPy array contains a pointer to a single block of data, since it is a single data type. This equates to efficient memory usage but limited flexibility in data type storage. In a standard Python list you can store any, or multiple, data types, which means that a list contains a pointer that points to multiple other pointers depending on data type. This makes a list flexible, but large and memory inefficient."
   ]
  },
  {
   "cell_type": "markdown",
   "id": "a7e9e608",
   "metadata": {},
   "source": [
    "## Requirement 5"
   ]
  },
  {
   "cell_type": "markdown",
   "id": "ccfbaf4c",
   "metadata": {},
   "source": [
    "--Explain how variable typing is performed in Python compared to how it is performed in a language like C.\n",
    "\n",
    "In languages like C variable types are explicitly declared, while in Python the variable types are dynamically inferred.\n",
    "In C++ for instance, you declare your variables as a type (int, float, etc.) and then input that data type into the variable.\n",
    "In Python you just declare your variable and store whatever data you want that variables data type to be. You also have the option to change data types, just by changing what you store in the variable (from using an integer to using a string, with no declerations needed)."
   ]
  },
  {
   "cell_type": "markdown",
   "id": "7fb45ccc",
   "metadata": {},
   "source": [
    "## Requirement 6"
   ]
  },
  {
   "cell_type": "markdown",
   "id": "50e7c880",
   "metadata": {},
   "source": [
    "-- Explain how integer storage is performed in Python compared to how it is performed in a language like C.\n",
    "\n",
    "In languages like C an integer is stored as an integer, unless it is\n",
    "declared otherwise. It references a location in memory whose bytes encode an integer value.\n",
    "In Python, becuase it is built on C, an integer is used dynamically, stored as a pointer to a place in memory that\n",
    "contains an object for Python, including the integer bytes, as well as other information (headers, etc). Due to this, Python is\n",
    "less memory efficient to allow for its dynamicism.\n"
   ]
  },
  {
   "cell_type": "markdown",
   "id": "7fff49a5",
   "metadata": {},
   "source": [
    "## Requirement 7"
   ]
  },
  {
   "cell_type": "code",
   "execution_count": 6,
   "id": "8bba851b",
   "metadata": {},
   "outputs": [
    {
     "name": "stdout",
     "output_type": "stream",
     "text": [
      "[1, 2, 3, 4, 5, 6, 7, 8, 9, 10, 11, 12, 13, 14, 15, 16, 17, 18, 19, 20]\n",
      "['1', '2', '3', '4', '5', '6', '7', '8', '9', '10', '11', '12', '13', '14', '15', '16', '17', '18', '19', '20']\n"
     ]
    }
   ],
   "source": [
    "# Create a list (L1) of numbers 1-20. Convert the numbers in L1 to strings and\n",
    "# store them in a new list (L2).\n",
    "\n",
    "L1 = list(range(1,21))\n",
    "print(L1)\n",
    "\n",
    "L2 = [str (c) for c in L1]\n",
    "print(L2)\n"
   ]
  },
  {
   "cell_type": "markdown",
   "id": "15871775",
   "metadata": {},
   "source": [
    "## Requirement 8"
   ]
  },
  {
   "cell_type": "code",
   "execution_count": 21,
   "id": "3dd25178",
   "metadata": {},
   "outputs": [
    {
     "name": "stdout",
     "output_type": "stream",
     "text": [
      "[<class 'int'>, <class 'str'>, <class 'bool'>, <class 'float'>, <class 'complex'>]\n"
     ]
    }
   ],
   "source": [
    "# Demonstrate a heterogeneous list with at least 5 different data types.\n",
    "\n",
    "L3 = [2, 'two', True, 23.42, complex(3j)]\n",
    "print([type(item) for item in L3])\n"
   ]
  },
  {
   "cell_type": "markdown",
   "id": "d4215f9f",
   "metadata": {},
   "source": [
    "## Requirement 9"
   ]
  },
  {
   "cell_type": "code",
   "execution_count": 32,
   "id": "e755a026",
   "metadata": {},
   "outputs": [
    {
     "name": "stdout",
     "output_type": "stream",
     "text": [
      "array('i', [1, 2, 3, 4, 5, 6, 7, 8, 9, 10, 11, 12, 13, 14, 15, 16, 17, 18, 19, 20])\n",
      "array('i', [1, 2, 3, 4, 5, 6, 7, 8, 9, 10, 11, 12, 13, 14, 15, 16, 17, 18, 19, 20, 21])\n",
      "array('i', [1, 2, 3, 4, 99, 5, 6, 7, 8, 9, 10, 11, 12, 13, 14, 15, 16, 17, 18, 19, 20, 21])\n",
      "3\n"
     ]
    },
    {
     "ename": "TypeError",
     "evalue": "an integer is required (got type str)",
     "output_type": "error",
     "traceback": [
      "\u001b[1;31m---------------------------------------------------------------------------\u001b[0m",
      "\u001b[1;31mTypeError\u001b[0m                                 Traceback (most recent call last)",
      "Input \u001b[1;32mIn [32]\u001b[0m, in \u001b[0;36m<cell line: 22>\u001b[1;34m()\u001b[0m\n\u001b[0;32m     19\u001b[0m \u001b[38;5;28mprint\u001b[39m(A1\u001b[38;5;241m.\u001b[39mindex(\u001b[38;5;241m4\u001b[39m))\n\u001b[0;32m     21\u001b[0m \u001b[38;5;66;03m# • attempt to insert an element of a different type (creates a type error)\u001b[39;00m\n\u001b[1;32m---> 22\u001b[0m \u001b[43mA1\u001b[49m\u001b[38;5;241;43m.\u001b[39;49m\u001b[43minsert\u001b[49m\u001b[43m(\u001b[49m\u001b[38;5;241;43m5\u001b[39;49m\u001b[43m,\u001b[49m\u001b[43m \u001b[49m\u001b[38;5;124;43m'\u001b[39;49m\u001b[38;5;124;43mninety-nine\u001b[39;49m\u001b[38;5;124;43m'\u001b[39;49m\u001b[43m)\u001b[49m\n\u001b[0;32m     23\u001b[0m \u001b[38;5;28mprint\u001b[39m(A1)\n",
      "\u001b[1;31mTypeError\u001b[0m: an integer is required (got type str)"
     ]
    }
   ],
   "source": [
    "# Create a Python array using the built-in array module. \n",
    "import array\n",
    "\n",
    "\n",
    "A1 = array.array('i', L1)\n",
    "print(A1)\n",
    "\n",
    "# Demonstrate the following operations on the array:\n",
    "\n",
    "# • append\n",
    "A1.append(21)\n",
    "print(A1)\n",
    "\n",
    "# • insert\n",
    "A1.insert(4, 99)\n",
    "print(A1)\n",
    "\n",
    "# • index\n",
    "print(A1.index(4))\n",
    "\n",
    "# • attempt to insert an element of a different type (creates a type error)\n",
    "A1.insert(5, 'ninety-nine')\n",
    "print(A1)\n"
   ]
  },
  {
   "cell_type": "markdown",
   "id": "6c4e3526",
   "metadata": {},
   "source": [
    "## Requirement 10"
   ]
  },
  {
   "cell_type": "code",
   "execution_count": 2,
   "id": "ec748d02",
   "metadata": {},
   "outputs": [
    {
     "name": "stdout",
     "output_type": "stream",
     "text": [
      "float64\n",
      "float32\n"
     ]
    }
   ],
   "source": [
    "# Create a NumPy array of 10 floats named one_d_array.\n",
    "import numpy as np\n",
    "#Demonstrate the following operations on the array:\n",
    "# • implicit casting (the author calls this up-casting)\n",
    "\n",
    "one_d_array = np.array([.12, 2.1, 3, 4, 5, .67, .75, 8, 9, 10.235687565])\n",
    "print(one_d_array.dtype)\n",
    "\n",
    "# • explicit casting\n",
    "one_d_array = np.array([1, 2, 3, 4, 5, 6, 7, 8, 9, 10], dtype='float32')\n",
    "print(one_d_array.dtype)\n"
   ]
  },
  {
   "cell_type": "markdown",
   "id": "9c3f9740",
   "metadata": {},
   "source": [
    "## Requirement 11"
   ]
  },
  {
   "cell_type": "code",
   "execution_count": 15,
   "id": "c2548576",
   "metadata": {},
   "outputs": [
    {
     "name": "stdout",
     "output_type": "stream",
     "text": [
      "[[1 2 3]\n",
      " [2 3 4]\n",
      " [3 4 5]\n",
      " [4 5 6]\n",
      " [5 6 7]]\n"
     ]
    }
   ],
   "source": [
    "# Use list comprehension to create a two-dimensional NumPy array named\n",
    "# two_d_array with 5 rows and 3 columns with the following content:\n",
    "# [[123]\n",
    "# [234]\n",
    "# [345]\n",
    "# [456]\n",
    "# [567]]\n",
    "\n",
    "two_d_array = np.array([range(i, i + 3) for i in range(1,6)])\n",
    "print(two_d_array)\n"
   ]
  },
  {
   "cell_type": "markdown",
   "id": "bc486320",
   "metadata": {},
   "source": [
    "## Requirement 12"
   ]
  },
  {
   "cell_type": "code",
   "execution_count": 5,
   "id": "87630f2c",
   "metadata": {},
   "outputs": [
    {
     "name": "stdout",
     "output_type": "stream",
     "text": [
      "[[[18 10 19 44 54]\n",
      "  [83 51 10 34 54]\n",
      "  [86 80 45 44 48]\n",
      "  [87 39 85 91 51]\n",
      "  [ 1 94 11 48 66]]\n",
      "\n",
      " [[56 38 33 43 63]\n",
      "  [37 23 26 39  6]\n",
      "  [83  5 80 44 62]\n",
      "  [22 86 68 10 61]\n",
      "  [96 29 20 23 11]]\n",
      "\n",
      " [[13 24 19 63 42]\n",
      "  [24 46 22 50 44]\n",
      "  [40 29 81 66 19]\n",
      "  [31 54 86 48 54]\n",
      "  [92 46 86 10 37]]]\n",
      "the array is  300  bytes.\n"
     ]
    }
   ],
   "source": [
    "# Create a 3-dimensional NumPy array named three_d_array with random\n",
    "# numbers between 0-99. The shape of the array should be (3, 5, 5). Also\n",
    "# display the size in bytes of the array.\n",
    "import random\n",
    "\n",
    "three_d_array = np.random.randint(0, 99, (3, 5, 5))\n",
    "print(three_d_array)\n",
    "print(\"The array is \", three_d_array.nbytes, \" bytes.\")\n"
   ]
  },
  {
   "cell_type": "markdown",
   "id": "fdec04a9",
   "metadata": {},
   "source": [
    "## Requirement 13"
   ]
  },
  {
   "cell_type": "code",
   "execution_count": 11,
   "id": "1808a8b9",
   "metadata": {},
   "outputs": [
    {
     "name": "stdout",
     "output_type": "stream",
     "text": [
      "46\n",
      "87\n",
      "44\n",
      "39\n"
     ]
    }
   ],
   "source": [
    "# Demonstrate accessing 4 different individual elements of the three_d_array.\n",
    "\n",
    "print(three_d_array[2, 4, 1])\n",
    "print(three_d_array[0, 3, 0])\n",
    "print(three_d_array[1, 2, 3])\n",
    "print(three_d_array[-2, -4, -2])\n"
   ]
  },
  {
   "cell_type": "markdown",
   "id": "b473e761",
   "metadata": {},
   "source": [
    "## Requirement 14"
   ]
  },
  {
   "cell_type": "code",
   "execution_count": 20,
   "id": "f09969f6",
   "metadata": {},
   "outputs": [
    {
     "name": "stdout",
     "output_type": "stream",
     "text": [
      "[[[18 10 19 44 54]\n",
      "  [83 51 10 34 54]\n",
      "  [86 80 45 44 48]\n",
      "  [27 39 85 91 51]\n",
      "  [ 1 94 11 48 66]]\n",
      "\n",
      " [[56 38 33 43 63]\n",
      "  [37 23 26 88  6]\n",
      "  [83  5 80  4 62]\n",
      "  [22 86 68 10 61]\n",
      "  [96 29 20 23 11]]\n",
      "\n",
      " [[13 24 19 63 42]\n",
      "  [24 46 22 50 44]\n",
      "  [40 29 81 66 19]\n",
      "  [31 54 86 48 54]\n",
      "  [92 99 86 10 37]]] \n",
      "\n",
      "\n",
      "[[[18 10 19 44 54]\n",
      "  [83 51 10 34 54]\n",
      "  [86 80 45 44 48]\n",
      "  [27 39 85 91 51]\n",
      "  [ 1 94 11 48 66]]\n",
      "\n",
      " [[56 38 33 43 63]\n",
      "  [37 23 26 88  6]\n",
      "  [83  5 80  4 62]\n",
      "  [22 86 68 10 61]\n",
      "  [96 29 20 23 11]]\n",
      "\n",
      " [[13 24 19 63 42]\n",
      "  [24 46 22 50 44]\n",
      "  [40 29 81 66 19]\n",
      "  [31 54 86 48 54]\n",
      "  [92 99 86 10 37]]] \n",
      "\n",
      "\n",
      "[[[18 10 19 44 54]\n",
      "  [83 51 10 34 54]\n",
      "  [86 80 45 44 48]\n",
      "  [27 39 85 91 51]\n",
      "  [ 1 94 11 48 66]]\n",
      "\n",
      " [[56 38 33 43 63]\n",
      "  [37 23 26 88  6]\n",
      "  [83  5 80  4 62]\n",
      "  [22 86 68 10 61]\n",
      "  [96 29 20 23 11]]\n",
      "\n",
      " [[13 24 19 63 42]\n",
      "  [24 46 22 50 44]\n",
      "  [40 29 81 66 19]\n",
      "  [31 54 86 48 54]\n",
      "  [92 99 86 10 37]]] \n",
      "\n",
      "\n",
      "[[[18 10 19 44 54]\n",
      "  [83 51 10 34 54]\n",
      "  [86 80 45 44 48]\n",
      "  [27 39 85 91 51]\n",
      "  [ 1 94 11 48 66]]\n",
      "\n",
      " [[56 38 33 43 63]\n",
      "  [37 23 26 88  6]\n",
      "  [83  5 80  4 62]\n",
      "  [22 86 68 10 61]\n",
      "  [96 29 20 23 11]]\n",
      "\n",
      " [[13 24 19 63 42]\n",
      "  [24 46 22 50 44]\n",
      "  [40 29 81 66 19]\n",
      "  [31 54 86 48 54]\n",
      "  [92 99 86 10 37]]]\n"
     ]
    }
   ],
   "source": [
    "# Demonstrate modifying 4 different individual elements of the three_d_array.\n",
    "\n",
    "three_d_array[2, 4, 1] = 99\n",
    "print(three_d_array, '\\n\\n')\n",
    "three_d_array[0, 3, 0] = 27\n",
    "print(three_d_array, '\\n\\n')\n",
    "three_d_array[1, 2, 3] = 4\n",
    "print(three_d_array, '\\n\\n')\n",
    "three_d_array[-2, -4, -2] = 88\n",
    "print(three_d_array)\n"
   ]
  },
  {
   "cell_type": "markdown",
   "id": "3cb62957",
   "metadata": {},
   "source": [
    "## Requirement 15"
   ]
  },
  {
   "cell_type": "code",
   "execution_count": 13,
   "id": "69618208",
   "metadata": {},
   "outputs": [
    {
     "name": "stdout",
     "output_type": "stream",
     "text": [
      "[1. 2. 3. 4. 5. 6. 7. 8.]\n",
      "[ 8.  9. 10.]\n",
      "[4. 5. 6. 7. 8.]\n",
      "[1. 3. 5. 7. 9.]\n",
      "[10.  9.  8.  7.  6.  5.  4.  3.  2.  1.]\n",
      "[8. 6. 4. 2.]\n"
     ]
    }
   ],
   "source": [
    "# Using one_d_array, demonstrate slicing:\n",
    "# • the first 7 elements\n",
    "print(one_d_array[:8])\n",
    "\n",
    "# • all after index 7\n",
    "print(one_d_array[7:])\n",
    "\n",
    "# • from index 3 to index 8\n",
    "print(one_d_array[3:8])\n",
    "\n",
    "# • every other element\n",
    "print(one_d_array[::2])\n",
    "\n",
    "# • elements reversed\n",
    "print(one_d_array[::-1])\n",
    "\n",
    "# • reverse every other element from index 7\n",
    "print(one_d_array[7::-2])\n",
    "\n"
   ]
  },
  {
   "cell_type": "markdown",
   "id": "cbbc29d1",
   "metadata": {},
   "source": [
    "## Requirement 16"
   ]
  },
  {
   "cell_type": "code",
   "execution_count": 23,
   "id": "abc0c9ea",
   "metadata": {},
   "outputs": [
    {
     "name": "stdout",
     "output_type": "stream",
     "text": [
      "[[1 2]\n",
      " [2 3]] \n",
      "\n",
      "[[1 3]\n",
      " [2 4]\n",
      " [3 5]\n",
      " [4 6]\n",
      " [5 7]] \n",
      "\n",
      "[[1 2 3]\n",
      " [3 4 5]\n",
      " [5 6 7]] \n",
      "\n",
      "[[1 2 3]\n",
      " [2 3 4]\n",
      " [3 4 5]]\n"
     ]
    }
   ],
   "source": [
    "# Using two_d_array, demonstrate slicing:\n",
    "# • first 2 rows and first 2 columns\n",
    "print(two_d_array[:2, :2], '\\n')\n",
    "\n",
    "# • all rows and every other column\n",
    "print(two_d_array[:5, ::2], '\\n')\n",
    "\n",
    "# • all columns and every other row\n",
    "print(two_d_array[::2, :3], '\\n')\n",
    "\n",
    "# • extracting a subarray\n",
    "two_d_sub = two_d_array[:3, :3]\n",
    "print(two_d_sub)\n"
   ]
  },
  {
   "cell_type": "markdown",
   "id": "ef4bd6a3",
   "metadata": {},
   "source": [
    "## Requirement 17"
   ]
  },
  {
   "cell_type": "code",
   "execution_count": 25,
   "id": "4958ec03",
   "metadata": {},
   "outputs": [
    {
     "name": "stdout",
     "output_type": "stream",
     "text": [
      "[[  1   2   3   4   5   6   7   8   9  10]\n",
      " [ 11  12  13  14  15  16  17  18  19  20]\n",
      " [ 21  22  23  24  25  26  27  28  29  30]\n",
      " [ 31  32  33  34  35  36  37  38  39  40]\n",
      " [ 41  42  43  44  45  46  47  48  49  50]\n",
      " [ 51  52  53  54  55  56  57  58  59  60]\n",
      " [ 61  62  63  64  65  66  67  68  69  70]\n",
      " [ 71  72  73  74  75  76  77  78  79  80]\n",
      " [ 81  82  83  84  85  86  87  88  89  90]\n",
      " [ 91  92  93  94  95  96  97  98  99 100]]\n"
     ]
    }
   ],
   "source": [
    "# Use NumPy’s arrange and reshape methods to create a 10x10 array with\n",
    "# values as shown:\n",
    "\n",
    "ten_x_ten = np.arange(1, 101).reshape((10, 10))\n",
    "print(ten_x_ten)\n"
   ]
  },
  {
   "cell_type": "markdown",
   "id": "fb66e20a",
   "metadata": {},
   "source": [
    "## Requirement 18"
   ]
  },
  {
   "cell_type": "code",
   "execution_count": 28,
   "id": "e545e350",
   "metadata": {},
   "outputs": [
    {
     "name": "stdout",
     "output_type": "stream",
     "text": [
      "[[ 1.  2.  3.  4.  5.  6.  7.  8.  9. 10.]] \n",
      "\n",
      "[[ 1.]\n",
      " [ 2.]\n",
      " [ 3.]\n",
      " [ 4.]\n",
      " [ 5.]\n",
      " [ 6.]\n",
      " [ 7.]\n",
      " [ 8.]\n",
      " [ 9.]\n",
      " [10.]]\n"
     ]
    }
   ],
   "source": [
    "# Using one_d_array, create a row vector.\n",
    "\n",
    "print(one_d_array.reshape((1, 10)), '\\n')\n",
    "\n",
    "# and a column vector\n",
    "print(one_d_array.reshape((10,1)))"
   ]
  },
  {
   "cell_type": "markdown",
   "id": "06c7dffc",
   "metadata": {},
   "source": [
    "## Requirement 19"
   ]
  },
  {
   "cell_type": "markdown",
   "id": "88cf1092",
   "metadata": {},
   "source": [
    "-- Explain what a NumPy universal function is and why they are useful.\n",
    "\n",
    "A ufunc is a built in way to execute vectorized operations, that is to say that it allows for repeated operations to be performed on values without the standard Python slowdowns that occur from looping through each value to determine data type, etcetera. This allows for increased speed and efficiency when working with large datasets with NumPy. ufuncs are easy to use since they work on basic arithmetic operators, as well as other common operators.\n"
   ]
  },
  {
   "cell_type": "markdown",
   "id": "693d3ede",
   "metadata": {},
   "source": [
    "## Requirement 20"
   ]
  },
  {
   "cell_type": "code",
   "execution_count": 33,
   "id": "560ccb9b",
   "metadata": {},
   "outputs": [
    {
     "name": "stdout",
     "output_type": "stream",
     "text": [
      "[0 1 2 3 4 5 6] \n",
      "\n",
      "[ 0.  3.  6.  9. 12. 15. 18.]\n"
     ]
    }
   ],
   "source": [
    "# Demonstrate the use of the out argument.\n",
    "\n",
    "alpha = np.arange(7)\n",
    "beta = np.empty(7)\n",
    "np.multiply(alpha, 3, out = beta)\n",
    "\n",
    "print(alpha, '\\n')\n",
    "print(beta)\n"
   ]
  },
  {
   "cell_type": "markdown",
   "id": "e04bc879",
   "metadata": {},
   "source": [
    "## Requirement 21"
   ]
  },
  {
   "cell_type": "code",
   "execution_count": 35,
   "id": "a37c306f",
   "metadata": {},
   "outputs": [
    {
     "name": "stdout",
     "output_type": "stream",
     "text": [
      "3628800.0\n"
     ]
    }
   ],
   "source": [
    "# Use aggregates to show the product of all elements of one_d_array.\n",
    "\n",
    "print(np.multiply.reduce(one_d_array))\n"
   ]
  },
  {
   "cell_type": "markdown",
   "id": "7aabbc67",
   "metadata": {},
   "source": [
    "## Requirement 22"
   ]
  },
  {
   "cell_type": "code",
   "execution_count": 69,
   "id": "3b304bf4",
   "metadata": {},
   "outputs": [
    {
     "name": "stdout",
     "output_type": "stream",
     "text": [
      "[1, 2, 3, 4, 5] [2, 2, 2, 2, 2] \n",
      "\n",
      "[[ 2  2  2  2  2]\n",
      " [ 4  4  4  4  4]\n",
      " [ 6  6  6  6  6]\n",
      " [ 8  8  8  8  8]\n",
      " [10 10 10 10 10]]\n"
     ]
    }
   ],
   "source": [
    "# Create the NumPy arrays x and y below and use the multiply() and outer()\n",
    "# methods to produce the output as shown.\n",
    "\n",
    "x = [1, 2, 3, 4, 5]\n",
    "y = [2, 2, 2, 2, 2]\n",
    "\n",
    "print(x, y, '\\n')\n",
    "\n",
    "print(np.multiply.outer(x, y))\n"
   ]
  },
  {
   "cell_type": "markdown",
   "id": "27d08bfe",
   "metadata": {},
   "source": [
    "## Requirement 23"
   ]
  },
  {
   "cell_type": "code",
   "execution_count": 44,
   "id": "846f3c3c",
   "metadata": {},
   "outputs": [
    {
     "name": "stdout",
     "output_type": "stream",
     "text": [
      "sums: \n",
      "21.3 ms ± 776 µs per loop (mean ± std. dev. of 7 runs, 10 loops each)\n",
      "117 µs ± 2.28 µs per loop (mean ± std. dev. of 7 runs, 10,000 loops each)\n",
      "\n",
      " mins: \n",
      "14.6 ms ± 264 µs per loop (mean ± std. dev. of 7 runs, 100 loops each)\n",
      "121 µs ± 4.29 µs per loop (mean ± std. dev. of 7 runs, 10,000 loops each)\n",
      "\n",
      " maxes: \n",
      "14.8 ms ± 413 µs per loop (mean ± std. dev. of 7 runs, 100 loops each)\n",
      "122 µs ± 3.01 µs per loop (mean ± std. dev. of 7 runs, 10,000 loops each)\n"
     ]
    }
   ],
   "source": [
    "# Demonstrate NumPy’s sum, min, and max functions. Use the %timeit\n",
    "# magic function to compare the performance to Python’s built-in sum, min,\n",
    "# and max functions.\n",
    "\n",
    "tester = np.random.rand(500000)\n",
    "\n",
    "print('sums: ')\n",
    "%timeit sum(tester)\n",
    "%timeit np.sum(tester)\n",
    "\n",
    "print('\\n', 'mins: ')\n",
    "%timeit min(tester)\n",
    "%timeit np.min(tester)\n",
    "\n",
    "print('\\n', 'maxes: ')\n",
    "%timeit max(tester)\n",
    "%timeit np.max(tester)\n"
   ]
  },
  {
   "cell_type": "markdown",
   "id": "c1b3dc0d",
   "metadata": {},
   "source": [
    "## Requirement 24"
   ]
  },
  {
   "cell_type": "code",
   "execution_count": 64,
   "id": "1584dc82",
   "metadata": {},
   "outputs": [
    {
     "name": "stdout",
     "output_type": "stream",
     "text": [
      "[74.409489 66.92917  74.409489 64.173263 72.047283 67.322871 72.834685\n",
      " 66.141768 68.110273 72.047283 68.110273 68.110273 68.897675 70.078778\n",
      " 72.047283 75.984293 70.078778 68.110273 68.503974 72.047283 72.047283\n",
      " 66.141768 66.92917  70.078778 71.653582 70.86618  72.047283 70.078778\n",
      " 71.653582 74.015788 68.897675 70.472479 72.047283 75.984293 71.653582\n",
      " 72.047283 69.685077 72.834685 74.015788 74.015788 71.653582 72.834685]\n"
     ]
    },
    {
     "data": {
      "image/png": "[encoded data removed]",
      "text/plain": [
       "<Figure size 432x288 with 1 Axes>"
      ]
     },
     "metadata": {},
     "output_type": "display_data"
    }
   ],
   "source": [
    "# Use the file president_heights.csv to produce a histogram of U.S. President\n",
    "# height information.\n",
    "\n",
    "import pandas as pd\n",
    "\n",
    "data = pd.read_csv('president_heights.csv')\n",
    "heights = np.array(data['height(cm)'])\n",
    "\n",
    "heights_inches = heights * 0.393701\n",
    "print(heights_inches)\n",
    "\n",
    "%matplotlib inline\n",
    "import matplotlib.pyplot as plt\n",
    "import seaborn; seaborn.set()  # set plot style\n",
    "\n",
    "plt.hist(heights_inches)\n",
    "plt.title('Height Distribution of US Presidents')\n",
    "plt.xlabel('height (in)')\n",
    "plt.ylabel('number');\n"
   ]
  },
  {
   "cell_type": "markdown",
   "id": "074e5a5d",
   "metadata": {},
   "source": [
    "## Requirement 25"
   ]
  },
  {
   "cell_type": "code",
   "execution_count": 68,
   "id": "dc476e9a",
   "metadata": {},
   "outputs": [
    {
     "name": "stderr",
     "output_type": "stream",
     "text": [
      "C:\\Users\\Steve\\AppData\\Local\\Temp\\ipykernel_8120\\2732928759.py:13: MatplotlibDeprecationWarning: Auto-removal of grids by pcolor() and pcolormesh() is deprecated since 3.5 and will be removed two minor releases later; please call grid(False) first.\n",
      "  plt.colorbar();\n"
     ]
    },
    {
     "data": {
      "image/png": "[encoded data removed]",
      "text/plain": [
       "<Figure size 432x288 with 2 Axes>"
      ]
     },
     "metadata": {
      "needs_background": "light"
     },
     "output_type": "display_data"
    }
   ],
   "source": [
    "# Use broadcasting and Matplotlib to produce a plot of a two dimensional array.\n",
    "\n",
    "x = np.linspace(0, 5, 250)\n",
    "y = np.linspace(0, 5, 250)[:, np.newaxis]\n",
    "\n",
    "z = np.sin(x) ** 5 + np.cos(7 + y * x) * np.cos(x)\n",
    "\n",
    "%matplotlib inline\n",
    "import matplotlib.pyplot as plt\n",
    "\n",
    "plt.imshow(z, origin='lower', extent=[0, 5, 0, 5],\n",
    "           cmap='viridis')\n",
    "plt.colorbar();\n",
    "\n"
   ]
  },
  {
   "cell_type": "markdown",
   "id": "bc7606fc",
   "metadata": {},
   "source": [
    "## Requirement 26"
   ]
  },
  {
   "cell_type": "markdown",
   "id": "6ed6d379",
   "metadata": {},
   "source": [
    "I ran into an interesting situation for Requirement 23. I tried to use three_d_array for the %timeit... sum had an interesting result as it was the opposite of what I expected, but it ran into an error for min which threw me for a loop.\n",
    "\n",
    "Also this warning for 25: MatplotlibDeprecationWarning: Auto-removal of grids by pcolor() and pcolormesh() is deprecated since 3.5 and will be removed two minor releases later; please call grid(False) first.\n",
    "  plt.colorbar();\n",
    "  \n",
    "Overall, I found the sections for this assignment the most interesting so far. I feel like I need a ton of extra practice using NumPy, but with the new addition to the family I don't see that happening for at least a few months.\n"
   ]
  }
 ],
 "metadata": {
  "kernelspec": {
   "display_name": "Python 3 (ipykernel)",
   "language": "python",
   "name": "python3"
  },
  "language_info": {
   "codemirror_mode": {
    "name": "ipython",
    "version": 3
   },
   "file_extension": ".py",
   "mimetype": "text/x-python",
   "name": "python",
   "nbconvert_exporter": "python",
   "pygments_lexer": "ipython3",
   "version": "3.9.12"
  }
 },
 "nbformat": 4,
 "nbformat_minor": 5
}
