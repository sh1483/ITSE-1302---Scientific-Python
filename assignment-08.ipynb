{
 "cells": [
  {
   "cell_type": "markdown",
   "id": "bd6c9080",
   "metadata": {},
   "source": [
    "# This is Assignment 8 - Steven Haynes"
   ]
  },
  {
   "cell_type": "markdown",
   "id": "6d127e47",
   "metadata": {},
   "source": [
    "## Requirement 4"
   ]
  },
  {
   "cell_type": "markdown",
   "id": "33bd12d0",
   "metadata": {},
   "source": [
    "\"Data science combines math and statistics, specialized programming, advanced analytics, artificial intelligence (AI), and machine learning with specific subject matter expertise to uncover actionable insights hidden in an organization’s data. These insights can be used to guide decision making and strategic planning\" (IBM).\n",
    "\n",
    "\"Data science is the domain of study that deals with vast volumes of data using modern tools and techniques to find unseen patterns, derive meaningful information, and make business decisions\" (Simplilearn).\n",
    "\n",
    "\"Put simply, data science is devoted to the extraction of clean information from raw data to form actionable insights\" (Daley).\n",
    "\n",
    "Sources:\n",
    "https://www.ibm.com/cloud/learn/data-science-introduction#:~:text=Data%20science%20combines%20math%20and,decision%20making%20and%20strategic%20planning.\n",
    "\n",
    "https://www.simplilearn.com/tutorials/data-science-tutorial/what-is-data-science\n",
    "\n",
    "https://builtin.com/data-science"
   ]
  },
  {
   "cell_type": "markdown",
   "id": "1121b77f",
   "metadata": {},
   "source": [
    "## Requirement 5"
   ]
  },
  {
   "cell_type": "code",
   "execution_count": 120,
   "id": "68e7c8f1",
   "metadata": {},
   "outputs": [],
   "source": [
    "# Demonstrate accessing the help system for five different topics.\n",
    "\n",
    "len?\n",
    "print?\n",
    "sum?\n",
    "list?\n",
    "range?"
   ]
  },
  {
   "cell_type": "markdown",
   "id": "18314443",
   "metadata": {},
   "source": [
    "## Requirement 6"
   ]
  },
  {
   "cell_type": "code",
   "execution_count": 24,
   "id": "35cad05c",
   "metadata": {},
   "outputs": [
    {
     "name": "stdout",
     "output_type": "stream",
     "text": [
      "Enter an integer: 78\n",
      "474552\n"
     ]
    }
   ],
   "source": [
    "# Write a function cube() that raises an argument to the third power and\n",
    "# returns that argument. Include a docstring in the function. Include a call to\n",
    "# cube()\n",
    "\n",
    "\n",
    "# Create the main function to get a number from the user.\n",
    "def main():\n",
    "    value = int(input(\"Enter an integer: \"))\n",
    "    # Call the cube function\n",
    "    cube(value)\n",
    "    \n",
    "    \n",
    "\n",
    "\n",
    "    # Define the cube function\n",
    "def cube(number):\n",
    "    # Create the docstring for the cube function\n",
    "    \"\"\"Return the cube of value.\"\"\"\n",
    "    result = number ** 3\n",
    "    print(result)\n",
    "\n",
    "\n",
    "main()\n",
    "\n"
   ]
  },
  {
   "cell_type": "markdown",
   "id": "4187f4e1",
   "metadata": {},
   "source": [
    "## Requirement 7"
   ]
  },
  {
   "cell_type": "code",
   "execution_count": 25,
   "id": "4fb746cc",
   "metadata": {},
   "outputs": [],
   "source": [
    "# Display the docstring and source code of cube() using the shortcuts shown\n",
    "# in the online textbook\n",
    "\n",
    "# View the docstring for the cube function\n",
    "cube?\n",
    "# View the source code for the cube function\n",
    "cube??\n"
   ]
  },
  {
   "cell_type": "markdown",
   "id": "7d3e60af",
   "metadata": {},
   "source": [
    "## Requirement 8"
   ]
  },
  {
   "cell_type": "code",
   "execution_count": 26,
   "id": "eb7f9cc6",
   "metadata": {},
   "outputs": [],
   "source": [
    "# Define a list L. Include L. in a code cell below L and press <TAB> to observe\n",
    "# code completion. This displays the methods are available to Python list\n",
    "# objects.\n",
    "\n",
    "L = ['Tom', 'Dick', 'Harry']\n"
   ]
  },
  {
   "cell_type": "code",
   "execution_count": null,
   "id": "132101fc",
   "metadata": {},
   "outputs": [],
   "source": [
    "L.\n"
   ]
  },
  {
   "cell_type": "markdown",
   "id": "1e32c3ae",
   "metadata": {},
   "source": [
    "## Requirement 9"
   ]
  },
  {
   "cell_type": "code",
   "execution_count": null,
   "id": "016cbd21",
   "metadata": {},
   "outputs": [],
   "source": [
    "# Demonstrate the use of tab completion with the import statement.\n",
    "\n",
    "from math import \n"
   ]
  },
  {
   "cell_type": "markdown",
   "id": "12cd6ac3",
   "metadata": {},
   "source": [
    "## Requirement 10"
   ]
  },
  {
   "cell_type": "code",
   "execution_count": 37,
   "id": "0e9edd4c",
   "metadata": {},
   "outputs": [],
   "source": [
    "# Demonstrate the use of wildcard matching\n",
    "\n",
    "# Find all objects that end with the letter l\n",
    "*l?\n",
    "\n",
    "# Find string instances that contain find\n",
    "str.*find*?\n"
   ]
  },
  {
   "cell_type": "markdown",
   "id": "d7447bd2",
   "metadata": {},
   "source": [
    "## Requirement 11"
   ]
  },
  {
   "cell_type": "code",
   "execution_count": 38,
   "id": "477be3c1",
   "metadata": {},
   "outputs": [
    {
     "name": "stdout",
     "output_type": "stream",
     "text": [
      "1\n",
      "8\n",
      "27\n",
      "64\n",
      "125\n"
     ]
    }
   ],
   "source": [
    "# Create a file myscript.py that includes the definition of cube() you wrote\n",
    "# earlier and a for loop to call cube() multiple times. Use a magic command to\n",
    "# run myscript.py from a code cell. Include myscript.py in your Bb submission\n",
    "# so your code works when run.\n",
    "\n",
    "%run myscript.py\n"
   ]
  },
  {
   "cell_type": "markdown",
   "id": "05ec8520",
   "metadata": {},
   "source": [
    "## Requirement 12"
   ]
  },
  {
   "cell_type": "code",
   "execution_count": 40,
   "id": "619ed856",
   "metadata": {},
   "outputs": [
    {
     "name": "stdout",
     "output_type": "stream",
     "text": [
      "439 µs ± 14.3 µs per loop (mean ± std. dev. of 7 runs, 1,000 loops each)\n"
     ]
    }
   ],
   "source": [
    "# Use a magic command to time an operation\n",
    "\n",
    "%timeit R = [n ** 3 for n in range(2500)]\n"
   ]
  },
  {
   "cell_type": "markdown",
   "id": "6dd57ce4",
   "metadata": {},
   "source": [
    "## Requirement 13"
   ]
  },
  {
   "cell_type": "code",
   "execution_count": 42,
   "id": "9a681c1b",
   "metadata": {},
   "outputs": [],
   "source": [
    "# Demonstrate silently displaying output\n",
    "\n",
    "R = [n ** 3 for n in range(2500)];\n"
   ]
  },
  {
   "cell_type": "code",
   "execution_count": 43,
   "id": "46c9cc1b",
   "metadata": {},
   "outputs": [
    {
     "data": {
      "text/plain": [
       "False"
      ]
     },
     "execution_count": 43,
     "metadata": {},
     "output_type": "execute_result"
    }
   ],
   "source": [
    "# Demonstrate silently displaying output\n",
    "\n",
    "42 in Out\n"
   ]
  },
  {
   "cell_type": "markdown",
   "id": "4b0342f4",
   "metadata": {},
   "source": [
    "## Requirement 14"
   ]
  },
  {
   "cell_type": "code",
   "execution_count": 46,
   "id": "e0b7f743",
   "metadata": {},
   "outputs": [
    {
     "name": "stdout",
     "output_type": "stream",
     "text": [
      " Volume in drive C is Acer\n",
      " Volume Serial Number is 1604-356C\n",
      "\n",
      " Directory of C:\\Users\\Steve\\OneDrive\\Desktop\\Programming\n",
      "\n",
      "09/25/2022  02:43 PM    <DIR>          .\n",
      "09/21/2022  10:02 AM    <DIR>          ..\n",
      "09/25/2022  02:27 PM    <DIR>          .idea\n",
      "09/25/2022  01:10 PM    <DIR>          .ipynb_checkpoints\n",
      "09/25/2022  02:43 PM            16,738 assignment-08.ipynb\n",
      "04/15/2022  09:05 AM           204,980 Excel Project Dataset - Complete.xlsx\n",
      "08/22/2022  03:41 PM             2,157 Get Started With Oracle Database 11g Express Edition .lnk\n",
      "08/25/2022  03:20 PM             2,210 Jupyter Notebook (anaconda3).lnk\n",
      "09/25/2022  02:27 PM               447 myscript.py\n",
      "08/22/2022  08:04 AM    <DIR>          PythonDataScienceHandbook-master\n",
      "08/10/2022  08:12 AM    <DIR>          python_work\n",
      "08/09/2022  09:53 AM    <DIR>          SQL\n",
      "09/25/2022  01:58 PM               337 test.py\n",
      "09/25/2022  01:46 PM               385 test2.py\n",
      "08/31/2022  10:21 AM                 0 untitled\n",
      "08/22/2022  08:04 AM    <DIR>          WhirlwindTourOfPython-master\n",
      "08/26/2022  11:29 AM    <DIR>          __pycache__\n",
      "               8 File(s)        227,254 bytes\n",
      "               9 Dir(s)  407,567,568,896 bytes free\n",
      "\n",
      "Microsoft Windows [Version 10.0.22000.978]\n",
      "cheeseburgers\n",
      "For more information on a specific command, type HELP command-name\n",
      "ASSOC          Displays or modifies file extension associations.\n",
      "ATTRIB         Displays or changes file attributes.\n",
      "BREAK          Sets or clears extended CTRL+C checking.\n",
      "BCDEDIT        Sets properties in boot database to control boot loading.\n",
      "CACLS          Displays or modifies access control lists (ACLs) of files.\n",
      "CALL           Calls one batch program from another.\n",
      "CD             Displays the name of or changes the current directory.\n",
      "CHCP           Displays or sets the active code page number.\n",
      "CHDIR          Displays the name of or changes the current directory.\n",
      "CHKDSK         Checks a disk and displays a status report.\n",
      "CHKNTFS        Displays or modifies the checking of disk at boot time.\n",
      "CLS            Clears the screen.\n",
      "CMD            Starts a new instance of the Windows command interpreter.\n",
      "COLOR          Sets the default console foreground and background colors.\n",
      "COMP           Compares the contents of two files or sets of files.\n",
      "COMPACT        Displays or alters the compression of files on NTFS partitions.\n",
      "CONVERT        Converts FAT volumes to NTFS.  You cannot convert the\n",
      "               current drive.\n",
      "COPY           Copies one or more files to another location.\n",
      "DATE           Displays or sets the date.\n",
      "DEL            Deletes one or more files.\n",
      "DIR            Displays a list of files and subdirectories in a directory.\n",
      "DISKPART       Displays or configures Disk Partition properties.\n",
      "DOSKEY         Edits command lines, recalls Windows commands, and \n",
      "               creates macros.\n",
      "DRIVERQUERY    Displays current device driver status and properties.\n",
      "ECHO           Displays messages, or turns command echoing on or off.\n",
      "ENDLOCAL       Ends localization of environment changes in a batch file.\n",
      "ERASE          Deletes one or more files.\n",
      "EXIT           Quits the CMD.EXE program (command interpreter).\n",
      "FC             Compares two files or sets of files, and displays the \n",
      "               differences between them.\n",
      "FIND           Searches for a text string in a file or files.\n",
      "FINDSTR        Searches for strings in files.\n",
      "FOR            Runs a specified command for each file in a set of files.\n",
      "FORMAT         Formats a disk for use with Windows.\n",
      "FSUTIL         Displays or configures the file system properties.\n",
      "FTYPE          Displays or modifies file types used in file extension \n",
      "               associations.\n",
      "GOTO           Directs the Windows command interpreter to a labeled line in \n",
      "               a batch program.\n",
      "GPRESULT       Displays Group Policy information for machine or user.\n",
      "GRAFTABL       Enables Windows to display an extended character set in \n",
      "               graphics mode.\n",
      "HELP           Provides Help information for Windows commands.\n",
      "ICACLS         Display, modify, backup, or restore ACLs for files and \n",
      "               directories.\n",
      "IF             Performs conditional processing in batch programs.\n",
      "LABEL          Creates, changes, or deletes the volume label of a disk.\n",
      "MD             Creates a directory.\n",
      "MKDIR          Creates a directory.\n",
      "MKLINK         Creates Symbolic Links and Hard Links\n",
      "MODE           Configures a system device.\n",
      "MORE           Displays output one screen at a time.\n",
      "MOVE           Moves one or more files from one directory to another \n",
      "               directory.\n",
      "OPENFILES      Displays files opened by remote users for a file share.\n",
      "PATH           Displays or sets a search path for executable files.\n",
      "PAUSE          Suspends processing of a batch file and displays a message.\n",
      "POPD           Restores the previous value of the current directory saved by \n",
      "               PUSHD.\n",
      "PRINT          Prints a text file.\n",
      "PROMPT         Changes the Windows command prompt.\n",
      "PUSHD          Saves the current directory then changes it.\n",
      "RD             Removes a directory.\n",
      "RECOVER        Recovers readable information from a bad or defective disk.\n",
      "REM            Records comments (remarks) in batch files or CONFIG.SYS.\n",
      "REN            Renames a file or files.\n",
      "RENAME         Renames a file or files.\n",
      "REPLACE        Replaces files.\n",
      "RMDIR          Removes a directory.\n",
      "ROBOCOPY       Advanced utility to copy files and directory trees\n",
      "SET            Displays, sets, or removes Windows environment variables.\n",
      "SETLOCAL       Begins localization of environment changes in a batch file.\n",
      "SC             Displays or configures services (background processes).\n",
      "SCHTASKS       Schedules commands and programs to run on a computer.\n",
      "SHIFT          Shifts the position of replaceable parameters in batch files.\n",
      "SHUTDOWN       Allows proper local or remote shutdown of machine.\n",
      "SORT           Sorts input.\n",
      "START          Starts a separate window to run a specified program or command.\n",
      "SUBST          Associates a path with a drive letter.\n",
      "SYSTEMINFO     Displays machine specific properties and configuration.\n",
      "TASKLIST       Displays all currently running tasks including services.\n",
      "TASKKILL       Kill or stop a running process or application.\n",
      "TIME           Displays or sets the system time.\n",
      "TITLE          Sets the window title for a CMD.EXE session.\n",
      "TREE           Graphically displays the directory structure of a drive or \n",
      "               path.\n",
      "TYPE           Displays the contents of a text file.\n",
      "VER            Displays the Windows version.\n",
      "VERIFY         Tells Windows whether to verify that your files are written\n",
      "               correctly to a disk.\n",
      "VOL            Displays a disk volume label and serial number.\n",
      "XCOPY          Copies files and directory trees.\n",
      "WMIC           Displays WMI information inside interactive command shell.\n",
      "\n",
      "For more information on tools see the command-line reference in the online help.\n"
     ]
    }
   ],
   "source": [
    "# Demonstrate five different command console shell commands.\n",
    "# • Due to the differences between Windows and MacOS/Linux, the\n",
    "# UNIX based shell commands do not operate correctly in Windows.\n",
    "# Given this, simply use ‘!’ with five Windows commands.\n",
    "# • If your installation is still problematic, make comments about the\n",
    "# requirements in a markdown cell explaining the commands you\n",
    "# attempted and results.\n",
    "\n",
    "!dir\n",
    "!exit\n",
    "!ver\n",
    "!echo cheeseburgers\n",
    "!help\n"
   ]
  },
  {
   "cell_type": "markdown",
   "id": "8fbe6b55",
   "metadata": {},
   "source": [
    "## Requirement 15"
   ]
  },
  {
   "cell_type": "code",
   "execution_count": 64,
   "id": "49222c30",
   "metadata": {},
   "outputs": [
    {
     "name": "stdout",
     "output_type": "stream",
     "text": [
      "\n",
      "Automagic is OFF, % prefix IS needed for line magics.\n",
      "\f",
      "\n",
      " Volume in drive C is Acer\n",
      " Volume Serial Number is 1604-356C\n",
      "\n",
      " Directory of C:\\Users\\Steve\\OneDrive\\Desktop\\Programming\n",
      "\n",
      "09/25/2022  02:57 PM    <DIR>          .\n",
      "09/21/2022  10:02 AM    <DIR>          ..\n",
      "09/25/2022  02:27 PM    <DIR>          .idea\n",
      "09/25/2022  01:10 PM    <DIR>          .ipynb_checkpoints\n",
      "08/26/2022  11:29 AM    <DIR>          __pycache__\n",
      "09/25/2022  02:57 PM            22,822 assignment-08.ipynb\n",
      "04/15/2022  09:05 AM           204,980 Excel Project Dataset - Complete.xlsx\n",
      "08/22/2022  03:41 PM             2,157 Get Started With Oracle Database 11g Express Edition .lnk\n",
      "08/25/2022  03:20 PM             2,210 Jupyter Notebook (anaconda3).lnk\n",
      "09/25/2022  02:27 PM               447 myscript.py\n",
      "08/10/2022  08:12 AM    <DIR>          python_work\n",
      "08/22/2022  08:04 AM    <DIR>          PythonDataScienceHandbook-master\n",
      "08/09/2022  09:53 AM    <DIR>          SQL\n",
      "09/25/2022  01:58 PM               337 test.py\n",
      "09/25/2022  01:46 PM               385 test2.py\n",
      "08/31/2022  10:21 AM                 0 untitled\n",
      "08/22/2022  08:04 AM    <DIR>          WhirlwindTourOfPython-master\n",
      "               8 File(s)        233,338 bytes\n",
      "               9 Dir(s)  407,553,273,856 bytes free\n",
      "grilled cheese\n"
     ]
    },
    {
     "data": {
      "text/plain": [
       "{'ALLUSERSPROFILE': 'C:\\\\ProgramData',\n",
       " 'APPDATA': 'C:\\\\Users\\\\Steve\\\\AppData\\\\Roaming',\n",
       " 'COMMONPROGRAMFILES': 'C:\\\\Program Files\\\\Common Files',\n",
       " 'COMMONPROGRAMFILES(X86)': 'C:\\\\Program Files (x86)\\\\Common Files',\n",
       " 'COMMONPROGRAMW6432': 'C:\\\\Program Files\\\\Common Files',\n",
       " 'COMPUTERNAME': 'STEVEN',\n",
       " 'COMSPEC': 'C:\\\\Windows\\\\system32\\\\cmd.exe',\n",
       " 'DRIVERDATA': 'C:\\\\Windows\\\\System32\\\\Drivers\\\\DriverData',\n",
       " 'HOMEDRIVE': 'C:',\n",
       " 'HOMEPATH': '\\\\Users\\\\Steve',\n",
       " 'LOCALAPPDATA': 'C:\\\\Users\\\\Steve\\\\AppData\\\\Local',\n",
       " 'LOGONSERVER': '\\\\\\\\STEVEN',\n",
       " 'NUMBER_OF_PROCESSORS': '12',\n",
       " 'ONEDRIVE': 'C:\\\\Users\\\\Steve\\\\OneDrive',\n",
       " 'ONEDRIVECONSUMER': 'C:\\\\Users\\\\Steve\\\\OneDrive',\n",
       " 'OS': 'Windows_NT',\n",
       " 'PATH': 'C:\\\\Users\\\\Steve\\\\anaconda3;C:\\\\Users\\\\Steve\\\\anaconda3\\\\Library\\\\mingw-w64\\\\bin;C:\\\\Users\\\\Steve\\\\anaconda3\\\\Library\\\\usr\\\\bin;C:\\\\Users\\\\Steve\\\\anaconda3\\\\Library\\\\bin;C:\\\\Users\\\\Steve\\\\anaconda3\\\\Scripts;C:\\\\oraclexe\\\\app\\\\oracle\\\\product\\\\11.2.0\\\\server\\\\bin;;C:\\\\Windows\\\\system32;C:\\\\Windows;C:\\\\Windows\\\\System32\\\\Wbem;C:\\\\Windows\\\\System32\\\\WindowsPowerShell\\\\v1.0\\\\;C:\\\\Windows\\\\System32\\\\OpenSSH\\\\;C:\\\\Program Files\\\\Microsoft SQL Server\\\\Client SDK\\\\ODBC\\\\170\\\\Tools\\\\Binn\\\\;C:\\\\Program Files (x86)\\\\Microsoft SQL Server\\\\150\\\\Tools\\\\Binn\\\\;C:\\\\Program Files\\\\Microsoft SQL Server\\\\150\\\\Tools\\\\Binn\\\\;C:\\\\Program Files\\\\Microsoft SQL Server\\\\150\\\\DTS\\\\Binn\\\\;C:\\\\Program Files\\\\MySQL\\\\MySQL Shell 8.0\\\\bin\\\\;C:\\\\Users\\\\Steve\\\\AppData\\\\Local\\\\Microsoft\\\\WindowsApps;',\n",
       " 'PATHEXT': '.COM;.EXE;.BAT;.CMD;.VBS;.VBE;.JS;.JSE;.WSF;.WSH;.MSC',\n",
       " 'PROCESSOR_ARCHITECTURE': 'AMD64',\n",
       " 'PROCESSOR_IDENTIFIER': 'Intel64 Family 6 Model 154 Stepping 4, GenuineIntel',\n",
       " 'PROCESSOR_LEVEL': '6',\n",
       " 'PROCESSOR_REVISION': '9a04',\n",
       " 'PROGRAMDATA': 'C:\\\\ProgramData',\n",
       " 'PROGRAMFILES': 'C:\\\\Program Files',\n",
       " 'PROGRAMFILES(X86)': 'C:\\\\Program Files (x86)',\n",
       " 'PROGRAMW6432': 'C:\\\\Program Files',\n",
       " 'PSMODULEPATH': 'C:\\\\Program Files\\\\WindowsPowerShell\\\\Modules;C:\\\\Windows\\\\system32\\\\WindowsPowerShell\\\\v1.0\\\\Modules;C:\\\\Program Files (x86)\\\\Microsoft SQL Server\\\\150\\\\Tools\\\\PowerShell\\\\Modules\\\\',\n",
       " 'PUBLIC': 'C:\\\\Users\\\\Public',\n",
       " 'SESSIONNAME': 'Console',\n",
       " 'SYSTEMDRIVE': 'C:',\n",
       " 'SYSTEMROOT': 'C:\\\\Windows',\n",
       " 'TEMP': 'C:\\\\Users\\\\Steve\\\\AppData\\\\Local\\\\Temp',\n",
       " 'TMP': 'C:\\\\Users\\\\Steve\\\\AppData\\\\Local\\\\Temp',\n",
       " 'USERDOMAIN': 'STEVEN',\n",
       " 'USERDOMAIN_ROAMINGPROFILE': 'STEVEN',\n",
       " 'USERNAME': 'Steve',\n",
       " 'USERPROFILE': 'C:\\\\Users\\\\Steve',\n",
       " 'WINDIR': 'C:\\\\Windows',\n",
       " 'ZES_ENABLE_SYSMAN': '1',\n",
       " '__PSLOCKDOWNPOLICY': '0',\n",
       " 'CONDA_PREFIX': 'C:\\\\Users\\\\Steve\\\\anaconda3',\n",
       " 'PYDEVD_USE_FRAME_EVAL': 'NO',\n",
       " 'JPY_INTERRUPT_EVENT': '5016',\n",
       " 'IPY_INTERRUPT_EVENT': '5016',\n",
       " 'JPY_PARENT_PID': '5008',\n",
       " 'TERM': 'xterm-color',\n",
       " 'CLICOLOR': '1',\n",
       " 'PAGER': 'cat',\n",
       " 'GIT_PAGER': 'cat',\n",
       " 'MPLBACKEND': 'module://matplotlib_inline.backend_inline'}"
      ]
     },
     "execution_count": 64,
     "metadata": {},
     "output_type": "execute_result"
    }
   ],
   "source": [
    "# With automagic set to off, demonstrate five different shell-related magic commands\n",
    "\n",
    "%automagic\n",
    "\n",
    "%cls\n",
    "%ls\n",
    "%echo grilled cheese\n",
    "%pwd\n",
    "%env\n"
   ]
  },
  {
   "cell_type": "markdown",
   "id": "1bb3b01c",
   "metadata": {},
   "source": [
    "## Requirement 16"
   ]
  },
  {
   "cell_type": "code",
   "execution_count": 70,
   "id": "ecc22066",
   "metadata": {},
   "outputs": [
    {
     "ename": "SyntaxError",
     "evalue": "invalid syntax (4182724010.py, line 7)",
     "output_type": "error",
     "traceback": [
      "\u001b[1;36m  Input \u001b[1;32mIn [70]\u001b[1;36m\u001b[0m\n\u001b[1;33m    mv food.txt drinks.txt\u001b[0m\n\u001b[1;37m       ^\u001b[0m\n\u001b[1;31mSyntaxError\u001b[0m\u001b[1;31m:\u001b[0m invalid syntax\n"
     ]
    }
   ],
   "source": [
    "# With automagic set to on, demonstrate five different shell-related magic\n",
    "# commands. Different from those in the previous requirement\n",
    "\n",
    "%automagic\n",
    "\n",
    "man\n",
    "mv food.txt drinks.txt    # I don't use UNIX so this won't work\n",
    "mkdir Linux    # I don't use UNIX so this won't work\n",
    "ls\n",
    "rmdir Linux    # I don't use UNIX so this won't work\n",
    "more\n"
   ]
  },
  {
   "cell_type": "markdown",
   "id": "bce0632d",
   "metadata": {},
   "source": [
    "## Requirement 17"
   ]
  },
  {
   "cell_type": "code",
   "execution_count": 76,
   "id": "1bb403cf",
   "metadata": {},
   "outputs": [
    {
     "name": "stdout",
     "output_type": "stream",
     "text": [
      "Exception reporting mode: Verbose\n"
     ]
    }
   ],
   "source": [
    "# Demonstrate the use %xmode magic function\n",
    "\n",
    "%xmode Verbose\n"
   ]
  },
  {
   "cell_type": "code",
   "execution_count": 77,
   "id": "c865a863",
   "metadata": {},
   "outputs": [
    {
     "ename": "ZeroDivisionError",
     "evalue": "division by zero",
     "output_type": "error",
     "traceback": [
      "\u001b[1;31m---------------------------------------------------------------------------\u001b[0m",
      "\u001b[1;31mZeroDivisionError\u001b[0m                         Traceback (most recent call last)",
      "Input \u001b[1;32mIn [77]\u001b[0m, in \u001b[0;36m<cell line: 4>\u001b[1;34m()\u001b[0m\n\u001b[0;32m      1\u001b[0m \u001b[38;5;66;03m# Demonstrate the use %xmode magic function\u001b[39;00m\n\u001b[0;32m      2\u001b[0m \n\u001b[0;32m      3\u001b[0m \u001b[38;5;66;03m# A zero devision error should result.\u001b[39;00m\n\u001b[1;32m----> 4\u001b[0m \u001b[38;5;241;43m17\u001b[39;49m\u001b[38;5;241;43m/\u001b[39;49m\u001b[38;5;241;43m0\u001b[39;49m\n",
      "\u001b[1;31mZeroDivisionError\u001b[0m: division by zero"
     ]
    }
   ],
   "source": [
    "# Demonstrate the use %xmode magic function\n",
    "\n",
    "# A zero devision error should result.\n",
    "17/0\n"
   ]
  },
  {
   "cell_type": "markdown",
   "id": "1f60d62b",
   "metadata": {},
   "source": [
    "## Requirement 18"
   ]
  },
  {
   "cell_type": "code",
   "execution_count": 91,
   "id": "e5a6001e",
   "metadata": {},
   "outputs": [],
   "source": [
    "# Use *Error? to show the list of Python system exceptions. Demonstrate\n",
    "# throwing three of these exception types (in separate code segments).\n",
    "\n",
    "*Error?\n"
   ]
  },
  {
   "cell_type": "code",
   "execution_count": 81,
   "id": "02a99796",
   "metadata": {},
   "outputs": [
    {
     "ename": "ModuleNotFoundError",
     "evalue": "No module named 'penguins'",
     "output_type": "error",
     "traceback": [
      "\u001b[1;31m---------------------------------------------------------------------------\u001b[0m",
      "\u001b[1;31mModuleNotFoundError\u001b[0m                       Traceback (most recent call last)",
      "Input \u001b[1;32mIn [81]\u001b[0m, in \u001b[0;36m<cell line: 1>\u001b[1;34m()\u001b[0m\n\u001b[1;32m----> 1\u001b[0m \u001b[38;5;28;01mimport\u001b[39;00m \u001b[38;5;21;01mpenguins\u001b[39;00m\n",
      "\u001b[1;31mModuleNotFoundError\u001b[0m: No module named 'penguins'"
     ]
    }
   ],
   "source": [
    "# ModuleNotFoundError\n",
    "\n",
    "import penguins\n"
   ]
  },
  {
   "cell_type": "code",
   "execution_count": 83,
   "id": "23524f83",
   "metadata": {},
   "outputs": [
    {
     "ename": "NameError",
     "evalue": "name 'a' is not defined",
     "output_type": "error",
     "traceback": [
      "\u001b[1;31m---------------------------------------------------------------------------\u001b[0m",
      "\u001b[1;31mNameError\u001b[0m                                 Traceback (most recent call last)",
      "Input \u001b[1;32mIn [83]\u001b[0m, in \u001b[0;36m<cell line: 1>\u001b[1;34m()\u001b[0m\n\u001b[1;32m----> 1\u001b[0m \u001b[43ma\u001b[49m\u001b[38;5;241m/\u001b[39m\u001b[38;5;241m0\u001b[39m\n",
      "\u001b[1;31mNameError\u001b[0m: name 'a' is not defined"
     ]
    }
   ],
   "source": [
    "# NameError\n",
    "\n",
    "a/0\n"
   ]
  },
  {
   "cell_type": "code",
   "execution_count": 90,
   "id": "124381b2",
   "metadata": {},
   "outputs": [
    {
     "ename": "IndentationError",
     "evalue": "expected an indented block (4102130094.py, line 2)",
     "output_type": "error",
     "traceback": [
      "\u001b[1;36m  Input \u001b[1;32mIn [90]\u001b[1;36m\u001b[0m\n\u001b[1;33m    print(val)\u001b[0m\n\u001b[1;37m    ^\u001b[0m\n\u001b[1;31mIndentationError\u001b[0m\u001b[1;31m:\u001b[0m expected an indented block\n"
     ]
    }
   ],
   "source": [
    "# IndentationError    \n",
    "    \n",
    "    for val in L:\n",
    "    print(val)\n"
   ]
  },
  {
   "cell_type": "markdown",
   "id": "48ec9e41",
   "metadata": {},
   "source": [
    "## Requirement 19"
   ]
  },
  {
   "cell_type": "code",
   "execution_count": 93,
   "id": "e68a3621",
   "metadata": {},
   "outputs": [
    {
     "ename": "ModuleNotFoundError",
     "evalue": "No module named 'penguins'",
     "output_type": "error",
     "traceback": [
      "\u001b[1;31m---------------------------------------------------------------------------\u001b[0m",
      "\u001b[1;31mModuleNotFoundError\u001b[0m                       Traceback (most recent call last)",
      "Input \u001b[1;32mIn [93]\u001b[0m, in \u001b[0;36m<cell line: 3>\u001b[1;34m()\u001b[0m\n\u001b[0;32m      1\u001b[0m \u001b[38;5;66;03m# Demonstrate the use of the debugger with the exceptions thrown in the previous requirement\u001b[39;00m\n\u001b[1;32m----> 3\u001b[0m \u001b[38;5;28;01mimport\u001b[39;00m \u001b[38;5;21;01mpenguins\u001b[39;00m\n\u001b[0;32m      4\u001b[0m get_ipython()\u001b[38;5;241m.\u001b[39mrun_line_magic(\u001b[38;5;124m'\u001b[39m\u001b[38;5;124mdebug\u001b[39m\u001b[38;5;124m'\u001b[39m, \u001b[38;5;124m'\u001b[39m\u001b[38;5;124m'\u001b[39m)\n\u001b[0;32m      6\u001b[0m a\u001b[38;5;241m/\u001b[39m\u001b[38;5;241m0\u001b[39m\n",
      "\u001b[1;31mModuleNotFoundError\u001b[0m: No module named 'penguins'"
     ]
    }
   ],
   "source": [
    "# Demonstrate the use of the debugger with the exceptions thrown in the previous requirement\n",
    "\n",
    "import penguins\n",
    "%debug\n"
   ]
  },
  {
   "cell_type": "code",
   "execution_count": 94,
   "id": "d52970e3",
   "metadata": {},
   "outputs": [
    {
     "ename": "NameError",
     "evalue": "name 'a' is not defined",
     "output_type": "error",
     "traceback": [
      "\u001b[1;31m---------------------------------------------------------------------------\u001b[0m",
      "\u001b[1;31mNameError\u001b[0m                                 Traceback (most recent call last)",
      "Input \u001b[1;32mIn [94]\u001b[0m, in \u001b[0;36m<cell line: 3>\u001b[1;34m()\u001b[0m\n\u001b[0;32m      1\u001b[0m \u001b[38;5;66;03m# Demonstrate the use of the debugger with the exceptions thrown in the previous requirement\u001b[39;00m\n\u001b[1;32m----> 3\u001b[0m \u001b[43ma\u001b[49m\u001b[38;5;241m/\u001b[39m\u001b[38;5;241m0\u001b[39m\n\u001b[0;32m      4\u001b[0m get_ipython()\u001b[38;5;241m.\u001b[39mrun_line_magic(\u001b[38;5;124m'\u001b[39m\u001b[38;5;124mdebug\u001b[39m\u001b[38;5;124m'\u001b[39m, \u001b[38;5;124m'\u001b[39m\u001b[38;5;124m'\u001b[39m)\n",
      "\u001b[1;31mNameError\u001b[0m: name 'a' is not defined"
     ]
    }
   ],
   "source": [
    "# Demonstrate the use of the debugger with the exceptions thrown in the previous requirement\n",
    "\n",
    "a/0\n",
    "%debug\n"
   ]
  },
  {
   "cell_type": "code",
   "execution_count": 95,
   "id": "8e059308",
   "metadata": {},
   "outputs": [
    {
     "ename": "IndentationError",
     "evalue": "unexpected indent (1482113088.py, line 3)",
     "output_type": "error",
     "traceback": [
      "\u001b[1;36m  Input \u001b[1;32mIn [95]\u001b[1;36m\u001b[0m\n\u001b[1;33m    for val in L:\u001b[0m\n\u001b[1;37m    ^\u001b[0m\n\u001b[1;31mIndentationError\u001b[0m\u001b[1;31m:\u001b[0m unexpected indent\n"
     ]
    }
   ],
   "source": [
    "# Demonstrate the use of the debugger with the exceptions thrown in the previous requirement\n",
    "    \n",
    "    for val in L:\n",
    "    print(val)\n",
    "    \n",
    "%debug\n"
   ]
  },
  {
   "cell_type": "markdown",
   "id": "0ab4a6b6",
   "metadata": {},
   "source": [
    "## Requirement 20"
   ]
  },
  {
   "cell_type": "code",
   "execution_count": 97,
   "id": "aefad815",
   "metadata": {},
   "outputs": [
    {
     "name": "stdout",
     "output_type": "stream",
     "text": [
      "CPU times: total: 0 ns\n",
      "Wall time: 0 ns\n"
     ]
    },
    {
     "data": {
      "text/plain": [
       "4516391051643"
      ]
     },
     "execution_count": 97,
     "metadata": {},
     "output_type": "execute_result"
    }
   ],
   "source": [
    "# Use at least 4 magic commands to time a function(s) that you have written\n",
    "# time magic command\n",
    "\n",
    "%time 574865492 + 4515816186151\n"
   ]
  },
  {
   "cell_type": "code",
   "execution_count": 118,
   "id": "84083d5d",
   "metadata": {},
   "outputs": [
    {
     "name": "stdout",
     "output_type": "stream",
     "text": [
      "223 ns ± 1.95 ns per loop (mean ± std. dev. of 7 runs, 1,000,000 loops each)\n"
     ]
    }
   ],
   "source": [
    "# Use at least 4 magic commands to time a function(s) that you have written\n",
    "# timeit line magic command\n",
    "\n",
    "%timeit sum(range(2,25))\n",
    "            "
   ]
  },
  {
   "cell_type": "code",
   "execution_count": 117,
   "id": "1560b6f1",
   "metadata": {},
   "outputs": [
    {
     "name": "stdout",
     "output_type": "stream",
     "text": [
      "CPU times: total: 0 ns\n",
      "Wall time: 0 ns\n"
     ]
    },
    {
     "data": {
      "text/plain": [
       "1.6766226423158972e-90"
      ]
     },
     "execution_count": 117,
     "metadata": {},
     "output_type": "execute_result"
    }
   ],
   "source": [
    "# Use at least 4 magic commands to time a function(s) that you have written\n",
    "# time line magic command\n",
    "\n",
    "%time 54789921*462626/(145+7896541516126-3**3)**8\n"
   ]
  },
  {
   "cell_type": "code",
   "execution_count": 119,
   "id": "492e959a",
   "metadata": {},
   "outputs": [
    {
     "name": "stdout",
     "output_type": "stream",
     "text": [
      "976 ms ± 31.1 ms per loop (mean ± std. dev. of 7 runs, 1 loop each)\n"
     ]
    }
   ],
   "source": [
    "# Use at least 4 magic commands to time a function(s) that you have written\n",
    "# timeit line magic command\n",
    "\n",
    "\n",
    "%timeit sum(range(1,58789658))\n"
   ]
  },
  {
   "cell_type": "markdown",
   "id": "44e3b689",
   "metadata": {},
   "source": [
    "## Requirement 21"
   ]
  },
  {
   "cell_type": "markdown",
   "id": "44daaa60",
   "metadata": {},
   "source": [
    "Use markdown to include a statement at the end of assignment-08.ipynb\n",
    "explaining your experiences with Assignment 08. Make this authentic\n",
    "(minimum of 2-3 sentences).\n",
    "\n",
    "I had issues with the magic cell commands. For instance, I never could get %%timeit to work. I kept getting an error message about how it could not be found. I verified that it does exist in the ipython help, but still had no luck.\n",
    "\n",
    "I also ran into problems with the shell commands. Some of the windows shell commands, and UNIX shell commands came back as being invalid when I tried to run additional ones for practice.\n",
    "\n",
    "Tab completion requirements were confusing as I could not determine exactly what you wanted. I just used Tab to see options, but by choosing an option you would not be able to tell that I used Tab. Same if I left it blank (which is what I decided to do). Did you want a screen shot of the completion lists?"
   ]
  }
 ],
 "metadata": {
  "kernelspec": {
   "display_name": "Python 3 (ipykernel)",
   "language": "python",
   "name": "python3"
  },
  "language_info": {
   "codemirror_mode": {
    "name": "ipython",
    "version": 3
   },
   "file_extension": ".py",
   "mimetype": "text/x-python",
   "name": "python",
   "nbconvert_exporter": "python",
   "pygments_lexer": "ipython3",
   "version": "3.9.12"
  }
 },
 "nbformat": 4,
 "nbformat_minor": 5
}
