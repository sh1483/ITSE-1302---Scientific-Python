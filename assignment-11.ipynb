{
 "cells": [
  {
   "cell_type": "markdown",
   "id": "5f66ee48",
   "metadata": {},
   "source": [
    "# This is Assignment 11 - Steven Haynes"
   ]
  },
  {
   "cell_type": "markdown",
   "id": "3d7eb163",
   "metadata": {},
   "source": [
    "## Requirement 3"
   ]
  },
  {
   "cell_type": "markdown",
   "id": "194e597c",
   "metadata": {},
   "source": [
    "-- In your own words, describe the commonalities and differences between\n",
    "NumPy arrays and Pandas series.\n",
    "\n",
    "   A Series in Pandas is similar to an array in NumPy in that a Series is just a one-dimensional array as seen in NumPy, but with added features. A Series uses explicitly defined indices which allows for different data types to be used as the index, whereas a NumPy array index is implicitly defined as an integer. Due to the ability to explicitly define index type, Pandas Series is similar to a regular Python Dictionary, but more efficient."
   ]
  },
  {
   "cell_type": "markdown",
   "id": "9a89371c",
   "metadata": {},
   "source": [
    "## Requirement 4"
   ]
  },
  {
   "cell_type": "code",
   "execution_count": 2,
   "id": "1f8e13af",
   "metadata": {},
   "outputs": [
    {
     "name": "stdout",
     "output_type": "stream",
     "text": [
      "1       Washington\n",
      "2        Jefferson\n",
      "5          Lincoln\n",
      "10        Hamilton\n",
      "20         Jackson\n",
      "50           Grant\n",
      "500       McKinley\n",
      "1000     Cleveland\n",
      "5000       Madison\n",
      "dtype: object\n"
     ]
    }
   ],
   "source": [
    "# Create a Pandas series named bill_names with American currency bill denominations as indices (keys) and President\n",
    "# last names as values. For example: 1 – Washington, 2 – Jefferson, etc.\n",
    "\n",
    "import numpy as np\n",
    "import pandas as pd\n",
    "\n",
    "bill_names = pd.Series(['Washington', 'Jefferson', 'Lincoln', 'Hamilton', 'Jackson', 'Grant', 'McKinley', 'Cleveland', 'Madison'],\n",
    "                 index=[1, 2, 5, 10, 20, 50, 500, 1000, 5000])\n",
    "\n",
    "print(bill_names)\n"
   ]
  },
  {
   "cell_type": "markdown",
   "id": "f55903f5",
   "metadata": {},
   "source": [
    "## Requirement 5"
   ]
  },
  {
   "cell_type": "code",
   "execution_count": 8,
   "id": "1cb544f1",
   "metadata": {},
   "outputs": [
    {
     "data": {
      "text/plain": [
       "Yoo-hoo                            A chocolate-flavored beverage.\n",
       "Celcius                          My preferred energy-drink brand.\n",
       "Zoa             An energy drink brand featuring Dwayne 'The Ro...\n",
       "Water                                           Life in a bottle.\n",
       "Fa!rlife                  Probably the best chocolate milk brand.\n",
       "RC Cola                                     Not Coke & not Pepsi.\n",
       "Orange Juice             Always drink BEFORE brushing your teeth!\n",
       "dtype: object"
      ]
     },
     "execution_count": 8,
     "metadata": {},
     "output_type": "execute_result"
    }
   ],
   "source": [
    "# . Create a Pandas series-as-dictionary beverages_dict. Make the indices beverage names and comments about the beverage\n",
    "# as values. For example: ‘Aquafina’: ‘This is my favorite bottled water!’. \n",
    "\n",
    "# Creating a Python dictionary\n",
    "beverages = {'Yoo-hoo': 'A chocolate-flavored beverage.',\n",
    "                      'Celcius': 'My preferred energy-drink brand.',\n",
    "                      'Zoa': \"An energy drink brand featuring Dwayne 'The Rock' Johnson.\",\n",
    "                      'Water': 'Life in a bottle.',\n",
    "                      'Fa!rlife': 'Probably the best chocolate milk brand.',\n",
    "                      'RC Cola': 'Not Coke & not Pepsi.',\n",
    "                      'Orange Juice': 'Always drink BEFORE brushing your teeth!'}\n",
    "\n",
    "# Creating the Pandas Series from the Python dictionary\n",
    "beverages_dict = pd.Series(beverages)\n",
    "beverages_dict\n",
    "\n"
   ]
  },
  {
   "cell_type": "code",
   "execution_count": 16,
   "id": "dc549ac6",
   "metadata": {},
   "outputs": [
    {
     "name": "stdout",
     "output_type": "stream",
     "text": [
      "Water: Life in a bottle.\n",
      "RC Cola: Not Coke & not Pepsi.\n",
      "\n",
      "\n",
      "Yoo-hoo                       A chocolate-flavored beverage.\n",
      "Celcius                     My preferred energy-drink brand.\n",
      "Zoa        An energy drink brand featuring Dwayne 'The Ro...\n",
      "dtype: object\n"
     ]
    }
   ],
   "source": [
    "# Demonstrate accessing:\n",
    "#    • individual values via the keys\n",
    "print('Water:', beverages_dict['Water'])\n",
    "print('RC Cola:', beverages_dict['RC Cola'])\n",
    "print('\\n')\n",
    "\n",
    "#    • multiple values via slicing\n",
    "print(beverages_dict['Yoo-hoo': 'Zoa'])\n"
   ]
  },
  {
   "cell_type": "markdown",
   "id": "128c2b87",
   "metadata": {},
   "source": [
    "## Requirement 6"
   ]
  },
  {
   "cell_type": "code",
   "execution_count": 40,
   "id": "27cb72aa",
   "metadata": {},
   "outputs": [
    {
     "name": "stdout",
     "output_type": "stream",
     "text": [
      "Chongquing     16874740\n",
      "Shanghai       28516904\n",
      "Tokyo          37274000\n",
      "Moscow         12640818\n",
      "Mexico City    22085140\n",
      "London          9540576\n",
      "New York        8930002\n",
      "dtype: int64\n"
     ]
    }
   ],
   "source": [
    "# Obtain the real city proper population data for the following cities:\n",
    "# Chongquing, Shanghai, Tokyo, Moscow, Mexico City, London, & New York.\n",
    "# Create a series-as-dictionary named population based on this information.\n",
    "\n",
    "population = pd.Series({'Chongquing': 16874740, 'Shanghai': 28516904, 'Tokyo': 37274000, 'Moscow': 12640818,\n",
    "                        'Mexico City': 22085140, 'London': 9540576, 'New York': 8930002})\n",
    "\n",
    "# Population data from: https://worldpopulationreview.com/world-cities\n",
    "print(population)"
   ]
  },
  {
   "cell_type": "markdown",
   "id": "768a68f6",
   "metadata": {},
   "source": [
    "## Requirement 7"
   ]
  },
  {
   "cell_type": "code",
   "execution_count": 41,
   "id": "d2a68496",
   "metadata": {},
   "outputs": [
    {
     "name": "stdout",
     "output_type": "stream",
     "text": [
      "Chongquing              China\n",
      "Shanghai                China\n",
      "Tokyo                   Japan\n",
      "Moscow                 Russia\n",
      "Mexico City            Mexico\n",
      "London         United Kingdom\n",
      "New York        United States\n",
      "dtype: object\n"
     ]
    }
   ],
   "source": [
    "# Create a Pandas series-as-dictionary named city_country with the cities in population and the countries for each city.\n",
    "\n",
    "city_country = pd.Series({'Chongquing': 'China', 'Shanghai': 'China', 'Tokyo': 'Japan', 'Moscow': 'Russia',\n",
    "                          'Mexico City': 'Mexico', 'London': 'United Kingdom', 'New York': 'United States'})\n",
    "\n",
    "print(city_country)\n"
   ]
  },
  {
   "cell_type": "markdown",
   "id": "592ef034",
   "metadata": {},
   "source": [
    "## Requirement 8"
   ]
  },
  {
   "cell_type": "code",
   "execution_count": 42,
   "id": "4c084fce",
   "metadata": {},
   "outputs": [
    {
     "name": "stdout",
     "output_type": "stream",
     "text": [
      "             Population         Country\n",
      "Chongquing     16874740           China\n",
      "Shanghai       28516904           China\n",
      "Tokyo          37274000           Japan\n",
      "Moscow         12640818          Russia\n",
      "Mexico City    22085140          Mexico\n",
      "London          9540576  United Kingdom\n",
      "New York        8930002   United States\n"
     ]
    }
   ],
   "source": [
    "# Create a Pandas dataframe object named city_dataframe from a dictionary of series objects using population and city_country.\n",
    "\n",
    "city_dataframe = pd.DataFrame({'Population': population,\n",
    "                       'Country': city_country})\n",
    "\n",
    "print(city_dataframe)\n"
   ]
  },
  {
   "cell_type": "code",
   "execution_count": 44,
   "id": "9b122f37",
   "metadata": {},
   "outputs": [
    {
     "data": {
      "text/plain": [
       "Index(['Chongquing', 'Shanghai', 'Tokyo', 'Moscow', 'Mexico City', 'London',\n",
       "       'New York'],\n",
       "      dtype='object')"
      ]
     },
     "execution_count": 44,
     "metadata": {},
     "output_type": "execute_result"
    }
   ],
   "source": [
    "# Show:\n",
    "#    • the .index property\n",
    "\n",
    "city_dataframe.index\n",
    "\n",
    "\n"
   ]
  },
  {
   "cell_type": "code",
   "execution_count": 45,
   "id": "7bd3d989",
   "metadata": {},
   "outputs": [
    {
     "data": {
      "text/plain": [
       "Index(['Population', 'Country'], dtype='object')"
      ]
     },
     "execution_count": 45,
     "metadata": {},
     "output_type": "execute_result"
    }
   ],
   "source": [
    "# Show:\n",
    "#    • the .columns property\n",
    "\n",
    "city_dataframe.columns\n"
   ]
  },
  {
   "cell_type": "code",
   "execution_count": 46,
   "id": "f516df60",
   "metadata": {},
   "outputs": [
    {
     "data": {
      "text/plain": [
       "Chongquing              China\n",
       "Shanghai                China\n",
       "Tokyo                   Japan\n",
       "Moscow                 Russia\n",
       "Mexico City            Mexico\n",
       "London         United Kingdom\n",
       "New York        United States\n",
       "Name: Country, dtype: object"
      ]
     },
     "execution_count": 46,
     "metadata": {},
     "output_type": "execute_result"
    }
   ],
   "source": [
    "# Show:\n",
    "#    • the .keys() method\n",
    "\n",
    "city_dataframe['Country']\n"
   ]
  },
  {
   "cell_type": "markdown",
   "id": "30cbe7ae",
   "metadata": {},
   "source": [
    "## Requirement 9"
   ]
  },
  {
   "cell_type": "code",
   "execution_count": 24,
   "id": "dbe4ed66",
   "metadata": {},
   "outputs": [
    {
     "name": "stdout",
     "output_type": "stream",
     "text": [
      "a    1\n",
      "b    2\n",
      "c    3\n",
      "d    4\n",
      "e    5\n",
      "dtype: int64\n"
     ]
    }
   ],
   "source": [
    "# Create a Pandas series object named my_pd_series from a collection of string keys and collection of numeric values\n",
    "# of your choosing. \n",
    "\n",
    "my_pd_series = pd.Series({'a': 1, 'b': 2, 'c': 3, 'd': 4, 'e': 5})\n",
    "\n",
    "print(my_pd_series)\n"
   ]
  },
  {
   "cell_type": "code",
   "execution_count": 33,
   "id": "59acbc9e",
   "metadata": {},
   "outputs": [
    {
     "name": "stdout",
     "output_type": "stream",
     "text": [
      "a    1\n",
      "b    7\n",
      "c    3\n",
      "d    4\n",
      "e    5\n",
      "dtype: int64\n",
      "\n",
      "\n",
      "c    3\n",
      "d    4\n",
      "e    5\n",
      "dtype: int64\n",
      "\n",
      "\n",
      "b    7\n",
      "c    3\n",
      "dtype: int64\n",
      "\n",
      "\n",
      "d    4\n",
      "e    5\n",
      "dtype: int64\n",
      "\n",
      "\n",
      "b    7\n",
      "d    4\n",
      "dtype: int64\n",
      "\n",
      "\n",
      "Explicit:  7\n",
      "\n",
      "\n",
      "Implicit:  3\n"
     ]
    }
   ],
   "source": [
    "# Demonstrate:\n",
    "#    • modifying a value based on key\n",
    "my_pd_series['b'] = 7\n",
    "print(my_pd_series)\n",
    "print('\\n')\n",
    "\n",
    "#    • slicing by explicit index\n",
    "print(my_pd_series['c': 'e'])\n",
    "print('\\n')\n",
    "\n",
    "#    • slicing by implicit integer index\n",
    "print(my_pd_series[1:3])\n",
    "print('\\n')\n",
    "\n",
    "#    • masking\n",
    "print(my_pd_series[(my_pd_series > 3) & (my_pd_series < 7)])\n",
    "print('\\n')\n",
    "\n",
    "#    • fancy indexing\n",
    "print(my_pd_series[['b', 'd']])\n",
    "print('\\n')\n",
    "\n",
    "#    • loc[]\n",
    "print('Explicit: ', my_pd_series.loc['b'])\n",
    "print('\\n')\n",
    "\n",
    "#    • iloc[]\n",
    "print('Implicit: ', my_pd_series.iloc[2])\n"
   ]
  },
  {
   "cell_type": "markdown",
   "id": "d0b10a6c",
   "metadata": {},
   "source": [
    "## Requirement 10"
   ]
  },
  {
   "cell_type": "code",
   "execution_count": 47,
   "id": "47af1042",
   "metadata": {},
   "outputs": [
    {
     "name": "stdout",
     "output_type": "stream",
     "text": [
      "Chongquing     16874740\n",
      "Shanghai       28516904\n",
      "Tokyo          37274000\n",
      "Moscow         12640818\n",
      "Mexico City    22085140\n",
      "London          9540576\n",
      "New York        8930002\n",
      "Name: Population, dtype: int64\n",
      "\n",
      "\n",
      "Chongquing     16874740\n",
      "Shanghai       28516904\n",
      "Tokyo          37274000\n",
      "Moscow         12640818\n",
      "Mexico City    22085140\n",
      "London          9540576\n",
      "New York        8930002\n",
      "Name: Population, dtype: int64\n",
      "\n",
      "\n",
      "             Population         Country           Altitude\n",
      "Chongquing     16874740           China  currently unknown\n",
      "Shanghai       28516904           China  currently unknown\n",
      "Tokyo          37274000           Japan  currently unknown\n",
      "Moscow         12640818          Russia  currently unknown\n",
      "Mexico City    22085140          Mexico  currently unknown\n",
      "London          9540576  United Kingdom  currently unknown\n",
      "New York        8930002   United States  currently unknown\n"
     ]
    }
   ],
   "source": [
    "# Using city_dataframe, demonstrate:\n",
    "#   • access column via dictionary-style indexing of the column name\n",
    "print(city_dataframe['Population'])\n",
    "print('\\n')\n",
    "\n",
    "#   • access column via column names that are strings\n",
    "print(city_dataframe.Population)\n",
    "print('\\n')\n",
    "     \n",
    "#   • add a new column to the city_dataframe named altitude. \n",
    "city_dataframe['Altitude'] = 'currently unknown'\n",
    "print(city_dataframe)\n"
   ]
  },
  {
   "cell_type": "markdown",
   "id": "dc389136",
   "metadata": {},
   "source": [
    "## Requirement 11"
   ]
  },
  {
   "cell_type": "code",
   "execution_count": 49,
   "id": "9ef79716",
   "metadata": {},
   "outputs": [
    {
     "name": "stdout",
     "output_type": "stream",
     "text": [
      "0     NaN\n",
      "1     NaN\n",
      "2    27.0\n",
      "3     NaN\n",
      "4     NaN\n",
      "dtype: float64\n",
      "\n",
      "\n",
      "0    18.0\n",
      "1    25.0\n",
      "2    27.0\n",
      "3    23.0\n",
      "4    29.0\n",
      "dtype: float64\n"
     ]
    }
   ],
   "source": [
    "# Create two Pandas series that when added using ‘+’ produce some NaN entries.\n",
    "\n",
    "A = pd.Series([7, 14, 21], index=[0, 1, 2])\n",
    "B = pd.Series([6, 12, 18], index=[2, 3, 4])\n",
    "\n",
    "print(A + B)\n",
    "print('\\n')\n",
    "\n",
    "# Use the .add() method and a fill_value to replace the NaN entries.\n",
    "print(A.add(B, fill_value=11))\n"
   ]
  },
  {
   "cell_type": "markdown",
   "id": "e74a8165",
   "metadata": {},
   "source": [
    "## Requirement 12"
   ]
  },
  {
   "cell_type": "code",
   "execution_count": 56,
   "id": "4afcd0fa",
   "metadata": {},
   "outputs": [
    {
     "name": "stdout",
     "output_type": "stream",
     "text": [
      "      A     B   C   D\n",
      "0  70.0  38.0 NaN NaN\n",
      "1  43.0  48.0 NaN NaN\n",
      "2   NaN   NaN NaN NaN\n",
      "3   NaN   NaN NaN NaN\n",
      "\n",
      "\n",
      "       A      B      C      D\n",
      "0  70.00  38.00  65.25  35.25\n",
      "1  43.00  48.00  48.25  36.25\n",
      "2  25.25  38.25  41.25  39.25\n",
      "3  34.25  27.25  72.25  62.25\n"
     ]
    }
   ],
   "source": [
    "# Create two Pandas dataframes that when added using ‘+’ produce some NaN entries.\n",
    "\n",
    "X = pd.DataFrame(np.random.randint(5, 35, (2, 2)),\n",
    "                 columns=list('AB'))\n",
    "\n",
    "Y = pd.DataFrame(np.random.randint(0, 50, (4, 4)),\n",
    "                 columns=list('BACD'))\n",
    "\n",
    "print(X+Y)\n",
    "print('\\n')\n",
    "\n",
    "# Use the .add() method and a fill_value of the mean of one of the dataframes to replace the NaN entries.\n",
    "\n",
    "print(X.add(Y, fill_value=X.stack().mean()))\n"
   ]
  },
  {
   "cell_type": "markdown",
   "id": "09810666",
   "metadata": {},
   "source": [
    "## Requirement 13"
   ]
  },
  {
   "cell_type": "code",
   "execution_count": 63,
   "id": "83bae427",
   "metadata": {},
   "outputs": [
    {
     "name": "stdout",
     "output_type": "stream",
     "text": [
      "[[8 9 7 9]\n",
      " [9 6 7 7]\n",
      " [7 9 8 7]\n",
      " [9 6 8 6]]\n",
      "\n",
      "\n",
      "[[ 0  0  0  0]\n",
      " [ 1 -3  0 -2]\n",
      " [-1  0  1 -2]\n",
      " [ 1 -3  1 -3]]\n"
     ]
    }
   ],
   "source": [
    "# Create a two-dimensional NumPy array using:\n",
    "# A = rng.randint(5, 10, size=(4, 4))\n",
    "\n",
    "rng = np.random.RandomState(42)\n",
    "A = rng.randint(5, 10, size=(4,4))\n",
    "print(A)\n",
    "print('\\n')\n",
    "\n",
    "# Demonstrate: subtracting row 0 of A from A\n",
    "\n",
    "print(A - A[0])\n"
   ]
  },
  {
   "cell_type": "markdown",
   "id": "5475f622",
   "metadata": {},
   "source": [
    "## Requirement 14"
   ]
  },
  {
   "cell_type": "code",
   "execution_count": 64,
   "id": "8966f401",
   "metadata": {},
   "outputs": [
    {
     "name": "stdout",
     "output_type": "stream",
     "text": [
      "   Q  R  S  T\n",
      "0  8  9  7  9\n",
      "1  9  6  7  7\n",
      "2  7  9  8  7\n",
      "3  9  6  8  6\n",
      "\n",
      "\n",
      "   Q  R  S  T\n",
      "0 -1  3  0  2\n",
      "1  0  0  0  0\n",
      "2 -2  3  1  0\n",
      "3  0  0  1 -1\n"
     ]
    }
   ],
   "source": [
    "# Create a Pandas dataframe using:\n",
    "# df = pd.DataFrame(A, columns=list('QRST'))\n",
    "\n",
    "df = pd.DataFrame(A, columns=list('QRST'))\n",
    "print(df)\n",
    "print('\\n')\n",
    "\n",
    "# Demonstrate: subtracting row 1 of df from df using df.iloc[1]\n",
    "\n",
    "print(df - df.iloc[1])\n"
   ]
  },
  {
   "cell_type": "markdown",
   "id": "ff33b376",
   "metadata": {},
   "source": [
    "## Requirement 15"
   ]
  },
  {
   "cell_type": "markdown",
   "id": "5f2684f6",
   "metadata": {},
   "source": [
    "Compare and contrast the two sentinel values Pandas uses to represent missing data.\n",
    "\n",
    "-- You can use a global convention or a data-specific convention to represent missing data in Pandas. With a global convention (like NaN), it may not be available for your specific data-type. A data-specific convention (like -99999), you have reduced the range of available return values. Additionally, depending on your return values you sentinel may be harder to distinguish from actual valid values.\n"
   ]
  },
  {
   "cell_type": "markdown",
   "id": "20a119c4",
   "metadata": {},
   "source": [
    "## Requirement 16"
   ]
  },
  {
   "cell_type": "code",
   "execution_count": 69,
   "id": "97ecc5d6",
   "metadata": {},
   "outputs": [
    {
     "name": "stdout",
     "output_type": "stream",
     "text": [
      "dtype = object\n",
      "49.1 ms ± 1.69 ms per loop (mean ± std. dev. of 7 runs, 10 loops each)\n",
      "\n",
      "dtype = int\n",
      "1.85 ms ± 21.1 µs per loop (mean ± std. dev. of 7 runs, 1,000 loops each)\n",
      "\n"
     ]
    }
   ],
   "source": [
    "# Demonstrate the %timeit difference between operations using Python objects and Python integers.\n",
    "\n",
    "value1 = np.array([5, None, 1, 477])\n",
    "\n",
    "for dtype in ['object', 'int']:\n",
    "    print(\"dtype =\", dtype)\n",
    "    %timeit np.arange(1E6, dtype=dtype).sum()\n",
    "    print()\n",
    "    "
   ]
  },
  {
   "cell_type": "markdown",
   "id": "72ed0c4e",
   "metadata": {},
   "source": [
    "## Requirement 17"
   ]
  },
  {
   "cell_type": "code",
   "execution_count": 74,
   "id": "10528ff9",
   "metadata": {},
   "outputs": [
    {
     "name": "stdout",
     "output_type": "stream",
     "text": [
      "0        5\n",
      "1        7\n",
      "2        a\n",
      "3      NaN\n",
      "4    beans\n",
      "5       32\n",
      "6       15\n",
      "7     None\n",
      "dtype: object\n",
      "\n",
      "\n",
      "0    False\n",
      "1    False\n",
      "2    False\n",
      "3     True\n",
      "4    False\n",
      "5    False\n",
      "6    False\n",
      "7     True\n",
      "dtype: bool\n"
     ]
    }
   ],
   "source": [
    "# Create a Pandas series containing null data. Use .isnull() to identify the entries that are null.\n",
    "\n",
    "null_data = pd.Series([5, 7, 'a', np.nan, 'beans', 32, 15, None])\n",
    "print(null_data)\n",
    "print('\\n')\n",
    "print(null_data.isnull())\n"
   ]
  },
  {
   "cell_type": "markdown",
   "id": "d2bc99a5",
   "metadata": {},
   "source": [
    "## Requirement 18"
   ]
  },
  {
   "cell_type": "code",
   "execution_count": 134,
   "id": "ebe7a54d",
   "metadata": {},
   "outputs": [
    {
     "name": "stdout",
     "output_type": "stream",
     "text": [
      "      0    1  2\n",
      "0  16.0  NaN  a\n",
      "1  57.2    7  5\n",
      "2   NaN    r  2\n"
     ]
    }
   ],
   "source": [
    "# Create a Pandas dataframe containing null values. \n",
    "\n",
    "null_df = pd.DataFrame([[16,      np.nan,  'a'],\n",
    "                       [57.2,      7,        5],\n",
    "                       [np.nan,   'r',       2]])\n",
    "print(null_df)\n",
    "\n",
    "\n"
   ]
  },
  {
   "cell_type": "code",
   "execution_count": 135,
   "id": "dfd438f9",
   "metadata": {},
   "outputs": [
    {
     "name": "stdout",
     "output_type": "stream",
     "text": [
      "      0  1  2\n",
      "1  57.2  7  5\n",
      "\n",
      "\n",
      "   2\n",
      "0  a\n",
      "1  5\n",
      "2  2\n",
      "\n",
      "\n"
     ]
    }
   ],
   "source": [
    "# Demonstrate:\n",
    "#    • drop all rows containing a null value\n",
    "print(null_df.dropna())\n",
    "print('\\n')\n",
    "\n",
    "#    • drop all columns containing a null value\n",
    "print(null_df.dropna(axis= 1))\n",
    "print('\\n')\n",
    "\n"
   ]
  },
  {
   "cell_type": "code",
   "execution_count": 140,
   "id": "ce261185",
   "metadata": {},
   "outputs": [
    {
     "name": "stdout",
     "output_type": "stream",
     "text": [
      "     0    1    2\n",
      "0  NaN  NaN  NaN\n",
      "1    1    2    3\n",
      "2    a    b    c\n",
      "   0  1  2\n",
      "1  1  2  3\n",
      "2  a  b  c\n"
     ]
    }
   ],
   "source": [
    "# Demonstrate:\n",
    "#    • drop only rows that contain all null values\n",
    "\n",
    "null_row_df = pd.DataFrame([[np.nan, np.nan, np.nan], # Create an all null row DataFrame\n",
    "                           [1, 2, 3],\n",
    "                           ['a', 'b', 'c']]) \n",
    "print(null_row_df)\n",
    "\n",
    "\n",
    "print(null_row_df.dropna(axis='rows', how='all')) # Dropping the all null row\n",
    "\n"
   ]
  },
  {
   "cell_type": "code",
   "execution_count": 145,
   "id": "ee6d9a04",
   "metadata": {},
   "outputs": [
    {
     "name": "stdout",
     "output_type": "stream",
     "text": [
      "New null column:  \n",
      "       0    1  2   3\n",
      "0  16.0  NaN  a NaN\n",
      "1  57.2    7  5 NaN\n",
      "2   NaN    r  2 NaN \n",
      "\n",
      "Dropped null column:  \n",
      "       0    1  2\n",
      "0  16.0  NaN  a\n",
      "1  57.2    7  5\n",
      "2   NaN    r  2\n",
      "\n",
      "\n"
     ]
    }
   ],
   "source": [
    "# Demonstrate:\n",
    "#    • drop only columns that contain all null values\n",
    "\n",
    "null_df[3] = np.nan # Creating an all null column\n",
    "print('New null column: ', '\\n', null_df, '\\n')\n",
    "\n",
    "\n",
    "print('Dropped null column: ', '\\n', null_df.dropna(axis='columns', how='all')) # Dropping the all null column\n",
    "print('\\n')\n"
   ]
  },
  {
   "cell_type": "code",
   "execution_count": 146,
   "id": "79d8d403",
   "metadata": {},
   "outputs": [
    {
     "name": "stdout",
     "output_type": "stream",
     "text": [
      "null with zeros:  \n",
      "       0  1  2    3\n",
      "0  16.0  0  a  0.0\n",
      "1  57.2  7  5  0.0\n",
      "2   0.0  r  2  0.0\n",
      "\n",
      "\n",
      "forward fill:  \n",
      "       0    1  2   3\n",
      "0  16.0  NaN  a NaN\n",
      "1  57.2    7  5 NaN\n",
      "2  57.2    r  2 NaN\n",
      "\n",
      "\n",
      "backward fill:  \n",
      "       0  1  2   3\n",
      "0  16.0  7  a NaN\n",
      "1  57.2  7  5 NaN\n",
      "2   NaN  r  2 NaN\n"
     ]
    }
   ],
   "source": [
    "# Demonstrate:\n",
    "#    • replacing null with 0\n",
    "\n",
    "print('null with zeros: ', '\\n', null_df.fillna(0))\n",
    "print('\\n')\n",
    "\n",
    "#    • forward fill\n",
    "print('forward fill: ', '\\n', null_df.fillna(method='ffill'))\n",
    "print('\\n')\n",
    "\n",
    "#    • backward fill \n",
    "print('backward fill: ', '\\n', null_df.fillna(method='bfill'))\n"
   ]
  },
  {
   "cell_type": "markdown",
   "id": "4da60a50",
   "metadata": {},
   "source": [
    "## Requirement 19"
   ]
  },
  {
   "cell_type": "code",
   "execution_count": 202,
   "id": "6da9c7d8",
   "metadata": {},
   "outputs": [
    {
     "data": {
      "text/plain": [
       "(California, 2000)    33871648\n",
       "(California, 2010)    37253956\n",
       "(New York, 2000)      18976457\n",
       "(New York, 2010)      19378102\n",
       "(Texas, 2000)         20851820\n",
       "(Texas, 2010)         25145561\n",
       "dtype: int64"
      ]
     },
     "execution_count": 202,
     "metadata": {},
     "output_type": "execute_result"
    }
   ],
   "source": [
    "# Demonstrate Pandas MultiIndex techniques (can use book examples):\n",
    "index = [('California', 2000), ('California', 2010),\n",
    "         ('New York', 2000), ('New York', 2010),\n",
    "         ('Texas', 2000), ('Texas', 2010)]\n",
    "populations = [33871648, 37253956,\n",
    "               18976457, 19378102,\n",
    "               20851820, 25145561]\n",
    "pop = pd.Series(populations, index=index)\n",
    "pop\n"
   ]
  },
  {
   "cell_type": "code",
   "execution_count": 203,
   "id": "43069acc",
   "metadata": {},
   "outputs": [
    {
     "data": {
      "text/plain": [
       "(California, 2010)    37253956\n",
       "(New York, 2000)      18976457\n",
       "(New York, 2010)      19378102\n",
       "(Texas, 2000)         20851820\n",
       "dtype: int64"
      ]
     },
     "execution_count": 203,
     "metadata": {},
     "output_type": "execute_result"
    }
   ],
   "source": [
    "pop[('California', 2010):('Texas', 2000)]"
   ]
  },
  {
   "cell_type": "code",
   "execution_count": 204,
   "id": "655dd275",
   "metadata": {},
   "outputs": [
    {
     "data": {
      "text/plain": [
       "MultiIndex([('California', 2000),\n",
       "            ('California', 2010),\n",
       "            (  'New York', 2000),\n",
       "            (  'New York', 2010),\n",
       "            (     'Texas', 2000),\n",
       "            (     'Texas', 2010)],\n",
       "           )"
      ]
     },
     "execution_count": 204,
     "metadata": {},
     "output_type": "execute_result"
    }
   ],
   "source": [
    "#    • .from_tuples()\n",
    "\n",
    "index = pd.MultiIndex.from_tuples(index)\n",
    "index\n"
   ]
  },
  {
   "cell_type": "code",
   "execution_count": 205,
   "id": "dcffd499",
   "metadata": {},
   "outputs": [
    {
     "data": {
      "text/plain": [
       "California  2000    33871648\n",
       "            2010    37253956\n",
       "New York    2000    18976457\n",
       "            2010    19378102\n",
       "Texas       2000    20851820\n",
       "            2010    25145561\n",
       "dtype: int64"
      ]
     },
     "execution_count": 205,
     "metadata": {},
     "output_type": "execute_result"
    }
   ],
   "source": [
    "#    • .reindex()\n",
    "pop = pop.reindex(index)\n",
    "pop\n",
    "      "
   ]
  },
  {
   "cell_type": "code",
   "execution_count": 206,
   "id": "936757b5",
   "metadata": {},
   "outputs": [
    {
     "data": {
      "text/html": [
       "<div>\n",
       "<style scoped>\n",
       "    .dataframe tbody tr th:only-of-type {\n",
       "        vertical-align: middle;\n",
       "    }\n",
       "\n",
       "    .dataframe tbody tr th {\n",
       "        vertical-align: top;\n",
       "    }\n",
       "\n",
       "    .dataframe thead th {\n",
       "        text-align: right;\n",
       "    }\n",
       "</style>\n",
       "<table border=\"1\" class=\"dataframe\">\n",
       "  <thead>\n",
       "    <tr style=\"text-align: right;\">\n",
       "      <th></th>\n",
       "      <th>2000</th>\n",
       "      <th>2010</th>\n",
       "    </tr>\n",
       "  </thead>\n",
       "  <tbody>\n",
       "    <tr>\n",
       "      <th>California</th>\n",
       "      <td>33871648</td>\n",
       "      <td>37253956</td>\n",
       "    </tr>\n",
       "    <tr>\n",
       "      <th>New York</th>\n",
       "      <td>18976457</td>\n",
       "      <td>19378102</td>\n",
       "    </tr>\n",
       "    <tr>\n",
       "      <th>Texas</th>\n",
       "      <td>20851820</td>\n",
       "      <td>25145561</td>\n",
       "    </tr>\n",
       "  </tbody>\n",
       "</table>\n",
       "</div>"
      ],
      "text/plain": [
       "                2000      2010\n",
       "California  33871648  37253956\n",
       "New York    18976457  19378102\n",
       "Texas       20851820  25145561"
      ]
     },
     "execution_count": 206,
     "metadata": {},
     "output_type": "execute_result"
    }
   ],
   "source": [
    "#    .unstack()\n",
    "pop_df = pop.unstack()\n",
    "pop_df\n"
   ]
  },
  {
   "cell_type": "code",
   "execution_count": 207,
   "id": "13abfc4d",
   "metadata": {},
   "outputs": [
    {
     "data": {
      "text/plain": [
       "California  2000    33871648\n",
       "            2010    37253956\n",
       "New York    2000    18976457\n",
       "            2010    19378102\n",
       "Texas       2000    20851820\n",
       "            2010    25145561\n",
       "dtype: int64"
      ]
     },
     "execution_count": 207,
     "metadata": {},
     "output_type": "execute_result"
    }
   ],
   "source": [
    "#    • .stack()\n",
    "pop_df.stack()\n"
   ]
  },
  {
   "cell_type": "code",
   "execution_count": 210,
   "id": "6c3eb8c8",
   "metadata": {},
   "outputs": [
    {
     "data": {
      "text/plain": [
       "California    37253956\n",
       "New York      19378102\n",
       "Texas         25145561\n",
       "dtype: int64"
      ]
     },
     "execution_count": 210,
     "metadata": {},
     "output_type": "execute_result"
    }
   ],
   "source": [
    "#    • slicing\n",
    "pop[:, 2010]\n"
   ]
  },
  {
   "cell_type": "code",
   "execution_count": 213,
   "id": "e7919825",
   "metadata": {},
   "outputs": [
    {
     "data": {
      "text/plain": [
       "37253956"
      ]
     },
     "execution_count": 213,
     "metadata": {},
     "output_type": "execute_result"
    }
   ],
   "source": [
    "#    • and indexing\n",
    "pop[1]\n"
   ]
  },
  {
   "cell_type": "markdown",
   "id": "a9eb36f8",
   "metadata": {},
   "source": [
    "## Requirement 20"
   ]
  },
  {
   "cell_type": "code",
   "execution_count": 217,
   "id": "85ada440",
   "metadata": {},
   "outputs": [
    {
     "data": {
      "text/plain": [
       "0       Acura\n",
       "1     Bentley\n",
       "2    Cadillac\n",
       "3      Ducati\n",
       "4       Evoke\n",
       "5      Fantic\n",
       "dtype: object"
      ]
     },
     "execution_count": 217,
     "metadata": {},
     "output_type": "execute_result"
    }
   ],
   "source": [
    "# Demonstrate concatenating two Pandas series. One series contains automobile data. The other series contains motorcycle data.\n",
    "\n",
    "cars = pd.Series(['Acura', 'Bentley', 'Cadillac'])\n",
    "bikes = pd.Series(['Ducati', 'Evoke', 'Fantic'])\n",
    "pd.concat([cars, bikes], ignore_index= True)\n"
   ]
  },
  {
   "cell_type": "markdown",
   "id": "a1e7478d",
   "metadata": {},
   "source": [
    "## Requirement 21"
   ]
  },
  {
   "cell_type": "code",
   "execution_count": 218,
   "id": "cdb4104b",
   "metadata": {},
   "outputs": [
    {
     "name": "stdout",
     "output_type": "stream",
     "text": [
      "      0    1    2   3\n",
      "0  16.0  NaN    a NaN\n",
      "1  57.2    7    5 NaN\n",
      "2   NaN    r    2 NaN\n",
      "0   NaN  NaN  NaN NaN\n",
      "1     1    2    3 NaN\n",
      "2     a    b    c NaN\n"
     ]
    },
    {
     "name": "stderr",
     "output_type": "stream",
     "text": [
      "C:\\Users\\Steve\\AppData\\Local\\Temp\\ipykernel_20820\\3321661666.py:3: FutureWarning: The frame.append method is deprecated and will be removed from pandas in a future version. Use pandas.concat instead.\n",
      "  print(null_df.append(null_row_df))\n"
     ]
    }
   ],
   "source": [
    "# Demonstrate concatenating two Pandas dataframe using the .append() method.\n",
    "\n",
    "print(null_df.append(null_row_df))\n"
   ]
  },
  {
   "cell_type": "markdown",
   "id": "1df79a88",
   "metadata": {},
   "source": [
    "## Requirement 22"
   ]
  },
  {
   "cell_type": "code",
   "execution_count": 257,
   "id": "2e32a3c7",
   "metadata": {},
   "outputs": [
    {
     "data": {
      "text/html": [
       "<div>\n",
       "<style scoped>\n",
       "    .dataframe tbody tr th:only-of-type {\n",
       "        vertical-align: middle;\n",
       "    }\n",
       "\n",
       "    .dataframe tbody tr th {\n",
       "        vertical-align: top;\n",
       "    }\n",
       "\n",
       "    .dataframe thead th {\n",
       "        text-align: right;\n",
       "    }\n",
       "</style>\n",
       "<table border=\"1\" class=\"dataframe\">\n",
       "  <thead>\n",
       "    <tr style=\"text-align: right;\">\n",
       "      <th></th>\n",
       "      <th>Athlete</th>\n",
       "      <th>Team</th>\n",
       "    </tr>\n",
       "  </thead>\n",
       "  <tbody>\n",
       "    <tr>\n",
       "      <th>0</th>\n",
       "      <td>Angel</td>\n",
       "      <td>WWP</td>\n",
       "    </tr>\n",
       "    <tr>\n",
       "      <th>1</th>\n",
       "      <td>Corina</td>\n",
       "      <td>WWP</td>\n",
       "    </tr>\n",
       "    <tr>\n",
       "      <th>2</th>\n",
       "      <td>Molly</td>\n",
       "      <td>WWP</td>\n",
       "    </tr>\n",
       "    <tr>\n",
       "      <th>3</th>\n",
       "      <td>Maggie</td>\n",
       "      <td>SWIM</td>\n",
       "    </tr>\n",
       "    <tr>\n",
       "      <th>4</th>\n",
       "      <td>Kailee</td>\n",
       "      <td>SWIM</td>\n",
       "    </tr>\n",
       "    <tr>\n",
       "      <th>5</th>\n",
       "      <td>Morgan</td>\n",
       "      <td>WWP</td>\n",
       "    </tr>\n",
       "  </tbody>\n",
       "</table>\n",
       "</div>"
      ],
      "text/plain": [
       "  Athlete  Team\n",
       "0   Angel   WWP\n",
       "1  Corina   WWP\n",
       "2   Molly   WWP\n",
       "3  Maggie  SWIM\n",
       "4  Kailee  SWIM\n",
       "5  Morgan   WWP"
      ]
     },
     "metadata": {},
     "output_type": "display_data"
    },
    {
     "data": {
      "text/html": [
       "<div>\n",
       "<style scoped>\n",
       "    .dataframe tbody tr th:only-of-type {\n",
       "        vertical-align: middle;\n",
       "    }\n",
       "\n",
       "    .dataframe tbody tr th {\n",
       "        vertical-align: top;\n",
       "    }\n",
       "\n",
       "    .dataframe thead th {\n",
       "        text-align: right;\n",
       "    }\n",
       "</style>\n",
       "<table border=\"1\" class=\"dataframe\">\n",
       "  <thead>\n",
       "    <tr style=\"text-align: right;\">\n",
       "      <th></th>\n",
       "      <th>Athlete</th>\n",
       "      <th>Squat</th>\n",
       "    </tr>\n",
       "  </thead>\n",
       "  <tbody>\n",
       "    <tr>\n",
       "      <th>0</th>\n",
       "      <td>Angel</td>\n",
       "      <td>225</td>\n",
       "    </tr>\n",
       "    <tr>\n",
       "      <th>1</th>\n",
       "      <td>Corina</td>\n",
       "      <td>315</td>\n",
       "    </tr>\n",
       "    <tr>\n",
       "      <th>2</th>\n",
       "      <td>Molly</td>\n",
       "      <td>275</td>\n",
       "    </tr>\n",
       "    <tr>\n",
       "      <th>3</th>\n",
       "      <td>Maggie</td>\n",
       "      <td>255</td>\n",
       "    </tr>\n",
       "    <tr>\n",
       "      <th>4</th>\n",
       "      <td>Kailee</td>\n",
       "      <td>155</td>\n",
       "    </tr>\n",
       "    <tr>\n",
       "      <th>5</th>\n",
       "      <td>Morgan</td>\n",
       "      <td>245</td>\n",
       "    </tr>\n",
       "  </tbody>\n",
       "</table>\n",
       "</div>"
      ],
      "text/plain": [
       "  Athlete  Squat\n",
       "0   Angel    225\n",
       "1  Corina    315\n",
       "2   Molly    275\n",
       "3  Maggie    255\n",
       "4  Kailee    155\n",
       "5  Morgan    245"
      ]
     },
     "metadata": {},
     "output_type": "display_data"
    }
   ],
   "source": [
    "# Using Pandas dataframes, demonstrate the following joins:\n",
    "\n",
    "# Create a few DataFrames to use.\n",
    "df76 = pd.DataFrame({'Athlete': ['Angel', 'Corina', 'Molly', 'Maggie', 'Kailee', 'Morgan'],\n",
    "                    'Team': ['WWP', 'WWP', 'WWP', 'SWIM', 'SWIM', 'WWP']})\n",
    "df77 = pd.DataFrame({'Athlete': ['Angel', 'Corina', 'Molly', 'Maggie', 'Kailee', 'Morgan'],\n",
    "                    'Squat': [225, 315, 275, 255, 155, 245]})\n",
    "\n",
    "display(df76, df77)\n"
   ]
  },
  {
   "cell_type": "code",
   "execution_count": 266,
   "id": "e3cdbcce",
   "metadata": {},
   "outputs": [
    {
     "data": {
      "text/html": [
       "<div>\n",
       "<style scoped>\n",
       "    .dataframe tbody tr th:only-of-type {\n",
       "        vertical-align: middle;\n",
       "    }\n",
       "\n",
       "    .dataframe tbody tr th {\n",
       "        vertical-align: top;\n",
       "    }\n",
       "\n",
       "    .dataframe thead th {\n",
       "        text-align: right;\n",
       "    }\n",
       "</style>\n",
       "<table border=\"1\" class=\"dataframe\">\n",
       "  <thead>\n",
       "    <tr style=\"text-align: right;\">\n",
       "      <th></th>\n",
       "      <th>Athlete</th>\n",
       "      <th>Team</th>\n",
       "    </tr>\n",
       "  </thead>\n",
       "  <tbody>\n",
       "    <tr>\n",
       "      <th>0</th>\n",
       "      <td>Angel</td>\n",
       "      <td>WWP</td>\n",
       "    </tr>\n",
       "    <tr>\n",
       "      <th>1</th>\n",
       "      <td>Corina</td>\n",
       "      <td>WWP</td>\n",
       "    </tr>\n",
       "    <tr>\n",
       "      <th>2</th>\n",
       "      <td>Molly</td>\n",
       "      <td>WWP</td>\n",
       "    </tr>\n",
       "    <tr>\n",
       "      <th>3</th>\n",
       "      <td>Maggie</td>\n",
       "      <td>SWIM</td>\n",
       "    </tr>\n",
       "    <tr>\n",
       "      <th>4</th>\n",
       "      <td>Kailee</td>\n",
       "      <td>SWIM</td>\n",
       "    </tr>\n",
       "    <tr>\n",
       "      <th>5</th>\n",
       "      <td>Morgan</td>\n",
       "      <td>WWP</td>\n",
       "    </tr>\n",
       "  </tbody>\n",
       "</table>\n",
       "</div>"
      ],
      "text/plain": [
       "  Athlete  Team\n",
       "0   Angel   WWP\n",
       "1  Corina   WWP\n",
       "2   Molly   WWP\n",
       "3  Maggie  SWIM\n",
       "4  Kailee  SWIM\n",
       "5  Morgan   WWP"
      ]
     },
     "metadata": {},
     "output_type": "display_data"
    },
    {
     "data": {
      "text/html": [
       "<div>\n",
       "<style scoped>\n",
       "    .dataframe tbody tr th:only-of-type {\n",
       "        vertical-align: middle;\n",
       "    }\n",
       "\n",
       "    .dataframe tbody tr th {\n",
       "        vertical-align: top;\n",
       "    }\n",
       "\n",
       "    .dataframe thead th {\n",
       "        text-align: right;\n",
       "    }\n",
       "</style>\n",
       "<table border=\"1\" class=\"dataframe\">\n",
       "  <thead>\n",
       "    <tr style=\"text-align: right;\">\n",
       "      <th></th>\n",
       "      <th>Athlete</th>\n",
       "      <th>Squat</th>\n",
       "    </tr>\n",
       "  </thead>\n",
       "  <tbody>\n",
       "    <tr>\n",
       "      <th>0</th>\n",
       "      <td>Angel</td>\n",
       "      <td>225</td>\n",
       "    </tr>\n",
       "    <tr>\n",
       "      <th>1</th>\n",
       "      <td>Corina</td>\n",
       "      <td>315</td>\n",
       "    </tr>\n",
       "    <tr>\n",
       "      <th>2</th>\n",
       "      <td>Molly</td>\n",
       "      <td>275</td>\n",
       "    </tr>\n",
       "    <tr>\n",
       "      <th>3</th>\n",
       "      <td>Maggie</td>\n",
       "      <td>255</td>\n",
       "    </tr>\n",
       "    <tr>\n",
       "      <th>4</th>\n",
       "      <td>Kailee</td>\n",
       "      <td>155</td>\n",
       "    </tr>\n",
       "    <tr>\n",
       "      <th>5</th>\n",
       "      <td>Morgan</td>\n",
       "      <td>245</td>\n",
       "    </tr>\n",
       "  </tbody>\n",
       "</table>\n",
       "</div>"
      ],
      "text/plain": [
       "  Athlete  Squat\n",
       "0   Angel    225\n",
       "1  Corina    315\n",
       "2   Molly    275\n",
       "3  Maggie    255\n",
       "4  Kailee    155\n",
       "5  Morgan    245"
      ]
     },
     "metadata": {},
     "output_type": "display_data"
    },
    {
     "data": {
      "text/html": [
       "<div>\n",
       "<style scoped>\n",
       "    .dataframe tbody tr th:only-of-type {\n",
       "        vertical-align: middle;\n",
       "    }\n",
       "\n",
       "    .dataframe tbody tr th {\n",
       "        vertical-align: top;\n",
       "    }\n",
       "\n",
       "    .dataframe thead th {\n",
       "        text-align: right;\n",
       "    }\n",
       "</style>\n",
       "<table border=\"1\" class=\"dataframe\">\n",
       "  <thead>\n",
       "    <tr style=\"text-align: right;\">\n",
       "      <th></th>\n",
       "      <th>Athlete</th>\n",
       "      <th>Team</th>\n",
       "      <th>Squat</th>\n",
       "    </tr>\n",
       "  </thead>\n",
       "  <tbody>\n",
       "    <tr>\n",
       "      <th>0</th>\n",
       "      <td>Angel</td>\n",
       "      <td>WWP</td>\n",
       "      <td>225</td>\n",
       "    </tr>\n",
       "    <tr>\n",
       "      <th>1</th>\n",
       "      <td>Corina</td>\n",
       "      <td>WWP</td>\n",
       "      <td>315</td>\n",
       "    </tr>\n",
       "    <tr>\n",
       "      <th>2</th>\n",
       "      <td>Molly</td>\n",
       "      <td>WWP</td>\n",
       "      <td>275</td>\n",
       "    </tr>\n",
       "    <tr>\n",
       "      <th>3</th>\n",
       "      <td>Maggie</td>\n",
       "      <td>SWIM</td>\n",
       "      <td>255</td>\n",
       "    </tr>\n",
       "    <tr>\n",
       "      <th>4</th>\n",
       "      <td>Kailee</td>\n",
       "      <td>SWIM</td>\n",
       "      <td>155</td>\n",
       "    </tr>\n",
       "    <tr>\n",
       "      <th>5</th>\n",
       "      <td>Morgan</td>\n",
       "      <td>WWP</td>\n",
       "      <td>245</td>\n",
       "    </tr>\n",
       "  </tbody>\n",
       "</table>\n",
       "</div>"
      ],
      "text/plain": [
       "  Athlete  Team  Squat\n",
       "0   Angel   WWP    225\n",
       "1  Corina   WWP    315\n",
       "2   Molly   WWP    275\n",
       "3  Maggie  SWIM    255\n",
       "4  Kailee  SWIM    155\n",
       "5  Morgan   WWP    245"
      ]
     },
     "metadata": {},
     "output_type": "display_data"
    }
   ],
   "source": [
    "#    • one-to-one\n",
    "df86 = pd.merge(df76, df77)\n",
    "\n",
    "display(df76, df77)\n",
    "display(df86)\n"
   ]
  },
  {
   "cell_type": "code",
   "execution_count": 265,
   "id": "3ee65f54",
   "metadata": {},
   "outputs": [
    {
     "data": {
      "text/html": [
       "<div>\n",
       "<style scoped>\n",
       "    .dataframe tbody tr th:only-of-type {\n",
       "        vertical-align: middle;\n",
       "    }\n",
       "\n",
       "    .dataframe tbody tr th {\n",
       "        vertical-align: top;\n",
       "    }\n",
       "\n",
       "    .dataframe thead th {\n",
       "        text-align: right;\n",
       "    }\n",
       "</style>\n",
       "<table border=\"1\" class=\"dataframe\">\n",
       "  <thead>\n",
       "    <tr style=\"text-align: right;\">\n",
       "      <th></th>\n",
       "      <th>Team</th>\n",
       "      <th>Coach</th>\n",
       "    </tr>\n",
       "  </thead>\n",
       "  <tbody>\n",
       "    <tr>\n",
       "      <th>0</th>\n",
       "      <td>WWP</td>\n",
       "      <td>Arredondo</td>\n",
       "    </tr>\n",
       "    <tr>\n",
       "      <th>1</th>\n",
       "      <td>SWIM</td>\n",
       "      <td>Hall</td>\n",
       "    </tr>\n",
       "  </tbody>\n",
       "</table>\n",
       "</div>"
      ],
      "text/plain": [
       "   Team      Coach\n",
       "0   WWP  Arredondo\n",
       "1  SWIM       Hall"
      ]
     },
     "metadata": {},
     "output_type": "display_data"
    },
    {
     "data": {
      "text/html": [
       "<div>\n",
       "<style scoped>\n",
       "    .dataframe tbody tr th:only-of-type {\n",
       "        vertical-align: middle;\n",
       "    }\n",
       "\n",
       "    .dataframe tbody tr th {\n",
       "        vertical-align: top;\n",
       "    }\n",
       "\n",
       "    .dataframe thead th {\n",
       "        text-align: right;\n",
       "    }\n",
       "</style>\n",
       "<table border=\"1\" class=\"dataframe\">\n",
       "  <thead>\n",
       "    <tr style=\"text-align: right;\">\n",
       "      <th></th>\n",
       "      <th>Athlete</th>\n",
       "      <th>Team</th>\n",
       "      <th>Squat</th>\n",
       "    </tr>\n",
       "  </thead>\n",
       "  <tbody>\n",
       "    <tr>\n",
       "      <th>0</th>\n",
       "      <td>Angel</td>\n",
       "      <td>WWP</td>\n",
       "      <td>225</td>\n",
       "    </tr>\n",
       "    <tr>\n",
       "      <th>1</th>\n",
       "      <td>Corina</td>\n",
       "      <td>WWP</td>\n",
       "      <td>315</td>\n",
       "    </tr>\n",
       "    <tr>\n",
       "      <th>2</th>\n",
       "      <td>Molly</td>\n",
       "      <td>WWP</td>\n",
       "      <td>275</td>\n",
       "    </tr>\n",
       "    <tr>\n",
       "      <th>3</th>\n",
       "      <td>Maggie</td>\n",
       "      <td>SWIM</td>\n",
       "      <td>255</td>\n",
       "    </tr>\n",
       "    <tr>\n",
       "      <th>4</th>\n",
       "      <td>Kailee</td>\n",
       "      <td>SWIM</td>\n",
       "      <td>155</td>\n",
       "    </tr>\n",
       "    <tr>\n",
       "      <th>5</th>\n",
       "      <td>Morgan</td>\n",
       "      <td>WWP</td>\n",
       "      <td>245</td>\n",
       "    </tr>\n",
       "  </tbody>\n",
       "</table>\n",
       "</div>"
      ],
      "text/plain": [
       "  Athlete  Team  Squat\n",
       "0   Angel   WWP    225\n",
       "1  Corina   WWP    315\n",
       "2   Molly   WWP    275\n",
       "3  Maggie  SWIM    255\n",
       "4  Kailee  SWIM    155\n",
       "5  Morgan   WWP    245"
      ]
     },
     "metadata": {},
     "output_type": "display_data"
    },
    {
     "data": {
      "text/html": [
       "<div>\n",
       "<style scoped>\n",
       "    .dataframe tbody tr th:only-of-type {\n",
       "        vertical-align: middle;\n",
       "    }\n",
       "\n",
       "    .dataframe tbody tr th {\n",
       "        vertical-align: top;\n",
       "    }\n",
       "\n",
       "    .dataframe thead th {\n",
       "        text-align: right;\n",
       "    }\n",
       "</style>\n",
       "<table border=\"1\" class=\"dataframe\">\n",
       "  <thead>\n",
       "    <tr style=\"text-align: right;\">\n",
       "      <th></th>\n",
       "      <th>Athlete</th>\n",
       "      <th>Team</th>\n",
       "      <th>Squat</th>\n",
       "      <th>Coach</th>\n",
       "    </tr>\n",
       "  </thead>\n",
       "  <tbody>\n",
       "    <tr>\n",
       "      <th>0</th>\n",
       "      <td>Angel</td>\n",
       "      <td>WWP</td>\n",
       "      <td>225</td>\n",
       "      <td>Arredondo</td>\n",
       "    </tr>\n",
       "    <tr>\n",
       "      <th>1</th>\n",
       "      <td>Corina</td>\n",
       "      <td>WWP</td>\n",
       "      <td>315</td>\n",
       "      <td>Arredondo</td>\n",
       "    </tr>\n",
       "    <tr>\n",
       "      <th>2</th>\n",
       "      <td>Molly</td>\n",
       "      <td>WWP</td>\n",
       "      <td>275</td>\n",
       "      <td>Arredondo</td>\n",
       "    </tr>\n",
       "    <tr>\n",
       "      <th>3</th>\n",
       "      <td>Morgan</td>\n",
       "      <td>WWP</td>\n",
       "      <td>245</td>\n",
       "      <td>Arredondo</td>\n",
       "    </tr>\n",
       "    <tr>\n",
       "      <th>4</th>\n",
       "      <td>Maggie</td>\n",
       "      <td>SWIM</td>\n",
       "      <td>255</td>\n",
       "      <td>Hall</td>\n",
       "    </tr>\n",
       "    <tr>\n",
       "      <th>5</th>\n",
       "      <td>Kailee</td>\n",
       "      <td>SWIM</td>\n",
       "      <td>155</td>\n",
       "      <td>Hall</td>\n",
       "    </tr>\n",
       "  </tbody>\n",
       "</table>\n",
       "</div>"
      ],
      "text/plain": [
       "  Athlete  Team  Squat      Coach\n",
       "0   Angel   WWP    225  Arredondo\n",
       "1  Corina   WWP    315  Arredondo\n",
       "2   Molly   WWP    275  Arredondo\n",
       "3  Morgan   WWP    245  Arredondo\n",
       "4  Maggie  SWIM    255       Hall\n",
       "5  Kailee  SWIM    155       Hall"
      ]
     },
     "metadata": {},
     "output_type": "display_data"
    }
   ],
   "source": [
    "#    • many-to-one\n",
    "\n",
    "df78 = pd.DataFrame({'Team': ['WWP', 'SWIM'],\n",
    "                    'Coach': ['Arredondo', 'Hall']})\n",
    "\n",
    "\n",
    "display(df78, df86)\n",
    "display(pd.merge(df86, df78))\n"
   ]
  },
  {
   "cell_type": "code",
   "execution_count": 267,
   "id": "94e2b5b6",
   "metadata": {},
   "outputs": [
    {
     "data": {
      "text/html": [
       "<div>\n",
       "<style scoped>\n",
       "    .dataframe tbody tr th:only-of-type {\n",
       "        vertical-align: middle;\n",
       "    }\n",
       "\n",
       "    .dataframe tbody tr th {\n",
       "        vertical-align: top;\n",
       "    }\n",
       "\n",
       "    .dataframe thead th {\n",
       "        text-align: right;\n",
       "    }\n",
       "</style>\n",
       "<table border=\"1\" class=\"dataframe\">\n",
       "  <thead>\n",
       "    <tr style=\"text-align: right;\">\n",
       "      <th></th>\n",
       "      <th>Athlete</th>\n",
       "      <th>Team</th>\n",
       "    </tr>\n",
       "  </thead>\n",
       "  <tbody>\n",
       "    <tr>\n",
       "      <th>0</th>\n",
       "      <td>Angel</td>\n",
       "      <td>WWP</td>\n",
       "    </tr>\n",
       "    <tr>\n",
       "      <th>1</th>\n",
       "      <td>Corina</td>\n",
       "      <td>WWP</td>\n",
       "    </tr>\n",
       "    <tr>\n",
       "      <th>2</th>\n",
       "      <td>Molly</td>\n",
       "      <td>WWP</td>\n",
       "    </tr>\n",
       "    <tr>\n",
       "      <th>3</th>\n",
       "      <td>Maggie</td>\n",
       "      <td>SWIM</td>\n",
       "    </tr>\n",
       "    <tr>\n",
       "      <th>4</th>\n",
       "      <td>Kailee</td>\n",
       "      <td>SWIM</td>\n",
       "    </tr>\n",
       "    <tr>\n",
       "      <th>5</th>\n",
       "      <td>Morgan</td>\n",
       "      <td>WWP</td>\n",
       "    </tr>\n",
       "  </tbody>\n",
       "</table>\n",
       "</div>"
      ],
      "text/plain": [
       "  Athlete  Team\n",
       "0   Angel   WWP\n",
       "1  Corina   WWP\n",
       "2   Molly   WWP\n",
       "3  Maggie  SWIM\n",
       "4  Kailee  SWIM\n",
       "5  Morgan   WWP"
      ]
     },
     "metadata": {},
     "output_type": "display_data"
    },
    {
     "data": {
      "text/html": [
       "<div>\n",
       "<style scoped>\n",
       "    .dataframe tbody tr th:only-of-type {\n",
       "        vertical-align: middle;\n",
       "    }\n",
       "\n",
       "    .dataframe tbody tr th {\n",
       "        vertical-align: top;\n",
       "    }\n",
       "\n",
       "    .dataframe thead th {\n",
       "        text-align: right;\n",
       "    }\n",
       "</style>\n",
       "<table border=\"1\" class=\"dataframe\">\n",
       "  <thead>\n",
       "    <tr style=\"text-align: right;\">\n",
       "      <th></th>\n",
       "      <th>Team</th>\n",
       "      <th>Equipment</th>\n",
       "    </tr>\n",
       "  </thead>\n",
       "  <tbody>\n",
       "    <tr>\n",
       "      <th>0</th>\n",
       "      <td>SWIM</td>\n",
       "      <td>Pool</td>\n",
       "    </tr>\n",
       "    <tr>\n",
       "      <th>1</th>\n",
       "      <td>WWP</td>\n",
       "      <td>Pool</td>\n",
       "    </tr>\n",
       "    <tr>\n",
       "      <th>2</th>\n",
       "      <td>WWP</td>\n",
       "      <td>Ball</td>\n",
       "    </tr>\n",
       "    <tr>\n",
       "      <th>3</th>\n",
       "      <td>WWP</td>\n",
       "      <td>Net</td>\n",
       "    </tr>\n",
       "  </tbody>\n",
       "</table>\n",
       "</div>"
      ],
      "text/plain": [
       "   Team Equipment\n",
       "0  SWIM      Pool\n",
       "1   WWP      Pool\n",
       "2   WWP      Ball\n",
       "3   WWP       Net"
      ]
     },
     "metadata": {},
     "output_type": "display_data"
    },
    {
     "data": {
      "text/html": [
       "<div>\n",
       "<style scoped>\n",
       "    .dataframe tbody tr th:only-of-type {\n",
       "        vertical-align: middle;\n",
       "    }\n",
       "\n",
       "    .dataframe tbody tr th {\n",
       "        vertical-align: top;\n",
       "    }\n",
       "\n",
       "    .dataframe thead th {\n",
       "        text-align: right;\n",
       "    }\n",
       "</style>\n",
       "<table border=\"1\" class=\"dataframe\">\n",
       "  <thead>\n",
       "    <tr style=\"text-align: right;\">\n",
       "      <th></th>\n",
       "      <th>Athlete</th>\n",
       "      <th>Team</th>\n",
       "      <th>Equipment</th>\n",
       "    </tr>\n",
       "  </thead>\n",
       "  <tbody>\n",
       "    <tr>\n",
       "      <th>0</th>\n",
       "      <td>Angel</td>\n",
       "      <td>WWP</td>\n",
       "      <td>Pool</td>\n",
       "    </tr>\n",
       "    <tr>\n",
       "      <th>1</th>\n",
       "      <td>Angel</td>\n",
       "      <td>WWP</td>\n",
       "      <td>Ball</td>\n",
       "    </tr>\n",
       "    <tr>\n",
       "      <th>2</th>\n",
       "      <td>Angel</td>\n",
       "      <td>WWP</td>\n",
       "      <td>Net</td>\n",
       "    </tr>\n",
       "    <tr>\n",
       "      <th>3</th>\n",
       "      <td>Corina</td>\n",
       "      <td>WWP</td>\n",
       "      <td>Pool</td>\n",
       "    </tr>\n",
       "    <tr>\n",
       "      <th>4</th>\n",
       "      <td>Corina</td>\n",
       "      <td>WWP</td>\n",
       "      <td>Ball</td>\n",
       "    </tr>\n",
       "    <tr>\n",
       "      <th>5</th>\n",
       "      <td>Corina</td>\n",
       "      <td>WWP</td>\n",
       "      <td>Net</td>\n",
       "    </tr>\n",
       "    <tr>\n",
       "      <th>6</th>\n",
       "      <td>Molly</td>\n",
       "      <td>WWP</td>\n",
       "      <td>Pool</td>\n",
       "    </tr>\n",
       "    <tr>\n",
       "      <th>7</th>\n",
       "      <td>Molly</td>\n",
       "      <td>WWP</td>\n",
       "      <td>Ball</td>\n",
       "    </tr>\n",
       "    <tr>\n",
       "      <th>8</th>\n",
       "      <td>Molly</td>\n",
       "      <td>WWP</td>\n",
       "      <td>Net</td>\n",
       "    </tr>\n",
       "    <tr>\n",
       "      <th>9</th>\n",
       "      <td>Morgan</td>\n",
       "      <td>WWP</td>\n",
       "      <td>Pool</td>\n",
       "    </tr>\n",
       "    <tr>\n",
       "      <th>10</th>\n",
       "      <td>Morgan</td>\n",
       "      <td>WWP</td>\n",
       "      <td>Ball</td>\n",
       "    </tr>\n",
       "    <tr>\n",
       "      <th>11</th>\n",
       "      <td>Morgan</td>\n",
       "      <td>WWP</td>\n",
       "      <td>Net</td>\n",
       "    </tr>\n",
       "    <tr>\n",
       "      <th>12</th>\n",
       "      <td>Maggie</td>\n",
       "      <td>SWIM</td>\n",
       "      <td>Pool</td>\n",
       "    </tr>\n",
       "    <tr>\n",
       "      <th>13</th>\n",
       "      <td>Kailee</td>\n",
       "      <td>SWIM</td>\n",
       "      <td>Pool</td>\n",
       "    </tr>\n",
       "  </tbody>\n",
       "</table>\n",
       "</div>"
      ],
      "text/plain": [
       "   Athlete  Team Equipment\n",
       "0    Angel   WWP      Pool\n",
       "1    Angel   WWP      Ball\n",
       "2    Angel   WWP       Net\n",
       "3   Corina   WWP      Pool\n",
       "4   Corina   WWP      Ball\n",
       "5   Corina   WWP       Net\n",
       "6    Molly   WWP      Pool\n",
       "7    Molly   WWP      Ball\n",
       "8    Molly   WWP       Net\n",
       "9   Morgan   WWP      Pool\n",
       "10  Morgan   WWP      Ball\n",
       "11  Morgan   WWP       Net\n",
       "12  Maggie  SWIM      Pool\n",
       "13  Kailee  SWIM      Pool"
      ]
     },
     "metadata": {},
     "output_type": "display_data"
    }
   ],
   "source": [
    "#    • many-to-many\n",
    "df79 = pd.DataFrame({'Team': ['SWIM', 'WWP',\n",
    "                              'WWP', 'WWP'],\n",
    "                    'Equipment': ['Pool', 'Pool', 'Ball', 'Net']})\n",
    "\n",
    "display(df76, df79)\n",
    "display(pd.merge(df76, df79))\n"
   ]
  },
  {
   "cell_type": "markdown",
   "id": "4a725015",
   "metadata": {},
   "source": [
    "## Requirement 23"
   ]
  },
  {
   "cell_type": "code",
   "execution_count": 271,
   "id": "4ecc5d17",
   "metadata": {},
   "outputs": [
    {
     "data": {
      "text/html": [
       "<div>\n",
       "<style scoped>\n",
       "    .dataframe tbody tr th:only-of-type {\n",
       "        vertical-align: middle;\n",
       "    }\n",
       "\n",
       "    .dataframe tbody tr th {\n",
       "        vertical-align: top;\n",
       "    }\n",
       "\n",
       "    .dataframe thead th {\n",
       "        text-align: right;\n",
       "    }\n",
       "</style>\n",
       "<table border=\"1\" class=\"dataframe\">\n",
       "  <thead>\n",
       "    <tr style=\"text-align: right;\">\n",
       "      <th></th>\n",
       "      <th>Team</th>\n",
       "      <th>Coach</th>\n",
       "    </tr>\n",
       "  </thead>\n",
       "  <tbody>\n",
       "    <tr>\n",
       "      <th>0</th>\n",
       "      <td>WWP</td>\n",
       "      <td>Arredondo</td>\n",
       "    </tr>\n",
       "    <tr>\n",
       "      <th>1</th>\n",
       "      <td>SWIM</td>\n",
       "      <td>Hall</td>\n",
       "    </tr>\n",
       "  </tbody>\n",
       "</table>\n",
       "</div>"
      ],
      "text/plain": [
       "   Team      Coach\n",
       "0   WWP  Arredondo\n",
       "1  SWIM       Hall"
      ]
     },
     "metadata": {},
     "output_type": "display_data"
    },
    {
     "data": {
      "text/html": [
       "<div>\n",
       "<style scoped>\n",
       "    .dataframe tbody tr th:only-of-type {\n",
       "        vertical-align: middle;\n",
       "    }\n",
       "\n",
       "    .dataframe tbody tr th {\n",
       "        vertical-align: top;\n",
       "    }\n",
       "\n",
       "    .dataframe thead th {\n",
       "        text-align: right;\n",
       "    }\n",
       "</style>\n",
       "<table border=\"1\" class=\"dataframe\">\n",
       "  <thead>\n",
       "    <tr style=\"text-align: right;\">\n",
       "      <th></th>\n",
       "      <th>Team</th>\n",
       "      <th>Equipment</th>\n",
       "    </tr>\n",
       "  </thead>\n",
       "  <tbody>\n",
       "    <tr>\n",
       "      <th>0</th>\n",
       "      <td>SWIM</td>\n",
       "      <td>Pool</td>\n",
       "    </tr>\n",
       "    <tr>\n",
       "      <th>1</th>\n",
       "      <td>WWP</td>\n",
       "      <td>Pool</td>\n",
       "    </tr>\n",
       "    <tr>\n",
       "      <th>2</th>\n",
       "      <td>WWP</td>\n",
       "      <td>Ball</td>\n",
       "    </tr>\n",
       "    <tr>\n",
       "      <th>3</th>\n",
       "      <td>WWP</td>\n",
       "      <td>Net</td>\n",
       "    </tr>\n",
       "  </tbody>\n",
       "</table>\n",
       "</div>"
      ],
      "text/plain": [
       "   Team Equipment\n",
       "0  SWIM      Pool\n",
       "1   WWP      Pool\n",
       "2   WWP      Ball\n",
       "3   WWP       Net"
      ]
     },
     "metadata": {},
     "output_type": "display_data"
    },
    {
     "data": {
      "text/html": [
       "<div>\n",
       "<style scoped>\n",
       "    .dataframe tbody tr th:only-of-type {\n",
       "        vertical-align: middle;\n",
       "    }\n",
       "\n",
       "    .dataframe tbody tr th {\n",
       "        vertical-align: top;\n",
       "    }\n",
       "\n",
       "    .dataframe thead th {\n",
       "        text-align: right;\n",
       "    }\n",
       "</style>\n",
       "<table border=\"1\" class=\"dataframe\">\n",
       "  <thead>\n",
       "    <tr style=\"text-align: right;\">\n",
       "      <th></th>\n",
       "      <th>Team</th>\n",
       "      <th>Coach</th>\n",
       "      <th>Equipment</th>\n",
       "    </tr>\n",
       "  </thead>\n",
       "  <tbody>\n",
       "    <tr>\n",
       "      <th>0</th>\n",
       "      <td>WWP</td>\n",
       "      <td>Arredondo</td>\n",
       "      <td>Pool</td>\n",
       "    </tr>\n",
       "    <tr>\n",
       "      <th>1</th>\n",
       "      <td>WWP</td>\n",
       "      <td>Arredondo</td>\n",
       "      <td>Ball</td>\n",
       "    </tr>\n",
       "    <tr>\n",
       "      <th>2</th>\n",
       "      <td>WWP</td>\n",
       "      <td>Arredondo</td>\n",
       "      <td>Net</td>\n",
       "    </tr>\n",
       "    <tr>\n",
       "      <th>3</th>\n",
       "      <td>SWIM</td>\n",
       "      <td>Hall</td>\n",
       "      <td>Pool</td>\n",
       "    </tr>\n",
       "  </tbody>\n",
       "</table>\n",
       "</div>"
      ],
      "text/plain": [
       "   Team      Coach Equipment\n",
       "0   WWP  Arredondo      Pool\n",
       "1   WWP  Arredondo      Ball\n",
       "2   WWP  Arredondo       Net\n",
       "3  SWIM       Hall      Pool"
      ]
     },
     "metadata": {},
     "output_type": "display_data"
    }
   ],
   "source": [
    "# Using Pandas dataframes, demonstrate merge with the following keywords:\n",
    "#    • on\n",
    "\n",
    "display(df78, df79)\n",
    "display(pd.merge(df78, df79, on= 'Team'))\n"
   ]
  },
  {
   "cell_type": "code",
   "execution_count": 274,
   "id": "fec3f028",
   "metadata": {},
   "outputs": [
    {
     "data": {
      "text/html": [
       "<div>\n",
       "<style scoped>\n",
       "    .dataframe tbody tr th:only-of-type {\n",
       "        vertical-align: middle;\n",
       "    }\n",
       "\n",
       "    .dataframe tbody tr th {\n",
       "        vertical-align: top;\n",
       "    }\n",
       "\n",
       "    .dataframe thead th {\n",
       "        text-align: right;\n",
       "    }\n",
       "</style>\n",
       "<table border=\"1\" class=\"dataframe\">\n",
       "  <thead>\n",
       "    <tr style=\"text-align: right;\">\n",
       "      <th></th>\n",
       "      <th>Athlete</th>\n",
       "      <th>Squat</th>\n",
       "    </tr>\n",
       "  </thead>\n",
       "  <tbody>\n",
       "    <tr>\n",
       "      <th>0</th>\n",
       "      <td>Angel</td>\n",
       "      <td>225</td>\n",
       "    </tr>\n",
       "    <tr>\n",
       "      <th>1</th>\n",
       "      <td>Corina</td>\n",
       "      <td>315</td>\n",
       "    </tr>\n",
       "    <tr>\n",
       "      <th>2</th>\n",
       "      <td>Molly</td>\n",
       "      <td>275</td>\n",
       "    </tr>\n",
       "    <tr>\n",
       "      <th>3</th>\n",
       "      <td>Maggie</td>\n",
       "      <td>255</td>\n",
       "    </tr>\n",
       "    <tr>\n",
       "      <th>4</th>\n",
       "      <td>Kailee</td>\n",
       "      <td>155</td>\n",
       "    </tr>\n",
       "    <tr>\n",
       "      <th>5</th>\n",
       "      <td>Morgan</td>\n",
       "      <td>245</td>\n",
       "    </tr>\n",
       "  </tbody>\n",
       "</table>\n",
       "</div>"
      ],
      "text/plain": [
       "  Athlete  Squat\n",
       "0   Angel    225\n",
       "1  Corina    315\n",
       "2   Molly    275\n",
       "3  Maggie    255\n",
       "4  Kailee    155\n",
       "5  Morgan    245"
      ]
     },
     "metadata": {},
     "output_type": "display_data"
    },
    {
     "data": {
      "text/html": [
       "<div>\n",
       "<style scoped>\n",
       "    .dataframe tbody tr th:only-of-type {\n",
       "        vertical-align: middle;\n",
       "    }\n",
       "\n",
       "    .dataframe tbody tr th {\n",
       "        vertical-align: top;\n",
       "    }\n",
       "\n",
       "    .dataframe thead th {\n",
       "        text-align: right;\n",
       "    }\n",
       "</style>\n",
       "<table border=\"1\" class=\"dataframe\">\n",
       "  <thead>\n",
       "    <tr style=\"text-align: right;\">\n",
       "      <th></th>\n",
       "      <th>Name</th>\n",
       "      <th>Bench</th>\n",
       "    </tr>\n",
       "  </thead>\n",
       "  <tbody>\n",
       "    <tr>\n",
       "      <th>0</th>\n",
       "      <td>Angel</td>\n",
       "      <td>95</td>\n",
       "    </tr>\n",
       "    <tr>\n",
       "      <th>1</th>\n",
       "      <td>Corina</td>\n",
       "      <td>185</td>\n",
       "    </tr>\n",
       "    <tr>\n",
       "      <th>2</th>\n",
       "      <td>Molly</td>\n",
       "      <td>155</td>\n",
       "    </tr>\n",
       "    <tr>\n",
       "      <th>3</th>\n",
       "      <td>Maggie</td>\n",
       "      <td>155</td>\n",
       "    </tr>\n",
       "    <tr>\n",
       "      <th>4</th>\n",
       "      <td>Kailee</td>\n",
       "      <td>95</td>\n",
       "    </tr>\n",
       "    <tr>\n",
       "      <th>5</th>\n",
       "      <td>Morgan</td>\n",
       "      <td>115</td>\n",
       "    </tr>\n",
       "  </tbody>\n",
       "</table>\n",
       "</div>"
      ],
      "text/plain": [
       "     Name  Bench\n",
       "0   Angel     95\n",
       "1  Corina    185\n",
       "2   Molly    155\n",
       "3  Maggie    155\n",
       "4  Kailee     95\n",
       "5  Morgan    115"
      ]
     },
     "metadata": {},
     "output_type": "display_data"
    },
    {
     "data": {
      "text/html": [
       "<div>\n",
       "<style scoped>\n",
       "    .dataframe tbody tr th:only-of-type {\n",
       "        vertical-align: middle;\n",
       "    }\n",
       "\n",
       "    .dataframe tbody tr th {\n",
       "        vertical-align: top;\n",
       "    }\n",
       "\n",
       "    .dataframe thead th {\n",
       "        text-align: right;\n",
       "    }\n",
       "</style>\n",
       "<table border=\"1\" class=\"dataframe\">\n",
       "  <thead>\n",
       "    <tr style=\"text-align: right;\">\n",
       "      <th></th>\n",
       "      <th>Athlete</th>\n",
       "      <th>Squat</th>\n",
       "      <th>Name</th>\n",
       "      <th>Bench</th>\n",
       "    </tr>\n",
       "  </thead>\n",
       "  <tbody>\n",
       "    <tr>\n",
       "      <th>0</th>\n",
       "      <td>Angel</td>\n",
       "      <td>225</td>\n",
       "      <td>Angel</td>\n",
       "      <td>95</td>\n",
       "    </tr>\n",
       "    <tr>\n",
       "      <th>1</th>\n",
       "      <td>Corina</td>\n",
       "      <td>315</td>\n",
       "      <td>Corina</td>\n",
       "      <td>185</td>\n",
       "    </tr>\n",
       "    <tr>\n",
       "      <th>2</th>\n",
       "      <td>Molly</td>\n",
       "      <td>275</td>\n",
       "      <td>Molly</td>\n",
       "      <td>155</td>\n",
       "    </tr>\n",
       "    <tr>\n",
       "      <th>3</th>\n",
       "      <td>Maggie</td>\n",
       "      <td>255</td>\n",
       "      <td>Maggie</td>\n",
       "      <td>155</td>\n",
       "    </tr>\n",
       "    <tr>\n",
       "      <th>4</th>\n",
       "      <td>Kailee</td>\n",
       "      <td>155</td>\n",
       "      <td>Kailee</td>\n",
       "      <td>95</td>\n",
       "    </tr>\n",
       "    <tr>\n",
       "      <th>5</th>\n",
       "      <td>Morgan</td>\n",
       "      <td>245</td>\n",
       "      <td>Morgan</td>\n",
       "      <td>115</td>\n",
       "    </tr>\n",
       "  </tbody>\n",
       "</table>\n",
       "</div>"
      ],
      "text/plain": [
       "  Athlete  Squat    Name  Bench\n",
       "0   Angel    225   Angel     95\n",
       "1  Corina    315  Corina    185\n",
       "2   Molly    275   Molly    155\n",
       "3  Maggie    255  Maggie    155\n",
       "4  Kailee    155  Kailee     95\n",
       "5  Morgan    245  Morgan    115"
      ]
     },
     "metadata": {},
     "output_type": "display_data"
    }
   ],
   "source": [
    "#    • left_on and right_on\n",
    "\n",
    "df75 = pd.DataFrame({'Name': ['Angel', 'Corina', 'Molly', 'Maggie', 'Kailee', 'Morgan'],\n",
    "                    'Bench': [95, 185, 155, 155, 95, 115]})\n",
    "display(df77, df75)\n",
    "display(pd.merge(df77, df75, left_on= 'Athlete', right_on= 'Name'))\n"
   ]
  },
  {
   "cell_type": "code",
   "execution_count": 279,
   "id": "a695880e",
   "metadata": {},
   "outputs": [
    {
     "data": {
      "text/html": [
       "<div>\n",
       "<style scoped>\n",
       "    .dataframe tbody tr th:only-of-type {\n",
       "        vertical-align: middle;\n",
       "    }\n",
       "\n",
       "    .dataframe tbody tr th {\n",
       "        vertical-align: top;\n",
       "    }\n",
       "\n",
       "    .dataframe thead th {\n",
       "        text-align: right;\n",
       "    }\n",
       "</style>\n",
       "<table border=\"1\" class=\"dataframe\">\n",
       "  <thead>\n",
       "    <tr style=\"text-align: right;\">\n",
       "      <th></th>\n",
       "      <th>Squat</th>\n",
       "    </tr>\n",
       "    <tr>\n",
       "      <th>Athlete</th>\n",
       "      <th></th>\n",
       "    </tr>\n",
       "  </thead>\n",
       "  <tbody>\n",
       "    <tr>\n",
       "      <th>Angel</th>\n",
       "      <td>225</td>\n",
       "    </tr>\n",
       "    <tr>\n",
       "      <th>Corina</th>\n",
       "      <td>315</td>\n",
       "    </tr>\n",
       "    <tr>\n",
       "      <th>Molly</th>\n",
       "      <td>275</td>\n",
       "    </tr>\n",
       "    <tr>\n",
       "      <th>Maggie</th>\n",
       "      <td>255</td>\n",
       "    </tr>\n",
       "    <tr>\n",
       "      <th>Kailee</th>\n",
       "      <td>155</td>\n",
       "    </tr>\n",
       "    <tr>\n",
       "      <th>Morgan</th>\n",
       "      <td>245</td>\n",
       "    </tr>\n",
       "  </tbody>\n",
       "</table>\n",
       "</div>"
      ],
      "text/plain": [
       "         Squat\n",
       "Athlete       \n",
       "Angel      225\n",
       "Corina     315\n",
       "Molly      275\n",
       "Maggie     255\n",
       "Kailee     155\n",
       "Morgan     245"
      ]
     },
     "metadata": {},
     "output_type": "display_data"
    },
    {
     "data": {
      "text/html": [
       "<div>\n",
       "<style scoped>\n",
       "    .dataframe tbody tr th:only-of-type {\n",
       "        vertical-align: middle;\n",
       "    }\n",
       "\n",
       "    .dataframe tbody tr th {\n",
       "        vertical-align: top;\n",
       "    }\n",
       "\n",
       "    .dataframe thead th {\n",
       "        text-align: right;\n",
       "    }\n",
       "</style>\n",
       "<table border=\"1\" class=\"dataframe\">\n",
       "  <thead>\n",
       "    <tr style=\"text-align: right;\">\n",
       "      <th></th>\n",
       "      <th>Bench</th>\n",
       "    </tr>\n",
       "    <tr>\n",
       "      <th>Athlete</th>\n",
       "      <th></th>\n",
       "    </tr>\n",
       "  </thead>\n",
       "  <tbody>\n",
       "    <tr>\n",
       "      <th>Angel</th>\n",
       "      <td>95</td>\n",
       "    </tr>\n",
       "    <tr>\n",
       "      <th>Corina</th>\n",
       "      <td>185</td>\n",
       "    </tr>\n",
       "    <tr>\n",
       "      <th>Molly</th>\n",
       "      <td>155</td>\n",
       "    </tr>\n",
       "    <tr>\n",
       "      <th>Maggie</th>\n",
       "      <td>155</td>\n",
       "    </tr>\n",
       "    <tr>\n",
       "      <th>Kailee</th>\n",
       "      <td>95</td>\n",
       "    </tr>\n",
       "    <tr>\n",
       "      <th>Morgan</th>\n",
       "      <td>115</td>\n",
       "    </tr>\n",
       "  </tbody>\n",
       "</table>\n",
       "</div>"
      ],
      "text/plain": [
       "         Bench\n",
       "Athlete       \n",
       "Angel       95\n",
       "Corina     185\n",
       "Molly      155\n",
       "Maggie     155\n",
       "Kailee      95\n",
       "Morgan     115"
      ]
     },
     "metadata": {},
     "output_type": "display_data"
    },
    {
     "data": {
      "text/html": [
       "<div>\n",
       "<style scoped>\n",
       "    .dataframe tbody tr th:only-of-type {\n",
       "        vertical-align: middle;\n",
       "    }\n",
       "\n",
       "    .dataframe tbody tr th {\n",
       "        vertical-align: top;\n",
       "    }\n",
       "\n",
       "    .dataframe thead th {\n",
       "        text-align: right;\n",
       "    }\n",
       "</style>\n",
       "<table border=\"1\" class=\"dataframe\">\n",
       "  <thead>\n",
       "    <tr style=\"text-align: right;\">\n",
       "      <th></th>\n",
       "      <th>Squat</th>\n",
       "      <th>Bench</th>\n",
       "    </tr>\n",
       "    <tr>\n",
       "      <th>Athlete</th>\n",
       "      <th></th>\n",
       "      <th></th>\n",
       "    </tr>\n",
       "  </thead>\n",
       "  <tbody>\n",
       "    <tr>\n",
       "      <th>Angel</th>\n",
       "      <td>225</td>\n",
       "      <td>95</td>\n",
       "    </tr>\n",
       "    <tr>\n",
       "      <th>Corina</th>\n",
       "      <td>315</td>\n",
       "      <td>185</td>\n",
       "    </tr>\n",
       "    <tr>\n",
       "      <th>Molly</th>\n",
       "      <td>275</td>\n",
       "      <td>155</td>\n",
       "    </tr>\n",
       "    <tr>\n",
       "      <th>Maggie</th>\n",
       "      <td>255</td>\n",
       "      <td>155</td>\n",
       "    </tr>\n",
       "    <tr>\n",
       "      <th>Kailee</th>\n",
       "      <td>155</td>\n",
       "      <td>95</td>\n",
       "    </tr>\n",
       "    <tr>\n",
       "      <th>Morgan</th>\n",
       "      <td>245</td>\n",
       "      <td>115</td>\n",
       "    </tr>\n",
       "  </tbody>\n",
       "</table>\n",
       "</div>"
      ],
      "text/plain": [
       "         Squat  Bench\n",
       "Athlete              \n",
       "Angel      225     95\n",
       "Corina     315    185\n",
       "Molly      275    155\n",
       "Maggie     255    155\n",
       "Kailee     155     95\n",
       "Morgan     245    115"
      ]
     },
     "metadata": {},
     "output_type": "display_data"
    }
   ],
   "source": [
    "#    • left_index and right_index\n",
    "\n",
    "df77b = df77.set_index('Athlete')\n",
    "\n",
    "df75b = pd.DataFrame({'Athlete': ['Angel', 'Corina', 'Molly', 'Maggie', 'Kailee', 'Morgan'],\n",
    "                    'Bench': [95, 185, 155, 155, 95, 115]})\n",
    "df75c= df75b.set_index('Athlete')\n",
    "\n",
    "display(df77b, df75c, pd.merge(df77b, df75c, left_index= True, right_index= True))\n"
   ]
  },
  {
   "cell_type": "markdown",
   "id": "397368bf",
   "metadata": {},
   "source": [
    "## Requirement 24"
   ]
  },
  {
   "cell_type": "markdown",
   "id": "8e332be9",
   "metadata": {},
   "source": [
    "--Use markdown to include a statement at the end of assignment-11.ipynb\n",
    "explaining your experiences with Assignment 11. Make this authentic\n",
    "(minimum of 2-3 sentences).\n",
    "\n",
    "I ran into trouble in Requirement 18 when trying to create an all null row in an existing DataFrame. I couldn't figure out a simple method, and ended up just creating a whole new DataFrame. I know you can add a column easily, and did so. *Stack Overflow has an answer that I just found using .loc().* Requirement 19 was frustrating for me as well. I tried to create my own examples using census data for local cities/towns, but never got the levels to return in the OUT file... I ended up using the book examples, and still did not get the levels to return.\n",
    "\n",
    "I additionally learned to pay more attention to letter case, as I threw a few errors due to not paying attention to Swim vs SWIM.\n",
    "\n",
    "Overall, I like Pandas... I know why Data Science job postings want familiarity with Pandas, as Pandas is more convenient than SQL in my opinion."
   ]
  }
 ],
 "metadata": {
  "kernelspec": {
   "display_name": "Python 3 (ipykernel)",
   "language": "python",
   "name": "python3"
  },
  "language_info": {
   "codemirror_mode": {
    "name": "ipython",
    "version": 3
   },
   "file_extension": ".py",
   "mimetype": "text/x-python",
   "name": "python",
   "nbconvert_exporter": "python",
   "pygments_lexer": "ipython3",
   "version": "3.9.12"
  }
 },
 "nbformat": 4,
 "nbformat_minor": 5
}
