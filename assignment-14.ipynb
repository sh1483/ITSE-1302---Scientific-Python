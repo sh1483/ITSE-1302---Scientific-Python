{
 "cells": [
  {
   "cell_type": "markdown",
   "id": "b4cb5467",
   "metadata": {},
   "source": [
    "# This is Assignment 14 - Steven Haynes"
   ]
  },
  {
   "cell_type": "markdown",
   "id": "ed0e3bf3",
   "metadata": {},
   "source": [
    "## Requirement 3"
   ]
  },
  {
   "cell_type": "code",
   "execution_count": 1,
   "id": "3299822c",
   "metadata": {},
   "outputs": [],
   "source": [
    "# To complete your application, please do the following:\n",
    "#    • Supply a .ipynb file (and .html file) demonstrating your understanding and skills acquired\n",
    "#        from exposure to material covered in your course, ITSE 1302\n",
    "#    • Include markdown cells to explain the code cells\n",
    "#    • Include NumPy, Pandas, Seaborn, and Matplotlib examples\n",
    "#    • Use Seaborn dataset(s) or any dataset(s) of your choosing to demonstrate your data work"
   ]
  },
  {
   "cell_type": "code",
   "execution_count": 1,
   "id": "6b928e7c",
   "metadata": {},
   "outputs": [],
   "source": [
    "# Imports that are or may be needed\n",
    "import math\n",
    "import array\n",
    "import random\n",
    "import matplotlib as mpl\n",
    "import matplotlib.pyplot as plt\n",
    "import numpy as np\n",
    "import pandas as pd\n",
    "import seaborn as sns\n",
    "import pandas_datareader as pdr\n",
    "import pandas_datareader.data as web\n",
    "import os\n",
    "import datetime as dt\n",
    "from itertools import count\n",
    "from IPython.display import Image\n",
    "from matplotlib.legend import Legend\n",
    "%matplotlib inline\n",
    "\n",
    "sns.set()  # set seaborn plot style"
   ]
  },
  {
   "cell_type": "markdown",
   "id": "7d7700c3",
   "metadata": {},
   "source": [
    "### In the below cell you will see examples of the use of different operators."
   ]
  },
  {
   "cell_type": "code",
   "execution_count": 3,
   "id": "e19abe80",
   "metadata": {},
   "outputs": [
    {
     "name": "stdout",
     "output_type": "stream",
     "text": [
      "1+1= 2\n",
      "2-1= 1\n",
      "2*2= 4\n",
      "49/7= 7.0\n",
      "17//7= 8\n",
      "3**2= 9\n"
     ]
    },
    {
     "data": {
      "text/plain": [
       "(True, True, True, True, True, True)"
      ]
     },
     "execution_count": 3,
     "metadata": {},
     "output_type": "execute_result"
    }
   ],
   "source": [
    "# Arithmetic Operators\n",
    "a = 1+1 # Addition\n",
    "b = 2-1 # Subtraction\n",
    "c = 2*2 # Multiplication\n",
    "d = 49/7 # Division\n",
    "e = 17//2 # Floor division\n",
    "f = 3**2 # Exponents\n",
    "\n",
    "print(\"1+1=\", a)\n",
    "print(\"2-1=\", b)\n",
    "print(\"2*2=\", c)\n",
    "print(\"49/7=\", d)\n",
    "print(\"17//7=\", e)\n",
    "print(\"3**2=\", f)\n",
    "\n",
    "# Comparison Operators\n",
    "(4 == 4, # Is equal to\n",
    "4 != 5, # Is not equal to\n",
    "4 < 5, # Is less than\n",
    "5 > 4, # Is greater than\n",
    "4 <= 5, # Is less than or equal to\n",
    "5 >= 4) # Is greater than or equal to"
   ]
  },
  {
   "cell_type": "markdown",
   "id": "04fb74bb",
   "metadata": {},
   "source": [
    "### The cells below demonstrate working with lists."
   ]
  },
  {
   "cell_type": "code",
   "execution_count": 4,
   "id": "ff07426e",
   "metadata": {},
   "outputs": [
    {
     "name": "stdout",
     "output_type": "stream",
     "text": [
      "Even:  [2, 4, 6, 8, 10, 12, 14, 16, 18, 20]\n",
      "Odd:  [1, 3, 5, 7, 9, 11, 13, 15, 17, 19]\n",
      "Values in list_even:  10\n"
     ]
    }
   ],
   "source": [
    "# Creating 2 lists populated with arbitrary numbers.\n",
    "list_1 = [1,2,3,4,5,6,7,8,9,10]\n",
    "list_2 = [11,12,13,14,15,16,17,18,19,20]\n",
    "\n",
    "# Creating 2 empty lists\n",
    "list_even = []\n",
    "list_odd = []\n",
    "\n",
    "# Populating the empty lists programmatically using an if/else loop and .append()\n",
    "for val in list_1:\n",
    "    if val % 2 == 0: # Example of modulus\n",
    "        list_even.append(val)\n",
    "    else:\n",
    "        list_odd.append(val)\n",
    "\n",
    "for val in list_2:\n",
    "    if val % 2 == 0:\n",
    "        list_even.append(val)\n",
    "    else:\n",
    "        list_odd.append(val)\n",
    "        \n",
    "# Printing the now populated lists        \n",
    "print('Even: ', list_even)\n",
    "print('Odd: ', list_odd)\n",
    "\n",
    "print('Values in list_even: ', len(list_even)) # List length\n"
   ]
  },
  {
   "cell_type": "code",
   "execution_count": 5,
   "id": "e27d5356",
   "metadata": {},
   "outputs": [
    {
     "name": "stdout",
     "output_type": "stream",
     "text": [
      "The new list_even:  [2, 4, 6, 8, 10, 12, 14, 16, 18, 20, 22, 24, 26, 28, 30, 32]\n",
      "The new list_odd:  [1, 3, 5, 7, 9, 11, 13, 15, 17, 19, 21, 23, 25, 29, 27]\n",
      "The now sorted list_odd:  [1, 3, 5, 7, 9, 11, 13, 15, 17, 19, 21, 23, 25, 27, 29]\n"
     ]
    }
   ],
   "source": [
    "# Appending values to a list with .append()\n",
    "list_even.append(22)\n",
    "list_even.append(24)\n",
    "list_even.append(26)\n",
    "list_even.append(28)\n",
    "list_even.append(30)\n",
    "list_even.append(32)\n",
    "\n",
    "print('The new list_even: ', list_even)\n",
    "\n",
    "# Appending a literal list with +\n",
    "list_odd = list_odd + [21, 23, 25, 29, 27] \n",
    "print('The new list_odd: ', list_odd)\n",
    "\n",
    "# Using .sort()\n",
    "list_odd.sort() \n",
    "print('The now sorted list_odd: ', list_odd)\n"
   ]
  },
  {
   "cell_type": "code",
   "execution_count": 6,
   "id": "1772d0e9",
   "metadata": {},
   "outputs": [
    {
     "name": "stdout",
     "output_type": "stream",
     "text": [
      "4th element:  8\n",
      "11th:  22\n",
      "3rd from last:  28\n",
      "7th from the end:  20\n",
      "First 4 elements:  [2, 4, 6, 8]\n",
      "Last 5:  [24, 26, 28, 30, 32]\n",
      "Reversed list:  [32, 30, 28, 26, 24, 22, 20, 18, 16, 14, 12, 10, 8, 6, 4, 2]\n",
      "Altering the list:  [2, 4, 6, 8, 10, 12, 14, 16, 18, 20, 22, 24, 26, -99, 30, 32]\n",
      "Every other element:  [2, 6, 10, 14, 18, 22, 26, 30]\n",
      "More alterations:  [2, 4, 6, 8, 10, -77, -77, -77, -77, -77, -77, -77, 24, 26, -99, 30, 32]\n",
      "Loop Index example:  2\n",
      "Loop Index example:  4\n",
      "Loop Index example:  6\n",
      "Loop Index example:  8\n",
      "Loop Index example:  10\n",
      "Loop Index example:  -77\n",
      "Loop Index example:  -77\n",
      "Loop Index example:  -77\n",
      "Loop Index example:  -77\n",
      "Loop Index example:  -77\n",
      "Loop Index example:  -77\n",
      "Loop Index example:  -77\n",
      "Loop Index example:  24\n",
      "Loop Index example:  26\n",
      "Loop Index example:  -99\n",
      "Loop Index example:  30\n",
      "Loop Index example:  32\n"
     ]
    }
   ],
   "source": [
    "# Showing elements in a list by their index\n",
    "print('4th element: ', list_even[3])\n",
    "print('11th: ', list_even[10])\n",
    "print('3rd from last: ', list_even[-3])\n",
    "print('7th from the end: ', list_even[-7])\n",
    "print('First 4 elements: ', list_even[0:4])\n",
    "print('Last 5: ', list_even[-5:])\n",
    "\n",
    "# Reversing the list\n",
    "print('Reversed list: ', list_even[::-1])\n",
    "\n",
    "# Setting the 14th element to -99\n",
    "list_even[13] = -99\n",
    "print('Altering the list: ', list_even)\n",
    "\n",
    "# Alternating elements in the list\n",
    "print('Every other element: ', list_even[::2])\n",
    "\n",
    "# Set elements in the range 6-10 to -77\n",
    "list_even[5:11] = [-77, -77, -77, -77, -77, -77, -77]\n",
    "print('More alterations: ', list_even)\n",
    "\n",
    "# Using a for loop using the content of list_even\n",
    "for index in list_even:\n",
    "    print('Loop Index example: ', index)"
   ]
  },
  {
   "cell_type": "code",
   "execution_count": 7,
   "id": "b97f4dbe",
   "metadata": {},
   "outputs": [
    {
     "name": "stdout",
     "output_type": "stream",
     "text": [
      "I : V\n",
      "_____\n",
      "0 : 1\n",
      "1 : 3\n",
      "2 : 5\n",
      "3 : 7\n",
      "4 : 9\n",
      "5 : 11\n",
      "6 : 13\n",
      "7 : 15\n",
      "8 : 17\n",
      "9 : 19\n",
      "10 : 21\n",
      "11 : 23\n",
      "12 : 25\n",
      "13 : 27\n",
      "14 : 29\n"
     ]
    }
   ],
   "source": [
    "# The index number plus associate item in the list\n",
    "print('I : V')\n",
    "print('_____')\n",
    "\n",
    "for i in range(len(list_odd)):\n",
    "        print(i, ':', list_odd[i])\n"
   ]
  },
  {
   "cell_type": "code",
   "execution_count": 8,
   "id": "12b0efa0",
   "metadata": {},
   "outputs": [
    {
     "name": "stdout",
     "output_type": "stream",
     "text": [
      "I : V\n",
      "_____\n",
      "0 : 1\n",
      "1 : 3\n",
      "2 : 5\n",
      "3 : 7\n",
      "4 : 9\n",
      "5 : 11\n",
      "6 : 13\n",
      "7 : 15\n",
      "8 : 17\n",
      "9 : 19\n",
      "10 : 21\n",
      "11 : 23\n",
      "12 : 25\n",
      "13 : 27\n",
      "14 : 29\n"
     ]
    }
   ],
   "source": [
    "# Use the enumerate iterator to perform the same actions as the previous requirement\n",
    "\n",
    "# Iterate through each index and value using the enumerate iterator\n",
    "print('I : V')\n",
    "print('_____')\n",
    "for i, val in enumerate(list_odd):\n",
    "        print(i, ':', val)"
   ]
  },
  {
   "cell_type": "code",
   "execution_count": 9,
   "id": "080c3dac",
   "metadata": {},
   "outputs": [
    {
     "name": "stdout",
     "output_type": "stream",
     "text": [
      "L  R\n",
      "_____\n",
      "1 2\n",
      "3 4\n",
      "5 6\n",
      "7 8\n",
      "9 10\n",
      "11 -77\n",
      "13 -77\n",
      "15 -77\n",
      "17 -77\n",
      "19 -77\n",
      "21 -77\n",
      "23 -77\n",
      "25 24\n",
      "27 26\n",
      "29 -99\n"
     ]
    }
   ],
   "source": [
    "# Using zip()\n",
    "print('L  R')\n",
    "print('_____')\n",
    "for lval, rval in zip(list_odd, list_even):\n",
    "        print(lval, rval)\n"
   ]
  },
  {
   "cell_type": "markdown",
   "id": "316cc9a8",
   "metadata": {},
   "source": [
    "### Using is_integer to test if values are integers or not."
   ]
  },
  {
   "cell_type": "code",
   "execution_count": 10,
   "id": "87015fc1",
   "metadata": {},
   "outputs": [
    {
     "name": "stdout",
     "output_type": "stream",
     "text": [
      "4.5 is NOT an integer.\n",
      "-4.5 is NOT an integer.\n",
      "3.5 is NOT an integer.\n",
      "4.0 is an integer.\n",
      "1.0 is an integer.\n"
     ]
    }
   ],
   "source": [
    "# Demo the use of the method is_integer() to test if numbers qualify as integers\n",
    "\n",
    "x_list = [4.5, -4.5, 7/2, 4.0, 4/4]\n",
    "for val in x_list:\n",
    "    if val.is_integer():\n",
    "        print(val,\"is an integer.\")\n",
    "    else:\n",
    "        print(val,\"is NOT an integer.\")"
   ]
  },
  {
   "cell_type": "markdown",
   "id": "9267c58d",
   "metadata": {},
   "source": [
    "### Use of Boolean, Identity, and Membership Operations."
   ]
  },
  {
   "cell_type": "code",
   "execution_count": 11,
   "id": "9b8e80ed",
   "metadata": {},
   "outputs": [
    {
     "name": "stdout",
     "output_type": "stream",
     "text": [
      "False\n",
      "True\n",
      "True\n",
      "\n",
      "False\n",
      "True\n",
      "\n",
      "True\n",
      "False\n",
      "\n"
     ]
    }
   ],
   "source": [
    "# Boolean operations\n",
    "x = 5\n",
    "\n",
    "print((x > 6) and (x > 4)) # AND both\n",
    "print((x < 7) or (x > 10)) # One OR the other\n",
    "print(not (x < 3)) # NOT\n",
    "print(\"\")\n",
    "\n",
    "# Identity operations\n",
    "list_a = [1, 4, 5]\n",
    "list_b = [6, 7, 9]\n",
    "print(list_a is list_b) # Identical list check\n",
    "print(list_a is not list_b) # Dissimilar list check\n",
    "print(\"\")\n",
    "\n",
    "# Membership operations\n",
    "print(1 in list_a) # Test if a value exists in a list\n",
    "print(1 not in list_a) # Value not existing within a list\n",
    "print(\"\")"
   ]
  },
  {
   "cell_type": "markdown",
   "id": "31d6e189",
   "metadata": {},
   "source": [
    "### Demonstrating variable precision."
   ]
  },
  {
   "cell_type": "code",
   "execution_count": 12,
   "id": "8b3c09cf",
   "metadata": {},
   "outputs": [
    {
     "name": "stdout",
     "output_type": "stream",
     "text": [
      "1606938044258990275541962092341162602522202993782792835301376\n",
      "\n",
      "136891479058588375991326027382088315966463695625337436471480190078368997177499076593800206155688941388250484440597994042813512732765695774566001\n",
      "\n",
      "6668014432879854274079851790721257797144758322315908160396257811764037237817632071521432200871554290742929910593433240445888801654119365080363356052330830046095157579514014558463078285911814024728965016135886601981690748037476461291163877376\n"
     ]
    }
   ],
   "source": [
    "print(2**200)\n",
    "print(\"\")\n",
    "print(3**300)\n",
    "print(\"\")\n",
    "print(4**400)\n"
   ]
  },
  {
   "cell_type": "markdown",
   "id": "275b42de",
   "metadata": {},
   "source": [
    "### Demonstrating operations with strings."
   ]
  },
  {
   "cell_type": "code",
   "execution_count": 13,
   "id": "d5d076b2",
   "metadata": {},
   "outputs": [
    {
     "name": "stdout",
     "output_type": "stream",
     "text": [
      "string is: 32 characters.\n",
      "All caps: I LIKE CHEESEBURGERS, NO ONIONS.\n",
      "First caps: I like cheeseburgers, no onions.\n",
      "Concatenate: i like cheeseburgers, no onions.i like veggie burgers, extra onions!\n",
      "Play it again, Sam: i like cheeseburgers, no onions.i like cheeseburgers, no onions.\n",
      "n\n",
      "o\n"
     ]
    }
   ],
   "source": [
    "myString = \"i like cheeseburgers, no onions.\"\n",
    "yourString = \"i like veggie burgers, extra onions!\"\n",
    "print(\"string is:\", len(myString),\"characters.\") # String length\n",
    "print(\"All caps:\", myString.upper()) # Using upper()\n",
    "print(\"First caps:\", myString.capitalize()) # Capitalize the first letter\n",
    "print(\"Concatenate:\", myString + yourString) # Concatenation\n",
    "print(\"Play it again, Sam:\", 2 * myString) # Repeating\n",
    "print(myString[-10]) # Index Selection\n",
    "print(myString[-9])"
   ]
  },
  {
   "cell_type": "markdown",
   "id": "272f3f0e",
   "metadata": {},
   "source": [
    "### Working with Dictionaries in the cell below."
   ]
  },
  {
   "cell_type": "code",
   "execution_count": 14,
   "id": "2a0e96b1",
   "metadata": {},
   "outputs": [
    {
     "name": "stdout",
     "output_type": "stream",
     "text": [
      "Original dictionary:  {'GK': 'Stuver', 'RB': 'Lima', 'CB1': 'Cascante', 'CB2': 'Gabrielsen', 'LB': 'Kolmanic', 'DMF1': 'Ring', 'DMF2': 'Pereira', 'MF1': 'Fagundez', 'CM': 'Druisi', 'MF2': 'Dominguez'}\n",
      "Making a change:  {'GK': 'Stuver', 'RB': 'Lima', 'CB1': 'Cascante', 'CB2': 'Gabrielsen', 'LB': 'Kolmanic', 'DMF1': 'Ring', 'DMF2': 'Wolff', 'MF1': 'Fagundez', 'CM': 'Druisi', 'MF2': 'Dominguez'}\n",
      "Updated dictionary:  {'GK': 'Stuver', 'RB': 'Lima', 'CB1': 'Cascante', 'CB2': 'Gabrielsen', 'LB': 'Kolmanic', 'DMF1': 'Ring', 'DMF2': 'Wolff', 'MF1': 'Fagundez', 'CM': 'Druisi', 'MF2': 'Dominguez', 'FWD': 'Urruiti'}\n"
     ]
    }
   ],
   "source": [
    "# Create a dictionary populated with 9+ player positions and names as key::value pairs.\n",
    "\n",
    "players_soccer = {\"GK\": \"Stuver\", \"RB\": \"Lima\", \"CB1\": \"Cascante\", \"CB2\": \"Gabrielsen\", \"LB\": \"Kolmanic\",\n",
    "                  \"DMF1\": \"Ring\", \"DMF2\": \"Pereira\", \"MF1\": \"Fagundez\", \"CM\": \"Druisi\", \"MF2\": \"Dominguez\"}\n",
    "print('Original dictionary: ', players_soccer)\n",
    "\n",
    "# Change a key::value pair\n",
    "players_soccer[\"DMF2\"] = \"Wolff\"\n",
    "print('Making a change: ', players_soccer)\n",
    "\n",
    "# Add a new key::value pair\n",
    "players_soccer[\"FWD\"] = \"Urruiti\"\n",
    "print('Updated dictionary: ', players_soccer)\n"
   ]
  },
  {
   "cell_type": "markdown",
   "id": "53c7d4f2",
   "metadata": {},
   "source": [
    "### Working with Tuples below."
   ]
  },
  {
   "cell_type": "code",
   "execution_count": 17,
   "id": "03f96540",
   "metadata": {},
   "outputs": [
    {
     "name": "stdout",
     "output_type": "stream",
     "text": [
      "(1, 2, 0, 5, 6, 8, 9)\n"
     ]
    }
   ],
   "source": [
    "# Create a tuple named tuple_1 with 7 arbitrary numbers. Tuples are immutable.\n",
    "tuple_1 = (1, 2, 0, 5, 6, 8, 9)\n",
    "print(tuple_1)\n"
   ]
  },
  {
   "cell_type": "markdown",
   "id": "45ee123a",
   "metadata": {},
   "source": [
    "### Working with Sets."
   ]
  },
  {
   "cell_type": "code",
   "execution_count": 18,
   "id": "e3f3cea6",
   "metadata": {},
   "outputs": [
    {
     "name": "stdout",
     "output_type": "stream",
     "text": [
      "{'Judas', 'James', 'Matthew', 'Philip', 'John', 'Simon', 'Thomas', 'Andrew', 'Peter', 'Luke'}\n",
      "{'Judas', 'Athos', 'Bartholomew', 'James', \"D'Artagnan\", 'Aramis', 'Simon', 'Jesus', 'Mark', 'Porthos'}\n",
      "\n",
      "This is a union:  {'Athos', 'James', 'Aramis', 'Jesus', 'Mark', 'Thomas', 'Porthos', 'Judas', 'Bartholomew', 'Matthew', \"D'Artagnan\", 'Philip', 'John', 'Simon', 'Andrew', 'Peter', 'Luke'}\n",
      "This is an intersection:  {'Judas', 'James', 'Simon'}\n",
      "This is the difference:  {'Matthew', 'Philip', 'John', 'Thomas', 'Andrew', 'Peter', 'Luke'}\n",
      "This is the symmetric difference:  {'Athos', 'Bartholomew', \"D'Artagnan\", 'Matthew', 'Aramis', 'Philip', 'John', 'Jesus', 'Mark', 'Peter', 'Thomas', 'Andrew', 'Porthos', 'Luke'}\n"
     ]
    }
   ],
   "source": [
    "# Create two sets named hatfields and mccoys. Each set contains 10 names, some in common.\n",
    "beatles = {'Matthew', 'Simon', 'Luke', 'John', 'Peter', 'Thomas', 'Andrew', 'James', 'Philip', 'Judas'}\n",
    "monkees = {'Bartholomew', 'Judas', 'Simon', 'Mark', 'James', 'Athos', 'Porthos', 'Aramis', \"D'Artagnan\", 'Jesus'}\n",
    "\n",
    "print(beatles)\n",
    "print(monkees)\n",
    "print(\"\")\n",
    "\n",
    "# Demonstrate set operations\n",
    "print(\"This is a union: \", beatles | monkees)\n",
    "print(\"This is an intersection: \", beatles & monkees)\n",
    "print(\"This is the difference: \", beatles - monkees)\n",
    "print(\"This is the symmetric difference: \", beatles ^ monkees)\n"
   ]
  },
  {
   "cell_type": "markdown",
   "id": "5dafec14",
   "metadata": {},
   "source": [
    "### Using an if/elif/else loop."
   ]
  },
  {
   "cell_type": "code",
   "execution_count": 19,
   "id": "4b043e28",
   "metadata": {},
   "outputs": [
    {
     "name": "stdout",
     "output_type": "stream",
     "text": [
      "Enter 'hot' if it is hot, 'cold' if it is cold, and 'perfect' if it is perfect outside right now: perfect\n",
      "Open the windows!\n"
     ]
    }
   ],
   "source": [
    "\n",
    "\n",
    "weather = input(\"Enter 'hot' if it is hot, 'cold' if it is cold, and 'perfect' if it is perfect outside right now: \")\n",
    "if weather == 'hot':\n",
    "    print(\"Turn the thermostat down!\")\n",
    "elif weather == 'cold':\n",
    "    print(\"Turn up the heat!\")\n",
    "else:\n",
    "    print(\"Open the windows!\")\n"
   ]
  },
  {
   "cell_type": "markdown",
   "id": "835264ee",
   "metadata": {},
   "source": [
    "### Using a while loop."
   ]
  },
  {
   "cell_type": "code",
   "execution_count": 20,
   "id": "efa60665",
   "metadata": {},
   "outputs": [
    {
     "name": "stdout",
     "output_type": "stream",
     "text": [
      "4\n",
      "5\n",
      "6\n",
      "7\n",
      "8\n",
      "\n",
      "1\n",
      "2\n",
      "3\n",
      "4\n",
      "5\n",
      "6\n"
     ]
    }
   ],
   "source": [
    "# Demo the use of i=4 to 9 in a while loop (iterates 5 times)\n",
    "i = 4\n",
    "while i < 9:\n",
    "    print(i)\n",
    "    i += 1\n",
    "\n",
    "print(\"\")\n",
    "\n",
    "# Demo the use of i=1 to 6 in a while loop (iterates 6 times)\n",
    "\n",
    "i = 1\n",
    "while i <= 6:\n",
    "    print(i)\n",
    "    i += 1\n",
    "    "
   ]
  },
  {
   "cell_type": "markdown",
   "id": "f7d334f8",
   "metadata": {},
   "source": [
    "### Defining and using functions."
   ]
  },
  {
   "cell_type": "code",
   "execution_count": 21,
   "id": "0214bba6",
   "metadata": {},
   "outputs": [
    {
     "name": "stdout",
     "output_type": "stream",
     "text": [
      "Enter a number:75\n",
      "The factorial is:  24809140811395398091946477116594033660926243886570122837795894512655842677572867409443815424000000000000000000\n"
     ]
    }
   ],
   "source": [
    "# Define and use a function named factorial() that returns the factorial of a\n",
    "# number that is passed to it as an argument when called.\n",
    "\n",
    "def main():\n",
    "    # Call the factorial function\n",
    "    print(\"The factorial is: \", factorial())\n",
    "\n",
    "\n",
    "def factorial():\n",
    "    # Set accumulator to zero\n",
    "    total = 1\n",
    "    # Get user input for N\n",
    "    N = int(input(\"Enter a number:\"))\n",
    "\n",
    "    # For each number in the range 1 to N\n",
    "    for i in range(total, N + 1):\n",
    "        # Total = total * i\n",
    "        total = i * total\n",
    "\n",
    "    return total\n",
    "\n",
    "\n",
    "main()\n"
   ]
  },
  {
   "cell_type": "code",
   "execution_count": 22,
   "id": "e8831578",
   "metadata": {},
   "outputs": [
    {
     "name": "stdout",
     "output_type": "stream",
     "text": [
      "arguments =  ('beet', 'squash')\n",
      "keywords =  {'red': 'root', 'yellow': 'root'}\n"
     ]
    }
   ],
   "source": [
    "# Define and use a function named vegetables() that takes numbers of\n",
    "# vegetables as *args and names of vegetables as **kwargs\n",
    "def main():\n",
    "\n",
    "    # Provide the argument and keyword pair\n",
    "    vegetables('beet', 'squash', red='root', yellow='root')\n",
    "\n",
    "\n",
    "# Define vegetables function\n",
    "def vegetables(*veg, **keys):\n",
    "    print(\"arguments = \", veg)\n",
    "    print(\"keywords = \", keys)\n",
    "\n",
    "\n",
    "main()\n"
   ]
  },
  {
   "cell_type": "markdown",
   "id": "72bdf539",
   "metadata": {},
   "source": [
    "### Working with Lists, Dictionaries and Lambdas"
   ]
  },
  {
   "cell_type": "code",
   "execution_count": 23,
   "id": "9804cb21",
   "metadata": {},
   "outputs": [
    {
     "name": "stdout",
     "output_type": "stream",
     "text": [
      "Sorted alphabetically by power type:  [{'make': 'Toyota', 'model': 'Hilux', 'power': 'diesel'}, {'make': 'Tesla', 'model': 'Model 3', 'power': 'electric'}, {'make': 'Honda', 'model': 'Civic', 'power': 'gas'}]\n",
      "\n",
      "Sorted alphabetically by model:  [{'make': 'Honda', 'model': 'Civic', 'power': 'gas'}, {'make': 'Toyota', 'model': 'Hilux', 'power': 'diesel'}, {'make': 'Tesla', 'model': 'Model 3', 'power': 'electric'}]\n"
     ]
    }
   ],
   "source": [
    "# A list named cars that contains three dictionaries each with three key::value pairs. The key::value pairs\n",
    "# represent three common attributes::values of automobiles\n",
    "\n",
    "cars = [{'make': \"Honda\", 'model': \"Civic\", 'power': \"gas\"},\n",
    "        {'make': \"Tesla\", 'model': \"Model 3\", 'power': \"electric\"},\n",
    "        {'make': \"Toyota\", 'model': \"Hilux\", 'power': \"diesel\"}]\n",
    "\n",
    "# Pass the cars list to the sorted built-in function and use a lambda to sort the cars list\n",
    "print(\"Sorted alphabetically by power type: \", sorted(cars, key=lambda item: item['power']))\n",
    "\n",
    "print(\"\")\n",
    "\n",
    "# Sort again using a different key\n",
    "print(\"Sorted alphabetically by model: \", sorted(cars, key=lambda item: item['model']))\n"
   ]
  },
  {
   "cell_type": "markdown",
   "id": "3a52a7e1",
   "metadata": {},
   "source": [
    "### More looping."
   ]
  },
  {
   "cell_type": "code",
   "execution_count": 24,
   "id": "d865f45c",
   "metadata": {},
   "outputs": [
    {
     "name": "stdout",
     "output_type": "stream",
     "text": [
      "This is impossible!\n",
      "Math is hard!\n"
     ]
    }
   ],
   "source": [
    "try:\n",
    "    print(math.sqrt(-75))\n",
    "\n",
    "except:\n",
    "    print(\"This is impossible!\")\n",
    "\n",
    "else:\n",
    "    print(\"I can do that.\")\n",
    "\n",
    "finally:\n",
    "    print(\"Math is hard!\")\n"
   ]
  },
  {
   "cell_type": "markdown",
   "id": "46a085a9",
   "metadata": {},
   "source": [
    "### Lambda loop with map() and range()"
   ]
  },
  {
   "cell_type": "code",
   "execution_count": 25,
   "id": "f85a4c08",
   "metadata": {},
   "outputs": [
    {
     "name": "stdout",
     "output_type": "stream",
     "text": [
      "0\n",
      "12\n",
      "24\n",
      "36\n",
      "48\n"
     ]
    }
   ],
   "source": [
    "# Create a lambda named times_ten that multiplies the variable x by 12. Use the map iterator and range(5) to evaluate\n",
    "# the lambda in a for loop\n",
    "\n",
    "# Lambda named times_twelve that multiplies x by 12\n",
    "times_twelve = lambda x: x * 12\n",
    "\n",
    "# Loop that uses map and range to iterate through times_twelve\n",
    "for val in map(times_twelve, range(5)):\n",
    "        print(val)\n"
   ]
  },
  {
   "cell_type": "markdown",
   "id": "53b751d4",
   "metadata": {},
   "source": [
    "### Lambda loop using Modulus and range()"
   ]
  },
  {
   "cell_type": "code",
   "execution_count": null,
   "id": "6c770ccd",
   "metadata": {},
   "outputs": [],
   "source": [
    "# Lambda named by_seven that returns true if x is divisible by 7.\n",
    "by_seven = lambda x: x % 7 == 0\n",
    "\n",
    "# Return values in range(77) divisible by 7\n",
    "for val in filter(by_seven, range(77)):\n",
    "    print(val)\n"
   ]
  },
  {
   "cell_type": "markdown",
   "id": "e4a13e7d",
   "metadata": {},
   "source": [
    "List Comprehension, range() and multiples."
   ]
  },
  {
   "cell_type": "code",
   "execution_count": 171,
   "id": "9b40944f",
   "metadata": {},
   "outputs": [
    {
     "name": "stdout",
     "output_type": "stream",
     "text": [
      "[1, 2, 3, 4, 6, 7, 8, 9, 11, 12, 13, 14, 16, 17, 18, 19]\n"
     ]
    }
   ],
   "source": [
    "# Using list comprehension to output a list with numbers that are\n",
    "# not multiples of 5 and not equal to 5 or 15, within a range of 20.\n",
    "new_list = [val for val in range(20)\n",
    "       if val % 5 > 0 if val != 5 if val != 15]\n",
    "\n",
    "print(new_list)"
   ]
  },
  {
   "cell_type": "code",
   "execution_count": 163,
   "id": "84520ded",
   "metadata": {},
   "outputs": [
    {
     "name": "stdout",
     "output_type": "stream",
     "text": [
      "[1, 2, 3, 4, 6, 7, 8, 9, 11, 12, 13, 14, 16, 17, 18, 19]\n"
     ]
    }
   ],
   "source": [
    "# Same as above, but using loop syntax instead of list comprehension.\n",
    "\n",
    "a_list = []\n",
    "\n",
    "for val in range(20):\n",
    "    if val % 5:     # If the value modulus 5\n",
    "        a_list.append(val)\n",
    "    if 5 in a_list:    # Remove instances of 5\n",
    "        a_list.remove(5)\n",
    "    if 15 in a_list:    # Remove instances of 15\n",
    "        a_list.remove(15)\n",
    "    \n",
    "print(a_list)\n"
   ]
  },
  {
   "cell_type": "code",
   "execution_count": 172,
   "id": "ea9a2639",
   "metadata": {},
   "outputs": [
    {
     "name": "stdout",
     "output_type": "stream",
     "text": [
      "[0, -1, 2, -3, 4, -5, 6, -7, 8, -9, 10, -11, 12, -13, 14, -15, 16, -17, 18, -19]\n"
     ]
    }
   ],
   "source": [
    "# Using list comprehension to output a list with positive numbers that are even and negative numbers that are odd.\n",
    "\n",
    "new_list2 = [-val if val % 2 else val\n",
    " for val in range(20)]\n",
    "\n",
    "print(new_list2)\n"
   ]
  },
  {
   "cell_type": "markdown",
   "id": "cc7b9175",
   "metadata": {},
   "source": [
    "Set comprehension."
   ]
  },
  {
   "cell_type": "code",
   "execution_count": 29,
   "id": "1cccec4d",
   "metadata": {},
   "outputs": [
    {
     "data": {
      "text/plain": [
       "{0, 1, 2, 3, 4, 5, 6}"
      ]
     },
     "execution_count": 29,
     "metadata": {},
     "output_type": "execute_result"
    }
   ],
   "source": [
    "# Using set comprehension to output a set of numbers based on a % 7.\n",
    "\n",
    "{a % 7 for a in range(1000)}"
   ]
  },
  {
   "cell_type": "markdown",
   "id": "aa0fc087",
   "metadata": {},
   "source": [
    "Dictionary comprehension."
   ]
  },
  {
   "cell_type": "code",
   "execution_count": 30,
   "id": "c149c783",
   "metadata": {},
   "outputs": [
    {
     "data": {
      "text/plain": [
       "{0: 0,\n",
       " 1: 1,\n",
       " 2: 16,\n",
       " 3: 81,\n",
       " 4: 256,\n",
       " 5: 625,\n",
       " 6: 1296,\n",
       " 7: 2401,\n",
       " 8: 4096,\n",
       " 9: 6561,\n",
       " 10: 10000,\n",
       " 11: 14641,\n",
       " 12: 20736,\n",
       " 13: 28561,\n",
       " 14: 38416,\n",
       " 15: 50625,\n",
       " 16: 65536,\n",
       " 17: 83521,\n",
       " 18: 104976,\n",
       " 19: 130321}"
      ]
     },
     "execution_count": 30,
     "metadata": {},
     "output_type": "execute_result"
    }
   ],
   "source": [
    "# Using dictionary comprehension to output a dictionary of numbers (i) as keys and their quads (i**4) as values.\n",
    "\n",
    "{i:i**4 for i in range(20)}\n"
   ]
  },
  {
   "cell_type": "markdown",
   "id": "167effd2",
   "metadata": {},
   "source": [
    "Using Generators."
   ]
  },
  {
   "cell_type": "code",
   "execution_count": 31,
   "id": "a8a2ed43",
   "metadata": {},
   "outputs": [
    {
     "name": "stdout",
     "output_type": "stream",
     "text": [
      "<generator object <genexpr> at 0x00000209BD37AF90> \n",
      "\n",
      "1 3 5 7 9 11 13 15 17 19 21 23 25 27 29 31 33 35 37 39 41 43 45 47 49 "
     ]
    }
   ],
   "source": [
    "# Using a generator function to create a generator named G of odd numbers, print the type of G,\n",
    "# and then print the contents of G.\n",
    "\n",
    "count()\n",
    "\n",
    "counter = [range(50)]     # Set the counter to a list range(50)\n",
    "G = (i for i in count() if all(i % 2 != 0 for n in counter))    # It goes in g if it is a modulus of 2\n",
    "print(G, '\\n')    # Print generator type\n",
    "\n",
    "for val in G:\n",
    "    if val > 50: break    # Stop at 50\n",
    "    print(val, end=' ')\n",
    "    "
   ]
  },
  {
   "cell_type": "code",
   "execution_count": 32,
   "id": "ceb9cd07",
   "metadata": {},
   "outputs": [
    {
     "name": "stdout",
     "output_type": "stream",
     "text": [
      "0.0 0.5 1.0 1.5 2.0 2.5 3.0 3.5 4.0 4.5 5.0 5.5 6.0 6.5 7.0\n",
      "0.0 0.5 1.0 1.5 2.0 2.5 3.0 3.5 4.0 4.5 5.0 5.5 6.0 6.5 7.0\n"
     ]
    }
   ],
   "source": [
    "G1 = (n / 2 for n in range(15))    # Divide n by 2 for 0-14\n",
    "\n",
    "def gen():    # Define gen() as 0-14/2\n",
    "    for n in range(15):\n",
    "        yield n / 2\n",
    "\n",
    "G2 = gen()    # Make G2 = gen()\n",
    "print(*G1)\n",
    "print(*G2)\n"
   ]
  },
  {
   "cell_type": "code",
   "execution_count": 33,
   "id": "c41a77cc",
   "metadata": {},
   "outputs": [
    {
     "name": "stdout",
     "output_type": "stream",
     "text": [
      "2 3 5 7 11 13 17 19 23 29 31 37 41 43 47 53\n"
     ]
    }
   ],
   "source": [
    "# Using a generator defined as a function to output prime numbers < 55\n",
    "\n",
    "def gen_primes(N):    \n",
    "    \n",
    "    primes = set()    \n",
    "    for n in range(2, N): \n",
    "        if all(n % p > 0 for p in primes):    # If the number only divides by 1 and itself\n",
    "            primes.add(n)    # Store it in primes\n",
    "            yield n    \n",
    "\n",
    "print(*gen_primes(55))    \n"
   ]
  },
  {
   "cell_type": "markdown",
   "id": "dee3c00b",
   "metadata": {},
   "source": [
    "Using string methods."
   ]
  },
  {
   "cell_type": "code",
   "execution_count": 34,
   "id": "a03be5ed",
   "metadata": {},
   "outputs": [
    {
     "name": "stdout",
     "output_type": "stream",
     "text": [
      "THE HAIRY KITTY PURRS.\n",
      "the hairy kitty purrs.\n",
      "The Call Of The Wild\n",
      "     No Spaces      \n",
      "No Spaces      \n",
      "     No Spaces\n",
      "45567\n",
      "4\n",
      "True\n",
      "False\n",
      "The Bald Kitty Purrs.\n",
      "['The', 'Hairy', 'Kitty', 'Purrs.']\n",
      "milk--eggs--bread\n",
      "milk\n",
      "eggs\n",
      "bread\n",
      "pi = 3.141592654\n"
     ]
    }
   ],
   "source": [
    "\n",
    "kitty = \"The Hairy Kitty Purrs.\" # Converting upper case to lower case\n",
    "kitty.upper()\n",
    "print(kitty.upper())\n",
    "kitty.lower()\n",
    "print(kitty.lower())\n",
    "\n",
    "title = \"the call of the wild\" # Convert to title case\n",
    "print(title.title())\n",
    "\n",
    "spacedOut = \"     No Spaces      \" # Removing leading and trailing spaces\n",
    "print(spacedOut)\n",
    "print(spacedOut.lstrip())\n",
    "print(spacedOut.rstrip())\n",
    "\n",
    "num = \"0045567\"    # Stripping leading zeros\n",
    "print(num.strip('0'))\n",
    "\n",
    "print(kitty.index('Hairy'))    # Index\n",
    "print(kitty.endswith('Purrs.'))    # Ends with a string\n",
    "print(kitty.startswith('Finger'))    # Starts with a string\n",
    "print(kitty.replace('Hairy', 'Bald'))    # Replacing a substring with another substring\n",
    "print(kitty.split())    # Split\n",
    "\n",
    "print('--'.join(['milk', 'eggs', 'bread']))    # Join with -- separators\n",
    "\n",
    "print(\"\\n\".join(['milk', 'eggs', 'bread']))    # Using join to print each element on its own line\n",
    "\n",
    "pi = 3.14159265359\n",
    "print(\"pi = {0:.9f}\".format(pi))    # Using format to get pi rounded to the billionth\n"
   ]
  },
  {
   "cell_type": "markdown",
   "id": "3ba22c17",
   "metadata": {},
   "source": [
    "Writing and calling a function, using a docstring."
   ]
  },
  {
   "cell_type": "code",
   "execution_count": 36,
   "id": "dfd33852",
   "metadata": {},
   "outputs": [
    {
     "name": "stdout",
     "output_type": "stream",
     "text": [
      "Enter an integer: 7\n",
      "7 to the 5th power is:  16807\n"
     ]
    }
   ],
   "source": [
    "# A function pent() that raises an argument to the fifth power and returns that argument.\n",
    "\n",
    "# Create the main function to get a number from the user.\n",
    "def main():\n",
    "    value = int(input(\"Enter an integer: \"))\n",
    "    # Call the pent function\n",
    "    pent(value)\n",
    "    \n",
    "    \n",
    "    # Define the pent function\n",
    "def pent(number):\n",
    "    # Create the docstring for the pent function\n",
    "    \"\"\"Return the pent of value.\"\"\"\n",
    "    result = number ** 5\n",
    "    print(number, 'to the 5th power is: ', result)\n",
    "\n",
    "\n",
    "main()\n"
   ]
  },
  {
   "cell_type": "code",
   "execution_count": 37,
   "id": "0e6e2dcc",
   "metadata": {},
   "outputs": [],
   "source": [
    "# Displaying  the docstring and source code of pent() \n",
    "\n",
    "# View the docstring\n",
    "pent?\n",
    "# View the source code\n",
    "pent??\n"
   ]
  },
  {
   "cell_type": "markdown",
   "id": "a989c769",
   "metadata": {},
   "source": [
    "Magic commands and timing."
   ]
  },
  {
   "cell_type": "code",
   "execution_count": 38,
   "id": "6ba37429",
   "metadata": {},
   "outputs": [
    {
     "name": "stdout",
     "output_type": "stream",
     "text": [
      "1.48 ms ± 72.1 µs per loop (mean ± std. dev. of 7 runs, 1,000 loops each)\n"
     ]
    }
   ],
   "source": [
    "%timeit R = [n ** 3 for n in range(2500)]\n"
   ]
  },
  {
   "cell_type": "code",
   "execution_count": 39,
   "id": "88a7a25f",
   "metadata": {},
   "outputs": [
    {
     "name": "stdout",
     "output_type": "stream",
     "text": [
      "CPU times: total: 0 ns\n",
      "Wall time: 0 ns\n"
     ]
    },
    {
     "data": {
      "text/plain": [
       "4516391051643"
      ]
     },
     "execution_count": 39,
     "metadata": {},
     "output_type": "execute_result"
    }
   ],
   "source": [
    "%time 574865492 + 4515816186151\n"
   ]
  },
  {
   "cell_type": "code",
   "execution_count": 40,
   "id": "1f680e83",
   "metadata": {},
   "outputs": [
    {
     "name": "stdout",
     "output_type": "stream",
     "text": [
      "Exception reporting mode: Verbose\n"
     ]
    },
    {
     "ename": "ZeroDivisionError",
     "evalue": "division by zero",
     "output_type": "error",
     "traceback": [
      "\u001b[1;31m---------------------------------------------------------------------------\u001b[0m",
      "\u001b[1;31mZeroDivisionError\u001b[0m                         Traceback (most recent call last)",
      "Input \u001b[1;32mIn [40]\u001b[0m, in \u001b[0;36m<cell line: 6>\u001b[1;34m()\u001b[0m\n\u001b[0;32m      1\u001b[0m \u001b[38;5;66;03m# Demonstrate the use of the debugger with the exceptions thrown\u001b[39;00m\n\u001b[0;32m      2\u001b[0m \u001b[38;5;66;03m# Get as much error info as possible with Verbose\u001b[39;00m\n\u001b[0;32m      4\u001b[0m get_ipython()\u001b[38;5;241m.\u001b[39mrun_line_magic(\u001b[38;5;124m'\u001b[39m\u001b[38;5;124mxmode\u001b[39m\u001b[38;5;124m'\u001b[39m, \u001b[38;5;124m'\u001b[39m\u001b[38;5;124mVerbose\u001b[39m\u001b[38;5;124m'\u001b[39m)\n\u001b[1;32m----> 6\u001b[0m \u001b[43ma\u001b[49m\u001b[38;5;241;43m/\u001b[39;49m\u001b[38;5;241;43m0\u001b[39;49m\n        a \u001b[1;34m= 2\u001b[0m\n\u001b[0;32m      7\u001b[0m get_ipython()\u001b[38;5;241m.\u001b[39mrun_line_magic(\u001b[38;5;124m'\u001b[39m\u001b[38;5;124mdebug\u001b[39m\u001b[38;5;124m'\u001b[39m, \u001b[38;5;124m'\u001b[39m\u001b[38;5;124m'\u001b[39m)\n",
      "\u001b[1;31mZeroDivisionError\u001b[0m: division by zero"
     ]
    }
   ],
   "source": [
    "# Demonstrate the use of the debugger with the exceptions thrown\n",
    "# Get as much error info as possible with Verbose\n",
    "\n",
    "%xmode Verbose \n",
    "\n",
    "a/0\n",
    "%debug\n"
   ]
  },
  {
   "cell_type": "markdown",
   "id": "3ba9ba1f",
   "metadata": {},
   "source": [
    "Lists and conversions."
   ]
  },
  {
   "cell_type": "code",
   "execution_count": 174,
   "id": "432d218b",
   "metadata": {},
   "outputs": [
    {
     "name": "stdout",
     "output_type": "stream",
     "text": [
      "[1, 2, 3, 4, 5, 6, 7, 8, 9, 10, 11, 12, 13, 14, 15, 16, 17, 18, 19, 20]\n",
      "['1', '2', '3', '4', '5', '6', '7', '8', '9', '10', '11', '12', '13', '14', '15', '16', '17', '18', '19', '20']\n",
      "[<class 'int'>, <class 'str'>, <class 'bool'>, <class 'float'>, <class 'complex'>]\n"
     ]
    }
   ],
   "source": [
    "del list    # Clear out the shadowed list so we can use it again.\n",
    "\n",
    "L1 = list(range(1,21))    # Creating a list.\n",
    "print(L1)\n",
    "\n",
    "L2 = [str (c) for c in L1]    # Converting the numbers in the list to strings, storing in a new list.\n",
    "print(L2)\n",
    "\n",
    "# Demonstrate a heterogeneous list with at least 5 different data types.\n",
    "\n",
    "L3 = [2, 'two', True, 23.42, complex(3j)]\n",
    "print([type(item) for item in L3])\n"
   ]
  },
  {
   "cell_type": "code",
   "execution_count": 175,
   "id": "a70ddcef",
   "metadata": {},
   "outputs": [
    {
     "name": "stdout",
     "output_type": "stream",
     "text": [
      "array('i', [1, 2, 3, 4, 5, 6, 7, 8, 9, 10, 11, 12, 13, 14, 15, 16, 17, 18, 19, 20])\n",
      "array('i', [1, 2, 3, 4, 5, 6, 7, 8, 9, 10, 11, 12, 13, 14, 15, 16, 17, 18, 19, 20, 21])\n",
      "array('i', [1, 2, 3, 4, 99, 5, 6, 7, 8, 9, 10, 11, 12, 13, 14, 15, 16, 17, 18, 19, 20, 21])\n",
      "3\n"
     ]
    }
   ],
   "source": [
    "# Creating a Python array using the built-in array module. \n",
    "\n",
    "A1 = array.array('i', L1)\n",
    "print(A1)\n",
    "\n",
    "\n",
    "A1.append(21)    # append\n",
    "print(A1)\n",
    "\n",
    "A1.insert(4, 99)    # insert\n",
    "print(A1)\n",
    "\n",
    "print(A1.index(4))    # index\n",
    "\n"
   ]
  },
  {
   "cell_type": "markdown",
   "id": "45d8487e",
   "metadata": {},
   "source": [
    "Using Numpy"
   ]
  },
  {
   "cell_type": "code",
   "execution_count": 77,
   "id": "c06558b8",
   "metadata": {},
   "outputs": [
    {
     "name": "stdout",
     "output_type": "stream",
     "text": [
      "float64\n",
      "float32\n"
     ]
    }
   ],
   "source": [
    "# Implicit casting\n",
    "\n",
    "one_d_array = np.array([.12, 2.1, 3, 4, 5, .67, .75, 8, 9, 10.235687565])\n",
    "print(one_d_array.dtype)\n",
    "\n",
    "# Explicit casting\n",
    "one_d_array = np.array([1, 2, 3, 4, 5, 6, 7, 8, 9, 10], dtype='float32')\n",
    "print(one_d_array.dtype)\n"
   ]
  },
  {
   "cell_type": "code",
   "execution_count": 78,
   "id": "d94df47a",
   "metadata": {},
   "outputs": [
    {
     "name": "stdout",
     "output_type": "stream",
     "text": [
      "[1. 2. 3. 4. 5. 6. 7. 8.]\n",
      "[ 7.  8.  9. 10.]\n",
      "[5. 6. 7. 8.]\n",
      "[1. 3. 5. 7. 9.]\n",
      "[10.  9.  8.  7.  6.  5.  4.  3.  2.  1.]\n",
      "[6. 4. 2.]\n"
     ]
    }
   ],
   "source": [
    "# Slicing one_d_array:\n",
    "\n",
    "print(one_d_array[:8])    # First 8 elements\n",
    "\n",
    "print(one_d_array[6:])    # All elements after index space 6\n",
    "\n",
    "print(one_d_array[4:8])    # From elements 5-8\n",
    "\n",
    "print(one_d_array[::2])    # Every other element\n",
    "\n",
    "print(one_d_array[::-1])    # Elements reversed\n",
    "\n",
    "print(one_d_array[5::-2])    # Reverse every other element from index 5\n"
   ]
  },
  {
   "cell_type": "code",
   "execution_count": 79,
   "id": "534463f9",
   "metadata": {},
   "outputs": [
    {
     "name": "stdout",
     "output_type": "stream",
     "text": [
      "[[ 1.  2.  3.  4.  5.  6.  7.  8.  9. 10.]] \n",
      "\n",
      "[[ 1.]\n",
      " [ 2.]\n",
      " [ 3.]\n",
      " [ 4.]\n",
      " [ 5.]\n",
      " [ 6.]\n",
      " [ 7.]\n",
      " [ 8.]\n",
      " [ 9.]\n",
      " [10.]]\n",
      "[   1.    8.   27.   64.  125.  216.  343.  512.  729. 1000.]\n"
     ]
    }
   ],
   "source": [
    "# Creating a row vector.\n",
    "print(one_d_array.reshape((1, 10)), '\\n')\n",
    "\n",
    "# Creating a column vector.\n",
    "print(one_d_array.reshape((10, 1)))\n",
    "print()\n",
    "\n",
    "# Cubing the array values.\n",
    "print(one_d_array ** 3)    \n"
   ]
  },
  {
   "cell_type": "markdown",
   "id": "31b02a7e",
   "metadata": {},
   "source": [
    "### A 2D array"
   ]
  },
  {
   "cell_type": "code",
   "execution_count": 52,
   "id": "864d7cc2",
   "metadata": {},
   "outputs": [
    {
     "name": "stdout",
     "output_type": "stream",
     "text": [
      "[[1 2 3]\n",
      " [2 3 4]\n",
      " [3 4 5]\n",
      " [4 5 6]\n",
      " [5 6 7]]\n"
     ]
    }
   ],
   "source": [
    "# Using list comprehension to create a 2D NumPy array with 5 rows and 3 columns.\n",
    "\n",
    "two_d_array = np.array([range(i, i + 3) for i in range(1,6)])\n",
    "print(two_d_array)\n"
   ]
  },
  {
   "cell_type": "markdown",
   "id": "b3860a40",
   "metadata": {},
   "source": [
    "Sorting and Partitioning a 2D array"
   ]
  },
  {
   "cell_type": "code",
   "execution_count": 118,
   "id": "d932d244",
   "metadata": {},
   "outputs": [
    {
     "name": "stdout",
     "output_type": "stream",
     "text": [
      "[[27 20 22 20 16]\n",
      " [23 15 21 22 21]\n",
      " [14 16 26 23 22]\n",
      " [17 12 15 21 11]]\n",
      "\n",
      "[[16 20 20 22 27]\n",
      " [15 21 21 22 23]\n",
      " [14 16 22 23 26]\n",
      " [11 12 15 17 21]]\n",
      "\n",
      "[[14 12 15 20 11]\n",
      " [17 15 21 21 16]\n",
      " [23 16 22 22 21]\n",
      " [27 20 26 23 22]]\n",
      "\n",
      "[[27 20 22 20 16]\n",
      " [23 15 21 22 21]\n",
      " [14 16 26 23 22]\n",
      " [17 12 15 21 11]]\n",
      "\n",
      "[[16 20 22 20 27]\n",
      " [15 21 23 22 21]\n",
      " [14 16 26 23 22]\n",
      " [11 12 15 21 17]]\n"
     ]
    }
   ],
   "source": [
    "# Sorting each row of two_d_array\n",
    "print(two_np_array)\n",
    "\n",
    "print()\n",
    "print(np.sort(two_np_array))    # Sorting each row\n",
    "\n",
    "print()\n",
    "print(np.sort(two_np_array, axis=0))    # Sorting each column\n",
    "\n",
    "print()\n",
    "print(two_np_array)\n",
    "\n",
    "print()\n",
    "print(np.partition(two_np_array, 1, axis=1))    # Partitioning so first values are lowest in their rows\n"
   ]
  },
  {
   "cell_type": "code",
   "execution_count": 53,
   "id": "403b2b1c",
   "metadata": {},
   "outputs": [
    {
     "name": "stdout",
     "output_type": "stream",
     "text": [
      "[[1 2]\n",
      " [2 3]] \n",
      "\n",
      "[[1 3]\n",
      " [2 4]\n",
      " [3 5]\n",
      " [4 6]\n",
      " [5 7]] \n",
      "\n",
      "[[1 2 3]\n",
      " [3 4 5]\n",
      " [5 6 7]] \n",
      "\n",
      "[[1 2 3]\n",
      " [2 3 4]\n",
      " [3 4 5]]\n"
     ]
    }
   ],
   "source": [
    "# Slicing two_d_array:\n",
    "\n",
    "print(two_d_array[:2, :2], '\\n')    # First 2 rows and first 2 columns\n",
    "\n",
    "print(two_d_array[:5, ::2], '\\n')    # All rows and every other column\n",
    "\n",
    "print(two_d_array[::2, :3], '\\n')    # All columns and every other row\n",
    "\n",
    "two_d_sub = two_d_array[:3, :3]    # Extracting a subarray\n",
    "print(two_d_sub)\n"
   ]
  },
  {
   "cell_type": "code",
   "execution_count": 55,
   "id": "3413a571",
   "metadata": {},
   "outputs": [
    {
     "name": "stdout",
     "output_type": "stream",
     "text": [
      "[[27 20 22 20 16]\n",
      " [23 15 21 22 21]\n",
      " [14 16 26 23 22]\n",
      " [17 12 15 21 11]]\n",
      "\n",
      " [[False False False False False]\n",
      " [False False False False False]\n",
      " [ True False False False False]\n",
      " [False  True False False  True]]\n",
      "\n",
      " [[False False False False  True]\n",
      " [False  True False False False]\n",
      " [ True  True False False False]\n",
      " [False  True  True False  True]]\n",
      "\n",
      " [[ True False False False False]\n",
      " [False False False False False]\n",
      " [False False  True False False]\n",
      " [False False False False False]]\n",
      "\n",
      " [[ True  True  True  True  True]\n",
      " [ True  True  True  True  True]\n",
      " [ True  True  True  True  True]\n",
      " [ True  True  True  True  True]]\n",
      "\n",
      " [[False False False False False]\n",
      " [False False False False False]\n",
      " [False False False False False]\n",
      " [False  True False False False]]\n",
      "\n",
      " 3\n",
      "\n",
      " 10\n",
      "\n",
      " [4 4 3 1]\n",
      "\n",
      " True\n",
      "\n",
      " False\n",
      "\n",
      " [False False  True  True False]\n"
     ]
    }
   ],
   "source": [
    "# Using ufuncs with a 2D NumPy array.\n",
    "two_np_array = np.random.randint(11, 34, (4, 5))\n",
    "print(two_np_array)\n",
    "\n",
    "print('\\n', two_np_array < 15)    # Less than (<) ufunc\n",
    "\n",
    "print('\\n', two_np_array <= 16)    # Less than or equal to (<=) ufunc\n",
    "\n",
    "print('\\n', two_np_array >= 26)    # Greater than or equal to (>=) ufunc\n",
    "\n",
    "print('\\n', two_np_array != 30)    # Not equal to (!=) ufunc\n",
    "\n",
    "print('\\n', two_np_array == 12)    # Is equal to (==) ufunc\n",
    "\n",
    "print('\\n', np.count_nonzero(two_np_array < 15))    # Count the values < 15\n",
    "\n",
    "print('\\n', np.sum(two_np_array > 20))    # Sum the values > 20\n",
    "\n",
    "print('\\n', np.sum(two_np_array >= 19, axis=1))    # Count the values >= 19 in each row\n",
    "\n",
    "print('\\n', np.any(two_np_array < 12))    # Determine if any values < 12\n",
    "\n",
    "print('\\n', np.all(two_np_array > 12))    # Determine if all values > 12\n",
    "\n",
    "print('\\n', np.all(two_np_array > 14, axis=0))    # Determine if all values in each column > 14\n"
   ]
  },
  {
   "cell_type": "markdown",
   "id": "676ebafd",
   "metadata": {},
   "source": [
    "Using fancy indexing with a 2D array"
   ]
  },
  {
   "cell_type": "code",
   "execution_count": 102,
   "id": "2ab3f4af",
   "metadata": {},
   "outputs": [
    {
     "name": "stdout",
     "output_type": "stream",
     "text": [
      "[[27 20 22 20 16]\n",
      " [23 15 21 22 21]\n",
      " [14 16 26 23 22]\n",
      " [17 12 15 21 11]]\n"
     ]
    },
    {
     "data": {
      "text/plain": [
       "array([22, 16, 11])"
      ]
     },
     "execution_count": 102,
     "metadata": {},
     "output_type": "execute_result"
    }
   ],
   "source": [
    "# Defining row and col\n",
    "row = np.array([0, 2, 3])    # Noting the desired row index locations\n",
    "col = np.array([2, 1, 4])    # Noting the desired column index locations\n",
    "\n",
    "\n",
    "print(two_np_array)\n",
    "two_np_array[row, col]\n"
   ]
  },
  {
   "cell_type": "markdown",
   "id": "0ffb306a",
   "metadata": {},
   "source": [
    "Combined indexing and slicing with a 2D array"
   ]
  },
  {
   "cell_type": "code",
   "execution_count": 103,
   "id": "c5fe0269",
   "metadata": {},
   "outputs": [
    {
     "name": "stdout",
     "output_type": "stream",
     "text": [
      "[[27 20 22 20 16]\n",
      " [23 15 21 22 21]\n",
      " [14 16 26 23 22]\n",
      " [17 12 15 21 11]]\n"
     ]
    },
    {
     "data": {
      "text/plain": [
       "array([[23, 16, 22],\n",
       "       [21, 12, 11]])"
      ]
     },
     "execution_count": 103,
     "metadata": {},
     "output_type": "execute_result"
    }
   ],
   "source": [
    "# Demonstrating combined indexing and slicing with two_d_array\n",
    "print(two_np_array)\n",
    "two_np_array[2:, [3, 1, 4]]\n"
   ]
  },
  {
   "cell_type": "code",
   "execution_count": 167,
   "id": "6c509d66",
   "metadata": {},
   "outputs": [
    {
     "name": "stdout",
     "output_type": "stream",
     "text": [
      "[[27 20 22 20 16]\n",
      " [23 15 21 22 21]\n",
      " [14 16 26 23 22]\n",
      " [17 12 15 21 11]]\n",
      "\n",
      "[[  0   0   0   0   0]\n",
      " [ -4  -5  -1   2   5]\n",
      " [-13  -4   4   3   6]\n",
      " [-10  -8  -7   1  -5]]\n"
     ]
    }
   ],
   "source": [
    "# Demonstrating subtracting row 0 of the 2D array from the 2D array\n",
    "print(two_np_array)\n",
    "print()\n",
    "\n",
    "print(two_np_array - two_np_array[0])"
   ]
  },
  {
   "cell_type": "markdown",
   "id": "365f2041",
   "metadata": {},
   "source": [
    "### Using Boolean Masking"
   ]
  },
  {
   "cell_type": "code",
   "execution_count": 60,
   "id": "72f6431f",
   "metadata": {},
   "outputs": [
    {
     "name": "stdout",
     "output_type": "stream",
     "text": [
      "[[27 20 22 20 16]\n",
      " [23 15 21 22 21]\n",
      " [14 16 26 23 22]\n",
      " [17 12 15 21 11]]\n",
      "\n",
      "\n"
     ]
    },
    {
     "data": {
      "text/plain": [
       "array([[False, False, False, False, False],\n",
       "       [False, False, False, False, False],\n",
       "       [ True, False, False, False, False],\n",
       "       [False,  True, False, False,  True]])"
      ]
     },
     "execution_count": 60,
     "metadata": {},
     "output_type": "execute_result"
    }
   ],
   "source": [
    "print(two_np_array)\n",
    "print('\\n')\n",
    "two_np_array < 15    # Using Boolean masking"
   ]
  },
  {
   "cell_type": "markdown",
   "id": "241dae32",
   "metadata": {},
   "source": [
    "Using combined indexing and masking for a 2D array"
   ]
  },
  {
   "cell_type": "code",
   "execution_count": 104,
   "id": "b9e3302d",
   "metadata": {},
   "outputs": [
    {
     "name": "stdout",
     "output_type": "stream",
     "text": [
      "[[27 20 22 20 16]\n",
      " [23 15 21 22 21]\n",
      " [14 16 26 23 22]\n",
      " [17 12 15 21 11]]\n"
     ]
    },
    {
     "data": {
      "text/plain": [
       "array([[27, 16],\n",
       "       [14, 22],\n",
       "       [17, 11]])"
      ]
     },
     "execution_count": 104,
     "metadata": {},
     "output_type": "execute_result"
    }
   ],
   "source": [
    "# Defining mask\n",
    "mask = np.array([1, 0, 0, 0, 1], dtype=bool)\n",
    "\n",
    "print(two_np_array)\n",
    "two_np_array[row[:, np.newaxis], mask]\n"
   ]
  },
  {
   "cell_type": "code",
   "execution_count": 63,
   "id": "7d996d5b",
   "metadata": {},
   "outputs": [
    {
     "name": "stdout",
     "output_type": "stream",
     "text": [
      "[[27 20 22 20 16]\n",
      " [23 15 21 22 21]\n",
      " [14 16 26 23 22]\n",
      " [17 12 15 21 11]] \n",
      "\n"
     ]
    },
    {
     "data": {
      "text/plain": [
       "array([14, 12, 11])"
      ]
     },
     "execution_count": 63,
     "metadata": {},
     "output_type": "execute_result"
    }
   ],
   "source": [
    "# Returning an array of values < 15\n",
    "print(two_np_array, '\\n')\n",
    "two_np_array[two_np_array < 15]\n"
   ]
  },
  {
   "cell_type": "code",
   "execution_count": 65,
   "id": "ff6cbbc2",
   "metadata": {},
   "outputs": [
    {
     "name": "stdout",
     "output_type": "stream",
     "text": [
      "[[[49 41  7 93 77]\n",
      "  [33 27 52 32 13]\n",
      "  [70 82 30 31  4]\n",
      "  [71 12 61 94 52]\n",
      "  [64  3 13 10 33]]\n",
      "\n",
      " [[44 93 55 16 94]\n",
      "  [50 66 52 85 25]\n",
      "  [32 74 82 74 19]\n",
      "  [ 1 75 22  7 81]\n",
      "  [10 73 68 63 28]]\n",
      "\n",
      " [[36 78 87 75 17]\n",
      "  [79 84 39 87 38]\n",
      "  [93 32 66 52 37]\n",
      "  [60 31 11 94 57]\n",
      "  [48 58 31 33 38]]]\n",
      "\n",
      " The array is  300  bytes.\n"
     ]
    }
   ],
   "source": [
    "# A 3D NumPy array with random numbers 0-99. \n",
    "\n",
    "three_d_array = np.random.randint(0, 99, (3, 5, 5))    # The shape is 3,5,5\n",
    "print(three_d_array)\n",
    "\n",
    "print('\\n', \"The array is \", three_d_array.nbytes, \" bytes.\")    # Displaying the size of the array in bytes\n"
   ]
  },
  {
   "cell_type": "code",
   "execution_count": 66,
   "id": "8fb4fe75",
   "metadata": {},
   "outputs": [
    {
     "name": "stdout",
     "output_type": "stream",
     "text": [
      "58\n",
      "71\n",
      "74\n",
      "85\n"
     ]
    }
   ],
   "source": [
    "# Accessing 4 different individual elements of the three_d_array.\n",
    "\n",
    "print(three_d_array[2, 4, 1])\n",
    "print(three_d_array[0, 3, 0])\n",
    "print(three_d_array[1, 2, 3])\n",
    "print(three_d_array[-2, -4, -2])"
   ]
  },
  {
   "cell_type": "code",
   "execution_count": 67,
   "id": "1cb0aa97",
   "metadata": {},
   "outputs": [
    {
     "name": "stdout",
     "output_type": "stream",
     "text": [
      "[[[  49   41    7   93   77]\n",
      "  [  33   27   52   32   13]\n",
      "  [  70   82   30   31    4]\n",
      "  [  71   12   61   94   52]\n",
      "  [  64    3   13   10   33]]\n",
      "\n",
      " [[  44   93   55   16   94]\n",
      "  [  50   66   52   85   25]\n",
      "  [  32   74   82   74   19]\n",
      "  [   1   75   22    7   81]\n",
      "  [  10   73   68   63   28]]\n",
      "\n",
      " [[  36   78   87   75   17]\n",
      "  [  79   84   39   87   38]\n",
      "  [  93   32   66   52   37]\n",
      "  [  60   31   11   94   57]\n",
      "  [  48 9999   31   33   38]]]\n"
     ]
    }
   ],
   "source": [
    "# Modifying individual elements of three_d_array.\n",
    "\n",
    "three_d_array[2, 4, 1] = 9999 # 3rd array, 5th row, 2nd column to 9999\n",
    "print(three_d_array)\n"
   ]
  },
  {
   "cell_type": "code",
   "execution_count": 68,
   "id": "01691602",
   "metadata": {},
   "outputs": [
    {
     "name": "stdout",
     "output_type": "stream",
     "text": [
      "[[ 1  2  3  4  5]\n",
      " [ 6  7  8  9 10]\n",
      " [11 12 13 14 15]\n",
      " [16 17 18 19 20]\n",
      " [21 22 23 24 25]]\n"
     ]
    }
   ],
   "source": [
    "# Use NumPy’s arrange and reshape methods to create a 5x5 array\n",
    "\n",
    "five_x_five = np.arange(1, 26).reshape((5, 5))\n",
    "print(five_x_five)\n"
   ]
  },
  {
   "cell_type": "markdown",
   "id": "9efc50b1",
   "metadata": {},
   "source": [
    "NumPy ufuncs:"
   ]
  },
  {
   "cell_type": "code",
   "execution_count": 69,
   "id": "5490534a",
   "metadata": {},
   "outputs": [
    {
     "name": "stdout",
     "output_type": "stream",
     "text": [
      "[ 0  1  2  3  4  5  6  7  8  9 10] \n",
      "\n",
      "[ 0.  3.  6.  9. 12. 15. 18. 21. 24. 27. 30.]\n"
     ]
    }
   ],
   "source": [
    "# The out argument.\n",
    "\n",
    "alpha = np.arange(11)\n",
    "beta = np.empty(11)\n",
    "np.multiply(alpha, 3, out = beta)\n",
    "\n",
    "print(alpha, '\\n')\n",
    "print(beta)\n"
   ]
  },
  {
   "cell_type": "code",
   "execution_count": 99,
   "id": "02b6a907",
   "metadata": {},
   "outputs": [
    {
     "name": "stdout",
     "output_type": "stream",
     "text": [
      "[ 1.  2.  3.  4.  5.  6.  7.  8.  9. 10.]\n",
      "\n",
      "[False False  True False False False  True False False False False  True\n",
      "  True False False False  True  True  True False]\n",
      "\n",
      "[False False False False False False False False  True False False False\n",
      " False False False False False False False  True]\n",
      "\n",
      "[False False False False False False  True False False False False  True\n",
      "  True False False False  True False  True False]\n",
      "\n",
      "[ True  True  True  True  True  True False  True  True  True  True False\n",
      " False  True  True  True False  True False  True]\n",
      "\n",
      "[ True  True  True  True  True  True  True  True  True  True  True  True\n",
      "  True  True  True  True  True  True  True  True]\n",
      "\n",
      "[False False False False False False False False False False False False\n",
      " False False False False False False False False]\n"
     ]
    }
   ],
   "source": [
    "one_np_array = np.random.randint(0, 100, 20)    # Create a 1D NumPy arry\n",
    "\n",
    "print(one_d_array) \n",
    "print()\n",
    "\n",
    "print(one_np_array < 34)    # Less than (<) ufunc\n",
    "print()\n",
    "\n",
    "print(one_np_array > 85)    # Greater than (>) ufunc\n",
    "print()\n",
    "\n",
    "print(one_np_array <= 15)    # Less than or equal to (<=) ufunc\n",
    "print()\n",
    "\n",
    "print(one_np_array >= 16)    # Greater than or equal to (>=) ufunc\n",
    "print()\n",
    "\n",
    "print(one_np_array != 47)    # Not equal to (!=) ufunc\n",
    "print()\n",
    "\n",
    "print(one_np_array == 93)    # Is equal to (==) ufunc\n"
   ]
  },
  {
   "cell_type": "markdown",
   "id": "047c8514",
   "metadata": {},
   "source": [
    "Fancy indexing"
   ]
  },
  {
   "cell_type": "code",
   "execution_count": 101,
   "id": "c2947a45",
   "metadata": {},
   "outputs": [
    {
     "name": "stdout",
     "output_type": "stream",
     "text": [
      "[42 38 32 54 80 52  1 43 98 79 72 15  7 71 37 50  7 16  3 98]\n",
      "[32 72  7]\n"
     ]
    }
   ],
   "source": [
    "# Defining ind\n",
    "ind = [2, 10, 16]    # Setting the desired indexes\n",
    "\n",
    "# Fancy indexing with one_d_array\n",
    "print(one_np_array)\n",
    "print(one_np_array[ind])\n"
   ]
  },
  {
   "cell_type": "code",
   "execution_count": 70,
   "id": "ff7fcb2f",
   "metadata": {},
   "outputs": [
    {
     "name": "stdout",
     "output_type": "stream",
     "text": [
      "3628800.0\n"
     ]
    }
   ],
   "source": [
    "# Using aggregates to show the product of all elements of one_d_array.\n",
    "\n",
    "print(np.multiply.reduce(one_d_array))\n"
   ]
  },
  {
   "cell_type": "code",
   "execution_count": 71,
   "id": "bdc35a58",
   "metadata": {},
   "outputs": [
    {
     "name": "stdout",
     "output_type": "stream",
     "text": [
      "[1, 2, 3, 4, 5] [2, 2, 2, 2, 2] \n",
      "\n",
      "[[ 2  2  2  2  2]\n",
      " [ 4  4  4  4  4]\n",
      " [ 6  6  6  6  6]\n",
      " [ 8  8  8  8  8]\n",
      " [10 10 10 10 10]]\n"
     ]
    }
   ],
   "source": [
    "# Using the multiply() and outer() methods.\n",
    "\n",
    "x = [1, 2, 3, 4, 5]\n",
    "y = [2, 2, 2, 2, 2]\n",
    "\n",
    "print(x, y, '\\n')\n",
    "\n",
    "print(np.multiply.outer(x, y))\n"
   ]
  },
  {
   "cell_type": "code",
   "execution_count": 72,
   "id": "861b7a5b",
   "metadata": {},
   "outputs": [
    {
     "name": "stdout",
     "output_type": "stream",
     "text": [
      "sums: \n",
      "66.9 ms ± 3.14 ms per loop (mean ± std. dev. of 7 runs, 10 loops each)\n",
      "441 µs ± 16.7 µs per loop (mean ± std. dev. of 7 runs, 1,000 loops each)\n",
      "\n",
      " mins: \n",
      "42.6 ms ± 497 µs per loop (mean ± std. dev. of 7 runs, 10 loops each)\n",
      "390 µs ± 9.95 µs per loop (mean ± std. dev. of 7 runs, 1,000 loops each)\n",
      "\n",
      " maxes: \n",
      "42.3 ms ± 287 µs per loop (mean ± std. dev. of 7 runs, 10 loops each)\n",
      "389 µs ± 11.7 µs per loop (mean ± std. dev. of 7 runs, 1,000 loops each)\n"
     ]
    }
   ],
   "source": [
    "# Comparing NumPy’s function performance vs Python’s built-in sum, min, and max functions.\n",
    "\n",
    "tester = np.random.rand(500000)\n",
    "\n",
    "print('sums: ')\n",
    "%timeit sum(tester)\n",
    "%timeit np.sum(tester)\n",
    "\n",
    "print('\\n', 'mins: ')\n",
    "%timeit min(tester)\n",
    "%timeit np.min(tester)\n",
    "\n",
    "print('\\n', 'maxes: ')\n",
    "%timeit max(tester)\n",
    "%timeit np.max(tester)\n"
   ]
  },
  {
   "cell_type": "markdown",
   "id": "7220a795",
   "metadata": {},
   "source": [
    "### NumPy, Pandas, and Seaborn:"
   ]
  },
  {
   "cell_type": "code",
   "execution_count": 73,
   "id": "25430036",
   "metadata": {},
   "outputs": [
    {
     "name": "stdout",
     "output_type": "stream",
     "text": [
      "[74.409489 66.92917  74.409489 64.173263 72.047283 67.322871 72.834685\n",
      " 66.141768 68.110273 72.047283 68.110273 68.110273 68.897675 70.078778\n",
      " 72.047283 75.984293 70.078778 68.110273 68.503974 72.047283 72.047283\n",
      " 66.141768 66.92917  70.078778 71.653582 70.86618  72.047283 70.078778\n",
      " 71.653582 74.015788 68.897675 70.472479 72.047283 75.984293 71.653582\n",
      " 72.047283 69.685077 72.834685 74.015788 74.015788 71.653582 72.834685]\n"
     ]
    },
    {
     "data": {
      "image/png": "[encoded data removed]",
      "text/plain": [
       "<Figure size 432x288 with 1 Axes>"
      ]
     },
     "metadata": {},
     "output_type": "display_data"
    }
   ],
   "source": [
    "# Creating a histogram of US President heights\n",
    "\n",
    "data = pd.read_csv('president_heights.csv')\n",
    "heights = np.array(data['height(cm)'])\n",
    "\n",
    "heights_inches = heights * 0.393701\n",
    "print(heights_inches)\n",
    "\n",
    "\n",
    "plt.hist(heights_inches)\n",
    "plt.title('Height Distribution of US Presidents')\n",
    "plt.xlabel('Height (in)')\n",
    "plt.ylabel('Number of Presidents');\n"
   ]
  },
  {
   "cell_type": "markdown",
   "id": "f2f33526",
   "metadata": {},
   "source": [
    "NumPy, Broadcasting and Matplotlib:"
   ]
  },
  {
   "cell_type": "code",
   "execution_count": 74,
   "id": "41d3f439",
   "metadata": {},
   "outputs": [
    {
     "name": "stderr",
     "output_type": "stream",
     "text": [
      "C:\\Users\\Steve\\AppData\\Local\\Temp\\ipykernel_18272\\909088584.py:10: MatplotlibDeprecationWarning: Auto-removal of grids by pcolor() and pcolormesh() is deprecated since 3.5 and will be removed two minor releases later; please call grid(False) first.\n",
      "  plt.colorbar();\n"
     ]
    },
    {
     "data": {
      "image/png": "[encoded data removed]",
      "text/plain": [
       "<Figure size 432x288 with 2 Axes>"
      ]
     },
     "metadata": {},
     "output_type": "display_data"
    }
   ],
   "source": [
    "# Use broadcasting and Matplotlib to produce a plot of a two dimensional array.\n",
    "\n",
    "x = np.linspace(0, 5, 250)\n",
    "y = np.linspace(0, 5, 250)[:, np.newaxis]\n",
    "z = np.sin(x) ** 5 + np.cos(7 + y * x) * np.cos(x)\n",
    "\n",
    "\n",
    "plt.imshow(z, origin='lower', extent=[0, 5, 0, 5],\n",
    "           cmap='magma')\n",
    "plt.colorbar();\n",
    "\n"
   ]
  },
  {
   "cell_type": "code",
   "execution_count": 75,
   "id": "8fc7d162",
   "metadata": {},
   "outputs": [
    {
     "name": "stdout",
     "output_type": "stream",
     "text": [
      "Number of days where rain is between 0.5 and 1.5 inches:  38\n",
      "\n",
      "Using ~ and | to return the same as above: \n",
      "38\n",
      "\n",
      "Number of days without rain:  215\n",
      "\n",
      "Days with >= 1 inch of rain:  8\n"
     ]
    }
   ],
   "source": [
    "# Using Pandas to extract rainfall inches as a NumPy array.\n",
    "rainfall = pd.read_csv('Seattle2014.csv')['PRCP'].values\n",
    "inches = rainfall / 254.0  # 1/10mm -> inches\n",
    "\n",
    "\n",
    "print('Number of days where rain is between 0.5 and 1.5 inches: ', np.sum((inches >= 0.5) & (inches <= 1.5)))\n",
    "print()\n",
    "print(\"Using ~ and | to return the same as above: \")\n",
    " \n",
    "print(np.sum(~( (inches < 0.5) | (inches > 1.5) ))) # Using ~ and | to return the same number as & above\n",
    "\n",
    "print()\n",
    "print('Number of days without rain: ', np.sum(inches == 0))\n",
    "\n",
    "print()\n",
    "print('Days with >= 1 inch of rain: ', np.sum(inches >= 1))\n"
   ]
  },
  {
   "cell_type": "code",
   "execution_count": 93,
   "id": "7f01ad95",
   "metadata": {},
   "outputs": [
    {
     "name": "stdout",
     "output_type": "stream",
     "text": [
      "Median precipitation (inches) on a pouring day:  0.7283464566929134\n",
      "\n",
      "Median precipitation (inches) on a pouring day in the summer:  0.8051181102362205\n",
      "\n",
      "Median rain on a pouring non-summer day:  0.7204724409448819\n",
      "\n",
      "Max rain in the summer:  0.8503937007874016\n",
      "\n",
      "Minimum rain on a pouring summer day:  0.7598425196850394\n"
     ]
    }
   ],
   "source": [
    "# Defining pouring\n",
    "pouring = (inches > 0.5)\n",
    "\n",
    "# Defining days\n",
    "days = np.arange(365)\n",
    "\n",
    "# Defining summer\n",
    "summer = (days > 172) & (days < 262)\n",
    "\n",
    "# Finding different Medians, Max, and Min using Operators\n",
    "print('Median precipitation (inches) on a pouring day: ',np.median(inches[pouring]))\n",
    "\n",
    "print()\n",
    "print('Median precipitation (inches) on a pouring day in the summer: ', np.median(inches[pouring & summer]))\n",
    "\n",
    "print()\n",
    "print('Median rain on a pouring non-summer day: ', np.median(inches[pouring & ~summer]))\n",
    "\n",
    "print()\n",
    "print('Max rain in the summer: ', np.max(inches[summer]))\n",
    "\n",
    "print()\n",
    "print('Minimum rain on a pouring summer day: ', np.min(inches[pouring & summer]))\n"
   ]
  },
  {
   "cell_type": "markdown",
   "id": "504f694e",
   "metadata": {},
   "source": [
    "### A nearest neighbor plot (NumPy, Matplotlib)"
   ]
  },
  {
   "cell_type": "code",
   "execution_count": 124,
   "id": "1b52f3a9",
   "metadata": {},
   "outputs": [
    {
     "data": {
      "image/png": "[encoded data removed]",
      "text/plain": [
       "<Figure size 432x288 with 1 Axes>"
      ]
     },
     "metadata": {},
     "output_type": "display_data"
    }
   ],
   "source": [
    "# Defining custom_array that is 17x2\n",
    "custom_array = np.random.random((17, 2))\n",
    "\n",
    "# Producing a 3-nearest neighbor plot\n",
    "dist_sqd = np.sum((custom_array[:, np.newaxis, :] - custom_array[np.newaxis, :, :]) ** 2, axis=-1)\n",
    "\n",
    "plt.scatter(custom_array[:, 0], custom_array[:, 1], s=100)\n",
    "\n",
    "# Setting K\n",
    "K = 3\n",
    "\n",
    "# Defining the nearest partition\n",
    "nearest_partition = np.argpartition(dist_sqd, K + 1, axis=1)\n",
    "\n",
    "# Drawing lines from each point to its three nearest neighbors\n",
    "for i in range(custom_array.shape[0]):\n",
    "    for j in nearest_partition[i, :K+1]:\n",
    "        # plot a line from X[i] to X[j]\n",
    "        # use some zip magic to make it happen:\n",
    "        plt.plot(*zip(custom_array[j], custom_array[i]), color='red', linewidth=1)\n",
    "        "
   ]
  },
  {
   "cell_type": "markdown",
   "id": "db7bbc43",
   "metadata": {},
   "source": [
    "### Working with Pandas Series"
   ]
  },
  {
   "cell_type": "code",
   "execution_count": 154,
   "id": "6197bb79",
   "metadata": {},
   "outputs": [
    {
     "name": "stdout",
     "output_type": "stream",
     "text": [
      "Lincoln        1\n",
      "Jefferson      5\n",
      "Roosevelt     10\n",
      "Washington    25\n",
      "dtype: int64\n"
     ]
    }
   ],
   "source": [
    "# Creating a Pandas Series of US Coins and who is on their face.\n",
    "coin_names = pd.Series({'Lincoln': 1, 'Jefferson': 5, 'Roosevelt': 10, 'Washington': 25})\n",
    "index=[1, 5, 10, 25]\n",
    "\n",
    "print(coin_names)\n"
   ]
  },
  {
   "cell_type": "code",
   "execution_count": 156,
   "id": "13ad3b37",
   "metadata": {},
   "outputs": [
    {
     "name": "stdout",
     "output_type": "stream",
     "text": [
      "Lincoln        2\n",
      "Jefferson      5\n",
      "Roosevelt     10\n",
      "Washington    25\n",
      "dtype: int64\n",
      "\n",
      "Jefferson      5\n",
      "Roosevelt     10\n",
      "Washington    25\n",
      "dtype: int64\n",
      "\n",
      "Jefferson     5\n",
      "Roosevelt    10\n",
      "dtype: int64\n",
      "\n",
      "Jefferson    5\n",
      "dtype: int64\n",
      "\n",
      "Lincoln       2\n",
      "Roosevelt    10\n",
      "dtype: int64\n",
      "\n",
      "Explicit:  10\n",
      "\n",
      "Implicit:  25\n"
     ]
    }
   ],
   "source": [
    "coin_names['Lincoln'] = 2    # Modifying a value based on key\n",
    "print(coin_names)\n",
    "print()\n",
    "\n",
    "print(coin_names['Jefferson': 'Washington'])    # Slicing by explicit index\n",
    "print()\n",
    "\n",
    "print(coin_names[1:3])    # Slicing by implicit integer index\n",
    "print()\n",
    "\n",
    "print(coin_names[(coin_names > 3) & (coin_names < 7)])    # Masking\n",
    "print()\n",
    "\n",
    "print(coin_names[['Lincoln', 'Roosevelt']])    # Fancy indexing\n",
    "print()\n",
    "\n",
    "print('Explicit: ', coin_names.loc['Roosevelt'])    # loc[]\n",
    "print()\n",
    "\n",
    "#    • iloc[]\n",
    "print('Implicit: ', coin_names.iloc[3])    # iloc[]\n"
   ]
  },
  {
   "cell_type": "markdown",
   "id": "c1d492a9",
   "metadata": {},
   "source": [
    "Pandas Series as Dictionary"
   ]
  },
  {
   "cell_type": "code",
   "execution_count": 137,
   "id": "910ae4eb",
   "metadata": {},
   "outputs": [
    {
     "data": {
      "text/plain": [
       "Achilles                                                  Greek warrior.\n",
       "Hector                                                    Trojan prince.\n",
       "Alaric                                        Visigoth that sacked Rome.\n",
       "William Wallace           Scottish warrior that rebeled against England.\n",
       "Alexander the Great        Macedonian warrior king that defeated Persia.\n",
       "Genghis Khan                         Mongol leader that united Mongolia.\n",
       "Julius Caesar          Roman leader and general assassinated by Brutu...\n",
       "Leonidas               Spartan King who led the 300 Spartan warriors ...\n",
       "dtype: object"
      ]
     },
     "execution_count": 137,
     "metadata": {},
     "output_type": "execute_result"
    }
   ],
   "source": [
    "# Creating a Python dictionary (Index = name, Values = comments)\n",
    "warriors = {'Achilles': 'Greek warrior.',\n",
    "                      'Hector': 'Trojan prince.',\n",
    "                      'Alaric': \"Visigoth that sacked Rome.\",\n",
    "                      'William Wallace': 'Scottish warrior that rebeled against England.',\n",
    "                      'Alexander the Great': 'Macedonian warrior king that defeated Persia.',\n",
    "                      'Genghis Khan': 'Mongol leader that united Mongolia.',\n",
    "                      'Julius Caesar': 'Roman leader and general assassinated by Brutus and the Roman Senate.',\n",
    "                        'Leonidas': 'Spartan King who led the 300 Spartan warriors against Persia at Thermopylae.'}\n",
    "\n",
    "# Creating the Pandas Series from the Python dictionary\n",
    "warriors_dict = pd.Series(warriors)\n",
    "warriors_dict\n"
   ]
  },
  {
   "cell_type": "markdown",
   "id": "e7cb6e3f",
   "metadata": {},
   "source": [
    "Accessing values in the Pandas Series as a Dictionary"
   ]
  },
  {
   "cell_type": "code",
   "execution_count": 134,
   "id": "3e40dab5",
   "metadata": {},
   "outputs": [
    {
     "name": "stdout",
     "output_type": "stream",
     "text": [
      "Single warriors accessed by key: \n",
      "Alaric: A Visigoth that sacked Rome.\n",
      "Leonidas: Spartan King who led the 300 Spartan warriors against Persia at Thermopylae.\n",
      "\n",
      "\n",
      "Multiple warriors accessed via slicing: \n",
      "Hector                                                 A Trojan prince.\n",
      "Alaric                                     A Visigoth that sacked Rome.\n",
      "William Wallace        A Scottish warrior that rebeled against England.\n",
      "Alexander the Great       Macedonian warrior king that defeated Persia.\n",
      "Genghis Khan                        Mongol leader that united Mongolia.\n",
      "dtype: object\n"
     ]
    }
   ],
   "source": [
    "print('Single warriors accessed by key: ')\n",
    "print('Alaric:', warriors_dict['Alaric'])\n",
    "print('Leonidas:', warriors_dict['Leonidas'])\n",
    "print('\\n')\n",
    "\n",
    "print('Multiple warriors accessed via slicing: ')\n",
    "print(warriors_dict['Hector': 'Genghis Khan'])\n"
   ]
  },
  {
   "cell_type": "code",
   "execution_count": 135,
   "id": "62cc7810",
   "metadata": {},
   "outputs": [
    {
     "name": "stdout",
     "output_type": "stream",
     "text": [
      "Achilles                          Phthia\n",
      "Hector                              Troy\n",
      "Alaric                      Peuce Island\n",
      "William Wallace                  Paisley\n",
      "Alexander the Great                Pella\n",
      "Genghis Khan           Khentii Mountains\n",
      "Julius Caesar                    Suburra\n",
      "Leonidas                          Sparta\n",
      "dtype: object\n"
     ]
    }
   ],
   "source": [
    "# Creating a Pandas Series-as-Dictionary that lists warriors birth places.\n",
    "warriors_home = pd.Series({'Achilles': 'Phthia',\n",
    "                      'Hector': 'Troy',\n",
    "                      'Alaric': \"Peuce Island\",\n",
    "                      'William Wallace': 'Paisley',\n",
    "                      'Alexander the Great': 'Pella',\n",
    "                      'Genghis Khan': 'Khentii Mountains',\n",
    "                      'Julius Caesar': 'Suburra',\n",
    "                        'Leonidas': 'Sparta'})\n",
    "\n",
    "print(warriors_home)"
   ]
  },
  {
   "cell_type": "markdown",
   "id": "fbe135d9",
   "metadata": {},
   "source": [
    "Working with NaN entries in Pandas Series"
   ]
  },
  {
   "cell_type": "code",
   "execution_count": 8,
   "id": "159714e0",
   "metadata": {},
   "outputs": [
    {
     "name": "stdout",
     "output_type": "stream",
     "text": [
      "0        5\n",
      "1        7\n",
      "2        a\n",
      "3      NaN\n",
      "4    beans\n",
      "5       32\n",
      "6       15\n",
      "7     None\n",
      "dtype: object\n",
      "\n",
      "0    False\n",
      "1    False\n",
      "2    False\n",
      "3     True\n",
      "4    False\n",
      "5    False\n",
      "6    False\n",
      "7     True\n",
      "dtype: bool\n"
     ]
    }
   ],
   "source": [
    "# A Pandas series containing null data. \n",
    "null_data = pd.Series([5, 7, 'a', np.nan, 'beans', 32, 15, None])\n",
    "print(null_data)\n",
    "print()\n",
    "print(null_data.isnull())    # Using .isnull() to identify the entries that are null.\n"
   ]
  },
  {
   "cell_type": "code",
   "execution_count": 19,
   "id": "74ca8045",
   "metadata": {},
   "outputs": [
    {
     "name": "stdout",
     "output_type": "stream",
     "text": [
      "0     NaN\n",
      "1     NaN\n",
      "2    27.0\n",
      "3     NaN\n",
      "4     NaN\n",
      "dtype: float64\n",
      "\n",
      "0     9.0\n",
      "1    16.0\n",
      "2    27.0\n",
      "3    14.0\n",
      "4    20.0\n",
      "dtype: float64\n",
      "\n",
      "0     7\n",
      "1    14\n",
      "2    21\n",
      "3     6\n",
      "4    12\n",
      "5    18\n",
      "dtype: int64\n"
     ]
    }
   ],
   "source": [
    "# Creating two Pandas series that when added using ‘+’ produce NaN entries.\n",
    "\n",
    "A = pd.Series([7, 14, 21], index=[0, 1, 2])\n",
    "B = pd.Series([6, 12, 18], index=[2, 3, 4])\n",
    "\n",
    "print(A + B)\n",
    "print()\n",
    "\n",
    "\n",
    "print(A.add(B, fill_value=2))    # Using .add() and fill_value to replace NaN entries\n",
    "print()\n",
    "\n",
    "print(pd.concat([A, B], ignore_index= True))    # Concatenating the Pandas Series\n"
   ]
  },
  {
   "cell_type": "markdown",
   "id": "2c49b064",
   "metadata": {},
   "source": [
    "### Creating a Pandas dataframe object"
   ]
  },
  {
   "cell_type": "code",
   "execution_count": 140,
   "id": "df30d406",
   "metadata": {},
   "outputs": [
    {
     "name": "stdout",
     "output_type": "stream",
     "text": [
      "                                                                  Info  \\\n",
      "Achilles                                                Greek warrior.   \n",
      "Hector                                                  Trojan prince.   \n",
      "Alaric                                      Visigoth that sacked Rome.   \n",
      "William Wallace         Scottish warrior that rebeled against England.   \n",
      "Alexander the Great      Macedonian warrior king that defeated Persia.   \n",
      "Genghis Khan                       Mongol leader that united Mongolia.   \n",
      "Julius Caesar        Roman leader and general assassinated by Brutu...   \n",
      "Leonidas             Spartan King who led the 300 Spartan warriors ...   \n",
      "\n",
      "                                  Home  \n",
      "Achilles                        Phthia  \n",
      "Hector                            Troy  \n",
      "Alaric                    Peuce Island  \n",
      "William Wallace                Paisley  \n",
      "Alexander the Great              Pella  \n",
      "Genghis Khan         Khentii Mountains  \n",
      "Julius Caesar                  Suburra  \n",
      "Leonidas                        Sparta  \n"
     ]
    }
   ],
   "source": [
    "# Creating a Pandas dataframe object from a dictionary of series objects.\n",
    "\n",
    "warriors_dataframe = pd.DataFrame({'Info': warriors_dict,\n",
    "                       'Home': warriors_home})\n",
    "\n",
    "print(warriors_dataframe)\n"
   ]
  },
  {
   "cell_type": "markdown",
   "id": "54a430b3",
   "metadata": {},
   "source": [
    "Working with the Pandas dataframe object"
   ]
  },
  {
   "cell_type": "code",
   "execution_count": 144,
   "id": "685f4872",
   "metadata": {},
   "outputs": [
    {
     "name": "stdout",
     "output_type": "stream",
     "text": [
      "Index(['Achilles', 'Hector', 'Alaric', 'William Wallace',\n",
      "       'Alexander the Great', 'Genghis Khan', 'Julius Caesar', 'Leonidas'],\n",
      "      dtype='object')\n",
      "\n",
      "Index(['Info', 'Home'], dtype='object')\n",
      "\n",
      "Achilles                          Phthia\n",
      "Hector                              Troy\n",
      "Alaric                      Peuce Island\n",
      "William Wallace                  Paisley\n",
      "Alexander the Great                Pella\n",
      "Genghis Khan           Khentii Mountains\n",
      "Julius Caesar                    Suburra\n",
      "Leonidas                          Sparta\n",
      "Name: Home, dtype: object\n"
     ]
    }
   ],
   "source": [
    "print(warriors_dataframe.index)    # Showing the .index property\n",
    "\n",
    "print()\n",
    "print(warriors_dataframe.columns)    # The columns property\n",
    "\n",
    "print()\n",
    "print(warriors_dataframe['Home'])    # Showing the keys method"
   ]
  },
  {
   "cell_type": "code",
   "execution_count": 158,
   "id": "d80cb8d6",
   "metadata": {},
   "outputs": [
    {
     "name": "stdout",
     "output_type": "stream",
     "text": [
      "Achilles                                                  Greek warrior.\n",
      "Hector                                                    Trojan prince.\n",
      "Alaric                                        Visigoth that sacked Rome.\n",
      "William Wallace           Scottish warrior that rebeled against England.\n",
      "Alexander the Great        Macedonian warrior king that defeated Persia.\n",
      "Genghis Khan                         Mongol leader that united Mongolia.\n",
      "Julius Caesar          Roman leader and general assassinated by Brutu...\n",
      "Leonidas               Spartan King who led the 300 Spartan warriors ...\n",
      "Name: Info, dtype: object\n",
      "\n",
      "Achilles                          Phthia\n",
      "Hector                              Troy\n",
      "Alaric                      Peuce Island\n",
      "William Wallace                  Paisley\n",
      "Alexander the Great                Pella\n",
      "Genghis Khan           Khentii Mountains\n",
      "Julius Caesar                    Suburra\n",
      "Leonidas                          Sparta\n",
      "Name: Home, dtype: object\n",
      "\n",
      "\n",
      "                                                                  Info  \\\n",
      "Achilles                                                Greek warrior.   \n",
      "Hector                                                  Trojan prince.   \n",
      "Alaric                                      Visigoth that sacked Rome.   \n",
      "William Wallace         Scottish warrior that rebeled against England.   \n",
      "Alexander the Great      Macedonian warrior king that defeated Persia.   \n",
      "Genghis Khan                       Mongol leader that united Mongolia.   \n",
      "Julius Caesar        Roman leader and general assassinated by Brutu...   \n",
      "Leonidas             Spartan King who led the 300 Spartan warriors ...   \n",
      "\n",
      "                                  Home Burial Place  \n",
      "Achilles                        Phthia          TBD  \n",
      "Hector                            Troy          TBD  \n",
      "Alaric                    Peuce Island          TBD  \n",
      "William Wallace                Paisley          TBD  \n",
      "Alexander the Great              Pella          TBD  \n",
      "Genghis Khan         Khentii Mountains          TBD  \n",
      "Julius Caesar                  Suburra          TBD  \n",
      "Leonidas                        Sparta          TBD  \n"
     ]
    }
   ],
   "source": [
    "print(warriors_dataframe['Info'])    # Accessing column via dictionary-style indexing of the column name\n",
    "print()\n",
    "\n",
    "print(warriors_dataframe.Home)    # Accessing column via column names that are strings\n",
    "print()\n",
    "     \n",
    "warriors_dataframe['Burial Place'] = 'TBD'    # Adding a new column to the dataframe\n",
    "print(warriors_dataframe)\n"
   ]
  },
  {
   "cell_type": "markdown",
   "id": "7f249455",
   "metadata": {},
   "source": [
    "Working with NaN and Null entries in Pandas dataframes"
   ]
  },
  {
   "cell_type": "code",
   "execution_count": 21,
   "id": "e19c3a6b",
   "metadata": {},
   "outputs": [
    {
     "name": "stdout",
     "output_type": "stream",
     "text": [
      "      0    1  2\n",
      "0  16.0  NaN  a\n",
      "1  57.2    7  5\n",
      "2   NaN    r  2\n",
      "      0  1  2\n",
      "1  57.2  7  5\n",
      "\n",
      "   2\n",
      "0  a\n",
      "1  5\n",
      "2  2\n",
      "\n"
     ]
    }
   ],
   "source": [
    "# A Pandas dataframe containing null values. \n",
    "\n",
    "null_df = pd.DataFrame([[16,      np.nan,  'a'],\n",
    "                       [57.2,      7,        5],\n",
    "                       [np.nan,   'r',       2]])\n",
    "print(null_df)\n",
    "\n",
    "print(null_df.dropna())    #  Drop all rows containing a null value\n",
    "print()\n",
    "\n",
    "print(null_df.dropna(axis= 1))    # Drop all columns containing a null value\n",
    "print()\n"
   ]
  },
  {
   "cell_type": "code",
   "execution_count": 26,
   "id": "b65b1415",
   "metadata": {},
   "outputs": [
    {
     "name": "stdout",
     "output_type": "stream",
     "text": [
      "     0    1    2\n",
      "0  NaN  NaN  NaN\n",
      "1    1    2    3\n",
      "2    a    b    c\n",
      "\n",
      "   0  1  2\n",
      "1  1  2  3\n",
      "2  a  b  c\n",
      "\n",
      "New null column:  \n",
      "       0    1  2   3\n",
      "0  16.0  NaN  a NaN\n",
      "1  57.2    7  5 NaN\n",
      "2   NaN    r  2 NaN \n",
      "\n",
      "Dropped null column:  \n",
      "       0    1  2\n",
      "0  16.0  NaN  a\n",
      "1  57.2    7  5\n",
      "2   NaN    r  2\n",
      "\n",
      "Replacing null with zeros:  \n",
      "       0  1  2    3\n",
      "0  16.0  0  a  0.0\n",
      "1  57.2  7  5  0.0\n",
      "2   0.0  r  2  0.0\n",
      "\n",
      "Using forward fill:  \n",
      "       0    1  2   3\n",
      "0  16.0  NaN  a NaN\n",
      "1  57.2    7  5 NaN\n",
      "2  57.2    r  2 NaN\n",
      "\n",
      "Using backward fill:  \n",
      "       0  1  2   3\n",
      "0  16.0  7  a NaN\n",
      "1  57.2  7  5 NaN\n",
      "2   NaN  r  2 NaN\n",
      "\n",
      "      0    1    2   3\n",
      "0  16.0  NaN    a NaN\n",
      "1  57.2    7    5 NaN\n",
      "2   NaN    r    2 NaN\n",
      "0   NaN  NaN  NaN NaN\n",
      "1     1    2    3 NaN\n",
      "2     a    b    c NaN\n"
     ]
    },
    {
     "name": "stderr",
     "output_type": "stream",
     "text": [
      "C:\\Users\\Steve\\AppData\\Local\\Temp\\ipykernel_10764\\628728301.py:26: FutureWarning: The frame.append method is deprecated and will be removed from pandas in a future version. Use pandas.concat instead.\n",
      "  print(null_df.append(null_row_df))    # Concatenating dataframes using .append().\n"
     ]
    }
   ],
   "source": [
    "# Creating an all null row DataFrame\n",
    "null_row_df = pd.DataFrame([[np.nan, np.nan, np.nan],\n",
    "                           [1, 2, 3],\n",
    "                           ['a', 'b', 'c']]) \n",
    "print(null_row_df)\n",
    "print()\n",
    "\n",
    "print(null_row_df.dropna(axis='rows', how='all')) # Dropping the all null row\n",
    "print()\n",
    "\n",
    "null_df[3] = np.nan # Creating an all null column\n",
    "print('New null column: ', '\\n', null_df, '\\n')\n",
    "\n",
    "print('Dropped null column: ', '\\n', null_df.dropna(axis='columns', how='all')) # Dropping the all null column\n",
    "print()\n",
    "\n",
    "print('Replacing null with zeros: ', '\\n', null_df.fillna(0))\n",
    "print()\n",
    "\n",
    "print('Using forward fill: ', '\\n', null_df.fillna(method='ffill'))\n",
    "print()\n",
    "\n",
    "print('Using backward fill: ', '\\n', null_df.fillna(method='bfill'))\n",
    "print()\n",
    "\n",
    "print(null_df.append(null_row_df))    # Concatenating dataframes using .append().\n",
    "\n"
   ]
  },
  {
   "cell_type": "code",
   "execution_count": 22,
   "id": "967aedc3",
   "metadata": {},
   "outputs": [
    {
     "name": "stdout",
     "output_type": "stream",
     "text": [
      "      A     B   C   D\n",
      "0  57.0  32.0 NaN NaN\n",
      "1  20.0  56.0 NaN NaN\n",
      "2   NaN   NaN NaN NaN\n",
      "3   NaN   NaN NaN NaN\n",
      "\n",
      "      A     B     C     D\n",
      "0  57.0  32.0  57.0  62.0\n",
      "1  20.0  56.0  41.0  30.0\n",
      "2  46.0  37.0  48.0  31.0\n",
      "3  24.0  59.0  64.0  23.0\n"
     ]
    }
   ],
   "source": [
    "# Creating two Pandas dataframes that when added using ‘+’ produce some NaN entries.\n",
    "\n",
    "X = pd.DataFrame(np.random.randint(5, 35, (2, 2)),\n",
    "                 columns=list('AB'))\n",
    "\n",
    "Y = pd.DataFrame(np.random.randint(0, 50, (4, 4)),\n",
    "                 columns=list('BACD'))\n",
    "\n",
    "print(X+Y)\n",
    "print()\n",
    "\n",
    "print(X.add(Y, fill_value=X.stack().mean()))    # Using .add() and fill_value to replace the NaN entries.\n"
   ]
  },
  {
   "cell_type": "code",
   "execution_count": 3,
   "id": "a3800eac",
   "metadata": {},
   "outputs": [
    {
     "name": "stdout",
     "output_type": "stream",
     "text": [
      "[[8 9 7 9]\n",
      " [9 6 7 7]\n",
      " [7 9 8 7]\n",
      " [9 6 8 6]]\n",
      "\n",
      "   Q  R  S  T\n",
      "0  8  9  7  9\n",
      "1  9  6  7  7\n",
      "2  7  9  8  7\n",
      "3  9  6  8  6\n",
      "\n",
      "   Q  R  S  T\n",
      "0  1  0 -1  2\n",
      "1  2 -3 -1  0\n",
      "2  0  0  0  0\n",
      "3  2 -3  0 -1\n"
     ]
    }
   ],
   "source": [
    "# Creating a 2D NumPy array filled with random integers to use for the dataframe.\n",
    "rng = np.random.RandomState(42)\n",
    "A = rng.randint(5, 10, size=(4,4))\n",
    "print(A)\n",
    "print()\n",
    "\n",
    "# Setting up a dataframe to modify.\n",
    "df = pd.DataFrame(A, columns=list('QRST'))\n",
    "print(df)\n",
    "print()\n",
    "\n",
    "\n",
    "print(df - df.iloc[2])    # Subtracting row 2 of df from df using .iloc[]\n"
   ]
  },
  {
   "cell_type": "markdown",
   "id": "b899b2c8",
   "metadata": {},
   "source": [
    "Pandas MultiIndexing"
   ]
  },
  {
   "cell_type": "code",
   "execution_count": 14,
   "id": "11db07c3",
   "metadata": {},
   "outputs": [
    {
     "name": "stdout",
     "output_type": "stream",
     "text": [
      "(California, 2000)    33871648\n",
      "(California, 2010)    37253956\n",
      "(California, 2020)    39538223\n",
      "(New York, 2000)      18976457\n",
      "(New York, 2010)      19378102\n",
      "(New York, 2020)      20201249\n",
      "(Texas, 2000)         20851820\n",
      "(Texas, 2010)         25145561\n",
      "(Texas, 2020)         29145505\n",
      "dtype: int64\n",
      "\n",
      "(California, 2020)    39538223\n",
      "(New York, 2000)      18976457\n",
      "(New York, 2010)      19378102\n",
      "(New York, 2020)      20201249\n",
      "(Texas, 2000)         20851820\n",
      "dtype: int64\n",
      "\n",
      "MultiIndex([('California', 2000),\n",
      "            ('California', 2010),\n",
      "            ('California', 2020),\n",
      "            (  'New York', 2000),\n",
      "            (  'New York', 2010),\n",
      "            (  'New York', 2020),\n",
      "            (     'Texas', 2000),\n",
      "            (     'Texas', 2010),\n",
      "            (     'Texas', 2020)],\n",
      "           )\n",
      "California  2000    33871648\n",
      "            2010    37253956\n",
      "            2020    39538223\n",
      "New York    2000    18976457\n",
      "            2010    19378102\n",
      "            2020    20201249\n",
      "Texas       2000    20851820\n",
      "            2010    25145561\n",
      "            2020    29145505\n",
      "dtype: int64\n",
      "\n",
      "                2000      2010      2020\n",
      "California  33871648  37253956  39538223\n",
      "New York    18976457  19378102  20201249\n",
      "Texas       20851820  25145561  29145505\n",
      "\n",
      "California    37253956\n",
      "New York      19378102\n",
      "Texas         25145561\n",
      "dtype: int64\n",
      "\n",
      "By index:  37253956\n"
     ]
    }
   ],
   "source": [
    "# Demonstrate Pandas MultiIndex techniques (can use book examples):\n",
    "index = [('California', 2000), ('California', 2010), ('California', 2020),\n",
    "         ('New York', 2000), ('New York', 2010), ('New York', 2020),\n",
    "         ('Texas', 2000), ('Texas', 2010), ('Texas', 2020)]\n",
    "populations = [33871648, 37253956, 39538223, \n",
    "               18976457, 19378102, 20201249, \n",
    "               20851820, 25145561, 29145505]\n",
    "pop = pd.Series(populations, index=index)\n",
    "print(pop)\n",
    "print()\n",
    "\n",
    "print(pop[('California', 2020):('Texas', 2000)])    # Slicing\n",
    "print()\n",
    "\n",
    "index = pd.MultiIndex.from_tuples(index)    # Using MultiIndex.from_tuples()\n",
    "print(index)\n",
    "\n",
    "pop = pop.reindex(index)    # Using .reindex() to pretty things up\n",
    "print(pop)\n",
    "print()\n",
    "\n",
    "pop_df = pop.unstack()    # Unstacking to really make it nice.\n",
    "print(pop_df)\n",
    "print()\n",
    "\n",
    "pop_df.stack()    # Restack and slice\n",
    "print(pop[:, 2010])\n",
    "print()\n",
    "\n",
    "print('By index: ', pop[1])    # And by index\n"
   ]
  },
  {
   "cell_type": "markdown",
   "id": "d877db0f",
   "metadata": {},
   "source": [
    "### Joins with Pandas DataFrames"
   ]
  },
  {
   "cell_type": "code",
   "execution_count": 28,
   "id": "3de0c77b",
   "metadata": {},
   "outputs": [
    {
     "data": {
      "text/html": [
       "<div>\n",
       "<style scoped>\n",
       "    .dataframe tbody tr th:only-of-type {\n",
       "        vertical-align: middle;\n",
       "    }\n",
       "\n",
       "    .dataframe tbody tr th {\n",
       "        vertical-align: top;\n",
       "    }\n",
       "\n",
       "    .dataframe thead th {\n",
       "        text-align: right;\n",
       "    }\n",
       "</style>\n",
       "<table border=\"1\" class=\"dataframe\">\n",
       "  <thead>\n",
       "    <tr style=\"text-align: right;\">\n",
       "      <th></th>\n",
       "      <th>Athlete</th>\n",
       "      <th>Team</th>\n",
       "    </tr>\n",
       "  </thead>\n",
       "  <tbody>\n",
       "    <tr>\n",
       "      <th>0</th>\n",
       "      <td>Akers</td>\n",
       "      <td>WSOC</td>\n",
       "    </tr>\n",
       "    <tr>\n",
       "      <th>1</th>\n",
       "      <td>Barton</td>\n",
       "      <td>WSOC</td>\n",
       "    </tr>\n",
       "    <tr>\n",
       "      <th>2</th>\n",
       "      <td>Ewton</td>\n",
       "      <td>WSOC</td>\n",
       "    </tr>\n",
       "    <tr>\n",
       "      <th>3</th>\n",
       "      <td>Gajevsky</td>\n",
       "      <td>WSOC</td>\n",
       "    </tr>\n",
       "    <tr>\n",
       "      <th>4</th>\n",
       "      <td>Grayson</td>\n",
       "      <td>WSOC</td>\n",
       "    </tr>\n",
       "    <tr>\n",
       "      <th>5</th>\n",
       "      <td>Gutierrez</td>\n",
       "      <td>WSOC</td>\n",
       "    </tr>\n",
       "    <tr>\n",
       "      <th>6</th>\n",
       "      <td>Brown</td>\n",
       "      <td>VB</td>\n",
       "    </tr>\n",
       "    <tr>\n",
       "      <th>7</th>\n",
       "      <td>Campos</td>\n",
       "      <td>VB</td>\n",
       "    </tr>\n",
       "    <tr>\n",
       "      <th>8</th>\n",
       "      <td>Cathey</td>\n",
       "      <td>VB</td>\n",
       "    </tr>\n",
       "    <tr>\n",
       "      <th>9</th>\n",
       "      <td>Duck</td>\n",
       "      <td>VB</td>\n",
       "    </tr>\n",
       "    <tr>\n",
       "      <th>10</th>\n",
       "      <td>Grimes</td>\n",
       "      <td>VB</td>\n",
       "    </tr>\n",
       "    <tr>\n",
       "      <th>11</th>\n",
       "      <td>Hightower</td>\n",
       "      <td>VB</td>\n",
       "    </tr>\n",
       "  </tbody>\n",
       "</table>\n",
       "</div>"
      ],
      "text/plain": [
       "      Athlete  Team\n",
       "0       Akers  WSOC\n",
       "1      Barton  WSOC\n",
       "2       Ewton  WSOC\n",
       "3    Gajevsky  WSOC\n",
       "4     Grayson  WSOC\n",
       "5   Gutierrez  WSOC\n",
       "6       Brown    VB\n",
       "7      Campos    VB\n",
       "8      Cathey    VB\n",
       "9        Duck    VB\n",
       "10     Grimes    VB\n",
       "11  Hightower    VB"
      ]
     },
     "metadata": {},
     "output_type": "display_data"
    },
    {
     "data": {
      "text/html": [
       "<div>\n",
       "<style scoped>\n",
       "    .dataframe tbody tr th:only-of-type {\n",
       "        vertical-align: middle;\n",
       "    }\n",
       "\n",
       "    .dataframe tbody tr th {\n",
       "        vertical-align: top;\n",
       "    }\n",
       "\n",
       "    .dataframe thead th {\n",
       "        text-align: right;\n",
       "    }\n",
       "</style>\n",
       "<table border=\"1\" class=\"dataframe\">\n",
       "  <thead>\n",
       "    <tr style=\"text-align: right;\">\n",
       "      <th></th>\n",
       "      <th>Athlete</th>\n",
       "      <th>Squat</th>\n",
       "    </tr>\n",
       "  </thead>\n",
       "  <tbody>\n",
       "    <tr>\n",
       "      <th>0</th>\n",
       "      <td>Akers</td>\n",
       "      <td>215</td>\n",
       "    </tr>\n",
       "    <tr>\n",
       "      <th>1</th>\n",
       "      <td>Barton</td>\n",
       "      <td>135</td>\n",
       "    </tr>\n",
       "    <tr>\n",
       "      <th>2</th>\n",
       "      <td>Ewton</td>\n",
       "      <td>150</td>\n",
       "    </tr>\n",
       "    <tr>\n",
       "      <th>3</th>\n",
       "      <td>Gajevsky</td>\n",
       "      <td>165</td>\n",
       "    </tr>\n",
       "    <tr>\n",
       "      <th>4</th>\n",
       "      <td>Grayson</td>\n",
       "      <td>250</td>\n",
       "    </tr>\n",
       "    <tr>\n",
       "      <th>5</th>\n",
       "      <td>Gutierrez</td>\n",
       "      <td>140</td>\n",
       "    </tr>\n",
       "    <tr>\n",
       "      <th>6</th>\n",
       "      <td>Brown</td>\n",
       "      <td>150</td>\n",
       "    </tr>\n",
       "    <tr>\n",
       "      <th>7</th>\n",
       "      <td>Campos</td>\n",
       "      <td>205</td>\n",
       "    </tr>\n",
       "    <tr>\n",
       "      <th>8</th>\n",
       "      <td>Cathey</td>\n",
       "      <td>175</td>\n",
       "    </tr>\n",
       "    <tr>\n",
       "      <th>9</th>\n",
       "      <td>Duck</td>\n",
       "      <td>65</td>\n",
       "    </tr>\n",
       "    <tr>\n",
       "      <th>10</th>\n",
       "      <td>Grimes</td>\n",
       "      <td>235</td>\n",
       "    </tr>\n",
       "    <tr>\n",
       "      <th>11</th>\n",
       "      <td>Hightower</td>\n",
       "      <td>180</td>\n",
       "    </tr>\n",
       "  </tbody>\n",
       "</table>\n",
       "</div>"
      ],
      "text/plain": [
       "      Athlete  Squat\n",
       "0       Akers    215\n",
       "1      Barton    135\n",
       "2       Ewton    150\n",
       "3    Gajevsky    165\n",
       "4     Grayson    250\n",
       "5   Gutierrez    140\n",
       "6       Brown    150\n",
       "7      Campos    205\n",
       "8      Cathey    175\n",
       "9        Duck     65\n",
       "10     Grimes    235\n",
       "11  Hightower    180"
      ]
     },
     "metadata": {},
     "output_type": "display_data"
    }
   ],
   "source": [
    "# Create a few DataFrames to use.\n",
    "su_f_df = pd.DataFrame({'Athlete': ['Akers', 'Barton', 'Ewton', 'Gajevsky', 'Grayson', 'Gutierrez',\n",
    "                                    'Brown', 'Campos', 'Cathey', 'Duck', 'Grimes', 'Hightower'],\n",
    "                    'Team': ['WSOC', 'WSOC', 'WSOC', 'WSOC', 'WSOC', 'WSOC',\n",
    "                             'VB', 'VB', 'VB', 'VB', 'VB', 'VB']})\n",
    "su_fsqtmax_df = pd.DataFrame({'Athlete': ['Akers', 'Barton', 'Ewton', 'Gajevsky', 'Grayson', 'Gutierrez',\n",
    "                                    'Brown', 'Campos', 'Cathey', 'Duck', 'Grimes', 'Hightower'],\n",
    "                    'Squat': [215, 135, 150, 165, 250, 140,\n",
    "                             150, 205, 175, 65, 235, 180]})\n",
    "\n",
    "display(su_f_df, su_fsqtmax_df)\n"
   ]
  },
  {
   "cell_type": "code",
   "execution_count": 30,
   "id": "a61cd64e",
   "metadata": {},
   "outputs": [
    {
     "data": {
      "text/html": [
       "<div>\n",
       "<style scoped>\n",
       "    .dataframe tbody tr th:only-of-type {\n",
       "        vertical-align: middle;\n",
       "    }\n",
       "\n",
       "    .dataframe tbody tr th {\n",
       "        vertical-align: top;\n",
       "    }\n",
       "\n",
       "    .dataframe thead th {\n",
       "        text-align: right;\n",
       "    }\n",
       "</style>\n",
       "<table border=\"1\" class=\"dataframe\">\n",
       "  <thead>\n",
       "    <tr style=\"text-align: right;\">\n",
       "      <th></th>\n",
       "      <th>Athlete</th>\n",
       "      <th>Team</th>\n",
       "      <th>Squat</th>\n",
       "    </tr>\n",
       "  </thead>\n",
       "  <tbody>\n",
       "    <tr>\n",
       "      <th>0</th>\n",
       "      <td>Akers</td>\n",
       "      <td>WSOC</td>\n",
       "      <td>215</td>\n",
       "    </tr>\n",
       "    <tr>\n",
       "      <th>1</th>\n",
       "      <td>Barton</td>\n",
       "      <td>WSOC</td>\n",
       "      <td>135</td>\n",
       "    </tr>\n",
       "    <tr>\n",
       "      <th>2</th>\n",
       "      <td>Ewton</td>\n",
       "      <td>WSOC</td>\n",
       "      <td>150</td>\n",
       "    </tr>\n",
       "    <tr>\n",
       "      <th>3</th>\n",
       "      <td>Gajevsky</td>\n",
       "      <td>WSOC</td>\n",
       "      <td>165</td>\n",
       "    </tr>\n",
       "    <tr>\n",
       "      <th>4</th>\n",
       "      <td>Grayson</td>\n",
       "      <td>WSOC</td>\n",
       "      <td>250</td>\n",
       "    </tr>\n",
       "    <tr>\n",
       "      <th>5</th>\n",
       "      <td>Gutierrez</td>\n",
       "      <td>WSOC</td>\n",
       "      <td>140</td>\n",
       "    </tr>\n",
       "    <tr>\n",
       "      <th>6</th>\n",
       "      <td>Brown</td>\n",
       "      <td>VB</td>\n",
       "      <td>150</td>\n",
       "    </tr>\n",
       "    <tr>\n",
       "      <th>7</th>\n",
       "      <td>Campos</td>\n",
       "      <td>VB</td>\n",
       "      <td>205</td>\n",
       "    </tr>\n",
       "    <tr>\n",
       "      <th>8</th>\n",
       "      <td>Cathey</td>\n",
       "      <td>VB</td>\n",
       "      <td>175</td>\n",
       "    </tr>\n",
       "    <tr>\n",
       "      <th>9</th>\n",
       "      <td>Duck</td>\n",
       "      <td>VB</td>\n",
       "      <td>65</td>\n",
       "    </tr>\n",
       "    <tr>\n",
       "      <th>10</th>\n",
       "      <td>Grimes</td>\n",
       "      <td>VB</td>\n",
       "      <td>235</td>\n",
       "    </tr>\n",
       "    <tr>\n",
       "      <th>11</th>\n",
       "      <td>Hightower</td>\n",
       "      <td>VB</td>\n",
       "      <td>180</td>\n",
       "    </tr>\n",
       "  </tbody>\n",
       "</table>\n",
       "</div>"
      ],
      "text/plain": [
       "      Athlete  Team  Squat\n",
       "0       Akers  WSOC    215\n",
       "1      Barton  WSOC    135\n",
       "2       Ewton  WSOC    150\n",
       "3    Gajevsky  WSOC    165\n",
       "4     Grayson  WSOC    250\n",
       "5   Gutierrez  WSOC    140\n",
       "6       Brown    VB    150\n",
       "7      Campos    VB    205\n",
       "8      Cathey    VB    175\n",
       "9        Duck    VB     65\n",
       "10     Grimes    VB    235\n",
       "11  Hightower    VB    180"
      ]
     },
     "metadata": {},
     "output_type": "display_data"
    }
   ],
   "source": [
    "su_fsportmax_df = pd.merge(su_f_df, su_fsqtmax_df)    # Creating a one-to-one join.\n",
    "\n",
    "display(su_fsportmax_df)\n"
   ]
  },
  {
   "cell_type": "code",
   "execution_count": 33,
   "id": "e3ec1496",
   "metadata": {},
   "outputs": [
    {
     "data": {
      "text/html": [
       "<div>\n",
       "<style scoped>\n",
       "    .dataframe tbody tr th:only-of-type {\n",
       "        vertical-align: middle;\n",
       "    }\n",
       "\n",
       "    .dataframe tbody tr th {\n",
       "        vertical-align: top;\n",
       "    }\n",
       "\n",
       "    .dataframe thead th {\n",
       "        text-align: right;\n",
       "    }\n",
       "</style>\n",
       "<table border=\"1\" class=\"dataframe\">\n",
       "  <thead>\n",
       "    <tr style=\"text-align: right;\">\n",
       "      <th></th>\n",
       "      <th>Athlete</th>\n",
       "      <th>Team</th>\n",
       "      <th>Squat</th>\n",
       "      <th>Coach</th>\n",
       "    </tr>\n",
       "  </thead>\n",
       "  <tbody>\n",
       "    <tr>\n",
       "      <th>0</th>\n",
       "      <td>Akers</td>\n",
       "      <td>WSOC</td>\n",
       "      <td>215</td>\n",
       "      <td>Hamilton</td>\n",
       "    </tr>\n",
       "    <tr>\n",
       "      <th>1</th>\n",
       "      <td>Barton</td>\n",
       "      <td>WSOC</td>\n",
       "      <td>135</td>\n",
       "      <td>Hamilton</td>\n",
       "    </tr>\n",
       "    <tr>\n",
       "      <th>2</th>\n",
       "      <td>Ewton</td>\n",
       "      <td>WSOC</td>\n",
       "      <td>150</td>\n",
       "      <td>Hamilton</td>\n",
       "    </tr>\n",
       "    <tr>\n",
       "      <th>3</th>\n",
       "      <td>Gajevsky</td>\n",
       "      <td>WSOC</td>\n",
       "      <td>165</td>\n",
       "      <td>Hamilton</td>\n",
       "    </tr>\n",
       "    <tr>\n",
       "      <th>4</th>\n",
       "      <td>Grayson</td>\n",
       "      <td>WSOC</td>\n",
       "      <td>250</td>\n",
       "      <td>Hamilton</td>\n",
       "    </tr>\n",
       "    <tr>\n",
       "      <th>5</th>\n",
       "      <td>Gutierrez</td>\n",
       "      <td>WSOC</td>\n",
       "      <td>140</td>\n",
       "      <td>Hamilton</td>\n",
       "    </tr>\n",
       "    <tr>\n",
       "      <th>6</th>\n",
       "      <td>Brown</td>\n",
       "      <td>VB</td>\n",
       "      <td>150</td>\n",
       "      <td>Flora</td>\n",
       "    </tr>\n",
       "    <tr>\n",
       "      <th>7</th>\n",
       "      <td>Campos</td>\n",
       "      <td>VB</td>\n",
       "      <td>205</td>\n",
       "      <td>Flora</td>\n",
       "    </tr>\n",
       "    <tr>\n",
       "      <th>8</th>\n",
       "      <td>Cathey</td>\n",
       "      <td>VB</td>\n",
       "      <td>175</td>\n",
       "      <td>Flora</td>\n",
       "    </tr>\n",
       "    <tr>\n",
       "      <th>9</th>\n",
       "      <td>Duck</td>\n",
       "      <td>VB</td>\n",
       "      <td>65</td>\n",
       "      <td>Flora</td>\n",
       "    </tr>\n",
       "    <tr>\n",
       "      <th>10</th>\n",
       "      <td>Grimes</td>\n",
       "      <td>VB</td>\n",
       "      <td>235</td>\n",
       "      <td>Flora</td>\n",
       "    </tr>\n",
       "    <tr>\n",
       "      <th>11</th>\n",
       "      <td>Hightower</td>\n",
       "      <td>VB</td>\n",
       "      <td>180</td>\n",
       "      <td>Flora</td>\n",
       "    </tr>\n",
       "  </tbody>\n",
       "</table>\n",
       "</div>"
      ],
      "text/plain": [
       "      Athlete  Team  Squat     Coach\n",
       "0       Akers  WSOC    215  Hamilton\n",
       "1      Barton  WSOC    135  Hamilton\n",
       "2       Ewton  WSOC    150  Hamilton\n",
       "3    Gajevsky  WSOC    165  Hamilton\n",
       "4     Grayson  WSOC    250  Hamilton\n",
       "5   Gutierrez  WSOC    140  Hamilton\n",
       "6       Brown    VB    150     Flora\n",
       "7      Campos    VB    205     Flora\n",
       "8      Cathey    VB    175     Flora\n",
       "9        Duck    VB     65     Flora\n",
       "10     Grimes    VB    235     Flora\n",
       "11  Hightower    VB    180     Flora"
      ]
     },
     "metadata": {},
     "output_type": "display_data"
    }
   ],
   "source": [
    "# Creating a new DataFrame to join.\n",
    "su_coach_df = pd.DataFrame({'Team': ['WSOC', 'VB'],\n",
    "                    'Coach': ['Hamilton', 'Flora']})\n",
    "\n",
    "display(pd.merge(su_fsportmax_df, su_coach_df))    # A many-to-one join to show the Athlete, Team, Squat, and Coach.\n"
   ]
  },
  {
   "cell_type": "code",
   "execution_count": 37,
   "id": "b2516261",
   "metadata": {},
   "outputs": [
    {
     "data": {
      "text/html": [
       "<div>\n",
       "<style scoped>\n",
       "    .dataframe tbody tr th:only-of-type {\n",
       "        vertical-align: middle;\n",
       "    }\n",
       "\n",
       "    .dataframe tbody tr th {\n",
       "        vertical-align: top;\n",
       "    }\n",
       "\n",
       "    .dataframe thead th {\n",
       "        text-align: right;\n",
       "    }\n",
       "</style>\n",
       "<table border=\"1\" class=\"dataframe\">\n",
       "  <thead>\n",
       "    <tr style=\"text-align: right;\">\n",
       "      <th></th>\n",
       "      <th>Athlete</th>\n",
       "      <th>Team</th>\n",
       "      <th>Equipment</th>\n",
       "    </tr>\n",
       "  </thead>\n",
       "  <tbody>\n",
       "    <tr>\n",
       "      <th>0</th>\n",
       "      <td>Akers</td>\n",
       "      <td>WSOC</td>\n",
       "      <td>Pitch</td>\n",
       "    </tr>\n",
       "    <tr>\n",
       "      <th>1</th>\n",
       "      <td>Akers</td>\n",
       "      <td>WSOC</td>\n",
       "      <td>Cleats</td>\n",
       "    </tr>\n",
       "    <tr>\n",
       "      <th>2</th>\n",
       "      <td>Akers</td>\n",
       "      <td>WSOC</td>\n",
       "      <td>Ball</td>\n",
       "    </tr>\n",
       "    <tr>\n",
       "      <th>3</th>\n",
       "      <td>Akers</td>\n",
       "      <td>WSOC</td>\n",
       "      <td>Goal</td>\n",
       "    </tr>\n",
       "    <tr>\n",
       "      <th>4</th>\n",
       "      <td>Akers</td>\n",
       "      <td>WSOC</td>\n",
       "      <td>Shin Guards</td>\n",
       "    </tr>\n",
       "    <tr>\n",
       "      <th>5</th>\n",
       "      <td>Barton</td>\n",
       "      <td>WSOC</td>\n",
       "      <td>Pitch</td>\n",
       "    </tr>\n",
       "    <tr>\n",
       "      <th>6</th>\n",
       "      <td>Barton</td>\n",
       "      <td>WSOC</td>\n",
       "      <td>Cleats</td>\n",
       "    </tr>\n",
       "    <tr>\n",
       "      <th>7</th>\n",
       "      <td>Barton</td>\n",
       "      <td>WSOC</td>\n",
       "      <td>Ball</td>\n",
       "    </tr>\n",
       "    <tr>\n",
       "      <th>8</th>\n",
       "      <td>Barton</td>\n",
       "      <td>WSOC</td>\n",
       "      <td>Goal</td>\n",
       "    </tr>\n",
       "    <tr>\n",
       "      <th>9</th>\n",
       "      <td>Barton</td>\n",
       "      <td>WSOC</td>\n",
       "      <td>Shin Guards</td>\n",
       "    </tr>\n",
       "    <tr>\n",
       "      <th>10</th>\n",
       "      <td>Ewton</td>\n",
       "      <td>WSOC</td>\n",
       "      <td>Pitch</td>\n",
       "    </tr>\n",
       "    <tr>\n",
       "      <th>11</th>\n",
       "      <td>Ewton</td>\n",
       "      <td>WSOC</td>\n",
       "      <td>Cleats</td>\n",
       "    </tr>\n",
       "    <tr>\n",
       "      <th>12</th>\n",
       "      <td>Ewton</td>\n",
       "      <td>WSOC</td>\n",
       "      <td>Ball</td>\n",
       "    </tr>\n",
       "    <tr>\n",
       "      <th>13</th>\n",
       "      <td>Ewton</td>\n",
       "      <td>WSOC</td>\n",
       "      <td>Goal</td>\n",
       "    </tr>\n",
       "    <tr>\n",
       "      <th>14</th>\n",
       "      <td>Ewton</td>\n",
       "      <td>WSOC</td>\n",
       "      <td>Shin Guards</td>\n",
       "    </tr>\n",
       "    <tr>\n",
       "      <th>15</th>\n",
       "      <td>Gajevsky</td>\n",
       "      <td>WSOC</td>\n",
       "      <td>Pitch</td>\n",
       "    </tr>\n",
       "    <tr>\n",
       "      <th>16</th>\n",
       "      <td>Gajevsky</td>\n",
       "      <td>WSOC</td>\n",
       "      <td>Cleats</td>\n",
       "    </tr>\n",
       "    <tr>\n",
       "      <th>17</th>\n",
       "      <td>Gajevsky</td>\n",
       "      <td>WSOC</td>\n",
       "      <td>Ball</td>\n",
       "    </tr>\n",
       "    <tr>\n",
       "      <th>18</th>\n",
       "      <td>Gajevsky</td>\n",
       "      <td>WSOC</td>\n",
       "      <td>Goal</td>\n",
       "    </tr>\n",
       "    <tr>\n",
       "      <th>19</th>\n",
       "      <td>Gajevsky</td>\n",
       "      <td>WSOC</td>\n",
       "      <td>Shin Guards</td>\n",
       "    </tr>\n",
       "    <tr>\n",
       "      <th>20</th>\n",
       "      <td>Grayson</td>\n",
       "      <td>WSOC</td>\n",
       "      <td>Pitch</td>\n",
       "    </tr>\n",
       "    <tr>\n",
       "      <th>21</th>\n",
       "      <td>Grayson</td>\n",
       "      <td>WSOC</td>\n",
       "      <td>Cleats</td>\n",
       "    </tr>\n",
       "    <tr>\n",
       "      <th>22</th>\n",
       "      <td>Grayson</td>\n",
       "      <td>WSOC</td>\n",
       "      <td>Ball</td>\n",
       "    </tr>\n",
       "    <tr>\n",
       "      <th>23</th>\n",
       "      <td>Grayson</td>\n",
       "      <td>WSOC</td>\n",
       "      <td>Goal</td>\n",
       "    </tr>\n",
       "    <tr>\n",
       "      <th>24</th>\n",
       "      <td>Grayson</td>\n",
       "      <td>WSOC</td>\n",
       "      <td>Shin Guards</td>\n",
       "    </tr>\n",
       "    <tr>\n",
       "      <th>25</th>\n",
       "      <td>Gutierrez</td>\n",
       "      <td>WSOC</td>\n",
       "      <td>Pitch</td>\n",
       "    </tr>\n",
       "    <tr>\n",
       "      <th>26</th>\n",
       "      <td>Gutierrez</td>\n",
       "      <td>WSOC</td>\n",
       "      <td>Cleats</td>\n",
       "    </tr>\n",
       "    <tr>\n",
       "      <th>27</th>\n",
       "      <td>Gutierrez</td>\n",
       "      <td>WSOC</td>\n",
       "      <td>Ball</td>\n",
       "    </tr>\n",
       "    <tr>\n",
       "      <th>28</th>\n",
       "      <td>Gutierrez</td>\n",
       "      <td>WSOC</td>\n",
       "      <td>Goal</td>\n",
       "    </tr>\n",
       "    <tr>\n",
       "      <th>29</th>\n",
       "      <td>Gutierrez</td>\n",
       "      <td>WSOC</td>\n",
       "      <td>Shin Guards</td>\n",
       "    </tr>\n",
       "    <tr>\n",
       "      <th>30</th>\n",
       "      <td>Brown</td>\n",
       "      <td>VB</td>\n",
       "      <td>Court</td>\n",
       "    </tr>\n",
       "    <tr>\n",
       "      <th>31</th>\n",
       "      <td>Brown</td>\n",
       "      <td>VB</td>\n",
       "      <td>Net</td>\n",
       "    </tr>\n",
       "    <tr>\n",
       "      <th>32</th>\n",
       "      <td>Brown</td>\n",
       "      <td>VB</td>\n",
       "      <td>Ball</td>\n",
       "    </tr>\n",
       "    <tr>\n",
       "      <th>33</th>\n",
       "      <td>Brown</td>\n",
       "      <td>VB</td>\n",
       "      <td>Knee Pads</td>\n",
       "    </tr>\n",
       "    <tr>\n",
       "      <th>34</th>\n",
       "      <td>Campos</td>\n",
       "      <td>VB</td>\n",
       "      <td>Court</td>\n",
       "    </tr>\n",
       "    <tr>\n",
       "      <th>35</th>\n",
       "      <td>Campos</td>\n",
       "      <td>VB</td>\n",
       "      <td>Net</td>\n",
       "    </tr>\n",
       "    <tr>\n",
       "      <th>36</th>\n",
       "      <td>Campos</td>\n",
       "      <td>VB</td>\n",
       "      <td>Ball</td>\n",
       "    </tr>\n",
       "    <tr>\n",
       "      <th>37</th>\n",
       "      <td>Campos</td>\n",
       "      <td>VB</td>\n",
       "      <td>Knee Pads</td>\n",
       "    </tr>\n",
       "    <tr>\n",
       "      <th>38</th>\n",
       "      <td>Cathey</td>\n",
       "      <td>VB</td>\n",
       "      <td>Court</td>\n",
       "    </tr>\n",
       "    <tr>\n",
       "      <th>39</th>\n",
       "      <td>Cathey</td>\n",
       "      <td>VB</td>\n",
       "      <td>Net</td>\n",
       "    </tr>\n",
       "    <tr>\n",
       "      <th>40</th>\n",
       "      <td>Cathey</td>\n",
       "      <td>VB</td>\n",
       "      <td>Ball</td>\n",
       "    </tr>\n",
       "    <tr>\n",
       "      <th>41</th>\n",
       "      <td>Cathey</td>\n",
       "      <td>VB</td>\n",
       "      <td>Knee Pads</td>\n",
       "    </tr>\n",
       "    <tr>\n",
       "      <th>42</th>\n",
       "      <td>Duck</td>\n",
       "      <td>VB</td>\n",
       "      <td>Court</td>\n",
       "    </tr>\n",
       "    <tr>\n",
       "      <th>43</th>\n",
       "      <td>Duck</td>\n",
       "      <td>VB</td>\n",
       "      <td>Net</td>\n",
       "    </tr>\n",
       "    <tr>\n",
       "      <th>44</th>\n",
       "      <td>Duck</td>\n",
       "      <td>VB</td>\n",
       "      <td>Ball</td>\n",
       "    </tr>\n",
       "    <tr>\n",
       "      <th>45</th>\n",
       "      <td>Duck</td>\n",
       "      <td>VB</td>\n",
       "      <td>Knee Pads</td>\n",
       "    </tr>\n",
       "    <tr>\n",
       "      <th>46</th>\n",
       "      <td>Grimes</td>\n",
       "      <td>VB</td>\n",
       "      <td>Court</td>\n",
       "    </tr>\n",
       "    <tr>\n",
       "      <th>47</th>\n",
       "      <td>Grimes</td>\n",
       "      <td>VB</td>\n",
       "      <td>Net</td>\n",
       "    </tr>\n",
       "    <tr>\n",
       "      <th>48</th>\n",
       "      <td>Grimes</td>\n",
       "      <td>VB</td>\n",
       "      <td>Ball</td>\n",
       "    </tr>\n",
       "    <tr>\n",
       "      <th>49</th>\n",
       "      <td>Grimes</td>\n",
       "      <td>VB</td>\n",
       "      <td>Knee Pads</td>\n",
       "    </tr>\n",
       "    <tr>\n",
       "      <th>50</th>\n",
       "      <td>Hightower</td>\n",
       "      <td>VB</td>\n",
       "      <td>Court</td>\n",
       "    </tr>\n",
       "    <tr>\n",
       "      <th>51</th>\n",
       "      <td>Hightower</td>\n",
       "      <td>VB</td>\n",
       "      <td>Net</td>\n",
       "    </tr>\n",
       "    <tr>\n",
       "      <th>52</th>\n",
       "      <td>Hightower</td>\n",
       "      <td>VB</td>\n",
       "      <td>Ball</td>\n",
       "    </tr>\n",
       "    <tr>\n",
       "      <th>53</th>\n",
       "      <td>Hightower</td>\n",
       "      <td>VB</td>\n",
       "      <td>Knee Pads</td>\n",
       "    </tr>\n",
       "  </tbody>\n",
       "</table>\n",
       "</div>"
      ],
      "text/plain": [
       "      Athlete  Team    Equipment\n",
       "0       Akers  WSOC        Pitch\n",
       "1       Akers  WSOC       Cleats\n",
       "2       Akers  WSOC         Ball\n",
       "3       Akers  WSOC         Goal\n",
       "4       Akers  WSOC  Shin Guards\n",
       "5      Barton  WSOC        Pitch\n",
       "6      Barton  WSOC       Cleats\n",
       "7      Barton  WSOC         Ball\n",
       "8      Barton  WSOC         Goal\n",
       "9      Barton  WSOC  Shin Guards\n",
       "10      Ewton  WSOC        Pitch\n",
       "11      Ewton  WSOC       Cleats\n",
       "12      Ewton  WSOC         Ball\n",
       "13      Ewton  WSOC         Goal\n",
       "14      Ewton  WSOC  Shin Guards\n",
       "15   Gajevsky  WSOC        Pitch\n",
       "16   Gajevsky  WSOC       Cleats\n",
       "17   Gajevsky  WSOC         Ball\n",
       "18   Gajevsky  WSOC         Goal\n",
       "19   Gajevsky  WSOC  Shin Guards\n",
       "20    Grayson  WSOC        Pitch\n",
       "21    Grayson  WSOC       Cleats\n",
       "22    Grayson  WSOC         Ball\n",
       "23    Grayson  WSOC         Goal\n",
       "24    Grayson  WSOC  Shin Guards\n",
       "25  Gutierrez  WSOC        Pitch\n",
       "26  Gutierrez  WSOC       Cleats\n",
       "27  Gutierrez  WSOC         Ball\n",
       "28  Gutierrez  WSOC         Goal\n",
       "29  Gutierrez  WSOC  Shin Guards\n",
       "30      Brown    VB        Court\n",
       "31      Brown    VB          Net\n",
       "32      Brown    VB         Ball\n",
       "33      Brown    VB    Knee Pads\n",
       "34     Campos    VB        Court\n",
       "35     Campos    VB          Net\n",
       "36     Campos    VB         Ball\n",
       "37     Campos    VB    Knee Pads\n",
       "38     Cathey    VB        Court\n",
       "39     Cathey    VB          Net\n",
       "40     Cathey    VB         Ball\n",
       "41     Cathey    VB    Knee Pads\n",
       "42       Duck    VB        Court\n",
       "43       Duck    VB          Net\n",
       "44       Duck    VB         Ball\n",
       "45       Duck    VB    Knee Pads\n",
       "46     Grimes    VB        Court\n",
       "47     Grimes    VB          Net\n",
       "48     Grimes    VB         Ball\n",
       "49     Grimes    VB    Knee Pads\n",
       "50  Hightower    VB        Court\n",
       "51  Hightower    VB          Net\n",
       "52  Hightower    VB         Ball\n",
       "53  Hightower    VB    Knee Pads"
      ]
     },
     "metadata": {},
     "output_type": "display_data"
    }
   ],
   "source": [
    "# Creating another df to join.\n",
    "su_equip_df = pd.DataFrame({'Team': ['WSOC', 'WSOC', 'WSOC', 'WSOC', 'WSOC',\n",
    "                              'VB', 'VB', 'VB', 'VB'],\n",
    "                    'Equipment': ['Pitch', 'Cleats', 'Ball', 'Goal', 'Shin Guards',\n",
    "                                 'Court', 'Net', 'Ball', 'Knee Pads']})\n",
    "\n",
    "\n",
    "display(pd.merge(su_f_df, su_equip_df))    # Many-to-Many join.\n"
   ]
  },
  {
   "cell_type": "code",
   "execution_count": 43,
   "id": "81394502",
   "metadata": {},
   "outputs": [
    {
     "data": {
      "text/html": [
       "<div>\n",
       "<style scoped>\n",
       "    .dataframe tbody tr th:only-of-type {\n",
       "        vertical-align: middle;\n",
       "    }\n",
       "\n",
       "    .dataframe tbody tr th {\n",
       "        vertical-align: top;\n",
       "    }\n",
       "\n",
       "    .dataframe thead th {\n",
       "        text-align: right;\n",
       "    }\n",
       "</style>\n",
       "<table border=\"1\" class=\"dataframe\">\n",
       "  <thead>\n",
       "    <tr style=\"text-align: right;\">\n",
       "      <th></th>\n",
       "      <th>Team</th>\n",
       "      <th>Coach</th>\n",
       "      <th>Equipment</th>\n",
       "    </tr>\n",
       "  </thead>\n",
       "  <tbody>\n",
       "    <tr>\n",
       "      <th>0</th>\n",
       "      <td>WSOC</td>\n",
       "      <td>Hamilton</td>\n",
       "      <td>Pitch</td>\n",
       "    </tr>\n",
       "    <tr>\n",
       "      <th>1</th>\n",
       "      <td>WSOC</td>\n",
       "      <td>Hamilton</td>\n",
       "      <td>Cleats</td>\n",
       "    </tr>\n",
       "    <tr>\n",
       "      <th>2</th>\n",
       "      <td>WSOC</td>\n",
       "      <td>Hamilton</td>\n",
       "      <td>Ball</td>\n",
       "    </tr>\n",
       "    <tr>\n",
       "      <th>3</th>\n",
       "      <td>WSOC</td>\n",
       "      <td>Hamilton</td>\n",
       "      <td>Goal</td>\n",
       "    </tr>\n",
       "    <tr>\n",
       "      <th>4</th>\n",
       "      <td>WSOC</td>\n",
       "      <td>Hamilton</td>\n",
       "      <td>Shin Guards</td>\n",
       "    </tr>\n",
       "    <tr>\n",
       "      <th>5</th>\n",
       "      <td>VB</td>\n",
       "      <td>Flora</td>\n",
       "      <td>Court</td>\n",
       "    </tr>\n",
       "    <tr>\n",
       "      <th>6</th>\n",
       "      <td>VB</td>\n",
       "      <td>Flora</td>\n",
       "      <td>Net</td>\n",
       "    </tr>\n",
       "    <tr>\n",
       "      <th>7</th>\n",
       "      <td>VB</td>\n",
       "      <td>Flora</td>\n",
       "      <td>Ball</td>\n",
       "    </tr>\n",
       "    <tr>\n",
       "      <th>8</th>\n",
       "      <td>VB</td>\n",
       "      <td>Flora</td>\n",
       "      <td>Knee Pads</td>\n",
       "    </tr>\n",
       "  </tbody>\n",
       "</table>\n",
       "</div>"
      ],
      "text/plain": [
       "   Team     Coach    Equipment\n",
       "0  WSOC  Hamilton        Pitch\n",
       "1  WSOC  Hamilton       Cleats\n",
       "2  WSOC  Hamilton         Ball\n",
       "3  WSOC  Hamilton         Goal\n",
       "4  WSOC  Hamilton  Shin Guards\n",
       "5    VB     Flora        Court\n",
       "6    VB     Flora          Net\n",
       "7    VB     Flora         Ball\n",
       "8    VB     Flora    Knee Pads"
      ]
     },
     "metadata": {},
     "output_type": "display_data"
    },
    {
     "name": "stdout",
     "output_type": "stream",
     "text": [
      "\n",
      "left_on & right_on: \n"
     ]
    },
    {
     "data": {
      "text/html": [
       "<div>\n",
       "<style scoped>\n",
       "    .dataframe tbody tr th:only-of-type {\n",
       "        vertical-align: middle;\n",
       "    }\n",
       "\n",
       "    .dataframe tbody tr th {\n",
       "        vertical-align: top;\n",
       "    }\n",
       "\n",
       "    .dataframe thead th {\n",
       "        text-align: right;\n",
       "    }\n",
       "</style>\n",
       "<table border=\"1\" class=\"dataframe\">\n",
       "  <thead>\n",
       "    <tr style=\"text-align: right;\">\n",
       "      <th></th>\n",
       "      <th>Athlete</th>\n",
       "      <th>Squat</th>\n",
       "      <th>Name</th>\n",
       "      <th>Bench</th>\n",
       "    </tr>\n",
       "  </thead>\n",
       "  <tbody>\n",
       "    <tr>\n",
       "      <th>0</th>\n",
       "      <td>Akers</td>\n",
       "      <td>215</td>\n",
       "      <td>Akers</td>\n",
       "      <td>85</td>\n",
       "    </tr>\n",
       "    <tr>\n",
       "      <th>1</th>\n",
       "      <td>Barton</td>\n",
       "      <td>135</td>\n",
       "      <td>Barton</td>\n",
       "      <td>65</td>\n",
       "    </tr>\n",
       "    <tr>\n",
       "      <th>2</th>\n",
       "      <td>Ewton</td>\n",
       "      <td>150</td>\n",
       "      <td>Ewton</td>\n",
       "      <td>70</td>\n",
       "    </tr>\n",
       "    <tr>\n",
       "      <th>3</th>\n",
       "      <td>Gajevsky</td>\n",
       "      <td>165</td>\n",
       "      <td>Gajevsky</td>\n",
       "      <td>70</td>\n",
       "    </tr>\n",
       "    <tr>\n",
       "      <th>4</th>\n",
       "      <td>Grayson</td>\n",
       "      <td>250</td>\n",
       "      <td>Grayson</td>\n",
       "      <td>90</td>\n",
       "    </tr>\n",
       "    <tr>\n",
       "      <th>5</th>\n",
       "      <td>Gutierrez</td>\n",
       "      <td>140</td>\n",
       "      <td>Gutierrez</td>\n",
       "      <td>90</td>\n",
       "    </tr>\n",
       "    <tr>\n",
       "      <th>6</th>\n",
       "      <td>Brown</td>\n",
       "      <td>150</td>\n",
       "      <td>Brown</td>\n",
       "      <td>75</td>\n",
       "    </tr>\n",
       "    <tr>\n",
       "      <th>7</th>\n",
       "      <td>Campos</td>\n",
       "      <td>205</td>\n",
       "      <td>Campos</td>\n",
       "      <td>75</td>\n",
       "    </tr>\n",
       "    <tr>\n",
       "      <th>8</th>\n",
       "      <td>Cathey</td>\n",
       "      <td>175</td>\n",
       "      <td>Cathey</td>\n",
       "      <td>95</td>\n",
       "    </tr>\n",
       "    <tr>\n",
       "      <th>9</th>\n",
       "      <td>Duck</td>\n",
       "      <td>65</td>\n",
       "      <td>Duck</td>\n",
       "      <td>80</td>\n",
       "    </tr>\n",
       "    <tr>\n",
       "      <th>10</th>\n",
       "      <td>Grimes</td>\n",
       "      <td>235</td>\n",
       "      <td>Grimes</td>\n",
       "      <td>95</td>\n",
       "    </tr>\n",
       "    <tr>\n",
       "      <th>11</th>\n",
       "      <td>Hightower</td>\n",
       "      <td>180</td>\n",
       "      <td>Hightower</td>\n",
       "      <td>75</td>\n",
       "    </tr>\n",
       "  </tbody>\n",
       "</table>\n",
       "</div>"
      ],
      "text/plain": [
       "      Athlete  Squat       Name  Bench\n",
       "0       Akers    215      Akers     85\n",
       "1      Barton    135     Barton     65\n",
       "2       Ewton    150      Ewton     70\n",
       "3    Gajevsky    165   Gajevsky     70\n",
       "4     Grayson    250    Grayson     90\n",
       "5   Gutierrez    140  Gutierrez     90\n",
       "6       Brown    150      Brown     75\n",
       "7      Campos    205     Campos     75\n",
       "8      Cathey    175     Cathey     95\n",
       "9        Duck     65       Duck     80\n",
       "10     Grimes    235     Grimes     95\n",
       "11  Hightower    180  Hightower     75"
      ]
     },
     "metadata": {},
     "output_type": "display_data"
    },
    {
     "name": "stdout",
     "output_type": "stream",
     "text": [
      "\n",
      "left_index & right_index: \n"
     ]
    },
    {
     "data": {
      "text/html": [
       "<div>\n",
       "<style scoped>\n",
       "    .dataframe tbody tr th:only-of-type {\n",
       "        vertical-align: middle;\n",
       "    }\n",
       "\n",
       "    .dataframe tbody tr th {\n",
       "        vertical-align: top;\n",
       "    }\n",
       "\n",
       "    .dataframe thead th {\n",
       "        text-align: right;\n",
       "    }\n",
       "</style>\n",
       "<table border=\"1\" class=\"dataframe\">\n",
       "  <thead>\n",
       "    <tr style=\"text-align: right;\">\n",
       "      <th></th>\n",
       "      <th>Squat</th>\n",
       "      <th>Bench</th>\n",
       "    </tr>\n",
       "    <tr>\n",
       "      <th>Athlete</th>\n",
       "      <th></th>\n",
       "      <th></th>\n",
       "    </tr>\n",
       "  </thead>\n",
       "  <tbody>\n",
       "    <tr>\n",
       "      <th>Akers</th>\n",
       "      <td>215</td>\n",
       "      <td>85</td>\n",
       "    </tr>\n",
       "    <tr>\n",
       "      <th>Barton</th>\n",
       "      <td>135</td>\n",
       "      <td>65</td>\n",
       "    </tr>\n",
       "    <tr>\n",
       "      <th>Ewton</th>\n",
       "      <td>150</td>\n",
       "      <td>70</td>\n",
       "    </tr>\n",
       "    <tr>\n",
       "      <th>Gajevsky</th>\n",
       "      <td>165</td>\n",
       "      <td>70</td>\n",
       "    </tr>\n",
       "    <tr>\n",
       "      <th>Grayson</th>\n",
       "      <td>250</td>\n",
       "      <td>90</td>\n",
       "    </tr>\n",
       "    <tr>\n",
       "      <th>Gutierrez</th>\n",
       "      <td>140</td>\n",
       "      <td>90</td>\n",
       "    </tr>\n",
       "    <tr>\n",
       "      <th>Brown</th>\n",
       "      <td>150</td>\n",
       "      <td>75</td>\n",
       "    </tr>\n",
       "    <tr>\n",
       "      <th>Campos</th>\n",
       "      <td>205</td>\n",
       "      <td>75</td>\n",
       "    </tr>\n",
       "    <tr>\n",
       "      <th>Cathey</th>\n",
       "      <td>175</td>\n",
       "      <td>95</td>\n",
       "    </tr>\n",
       "    <tr>\n",
       "      <th>Duck</th>\n",
       "      <td>65</td>\n",
       "      <td>80</td>\n",
       "    </tr>\n",
       "    <tr>\n",
       "      <th>Grimes</th>\n",
       "      <td>235</td>\n",
       "      <td>95</td>\n",
       "    </tr>\n",
       "    <tr>\n",
       "      <th>Hightower</th>\n",
       "      <td>180</td>\n",
       "      <td>75</td>\n",
       "    </tr>\n",
       "  </tbody>\n",
       "</table>\n",
       "</div>"
      ],
      "text/plain": [
       "           Squat  Bench\n",
       "Athlete                \n",
       "Akers        215     85\n",
       "Barton       135     65\n",
       "Ewton        150     70\n",
       "Gajevsky     165     70\n",
       "Grayson      250     90\n",
       "Gutierrez    140     90\n",
       "Brown        150     75\n",
       "Campos       205     75\n",
       "Cathey       175     95\n",
       "Duck          65     80\n",
       "Grimes       235     95\n",
       "Hightower    180     75"
      ]
     },
     "metadata": {},
     "output_type": "display_data"
    }
   ],
   "source": [
    "# Demonstrating merging DataFrames:\n",
    "display(pd.merge(su_coach_df, su_equip_df, on= 'Team'))    # Merge using on\n",
    "\n",
    "\n",
    "# Creating another DF for bench max.\n",
    "su_fbpmax_df = pd.DataFrame({'Name': ['Akers', 'Barton', 'Ewton', 'Gajevsky', 'Grayson', 'Gutierrez',\n",
    "                                    'Brown', 'Campos', 'Cathey', 'Duck', 'Grimes', 'Hightower'],\n",
    "                    'Bench': [85, 65, 70, 70, 90, 90,\n",
    "                             75, 75, 95, 80, 95, 75]})\n",
    "\n",
    "print()\n",
    "print('left_on & right_on: ')\n",
    "display(pd.merge(su_fsqtmax_df, su_fbpmax_df, left_on= 'Athlete', right_on= 'Name'))    # Merge with left_on and right_on\n",
    "\n",
    "\n",
    "# Cleaning up the previous with left_index and right_index\n",
    "sqtmax2_df = su_fsqtmax_df.set_index('Athlete')\n",
    "\n",
    "bpmax_df = pd.DataFrame({'Athlete': ['Akers', 'Barton', 'Ewton', 'Gajevsky', 'Grayson', 'Gutierrez',    # Changing 'Name' to 'Athlete'\n",
    "                                    'Brown', 'Campos', 'Cathey', 'Duck', 'Grimes', 'Hightower'],\n",
    "                    'Bench': [85, 65, 70, 70, 90, 90,\n",
    "                             75, 75, 95, 80, 95, 75]})\n",
    "\n",
    "bpmax2_df= bpmax_df.set_index('Athlete')\n",
    "\n",
    "print()\n",
    "print('left_index & right_index: ')\n",
    "display(pd.merge(sqtmax2_df, bpmax2_df, left_index= True, right_index= True))\n"
   ]
  },
  {
   "cell_type": "markdown",
   "id": "e2b0c088",
   "metadata": {},
   "source": [
    "### Using Seaborn Datasets (Cleaning, Grouping, Pivot Table)"
   ]
  },
  {
   "cell_type": "code",
   "execution_count": 50,
   "id": "eb5b1788",
   "metadata": {},
   "outputs": [
    {
     "name": "stdout",
     "output_type": "stream",
     "text": [
      "(344, 7)\n"
     ]
    },
    {
     "data": {
      "text/html": [
       "<div>\n",
       "<style scoped>\n",
       "    .dataframe tbody tr th:only-of-type {\n",
       "        vertical-align: middle;\n",
       "    }\n",
       "\n",
       "    .dataframe tbody tr th {\n",
       "        vertical-align: top;\n",
       "    }\n",
       "\n",
       "    .dataframe thead th {\n",
       "        text-align: right;\n",
       "    }\n",
       "</style>\n",
       "<table border=\"1\" class=\"dataframe\">\n",
       "  <thead>\n",
       "    <tr style=\"text-align: right;\">\n",
       "      <th></th>\n",
       "      <th>species</th>\n",
       "      <th>island</th>\n",
       "      <th>bill_length_mm</th>\n",
       "      <th>bill_depth_mm</th>\n",
       "      <th>flipper_length_mm</th>\n",
       "      <th>body_mass_g</th>\n",
       "      <th>sex</th>\n",
       "    </tr>\n",
       "  </thead>\n",
       "  <tbody>\n",
       "    <tr>\n",
       "      <th>0</th>\n",
       "      <td>Adelie</td>\n",
       "      <td>Torgersen</td>\n",
       "      <td>39.1</td>\n",
       "      <td>18.7</td>\n",
       "      <td>181.0</td>\n",
       "      <td>3750.0</td>\n",
       "      <td>Male</td>\n",
       "    </tr>\n",
       "    <tr>\n",
       "      <th>1</th>\n",
       "      <td>Adelie</td>\n",
       "      <td>Torgersen</td>\n",
       "      <td>39.5</td>\n",
       "      <td>17.4</td>\n",
       "      <td>186.0</td>\n",
       "      <td>3800.0</td>\n",
       "      <td>Female</td>\n",
       "    </tr>\n",
       "    <tr>\n",
       "      <th>2</th>\n",
       "      <td>Adelie</td>\n",
       "      <td>Torgersen</td>\n",
       "      <td>40.3</td>\n",
       "      <td>18.0</td>\n",
       "      <td>195.0</td>\n",
       "      <td>3250.0</td>\n",
       "      <td>Female</td>\n",
       "    </tr>\n",
       "    <tr>\n",
       "      <th>3</th>\n",
       "      <td>Adelie</td>\n",
       "      <td>Torgersen</td>\n",
       "      <td>NaN</td>\n",
       "      <td>NaN</td>\n",
       "      <td>NaN</td>\n",
       "      <td>NaN</td>\n",
       "      <td>NaN</td>\n",
       "    </tr>\n",
       "    <tr>\n",
       "      <th>4</th>\n",
       "      <td>Adelie</td>\n",
       "      <td>Torgersen</td>\n",
       "      <td>36.7</td>\n",
       "      <td>19.3</td>\n",
       "      <td>193.0</td>\n",
       "      <td>3450.0</td>\n",
       "      <td>Female</td>\n",
       "    </tr>\n",
       "  </tbody>\n",
       "</table>\n",
       "</div>"
      ],
      "text/plain": [
       "  species     island  bill_length_mm  bill_depth_mm  flipper_length_mm  \\\n",
       "0  Adelie  Torgersen            39.1           18.7              181.0   \n",
       "1  Adelie  Torgersen            39.5           17.4              186.0   \n",
       "2  Adelie  Torgersen            40.3           18.0              195.0   \n",
       "3  Adelie  Torgersen             NaN            NaN                NaN   \n",
       "4  Adelie  Torgersen            36.7           19.3              193.0   \n",
       "\n",
       "   body_mass_g     sex  \n",
       "0       3750.0    Male  \n",
       "1       3800.0  Female  \n",
       "2       3250.0  Female  \n",
       "3          NaN     NaN  \n",
       "4       3450.0  Female  "
      ]
     },
     "execution_count": 50,
     "metadata": {},
     "output_type": "execute_result"
    }
   ],
   "source": [
    "# Loading the seaborn penguins dataset\n",
    "penguins = sns.load_dataset('penguins')\n",
    "print(penguins.shape)    # Taking a look at the size and shape of the dataset.\n",
    "\n",
    "penguins.head(5)    # Taking a look at the first five rows."
   ]
  },
  {
   "cell_type": "code",
   "execution_count": 53,
   "id": "b0b0e877",
   "metadata": {},
   "outputs": [
    {
     "data": {
      "text/html": [
       "<div>\n",
       "<style scoped>\n",
       "    .dataframe tbody tr th:only-of-type {\n",
       "        vertical-align: middle;\n",
       "    }\n",
       "\n",
       "    .dataframe tbody tr th {\n",
       "        vertical-align: top;\n",
       "    }\n",
       "\n",
       "    .dataframe thead th {\n",
       "        text-align: right;\n",
       "    }\n",
       "</style>\n",
       "<table border=\"1\" class=\"dataframe\">\n",
       "  <thead>\n",
       "    <tr style=\"text-align: right;\">\n",
       "      <th></th>\n",
       "      <th>bill_length_mm</th>\n",
       "      <th>bill_depth_mm</th>\n",
       "      <th>flipper_length_mm</th>\n",
       "      <th>body_mass_g</th>\n",
       "    </tr>\n",
       "  </thead>\n",
       "  <tbody>\n",
       "    <tr>\n",
       "      <th>count</th>\n",
       "      <td>333.000000</td>\n",
       "      <td>333.000000</td>\n",
       "      <td>333.000000</td>\n",
       "      <td>333.000000</td>\n",
       "    </tr>\n",
       "    <tr>\n",
       "      <th>mean</th>\n",
       "      <td>43.992793</td>\n",
       "      <td>17.164865</td>\n",
       "      <td>200.966967</td>\n",
       "      <td>4207.057057</td>\n",
       "    </tr>\n",
       "    <tr>\n",
       "      <th>std</th>\n",
       "      <td>5.468668</td>\n",
       "      <td>1.969235</td>\n",
       "      <td>14.015765</td>\n",
       "      <td>805.215802</td>\n",
       "    </tr>\n",
       "    <tr>\n",
       "      <th>min</th>\n",
       "      <td>32.100000</td>\n",
       "      <td>13.100000</td>\n",
       "      <td>172.000000</td>\n",
       "      <td>2700.000000</td>\n",
       "    </tr>\n",
       "    <tr>\n",
       "      <th>25%</th>\n",
       "      <td>39.500000</td>\n",
       "      <td>15.600000</td>\n",
       "      <td>190.000000</td>\n",
       "      <td>3550.000000</td>\n",
       "    </tr>\n",
       "    <tr>\n",
       "      <th>50%</th>\n",
       "      <td>44.500000</td>\n",
       "      <td>17.300000</td>\n",
       "      <td>197.000000</td>\n",
       "      <td>4050.000000</td>\n",
       "    </tr>\n",
       "    <tr>\n",
       "      <th>75%</th>\n",
       "      <td>48.600000</td>\n",
       "      <td>18.700000</td>\n",
       "      <td>213.000000</td>\n",
       "      <td>4775.000000</td>\n",
       "    </tr>\n",
       "    <tr>\n",
       "      <th>max</th>\n",
       "      <td>59.600000</td>\n",
       "      <td>21.500000</td>\n",
       "      <td>231.000000</td>\n",
       "      <td>6300.000000</td>\n",
       "    </tr>\n",
       "  </tbody>\n",
       "</table>\n",
       "</div>"
      ],
      "text/plain": [
       "       bill_length_mm  bill_depth_mm  flipper_length_mm  body_mass_g\n",
       "count      333.000000     333.000000         333.000000   333.000000\n",
       "mean        43.992793      17.164865         200.966967  4207.057057\n",
       "std          5.468668       1.969235          14.015765   805.215802\n",
       "min         32.100000      13.100000         172.000000  2700.000000\n",
       "25%         39.500000      15.600000         190.000000  3550.000000\n",
       "50%         44.500000      17.300000         197.000000  4050.000000\n",
       "75%         48.600000      18.700000         213.000000  4775.000000\n",
       "max         59.600000      21.500000         231.000000  6300.000000"
      ]
     },
     "execution_count": 53,
     "metadata": {},
     "output_type": "execute_result"
    }
   ],
   "source": [
    "# Output the common aggregates for the penguins dataset dropping rows with missing values.\n",
    "\n",
    "penguins.dropna().describe()\n"
   ]
  },
  {
   "cell_type": "code",
   "execution_count": 54,
   "id": "11aae397",
   "metadata": {},
   "outputs": [
    {
     "data": {
      "text/html": [
       "<div>\n",
       "<style scoped>\n",
       "    .dataframe tbody tr th:only-of-type {\n",
       "        vertical-align: middle;\n",
       "    }\n",
       "\n",
       "    .dataframe tbody tr th {\n",
       "        vertical-align: top;\n",
       "    }\n",
       "\n",
       "    .dataframe thead th {\n",
       "        text-align: right;\n",
       "    }\n",
       "</style>\n",
       "<table border=\"1\" class=\"dataframe\">\n",
       "  <thead>\n",
       "    <tr style=\"text-align: right;\">\n",
       "      <th></th>\n",
       "      <th>count</th>\n",
       "      <th>mean</th>\n",
       "      <th>std</th>\n",
       "      <th>min</th>\n",
       "      <th>25%</th>\n",
       "      <th>50%</th>\n",
       "      <th>75%</th>\n",
       "      <th>max</th>\n",
       "    </tr>\n",
       "    <tr>\n",
       "      <th>species</th>\n",
       "      <th></th>\n",
       "      <th></th>\n",
       "      <th></th>\n",
       "      <th></th>\n",
       "      <th></th>\n",
       "      <th></th>\n",
       "      <th></th>\n",
       "      <th></th>\n",
       "    </tr>\n",
       "  </thead>\n",
       "  <tbody>\n",
       "    <tr>\n",
       "      <th>Adelie</th>\n",
       "      <td>151.0</td>\n",
       "      <td>3700.662252</td>\n",
       "      <td>458.566126</td>\n",
       "      <td>2850.0</td>\n",
       "      <td>3350.0</td>\n",
       "      <td>3700.0</td>\n",
       "      <td>4000.0</td>\n",
       "      <td>4775.0</td>\n",
       "    </tr>\n",
       "    <tr>\n",
       "      <th>Chinstrap</th>\n",
       "      <td>68.0</td>\n",
       "      <td>3733.088235</td>\n",
       "      <td>384.335081</td>\n",
       "      <td>2700.0</td>\n",
       "      <td>3487.5</td>\n",
       "      <td>3700.0</td>\n",
       "      <td>3950.0</td>\n",
       "      <td>4800.0</td>\n",
       "    </tr>\n",
       "    <tr>\n",
       "      <th>Gentoo</th>\n",
       "      <td>123.0</td>\n",
       "      <td>5076.016260</td>\n",
       "      <td>504.116237</td>\n",
       "      <td>3950.0</td>\n",
       "      <td>4700.0</td>\n",
       "      <td>5000.0</td>\n",
       "      <td>5500.0</td>\n",
       "      <td>6300.0</td>\n",
       "    </tr>\n",
       "  </tbody>\n",
       "</table>\n",
       "</div>"
      ],
      "text/plain": [
       "           count         mean         std     min     25%     50%     75%  \\\n",
       "species                                                                     \n",
       "Adelie     151.0  3700.662252  458.566126  2850.0  3350.0  3700.0  4000.0   \n",
       "Chinstrap   68.0  3733.088235  384.335081  2700.0  3487.5  3700.0  3950.0   \n",
       "Gentoo     123.0  5076.016260  504.116237  3950.0  4700.0  5000.0  5500.0   \n",
       "\n",
       "              max  \n",
       "species            \n",
       "Adelie     4775.0  \n",
       "Chinstrap  4800.0  \n",
       "Gentoo     6300.0  "
      ]
     },
     "execution_count": 54,
     "metadata": {},
     "output_type": "execute_result"
    }
   ],
   "source": [
    "# Applying the describe() method to a penguins.groupby() object.\n",
    "penguins.groupby('species')['body_mass_g'].describe()\n"
   ]
  },
  {
   "cell_type": "code",
   "execution_count": 56,
   "id": "bdf86f2c",
   "metadata": {},
   "outputs": [
    {
     "data": {
      "text/plain": [
       "        species  \n",
       "count   Adelie          146\n",
       "        Chinstrap        68\n",
       "        Gentoo          119\n",
       "unique  Adelie            2\n",
       "        Chinstrap         2\n",
       "        Gentoo            2\n",
       "top     Adelie         Male\n",
       "        Chinstrap    Female\n",
       "        Gentoo         Male\n",
       "freq    Adelie           73\n",
       "        Chinstrap        34\n",
       "        Gentoo           61\n",
       "dtype: object"
      ]
     },
     "execution_count": 56,
     "metadata": {},
     "output_type": "execute_result"
    }
   ],
   "source": [
    "# Applying the describe() and unstack() methods to a penguins.groupby() object.\n",
    "\n",
    "penguins.groupby('species')['sex'].describe().unstack()\n"
   ]
  },
  {
   "cell_type": "code",
   "execution_count": 60,
   "id": "1fdd87e7",
   "metadata": {},
   "outputs": [
    {
     "data": {
      "text/html": [
       "<div>\n",
       "<style scoped>\n",
       "    .dataframe tbody tr th:only-of-type {\n",
       "        vertical-align: middle;\n",
       "    }\n",
       "\n",
       "    .dataframe tbody tr th {\n",
       "        vertical-align: top;\n",
       "    }\n",
       "\n",
       "    .dataframe thead th {\n",
       "        text-align: right;\n",
       "    }\n",
       "</style>\n",
       "<table border=\"1\" class=\"dataframe\">\n",
       "  <thead>\n",
       "    <tr style=\"text-align: right;\">\n",
       "      <th>species</th>\n",
       "      <th>Adelie</th>\n",
       "      <th>Chinstrap</th>\n",
       "      <th>Gentoo</th>\n",
       "    </tr>\n",
       "    <tr>\n",
       "      <th>sex</th>\n",
       "      <th></th>\n",
       "      <th></th>\n",
       "      <th></th>\n",
       "    </tr>\n",
       "  </thead>\n",
       "  <tbody>\n",
       "    <tr>\n",
       "      <th>Female</th>\n",
       "      <td>3368.835616</td>\n",
       "      <td>3527.205882</td>\n",
       "      <td>4679.741379</td>\n",
       "    </tr>\n",
       "    <tr>\n",
       "      <th>Male</th>\n",
       "      <td>4043.493151</td>\n",
       "      <td>3938.970588</td>\n",
       "      <td>5484.836066</td>\n",
       "    </tr>\n",
       "  </tbody>\n",
       "</table>\n",
       "</div>"
      ],
      "text/plain": [
       "species       Adelie    Chinstrap       Gentoo\n",
       "sex                                           \n",
       "Female   3368.835616  3527.205882  4679.741379\n",
       "Male     4043.493151  3938.970588  5484.836066"
      ]
     },
     "execution_count": 60,
     "metadata": {},
     "output_type": "execute_result"
    }
   ],
   "source": [
    "# Showing mean mass by species and sex.\n",
    "\n",
    "penguins.groupby(['sex', 'species'])['body_mass_g'].aggregate('mean').unstack()   # Using groupby()\n"
   ]
  },
  {
   "cell_type": "code",
   "execution_count": 59,
   "id": "5535e8fe",
   "metadata": {},
   "outputs": [
    {
     "data": {
      "text/html": [
       "<div>\n",
       "<style scoped>\n",
       "    .dataframe tbody tr th:only-of-type {\n",
       "        vertical-align: middle;\n",
       "    }\n",
       "\n",
       "    .dataframe tbody tr th {\n",
       "        vertical-align: top;\n",
       "    }\n",
       "\n",
       "    .dataframe thead th {\n",
       "        text-align: right;\n",
       "    }\n",
       "</style>\n",
       "<table border=\"1\" class=\"dataframe\">\n",
       "  <thead>\n",
       "    <tr style=\"text-align: right;\">\n",
       "      <th>species</th>\n",
       "      <th>Adelie</th>\n",
       "      <th>Chinstrap</th>\n",
       "      <th>Gentoo</th>\n",
       "    </tr>\n",
       "    <tr>\n",
       "      <th>sex</th>\n",
       "      <th></th>\n",
       "      <th></th>\n",
       "      <th></th>\n",
       "    </tr>\n",
       "  </thead>\n",
       "  <tbody>\n",
       "    <tr>\n",
       "      <th>Female</th>\n",
       "      <td>3368.835616</td>\n",
       "      <td>3527.205882</td>\n",
       "      <td>4679.741379</td>\n",
       "    </tr>\n",
       "    <tr>\n",
       "      <th>Male</th>\n",
       "      <td>4043.493151</td>\n",
       "      <td>3938.970588</td>\n",
       "      <td>5484.836066</td>\n",
       "    </tr>\n",
       "  </tbody>\n",
       "</table>\n",
       "</div>"
      ],
      "text/plain": [
       "species       Adelie    Chinstrap       Gentoo\n",
       "sex                                           \n",
       "Female   3368.835616  3527.205882  4679.741379\n",
       "Male     4043.493151  3938.970588  5484.836066"
      ]
     },
     "execution_count": 59,
     "metadata": {},
     "output_type": "execute_result"
    }
   ],
   "source": [
    "# Showing mean mass by species and sex.\n",
    "\n",
    "penguins.pivot_table('body_mass_g', index='sex', columns='species')    # Using the pivot_table() method.\n"
   ]
  },
  {
   "cell_type": "code",
   "execution_count": 65,
   "id": "ee23294a",
   "metadata": {},
   "outputs": [
    {
     "data": {
      "text/html": [
       "<div>\n",
       "<style scoped>\n",
       "    .dataframe tbody tr th:only-of-type {\n",
       "        vertical-align: middle;\n",
       "    }\n",
       "\n",
       "    .dataframe tbody tr th {\n",
       "        vertical-align: top;\n",
       "    }\n",
       "\n",
       "    .dataframe thead th {\n",
       "        text-align: right;\n",
       "    }\n",
       "</style>\n",
       "<table border=\"1\" class=\"dataframe\">\n",
       "  <thead>\n",
       "    <tr style=\"text-align: right;\">\n",
       "      <th></th>\n",
       "      <th>species</th>\n",
       "      <th>Adelie</th>\n",
       "      <th>Chinstrap</th>\n",
       "      <th>Gentoo</th>\n",
       "    </tr>\n",
       "    <tr>\n",
       "      <th>sex</th>\n",
       "      <th>bill_length_mm</th>\n",
       "      <th></th>\n",
       "      <th></th>\n",
       "      <th></th>\n",
       "    </tr>\n",
       "  </thead>\n",
       "  <tbody>\n",
       "    <tr>\n",
       "      <th rowspan=\"2\" valign=\"top\">Female</th>\n",
       "      <th>(31, 46]</th>\n",
       "      <td>3368.835616</td>\n",
       "      <td>3501.666667</td>\n",
       "      <td>4615.909091</td>\n",
       "    </tr>\n",
       "    <tr>\n",
       "      <th>(46, 60]</th>\n",
       "      <td>NaN</td>\n",
       "      <td>3547.368421</td>\n",
       "      <td>4764.000000</td>\n",
       "    </tr>\n",
       "    <tr>\n",
       "      <th rowspan=\"2\" valign=\"top\">Male</th>\n",
       "      <th>(31, 46]</th>\n",
       "      <td>4043.493151</td>\n",
       "      <td>NaN</td>\n",
       "      <td>5310.000000</td>\n",
       "    </tr>\n",
       "    <tr>\n",
       "      <th>(46, 60]</th>\n",
       "      <td>NaN</td>\n",
       "      <td>3938.970588</td>\n",
       "      <td>5500.446429</td>\n",
       "    </tr>\n",
       "  </tbody>\n",
       "</table>\n",
       "</div>"
      ],
      "text/plain": [
       "species                     Adelie    Chinstrap       Gentoo\n",
       "sex    bill_length_mm                                       \n",
       "Female (31, 46]        3368.835616  3501.666667  4615.909091\n",
       "       (46, 60]                NaN  3547.368421  4764.000000\n",
       "Male   (31, 46]        4043.493151          NaN  5310.000000\n",
       "       (46, 60]                NaN  3938.970588  5500.446429"
      ]
     },
     "execution_count": 65,
     "metadata": {},
     "output_type": "execute_result"
    }
   ],
   "source": [
    "# Use a multi-level pivot table to include bill length with the previous requirement.\n",
    "\n",
    "bills = pd.cut(penguins['bill_length_mm'], [31, 46, 60]) \n",
    "penguins.pivot_table('body_mass_g', ['sex', bills], 'species')\n"
   ]
  },
  {
   "cell_type": "code",
   "execution_count": 66,
   "id": "690e08e9",
   "metadata": {},
   "outputs": [
    {
     "data": {
      "text/html": [
       "<div>\n",
       "<style scoped>\n",
       "    .dataframe tbody tr th:only-of-type {\n",
       "        vertical-align: middle;\n",
       "    }\n",
       "\n",
       "    .dataframe tbody tr th {\n",
       "        vertical-align: top;\n",
       "    }\n",
       "\n",
       "    .dataframe thead tr th {\n",
       "        text-align: left;\n",
       "    }\n",
       "\n",
       "    .dataframe thead tr:last-of-type th {\n",
       "        text-align: right;\n",
       "    }\n",
       "</style>\n",
       "<table border=\"1\" class=\"dataframe\">\n",
       "  <thead>\n",
       "    <tr>\n",
       "      <th></th>\n",
       "      <th colspan=\"3\" halign=\"left\">bill_length_mm</th>\n",
       "      <th colspan=\"3\" halign=\"left\">body_mass_g</th>\n",
       "    </tr>\n",
       "    <tr>\n",
       "      <th>species</th>\n",
       "      <th>Adelie</th>\n",
       "      <th>Chinstrap</th>\n",
       "      <th>Gentoo</th>\n",
       "      <th>Adelie</th>\n",
       "      <th>Chinstrap</th>\n",
       "      <th>Gentoo</th>\n",
       "    </tr>\n",
       "    <tr>\n",
       "      <th>sex</th>\n",
       "      <th></th>\n",
       "      <th></th>\n",
       "      <th></th>\n",
       "      <th></th>\n",
       "      <th></th>\n",
       "      <th></th>\n",
       "    </tr>\n",
       "  </thead>\n",
       "  <tbody>\n",
       "    <tr>\n",
       "      <th>Female</th>\n",
       "      <td>37.257534</td>\n",
       "      <td>46.573529</td>\n",
       "      <td>45.563793</td>\n",
       "      <td>245925.0</td>\n",
       "      <td>119925.0</td>\n",
       "      <td>271425.0</td>\n",
       "    </tr>\n",
       "    <tr>\n",
       "      <th>Male</th>\n",
       "      <td>40.390411</td>\n",
       "      <td>51.094118</td>\n",
       "      <td>49.473770</td>\n",
       "      <td>295175.0</td>\n",
       "      <td>133925.0</td>\n",
       "      <td>334575.0</td>\n",
       "    </tr>\n",
       "  </tbody>\n",
       "</table>\n",
       "</div>"
      ],
      "text/plain": [
       "        bill_length_mm                       body_mass_g                    \n",
       "species         Adelie  Chinstrap     Gentoo      Adelie Chinstrap    Gentoo\n",
       "sex                                                                         \n",
       "Female       37.257534  46.573529  45.563793    245925.0  119925.0  271425.0\n",
       "Male         40.390411  51.094118  49.473770    295175.0  133925.0  334575.0"
      ]
     },
     "execution_count": 66,
     "metadata": {},
     "output_type": "execute_result"
    }
   ],
   "source": [
    "# Using the pivot_table() method to show row data by sex and column data by species when using aggfunc to aggregate\n",
    "# mass by using sum and bill length by mean.\n",
    "\n",
    "penguins.pivot_table(index='sex', columns='species',\n",
    "                    aggfunc={'body_mass_g':sum, 'bill_length_mm':'mean'})\n"
   ]
  },
  {
   "cell_type": "code",
   "execution_count": 171,
   "id": "27f6647a",
   "metadata": {},
   "outputs": [
    {
     "data": {
      "image/png": "[encoded data removed]",
      "text/plain": [
       "<Figure size 432x288 with 1 Axes>"
      ]
     },
     "metadata": {},
     "output_type": "display_data"
    }
   ],
   "source": [
    "# Plotting the mean mass by species and gender\n",
    "\n",
    "penguins.pivot_table('body_mass_g', index='species', columns='sex', aggfunc='mean').plot()\n",
    "plt.ylabel('mean mass');\n"
   ]
  },
  {
   "cell_type": "markdown",
   "id": "bcbaba26",
   "metadata": {},
   "source": [
    "### Using Matplotlib object oriented interface"
   ]
  },
  {
   "cell_type": "code",
   "execution_count": 91,
   "id": "4e9b8bed",
   "metadata": {},
   "outputs": [
    {
     "data": {
      "image/png": "[encoded data removed]",
      "text/plain": [
       "<Figure size 720x720 with 4 Axes>"
      ]
     },
     "metadata": {},
     "output_type": "display_data"
    }
   ],
   "source": [
    "# Plotting sine, cosine, tangent, and arctangent of x in their own graphs.\n",
    "x = np.linspace(10, 5, 500)    # Setting x\n",
    "fix, ax = plt.subplots(4, figsize=(10,10))    # Defining the subplots # and size\n",
    "\n",
    "ax[0].plot(x, np.sin(x)) # sine of x\n",
    "ax[1].plot(x, np.cos(x)) # cosine of x\n",
    "ax[2].plot(x, np.tan(x)) # tangent of x\n",
    "ax[3].plot(x, np.arctan(x)); # arctangent of x\n"
   ]
  },
  {
   "cell_type": "code",
   "execution_count": 8,
   "id": "86f2174c",
   "metadata": {},
   "outputs": [
    {
     "ename": "AttributeError",
     "evalue": "'numpy.ndarray' object has no attribute 'legend'",
     "output_type": "error",
     "traceback": [
      "\u001b[1;31m---------------------------------------------------------------------------\u001b[0m",
      "\u001b[1;31mAttributeError\u001b[0m                            Traceback (most recent call last)",
      "Input \u001b[1;32mIn [8]\u001b[0m, in \u001b[0;36m<cell line: 8>\u001b[1;34m()\u001b[0m\n\u001b[0;32m      6\u001b[0m ax[\u001b[38;5;241m0\u001b[39m]\u001b[38;5;241m.\u001b[39mplot(x, np\u001b[38;5;241m.\u001b[39msin(x), \u001b[38;5;124m'\u001b[39m\u001b[38;5;124m:\u001b[39m\u001b[38;5;124m'\u001b[39m, color\u001b[38;5;241m=\u001b[39m\u001b[38;5;124m'\u001b[39m\u001b[38;5;124mred\u001b[39m\u001b[38;5;124m'\u001b[39m)\n\u001b[0;32m      7\u001b[0m ax[\u001b[38;5;241m0\u001b[39m]\u001b[38;5;241m.\u001b[39mplot(x, np\u001b[38;5;241m.\u001b[39mcos(x \u001b[38;5;241m-\u001b[39m \u001b[38;5;241m50\u001b[39m), \u001b[38;5;124m'\u001b[39m\u001b[38;5;124m--c\u001b[39m\u001b[38;5;124m'\u001b[39m)\n\u001b[1;32m----> 8\u001b[0m \u001b[43max\u001b[49m\u001b[38;5;241;43m.\u001b[39;49m\u001b[43mlegend\u001b[49m(loc\u001b[38;5;241m=\u001b[39m\u001b[38;5;124m'\u001b[39m\u001b[38;5;124mupper left\u001b[39m\u001b[38;5;124m'\u001b[39m, frameon\u001b[38;5;241m=\u001b[39m\u001b[38;5;28;01mFalse\u001b[39;00m)\n\u001b[0;32m      9\u001b[0m plt\u001b[38;5;241m.\u001b[39mplot(x, np\u001b[38;5;241m.\u001b[39mtan(x \u001b[38;5;241m+\u001b[39m \u001b[38;5;241m2\u001b[39m), \u001b[38;5;124m'\u001b[39m\u001b[38;5;124m-.\u001b[39m\u001b[38;5;124m'\u001b[39m,\u001b[38;5;124m'\u001b[39m\u001b[38;5;124m.25\u001b[39m\u001b[38;5;124m'\u001b[39m)\n\u001b[0;32m     10\u001b[0m plt\u001b[38;5;241m.\u001b[39mplot(x, np\u001b[38;5;241m.\u001b[39marctan(x \u001b[38;5;241m*\u001b[39m\u001b[38;5;241m*\u001b[39m \u001b[38;5;241m4\u001b[39m), \u001b[38;5;124m'\u001b[39m\u001b[38;5;124m#FFDD42\u001b[39m\u001b[38;5;124m'\u001b[39m)\n",
      "\u001b[1;31mAttributeError\u001b[0m: 'numpy.ndarray' object has no attribute 'legend'"
     ]
    },
    {
     "data": {
      "image/png": "[encoded data removed]",
      "text/plain": [
       "<Figure size 720x720 with 2 Axes>"
      ]
     },
     "metadata": {},
     "output_type": "display_data"
    }
   ],
   "source": [
    "# Plotting the above functions on 2 graphs instead of 4.\n",
    "\n",
    "fix, ax = plt.subplots(2, figsize=(10,10))    # Defining the number of subplots and their size.\n",
    "\n",
    "# Giving the plots different colors, using different methods and line types.\n",
    "ax[0].plot(x, np.sin(x), ':', color='red')\n",
    "ax[0].plot(x, np.cos(x - 50), '--c')\n",
    "plt.plot(x, np.tan(x + 2), '-.','.25')\n",
    "plt.plot(x, np.arctan(x ** 4), '#FFDD42');\n"
   ]
  },
  {
   "cell_type": "code",
   "execution_count": 158,
   "id": "aed45312",
   "metadata": {},
   "outputs": [
    {
     "data": {
      "image/png": "[encoded data removed]",
      "text/plain": [
       "<Figure size 432x288 with 1 Axes>"
      ]
     },
     "metadata": {},
     "output_type": "display_data"
    }
   ],
   "source": [
    "# Plotting tan and arctan again, but with limiters on the axes\n",
    "plt.plot(x, np.tan(x + 2), '-.','.25')\n",
    "plt.plot(x, np.arctan(x ** 4), '#FFDD42', label='arctan(x ** 4)')    # Labeling this line.\n",
    "plt.xlim(4, 11)    # X-Axis limited.\n",
    "plt.ylim(-460, 460)    # Y-Axis limited.\n",
    "plt.title(\"Tangent - Arctangent Plots\")    # Adding a title.\n",
    "plt.xlabel(\"X-Axis\")    # Labeling the Axes.\n",
    "plt.ylabel(\"Y-Axis\")\n",
    "plt.legend();\n"
   ]
  },
  {
   "cell_type": "markdown",
   "id": "910a2d63",
   "metadata": {},
   "source": [
    "Showing different marker types using matplotlib.pyplot and matplotlib.legend. with a scatter plot"
   ]
  },
  {
   "cell_type": "code",
   "execution_count": 7,
   "id": "34eb7683",
   "metadata": {},
   "outputs": [
    {
     "ename": "NameError",
     "evalue": "name 'ax' is not defined",
     "output_type": "error",
     "traceback": [
      "\u001b[1;31m---------------------------------------------------------------------------\u001b[0m",
      "\u001b[1;31mNameError\u001b[0m                                 Traceback (most recent call last)",
      "Input \u001b[1;32mIn [7]\u001b[0m, in \u001b[0;36m<cell line: 11>\u001b[1;34m()\u001b[0m\n\u001b[0;32m      9\u001b[0m plt\u001b[38;5;241m.\u001b[39mxlim(\u001b[38;5;241m-\u001b[39m\u001b[38;5;241m0.1\u001b[39m, \u001b[38;5;241m1.75\u001b[39m)\n\u001b[0;32m     10\u001b[0m plt\u001b[38;5;241m.\u001b[39mylim(\u001b[38;5;241m-\u001b[39m\u001b[38;5;241m0.25\u001b[39m, \u001b[38;5;241m1.1\u001b[39m)\n\u001b[1;32m---> 11\u001b[0m \u001b[43max\u001b[49m\u001b[38;5;241m.\u001b[39mlegend(loc\u001b[38;5;241m=\u001b[39m\u001b[38;5;124m'\u001b[39m\u001b[38;5;124mupper right\u001b[39m\u001b[38;5;124m'\u001b[39m, frameon\u001b[38;5;241m=\u001b[39m\u001b[38;5;28;01mFalse\u001b[39;00m)\n",
      "\u001b[1;31mNameError\u001b[0m: name 'ax' is not defined"
     ]
    },
    {
     "data": {
      "image/png": "[encoded data removed]",
      "text/plain": [
       "<Figure size 432x288 with 1 Axes>"
      ]
     },
     "metadata": {},
     "output_type": "display_data"
    }
   ],
   "source": [
    "# Using RandomState() and plot() to demonstrate different plot marker types.\n",
    "# Also, displaying the markers in a legend.\n",
    "\n",
    "rng = np.random.RandomState(0)\n",
    "for marker in ['o', 'P', ',', 'x', '+', 'H', '^', '<', '>', 's', 'D', '.']:\n",
    "    plt.plot(rng.rand(5), rng.rand(5), marker,\n",
    "             label=\"marker='{0}'\".format(marker))\n",
    "plt.legend(numpoints=1)\n",
    "plt.xlim(-0.1, 1.75)\n",
    "plt.ylim(-0.25, 1.1);"
   ]
  },
  {
   "cell_type": "code",
   "execution_count": 219,
   "id": "65e9fe81",
   "metadata": {},
   "outputs": [
    {
     "data": {
      "image/png": "[encoded data removed]",
      "text/plain": [
       "<Figure size 432x288 with 1 Axes>"
      ]
     },
     "metadata": {},
     "output_type": "display_data"
    }
   ],
   "source": [
    "# Altering line color and size & marker color and size.\n",
    "\n",
    "plt.style.use('seaborn-whitegrid') # Use the Seaborn grid system.\n",
    "\n",
    "# Create something to graph.\n",
    "x = np.linspace(0, 10, 8)\n",
    "y = np.sin(x)\n",
    "\n",
    "plt.plot(x, y, '-h', color='g',    # Green line.\n",
    "         markersize=12, linewidth=3,    # Setting a marker size and line thickness.\n",
    "         markerfacecolor='red', markeredgecolor='green')    # Red markers with green surrounds.\n",
    "plt.ylim(-1.1, 1.1);\n"
   ]
  },
  {
   "cell_type": "markdown",
   "id": "edb80286",
   "metadata": {},
   "source": [
    "Another scatter plot"
   ]
  },
  {
   "cell_type": "code",
   "execution_count": 227,
   "id": "ca1c290e",
   "metadata": {},
   "outputs": [
    {
     "name": "stderr",
     "output_type": "stream",
     "text": [
      "C:\\Users\\Steve\\AppData\\Local\\Temp\\ipykernel_10764\\4245938020.py:9: MatplotlibDeprecationWarning: Auto-removal of grids by pcolor() and pcolormesh() is deprecated since 3.5 and will be removed two minor releases later; please call grid(False) first.\n",
      "  plt.colorbar()\n"
     ]
    },
    {
     "data": {
      "image/png": "[encoded data removed]",
      "text/plain": [
       "<Figure size 432x288 with 2 Axes>"
      ]
     },
     "metadata": {},
     "output_type": "display_data"
    }
   ],
   "source": [
    "# Setting random parameters for the plot.\n",
    "rng = np.random.RandomState(0)\n",
    "x = rng.randn(30)\n",
    "y = rng.randn(30)\n",
    "colors = rng.rand(30)\n",
    "sizes = 1000 * rng.rand(30)\n",
    "\n",
    "# Creating the scatter plot. Setting transparency with alpha and colors with cmap.\n",
    "plt.scatter(x, y, c=colors, s=sizes, alpha=0.5, \n",
    "            cmap='plasma')\n",
    "plt.colorbar()    # Adding a colorbar to show color scale.\n",
    "plt.xlabel(\"x Values\")\n",
    "plt.ylabel(\"y Values\");\n"
   ]
  },
  {
   "cell_type": "code",
   "execution_count": 244,
   "id": "747a29ad",
   "metadata": {},
   "outputs": [
    {
     "data": {
      "image/png": "[encoded data removed]",
      "text/plain": [
       "<Figure size 432x288 with 1 Axes>"
      ]
     },
     "metadata": {},
     "output_type": "display_data"
    }
   ],
   "source": [
    "# Using the data from above to create an errorbar plot.\n",
    "\n",
    "dz = 0.5    # Margin of error that we will use.\n",
    "z = y + dz * np.random.randn(30)\n",
    "\n",
    "plt.errorbar(x, y, yerr=dz, fmt='d', color='k',\n",
    "             ecolor='orangered', elinewidth=1, capsize=2)\n",
    "plt.xlabel(\"x Values\")\n",
    "plt.ylabel(\"y Values\")\n",
    "plt.axis('equal');    # Equalling out the axes.\n"
   ]
  },
  {
   "cell_type": "markdown",
   "id": "a418f7ec",
   "metadata": {},
   "source": [
    "Working with a contour plot."
   ]
  },
  {
   "cell_type": "code",
   "execution_count": 4,
   "id": "eee24b72",
   "metadata": {},
   "outputs": [],
   "source": [
    "# Create the function we will use\n",
    "def f(x, y):\n",
    "    return np.sin(x) ** 10 + np.cos(30 + y * x) * np.cos(x)\n"
   ]
  },
  {
   "cell_type": "code",
   "execution_count": 5,
   "id": "87d25fb6",
   "metadata": {},
   "outputs": [],
   "source": [
    "# Using np.meshgrid to form a 2D grid\n",
    "x = np.linspace(0, 5, 50)\n",
    "y = np.linspace(0, 5, 40)\n",
    "\n",
    "X, Y = np.meshgrid(x, y)\n",
    "Z = f(X, Y)\n"
   ]
  },
  {
   "cell_type": "code",
   "execution_count": 6,
   "id": "8ca190c5",
   "metadata": {},
   "outputs": [
    {
     "name": "stderr",
     "output_type": "stream",
     "text": [
      "C:\\Users\\Steve\\AppData\\Local\\Temp\\ipykernel_8500\\3001443635.py:7: MatplotlibDeprecationWarning: Auto-removal of grids by pcolor() and pcolormesh() is deprecated since 3.5 and will be removed two minor releases later; please call grid(False) first.\n",
      "  plt.colorbar();\n"
     ]
    },
    {
     "data": {
      "image/png": "[encoded data removed]",
      "text/plain": [
       "<Figure size 432x288 with 2 Axes>"
      ]
     },
     "metadata": {},
     "output_type": "display_data"
    }
   ],
   "source": [
    "# Combining a contour plot and image plot\n",
    "contours = plt.contour(X, Y, Z, 12, colors='black')    # Setting the desired contour lines.\n",
    "plt.clabel(contours, inline=True, fontsize=8)\n",
    "\n",
    "plt.imshow(Z, extent=[0, 5, 0, 5], origin='lower',\n",
    "           cmap='hot', alpha=0.75)    # Using a sequential colormap and setting transparency\n",
    "plt.colorbar();\n"
   ]
  },
  {
   "cell_type": "code",
   "execution_count": 48,
   "id": "84f8a84d",
   "metadata": {},
   "outputs": [
    {
     "data": {
      "image/png": "[encoded data removed]",
      "text/plain": [
       "<Figure size 432x288 with 1 Axes>"
      ]
     },
     "metadata": {},
     "output_type": "display_data"
    }
   ],
   "source": [
    "plt.style.use('dark_background')    # This will look better on a dark background.\n",
    "fig, ax = plt.subplots()\n",
    "\n",
    "lines = []\n",
    "styles = ['-', '--', '-.', ':']\n",
    "x = np.linspace(0, 10, 1000)\n",
    "\n",
    "for i in range(4):\n",
    "    lines += ax.plot(x, np.sin(x - i * np.pi / 5),    # This will look like a 3D wave.\n",
    "                     styles[i], color='aquamarine')    # Keeping with the ocean theme.\n",
    "ax.axis('tight')    # Prefer this over equal.\n",
    "\n",
    "# Make the top legend\n",
    "ax.legend(lines[:2], ['line A', 'line B'],\n",
    "          loc='upper center', bbox_to_anchor=(0.5,1.25), ncol=2, frameon=False)    # Design and place the top legend.\n",
    "# Make the bottom legend\n",
    "leg = Legend(ax, lines[2:], ['line C', 'line D'],\n",
    "             loc='lower center', bbox_to_anchor=(0.5,-0.25), ncol=2, frameon=False)    # Design and place the lower legend.\n",
    "ax.add_artist(leg);\n"
   ]
  },
  {
   "cell_type": "markdown",
   "id": "425c8bfa",
   "metadata": {},
   "source": [
    "## Requirement 4"
   ]
  },
  {
   "cell_type": "markdown",
   "id": "c3bd2a7b",
   "metadata": {},
   "source": [
    "-- Explain what grade (A-F) you would assign the work you submitted in Assignment 14.\n",
    "\n",
    "I would probably give myself a B. I think that I put way too much into this assignment, as in I started from our first assignment and worked all the way through our last one. I really doubted putting in all of the more 'basic' parts of our learning, and hate how disorganized it seems to me. That being said, this assignment took more time than any other, and I made an effort to modify and experiment with all of our previous work. I just feel like if I include this in my professional portfolio that I would break it into many different files, each showing specific portions of work. Lists, Tuples, Dictionaries, Series are probably all considered as a given when applying for a Data Science position, and the real interest of employers is in the more technical aspects seen in our work with Pandas, NumPy, Matplotlib and Seaborn."
   ]
  },
  {
   "cell_type": "markdown",
   "id": "79e49b20",
   "metadata": {},
   "source": [
    "## Requirement 5"
   ]
  },
  {
   "cell_type": "markdown",
   "id": "7ed93a50",
   "metadata": {},
   "source": [
    "--Use markdown to include a statement at the end of assignment-14.ipynb explaining your experiences with Assignment 14.\n",
    "\n",
    "As I mentioned in the previous requirement, I really struggled throughout the assignment with the scope of work that I should show. In the end I feel like I spent a lot of time doing work that is probably more trivial and less technical than the later half of the assignment. I think that I would have preferred to have spent that time trying to go more in depth with NumPy and Pandas, as well as finding and using much larger datasets than those provided with Seaborn. Most employers want to know that you have experience with handling and cleaning large datasets. While the methods used here work just as well with any sized dataset, I still would have preferred to have found something more unique or pertinent to my Strength & Conditioning wheelhouse.\n",
    "\n",
    "I also feel like I need to explore solutions to the FutureWarnings that I got, where methods used here will no longer be used."
   ]
  }
 ],
 "metadata": {
  "kernelspec": {
   "display_name": "Python 3 (ipykernel)",
   "language": "python",
   "name": "python3"
  },
  "language_info": {
   "codemirror_mode": {
    "name": "ipython",
    "version": 3
   },
   "file_extension": ".py",
   "mimetype": "text/x-python",
   "name": "python",
   "nbconvert_exporter": "python",
   "pygments_lexer": "ipython3",
   "version": "3.9.12"
  }
 },
 "nbformat": 4,
 "nbformat_minor": 5
}
