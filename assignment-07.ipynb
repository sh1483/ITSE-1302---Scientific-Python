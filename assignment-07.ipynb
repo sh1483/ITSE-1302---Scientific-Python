{
 "cells": [
  {
   "cell_type": "markdown",
   "id": "c9ab9303",
   "metadata": {},
   "source": [
    "# This is Assignment 07 - Haynes"
   ]
  },
  {
   "cell_type": "markdown",
   "id": "0f6fb748",
   "metadata": {},
   "source": [
    "## Requirement 4"
   ]
  },
  {
   "cell_type": "code",
   "execution_count": 13,
   "id": "667b6aec",
   "metadata": {},
   "outputs": [
    {
     "data": {
      "text/plain": [
       "[1, 2, 4, 5, 7, 8, 10, 11, 14, 16, 19, 20, 22, 23, 25, 26, 28, 29]"
      ]
     },
     "execution_count": 13,
     "metadata": {},
     "output_type": "execute_result"
    }
   ],
   "source": [
    "# From range(30), use list comprehension to output a list with numbers that are\n",
    "# not multiples of 3 and not equal to 13 and not equal to 17.\n",
    "[val for val in range(30)\n",
    "       if val % 3 > 0 if val != 13 if val != 17]\n"
   ]
  },
  {
   "cell_type": "markdown",
   "id": "33536cc7",
   "metadata": {},
   "source": [
    "## Requirement 5"
   ]
  },
  {
   "cell_type": "code",
   "execution_count": 16,
   "id": "d14ebd10",
   "metadata": {},
   "outputs": [
    {
     "name": "stdout",
     "output_type": "stream",
     "text": [
      "[1, 2, 4, 5, 7, 8, 10, 11, 14, 16, 19, 20, 22, 23, 25, 26, 28, 29]\n"
     ]
    }
   ],
   "source": [
    "# Write the operation in the previous Requirement but using loop syntax\n",
    "# instead of list comprehension.\n",
    "\n",
    "# Create an empty list\n",
    "list = []\n",
    "\n",
    "for val in range(30):\n",
    "    if val % 3:     # If the value modulus 3\n",
    "        list.append(val)\n",
    "    if 13 in list:    # Remove instances of 13\n",
    "        list.remove(13)\n",
    "    if 17 in list:    # Remove instances of 17\n",
    "        list.remove(17)\n",
    "    \n",
    "print(list)\n"
   ]
  },
  {
   "cell_type": "markdown",
   "id": "2148df7b",
   "metadata": {},
   "source": [
    "## Requirement 6"
   ]
  },
  {
   "cell_type": "code",
   "execution_count": 26,
   "id": "8460c3bf",
   "metadata": {},
   "outputs": [
    {
     "data": {
      "text/plain": [
       "[0,\n",
       " -1,\n",
       " 2,\n",
       " -3,\n",
       " 4,\n",
       " -5,\n",
       " 6,\n",
       " -7,\n",
       " 8,\n",
       " -9,\n",
       " 10,\n",
       " -11,\n",
       " 12,\n",
       " -13,\n",
       " 14,\n",
       " -15,\n",
       " 16,\n",
       " -17,\n",
       " 18,\n",
       " -19,\n",
       " 20,\n",
       " -21,\n",
       " 22,\n",
       " -23,\n",
       " 24,\n",
       " -25,\n",
       " 26,\n",
       " -27,\n",
       " 28,\n",
       " -29]"
      ]
     },
     "execution_count": 26,
     "metadata": {},
     "output_type": "execute_result"
    }
   ],
   "source": [
    "# From range(30), use list comprehension to output a list with positive\n",
    "# numbers that are even and negative numbers that are odd.\n",
    "\n",
    "[-val if val % 2 else val\n",
    " for val in range(30)]\n"
   ]
  },
  {
   "cell_type": "markdown",
   "id": "b760bc33",
   "metadata": {},
   "source": [
    "## Requirement 7"
   ]
  },
  {
   "cell_type": "code",
   "execution_count": 32,
   "id": "c863fe6a",
   "metadata": {},
   "outputs": [
    {
     "data": {
      "text/plain": [
       "{0, 1, 2, 3, 4}"
      ]
     },
     "execution_count": 32,
     "metadata": {},
     "output_type": "execute_result"
    }
   ],
   "source": [
    "# From range(1000), use set comprehension to output a set of numbers based\n",
    "# on i % 5.\n",
    "\n",
    "{a % 5 for a in range(1000)}\n"
   ]
  },
  {
   "cell_type": "markdown",
   "id": "303e3db6",
   "metadata": {},
   "source": [
    "## Requirement 8"
   ]
  },
  {
   "cell_type": "code",
   "execution_count": 33,
   "id": "7a8e65bc",
   "metadata": {},
   "outputs": [
    {
     "data": {
      "text/plain": [
       "{0: 0,\n",
       " 1: 1,\n",
       " 2: 8,\n",
       " 3: 27,\n",
       " 4: 64,\n",
       " 5: 125,\n",
       " 6: 216,\n",
       " 7: 343,\n",
       " 8: 512,\n",
       " 9: 729,\n",
       " 10: 1000,\n",
       " 11: 1331,\n",
       " 12: 1728,\n",
       " 13: 2197,\n",
       " 14: 2744,\n",
       " 15: 3375,\n",
       " 16: 4096,\n",
       " 17: 4913,\n",
       " 18: 5832,\n",
       " 19: 6859}"
      ]
     },
     "execution_count": 33,
     "metadata": {},
     "output_type": "execute_result"
    }
   ],
   "source": [
    "# From range(20), use dictionary comprehension to output a dictionary of\n",
    "# numbers (i) as keys and their cubes (i**3) as values.\n",
    "\n",
    "{i:i**3 for i in range(20)}\n"
   ]
  },
  {
   "cell_type": "markdown",
   "id": "31bca72a",
   "metadata": {},
   "source": [
    "## Requirement 9"
   ]
  },
  {
   "cell_type": "code",
   "execution_count": 50,
   "id": "bcbef7ba",
   "metadata": {},
   "outputs": [
    {
     "name": "stdout",
     "output_type": "stream",
     "text": [
      "<generator object <genexpr> at 0x00000224A550EB30>\n",
      "\n",
      "0 2 4 6 8 10 12 14 16 18 20 22 24 26 28 30 32 34 36 38 40 42 44 46 48 50 "
     ]
    }
   ],
   "source": [
    "# From range(50), use a generator function to create a generator named G of\n",
    "# even numbers, print the type of G, and then print the contents of G.\n",
    "\n",
    "from itertools import count    # import count\n",
    "count()\n",
    "\n",
    "counter = [range(50)]     # Set the counter to a list range(50)\n",
    "G = (i for i in count() if all(i % 2 == 0 for n in counter))    # It goes in g if it is a modulus of 2\n",
    "print(G)    # Print generator type\n",
    "print()     # Make it pretty\n",
    "for val in G:\n",
    "    if val > 50: break    # Stop at 50\n",
    "    print(val, end=' ')\n",
    "    "
   ]
  },
  {
   "cell_type": "markdown",
   "id": "6e452cbe",
   "metadata": {},
   "source": [
    "## Requirement 10"
   ]
  },
  {
   "cell_type": "code",
   "execution_count": 52,
   "id": "0032e1b1",
   "metadata": {},
   "outputs": [
    {
     "name": "stdout",
     "output_type": "stream",
     "text": [
      "0.0 0.5 1.0 1.5 2.0 2.5 3.0 3.5 4.0 4.5 5.0 5.5 6.0 6.5 7.0\n",
      "0.0 0.5 1.0 1.5 2.0 2.5 3.0 3.5 4.0 4.5 5.0 5.5 6.0 6.5 7.0\n"
     ]
    }
   ],
   "source": [
    "# From range(15), use a generator in two ways to output n/2. \n",
    "# For example, as G1 = (…) and G2 = gen_divby2().\n",
    "\n",
    "G1 = (n / 2 for n in range(15))    # Divide n by 2 for 0-14\n",
    "\n",
    "def gen():    # Define gen() as 0-14/2\n",
    "    for n in range(15):\n",
    "        yield n / 2\n",
    "\n",
    "G2 = gen()    # Make G2 = gen()\n",
    "print(*G1)\n",
    "print(*G2)\n",
    "\n",
    "# Wonder why it is in float form here, but not in PyCharm or the example from Chapter 12?\n"
   ]
  },
  {
   "cell_type": "markdown",
   "id": "df32200a",
   "metadata": {},
   "source": [
    "## Requirement 11"
   ]
  },
  {
   "cell_type": "code",
   "execution_count": 53,
   "id": "bd52f0c8",
   "metadata": {},
   "outputs": [
    {
     "name": "stdout",
     "output_type": "stream",
     "text": [
      "2 3 5 7 11 13 17 19 23 29 31 37 41 43 47 53 59 61 67 71 73 79 83 89 97\n"
     ]
    }
   ],
   "source": [
    "# Use a generator defined as a function to output prime numbers < 100\n",
    "\n",
    "def gen_primes(N):    # Define the generator function\n",
    "    \n",
    "    primes = set()    # Make primes an empty set\n",
    "    for n in range(2, N): # Every number from 2-N\n",
    "        if all(n % p > 0 for p in primes):    # If the number only divides by 1 and itself\n",
    "            primes.add(n)    # Store it in primes\n",
    "            yield n    # Here are the primes\n",
    "\n",
    "print(*gen_primes(100))    # See, here are the primes up to 100.\n"
   ]
  },
  {
   "cell_type": "markdown",
   "id": "46f441c4",
   "metadata": {},
   "source": [
    "## Requirement 12"
   ]
  },
  {
   "cell_type": "code",
   "execution_count": 6,
   "id": "742902f5",
   "metadata": {},
   "outputs": [
    {
     "name": "stdout",
     "output_type": "stream",
     "text": [
      "math:\n",
      "-0.12796368962740468\n",
      "cmath:\n",
      "(16661.152511156004+0j)\n",
      "itertools:\n",
      "A B A B A B functools:\n",
      "15\n",
      "random:\n",
      "17.096097783583097\n",
      "pickle:\n",
      "urllib:\n",
      "b'<!doctype html>\\n<!--[if lt IE 7]>   <html class=\"no-js ie6 lt-ie7 lt-ie8 lt-ie9\">   <![endif]-->\\n<!--[if IE 7]>      <html class=\"no-js ie7 lt-ie8 lt-ie9\">          <![endif]-->\\n<!--[if IE 8]>      <h'\n",
      "json:\n",
      "{\n",
      "    \"4\": 5,\n",
      "    \"6\": 7\n",
      "}\n",
      "csv:\n",
      "{'first_name': 'Billy_Bob', 'last_name': 'Gronkowski'}\n",
      "os:\n",
      "{'first_name': 'John', 'last_name': ' Cleese'}\n",
      "os:\n",
      "Steve\n",
      "sys:\n",
      "little\n"
     ]
    }
   ],
   "source": [
    "# Import the following modules from Python’s Standard Library.\n",
    "# Demonstrate a minor example using functionality/capability from each module in the list:\n",
    "#    • os and sys: Tools for interfacing with the operating system, including navigating file\n",
    "# directory structures and executing shell commands\n",
    "#    • math and cmath: Mathematical functions and operations on real and complex numbers\n",
    "#    • itertools: Tools for constructing and interacting with iterators and generators\n",
    "#    • functools: Tools that assist with functional programming\n",
    "#    • random: Tools for generating pseudorandom numbers\n",
    "#    • pickle: Tools for object persistence: saving objects to and loading objects from disk\n",
    "#    • json and csv: Tools for reading JSON-formatted and CSV-formatted files.\n",
    "#    • urllib: Tools for doing HTTP and other web requests.\n",
    "\n",
    "import math\n",
    "import cmath\n",
    "import itertools\n",
    "import functools\n",
    "import random\n",
    "import pickle\n",
    "import urllib.request\n",
    "import json\n",
    "import csv\n",
    "import os\n",
    "import sys\n",
    "\n",
    "print('math:')\n",
    "print(math.cos(36))\n",
    "\n",
    "print('cmath:')\n",
    "print(cmath.sqrt(277594003))\n",
    "\n",
    "print('itertools:')\n",
    "count = 0\n",
    "for i in itertools.cycle('AB'):\n",
    "    if count > 5:\n",
    "        break\n",
    "    else:\n",
    "        print(i, end=\" \")\n",
    "        count += 1\n",
    "\n",
    "print('functools:')\n",
    "print(functools.reduce(lambda x, y: x+y, [1, 2, 3, 4, 5]))\n",
    "\n",
    "print('random:')\n",
    "number = random.uniform(2, 25)\n",
    "print(number)\n",
    "\n",
    "print('pickle:')\n",
    "def save(cats):\n",
    "    save = open('cats.dat', 'wb')\n",
    "    pickle.dump(cats, save)\n",
    "    save.close()\n",
    "    print(\"Saved to cats.dat\")\n",
    "\n",
    "print('urllib:')\n",
    "with urllib.request.urlopen('http://www.python.org/') as f:\n",
    "    print(f.read(200))\n",
    "\n",
    "print('json:')\n",
    "print(json.dumps({'4': 5, '6': 7}, sort_keys=True, indent=4))\n",
    "\n",
    "print('csv:')\n",
    "with open('names.csv', newline='') as csvfile:\n",
    "    reader = csv.DictReader(csvfile)\n",
    "    for row in reader:\n",
    "        print(row)\n",
    "\n",
    "        print('os:')\n",
    "print(os.getlogin())\n",
    "\n",
    "print('sys:')\n",
    "print(sys.byteorder)\n",
    "\n"
   ]
  },
  {
   "cell_type": "markdown",
   "id": "05740f1f",
   "metadata": {},
   "source": [
    "## Requirement 13"
   ]
  },
  {
   "cell_type": "code",
   "execution_count": 25,
   "id": "e85c1b81",
   "metadata": {},
   "outputs": [
    {
     "name": "stdout",
     "output_type": "stream",
     "text": [
      "THE FUZZY KITTY PURRS.\n",
      "the fuzzy kitty purrs.\n",
      "This Is The Title Of My Latest Novel\n",
      "     Whoah!      \n",
      "Whoah!      \n",
      "     Whoah!\n",
      "45567\n",
      "4\n",
      "True\n",
      "False\n",
      "The Hairless Kitty Purrs.\n",
      "['The', 'Fuzzy', 'Kitty', 'Purrs.']\n",
      "milk**eggs**energy\n",
      "milk\n",
      "eggs\n",
      "energy\n",
      "pi = 3.1415927\n"
     ]
    }
   ],
   "source": [
    "# Using string methods:\n",
    "# • Demonstrate the conversion to upper-case and lower-case\n",
    "# • Convert “this is the title of my latest novel” to a title\n",
    "# • Removing leading and trailing spaces\n",
    "# • Remove leading zeros\n",
    "# • Return the index of a substring\n",
    "# • Determine if a string ends with and begins with a substring\n",
    "# • Replace a substring with another substring\n",
    "# • Split a string of words into a list of individual words\n",
    "# • Join a list into a string using ** as separators\n",
    "# • Print list elements each on its own line using join()\n",
    "# • Define pi = ‘3.14159265359’ Use format() to print pi to 7 decimal places to the right of the decimal point.\n",
    "\n",
    "kitty = \"The Fuzzy Kitty Purrs.\"\n",
    "kitty.upper()\n",
    "print(kitty.upper())\n",
    "kitty.lower()\n",
    "print(kitty.lower())\n",
    "\n",
    "title = \"this is the title of my latest novel\"\n",
    "print(title.title())\n",
    "\n",
    "spacedOut = \"     Whoah!      \"\n",
    "print(spacedOut)\n",
    "print(spacedOut.lstrip())\n",
    "print(spacedOut.rstrip())\n",
    "\n",
    "num = \"0045567\"\n",
    "print(num.strip('0'))\n",
    "\n",
    "print(kitty.index('Fuzzy'))\n",
    "print(kitty.endswith('Purrs.'))\n",
    "print(kitty.startswith('Finger'))\n",
    "print(kitty.replace('Fuzzy', 'Hairless'))\n",
    "print(kitty.split())\n",
    "\n",
    "print('**'.join(['milk', 'eggs', 'energy']))\n",
    "\n",
    "print(\"\\n\".join(['milk', 'eggs', 'energy']))\n",
    "\n",
    "pi = 3.14159265359\n",
    "print(\"pi = {0:.7f}\".format(pi))\n"
   ]
  },
  {
   "cell_type": "markdown",
   "id": "2b868400",
   "metadata": {},
   "source": [
    "## Requirement 15"
   ]
  },
  {
   "cell_type": "markdown",
   "id": "e36e110f",
   "metadata": {},
   "source": [
    "I ran into a few interesting problems with this assignment. The first one had to do with using pickle. When I originally tried to use pickle it worked in my IDE, but did not work here. I also found the output of requirement 5 to be bizarre in that it comes out to a single decimal point, but does not do that in my IDE. Exploring the different modules and packages was neat, but also confusing. A bit over my head for some of it!"
   ]
  }
 ],
 "metadata": {
  "kernelspec": {
   "display_name": "Python 3 (ipykernel)",
   "language": "python",
   "name": "python3"
  },
  "language_info": {
   "codemirror_mode": {
    "name": "ipython",
    "version": 3
   },
   "file_extension": ".py",
   "mimetype": "text/x-python",
   "name": "python",
   "nbconvert_exporter": "python",
   "pygments_lexer": "ipython3",
   "version": "3.9.12"
  }
 },
 "nbformat": 4,
 "nbformat_minor": 5
}
